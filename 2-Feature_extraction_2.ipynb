{
 "cells": [
  {
   "cell_type": "markdown",
   "metadata": {},
   "source": [
    "<h1><b>[II - Feature extraction 2]</b></h1>\n",
    "\n",
    "This notebook extracts the more advanced features `neighb_nb`, `neighb_density` and `neighb_similar`.\n",
    "\n",
    "It requires several hours to compute. Thus, the computed versions are also already available:\n",
    "\n",
    "=> <b>it is not mandatory to run this notebook</b> (but it is provided for reproductibility).\n",
    "\n",
    "Once computed, the features are saved in `neighb_density.npy`, `neighb_nb.npy` and `neighb_similar.npy`"
   ]
  },
  {
   "cell_type": "code",
   "execution_count": 1,
   "metadata": {},
   "outputs": [],
   "source": [
    "import shapely\n",
    "import geopandas as gpd\n",
    "import pandas as pd\n",
    "import numpy as np\n",
    "\n",
    "import matplotlib.pyplot as plt\n",
    "import seaborn as sns\n",
    "import missingno as msno\n",
    "\n",
    "import warnings\n",
    "warnings.filterwarnings('ignore')\n",
    "\n",
    "pd.set_option('display.max_columns', None)  "
   ]
  },
  {
   "cell_type": "code",
   "execution_count": 2,
   "metadata": {},
   "outputs": [
    {
     "name": "stdout",
     "output_type": "stream",
     "text": [
      "Reading time: 153.39683198928833 s\n"
     ]
    }
   ],
   "source": [
    "import time\n",
    "start = time.time()\n",
    "\n",
    "train_df_geojson = gpd.read_file('data/train.geojson', engine=\"pyogrio\")\n",
    "test_df_geojson = gpd.read_file('data/test.geojson', engine=\"pyogrio\")\n",
    "\n",
    "end = time.time()\n",
    "print(\"Reading time:\", end - start,\"s\")"
   ]
  },
  {
   "cell_type": "code",
   "execution_count": 3,
   "metadata": {},
   "outputs": [],
   "source": [
    "train_df = train_df_geojson.copy()\n",
    "test_df = test_df_geojson.copy()"
   ]
  },
  {
   "cell_type": "code",
   "execution_count": 4,
   "metadata": {},
   "outputs": [],
   "source": [
    "train_long = np.array(train_df[\"geometry\"].centroid.x)\n",
    "train_lat = np.array(train_df[\"geometry\"].centroid.y)\n",
    "train_coords = np.stack((train_long, train_lat), axis=1)\n",
    "\n",
    "test_long = np.array(test_df[\"geometry\"].centroid.x)\n",
    "test_lat = np.array(test_df[\"geometry\"].centroid.y)\n",
    "test_coords = np.stack((test_long, test_lat), axis=1)"
   ]
  },
  {
   "cell_type": "code",
   "execution_count": 5,
   "metadata": {},
   "outputs": [
    {
     "name": "stdout",
     "output_type": "stream",
     "text": [
      "(416672, 2)\n"
     ]
    }
   ],
   "source": [
    "all_coords = np.concatenate([train_coords, test_coords])\n",
    "print(all_coords.shape)"
   ]
  },
  {
   "cell_type": "code",
   "execution_count": 6,
   "metadata": {},
   "outputs": [],
   "source": [
    "from sklearn.neighbors import NearestNeighbors\n",
    "\n",
    "model = NearestNeighbors(n_neighbors=20, algorithm='ball_tree').fit(all_coords)\n",
    "distances, indices = model.kneighbors(all_coords)"
   ]
  },
  {
   "cell_type": "code",
   "execution_count": 7,
   "metadata": {},
   "outputs": [],
   "source": [
    "from shapely.geometry import Polygon\n",
    "from shapely.ops import unary_union\n",
    "\n",
    "def center_polygon(poly):\n",
    "    centroid = Polygon(poly).centroid\n",
    "    translate = [-centroid.x, -centroid.y]\n",
    "    centered_poly = [[point[0] + translate[0], point[1] + translate[1]] for point in poly.exterior.coords]\n",
    "    return centered_poly\n",
    "\n",
    "\n",
    "def calculate_similarity(poly1, poly2):\n",
    "    # Create Shapely Polygon objects\n",
    "\n",
    "    # Center the polygons\n",
    "    centered_poly1 = center_polygon(poly1)\n",
    "    centered_poly2 = center_polygon(poly2)\n",
    "\n",
    "    # Create Shapely Polygon objects\n",
    "    polygon1 = Polygon(centered_poly1)\n",
    "    polygon2 = Polygon(centered_poly2)\n",
    "    \n",
    "    return polygon1.hausdorff_distance(polygon2)"
   ]
  },
  {
   "cell_type": "code",
   "execution_count": 8,
   "metadata": {},
   "outputs": [
    {
     "name": "stdout",
     "output_type": "stream",
     "text": [
      "0.08452248086734691 2 0.00017166320747579779\n"
     ]
    },
    {
     "data": {
      "image/png": "[encoded data removed]",
      "text/plain": [
       "<Figure size 640x480 with 1 Axes>"
      ]
     },
     "metadata": {},
     "output_type": "display_data"
    }
   ],
   "source": [
    "from PIL import Image, ImageDraw\n",
    "import matplotlib.pyplot as plt\n",
    "\n",
    "NB_TRAINS = len(train_df)\n",
    "neighb_density = []\n",
    "neighb_nb = []\n",
    "neighb_similar = []\n",
    "for iActuel in range(len(all_coords)):\n",
    "    if iActuel < NB_TRAINS:\n",
    "        col = train_df.iloc[iActuel]\n",
    "    else:\n",
    "        col = test_df.iloc[iActuel-NB_TRAINS]\n",
    "    \n",
    "    IMG_SIZE = 224\n",
    "    IMG_CENTER = IMG_SIZE//2\n",
    "    centroid = all_coords[iActuel]\n",
    "    \n",
    "    \n",
    "    image = Image.new(\"RGB\", (IMG_SIZE, IMG_SIZE), \"white\")\n",
    "    draw = ImageDraw.Draw(image, 'RGBA')\n",
    "\n",
    "    x,y = col[\"geometry\"].exterior.xy\n",
    "    x = np.array(x)\n",
    "    y = np.array(y)\n",
    "    (minx, miny, maxx, maxy) = col[\"geometry\"].bounds\n",
    "\n",
    "    echelle = 50000#60 / max((maxx-minx), (maxy-miny))\n",
    "    nouvX = (x - centroid[0]) * echelle + IMG_CENTER\n",
    "    nouvY = (y - centroid[1]) * echelle + IMG_CENTER\n",
    "    nouvY = IMG_SIZE - nouvY\n",
    "    \n",
    "    #print(echelle)\n",
    "    \n",
    "    draw.polygon(list(zip(nouvX, nouvY)), fill=\"black\")\n",
    "\n",
    "    nbVoisinsDedans = 0\n",
    "    visited = set()\n",
    "    dists = []\n",
    "    for iVoisin, distVoisin in zip(indices[iActuel], distances[iActuel]):\n",
    "        \n",
    "        xCentroidVoisin = (all_coords[iVoisin][0] - centroid[0]) * echelle + IMG_CENTER\n",
    "        yCentroidVoisin = (all_coords[iVoisin][1] - centroid[1]) * echelle + IMG_CENTER\n",
    "        \n",
    "        if (xCentroidVoisin, yCentroidVoisin) in visited:\n",
    "            continue\n",
    "        visited.add((xCentroidVoisin, yCentroidVoisin))\n",
    "        \n",
    "                \n",
    "        if xCentroidVoisin >= 0 and xCentroidVoisin < IMG_SIZE and yCentroidVoisin >= 0 and yCentroidVoisin < IMG_SIZE:\n",
    "            nbVoisinsDedans += 1\n",
    "            \n",
    "        if distVoisin == 0:\n",
    "            continue\n",
    "\n",
    "        if iVoisin < NB_TRAINS:\n",
    "            colVoisin = train_df.iloc[iVoisin]\n",
    "        else:\n",
    "            colVoisin = test_df.iloc[iVoisin-NB_TRAINS]\n",
    "        \n",
    "        x,y = colVoisin[\"geometry\"].exterior.xy\n",
    "        x = np.array(x)\n",
    "        y = np.array(y)\n",
    "\n",
    "        nouvX = (x - centroid[0]) * echelle + IMG_CENTER\n",
    "        nouvY = (y - centroid[1]) * echelle + IMG_CENTER\n",
    "        nouvY = IMG_SIZE - nouvY\n",
    "        \n",
    "        dists.append(calculate_similarity(col['geometry'], colVoisin['geometry']))\n",
    "    \n",
    "        if min(nouvX) > IMG_SIZE or max(nouvX) < 0 or min(nouvY) > IMG_SIZE or max(nouvY) < 0:\n",
    "            continue\n",
    "    \n",
    "        draw.polygon(list(zip(nouvX, nouvY)), fill=\"black\")\n",
    "    \n",
    "    dists = sorted(dists)\n",
    "    #print(dists)\n",
    "    mean_dist = np.mean(dists[:5])\n",
    "    \n",
    "    density = (255 - np.mean(image))/255\n",
    "    \n",
    "    #plt.imshow(image)\n",
    "    #print(density, nbVoisinsDedans, mean_dist)\n",
    "    #plt.show()\n",
    "    #break\n",
    "    \n",
    "    neighb_density.append(density)\n",
    "    neighb_nb.append(nbVoisinsDedans)\n",
    "    neighb_similar.append(mean_dist)\n"
   ]
  },
  {
   "cell_type": "code",
   "execution_count": null,
   "metadata": {},
   "outputs": [],
   "source": [
    "np.save(\"data/neighb_density\", neighb_density)\n",
    "np.save(\"data/neighb_nb\", neighb_nb)\n",
    "np.save(\"data/neighb_similar\", neighb_similar)"
   ]
  }
 ],
 "metadata": {
  "kernelspec": {
   "display_name": "Python 3",
   "language": "python",
   "name": "python3"
  },
  "language_info": {
   "codemirror_mode": {
    "name": "ipython",
    "version": 3
   },
   "file_extension": ".py",
   "mimetype": "text/x-python",
   "name": "python",
   "nbconvert_exporter": "python",
   "pygments_lexer": "ipython3",
   "version": "3.10.11"
  }
 },
 "nbformat": 4,
 "nbformat_minor": 2
}
