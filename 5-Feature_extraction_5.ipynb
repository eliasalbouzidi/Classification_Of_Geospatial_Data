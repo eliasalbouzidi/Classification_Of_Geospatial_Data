{
 "cells": [
  {
   "cell_type": "markdown",
   "id": "b909f53e",
   "metadata": {},
   "source": [
    "<h1><b>[V - Feature extraction 5]</b></h1>\n",
    "\n",
    "This notebook extracts the more advanced features `neighb_meandiff_changestatus_{iDate}`\n",
    "\n",
    "It requires several hours to compute. Thus, the computed versions are also already available:\n",
    "\n",
    "=> <b>it is not mandatory to run this notebook</b> (but it is provided for reproductibility).\n",
    "\n",
    "Once computed, the features are saved in `neighb_meandiff_changestatus_{iDate}.csv`"
   ]
  },
  {
   "cell_type": "markdown",
   "id": "a6f096fc",
   "metadata": {},
   "source": [
    "____________________________________"
   ]
  },
  {
   "cell_type": "markdown",
   "id": "1b6f8ce2",
   "metadata": {},
   "source": [
    "Please choose iDate between 0 and 4 included\n",
    "\n",
    "(To recompute everything, you'll have to run this notebook with all the possible values (here, 2*5 = 10))"
   ]
  },
  {
   "cell_type": "code",
   "execution_count": null,
   "id": "40fc680a",
   "metadata": {},
   "outputs": [],
   "source": [
    "iDate = 0 #between 0 and 4 included"
   ]
  },
  {
   "cell_type": "markdown",
   "id": "a96ed3f8",
   "metadata": {},
   "source": [
    "_____________________________________________"
   ]
  },
  {
   "cell_type": "code",
   "execution_count": 2,
   "id": "93d5312c",
   "metadata": {
    "execution": {
     "iopub.execute_input": "2024-02-14T21:15:40.932222Z",
     "iopub.status.busy": "2024-02-14T21:15:40.931764Z",
     "iopub.status.idle": "2024-02-14T21:15:44.387942Z",
     "shell.execute_reply": "2024-02-14T21:15:44.386449Z"
    },
    "papermill": {
     "duration": 3.4742,
     "end_time": "2024-02-14T21:15:44.390978",
     "exception": false,
     "start_time": "2024-02-14T21:15:40.916778",
     "status": "completed"
    },
    "tags": []
   },
   "outputs": [],
   "source": [
    "import geopandas as gpd\n",
    "import pandas as pd\n",
    "import numpy as np\n",
    "\n",
    "import matplotlib.pyplot as plt\n",
    "import seaborn as sns\n",
    "\n",
    "import warnings\n",
    "warnings.filterwarnings('ignore')\n",
    "\n",
    "pd.set_option('display.max_columns', None)  "
   ]
  },
  {
   "cell_type": "code",
   "execution_count": 3,
   "id": "d66e5637",
   "metadata": {
    "execution": {
     "iopub.execute_input": "2024-02-14T21:15:44.420328Z",
     "iopub.status.busy": "2024-02-14T21:15:44.419734Z",
     "iopub.status.idle": "2024-02-14T21:17:27.633123Z",
     "shell.execute_reply": "2024-02-14T21:17:27.631486Z"
    },
    "papermill": {
     "duration": 103.2438,
     "end_time": "2024-02-14T21:17:27.648779",
     "exception": false,
     "start_time": "2024-02-14T21:15:44.404979",
     "status": "completed"
    },
    "tags": []
   },
   "outputs": [
    {
     "name": "stdout",
     "output_type": "stream",
     "text": [
      "Reading time: 103.20589971542358 s\n"
     ]
    }
   ],
   "source": [
    "## Read csvs\n",
    "import time\n",
    "start = time.time()\n",
    "\n",
    "train_df_geojson = gpd.read_file('data/train.geojson', engine=\"pyogrio\")\n",
    "test_df_geojson = gpd.read_file('data/test.geojson', engine=\"pyogrio\")\n",
    "\n",
    "end = time.time()\n",
    "print(\"Reading time:\", end - start,\"s\")"
   ]
  },
  {
   "cell_type": "code",
   "execution_count": 4,
   "id": "8a5375be",
   "metadata": {
    "execution": {
     "iopub.execute_input": "2024-02-14T21:17:27.677326Z",
     "iopub.status.busy": "2024-02-14T21:17:27.676769Z",
     "iopub.status.idle": "2024-02-14T21:17:27.872666Z",
     "shell.execute_reply": "2024-02-14T21:17:27.870397Z"
    },
    "papermill": {
     "duration": 0.213684,
     "end_time": "2024-02-14T21:17:27.875628",
     "exception": false,
     "start_time": "2024-02-14T21:17:27.661944",
     "status": "completed"
    },
    "tags": []
   },
   "outputs": [],
   "source": [
    "train_df = train_df_geojson.copy()\n",
    "test_df = test_df_geojson.copy()"
   ]
  },
  {
   "cell_type": "code",
   "execution_count": 5,
   "id": "fc3a5513",
   "metadata": {
    "execution": {
     "iopub.execute_input": "2024-02-14T21:17:27.906176Z",
     "iopub.status.busy": "2024-02-14T21:17:27.905737Z",
     "iopub.status.idle": "2024-02-14T21:17:28.749140Z",
     "shell.execute_reply": "2024-02-14T21:17:28.747750Z"
    },
    "papermill": {
     "duration": 0.863279,
     "end_time": "2024-02-14T21:17:28.752459",
     "exception": false,
     "start_time": "2024-02-14T21:17:27.889180",
     "status": "completed"
    },
    "tags": []
   },
   "outputs": [],
   "source": [
    "\n",
    "\n",
    "# renaming all dates related columns\n",
    "for df in [train_df, test_df]:\n",
    "    for i in range(5):\n",
    "        df[f\"date{i}\"] = pd.to_datetime(df[f\"date{i}\"], format=\"%d-%m-%Y\")\n",
    "        df.rename(columns={f\"date{i}\": f\"date{i}_old\",\n",
    "                           f\"img_red_mean_date{i+1}\": f\"img_red_mean_date{i}_old\",\n",
    "                           f\"img_green_mean_date{i+1}\": f\"img_green_mean_date{i}_old\",\n",
    "                           f\"img_blue_mean_date{i+1}\": f\"img_blue_mean_date{i}_old\",\n",
    "                           f\"img_red_std_date{i+1}\": f\"img_red_std_date{i}_old\",\n",
    "                           f\"img_green_std_date{i+1}\": f\"img_green_std_date{i}_old\",\n",
    "                           f\"img_blue_std_date{i+1}\": f\"img_blue_std_date{i}_old\",\n",
    "                           f\"change_status_date{i}\": f\"change_status_date{i}_old\"}, inplace=True)\n",
    "\n"
   ]
  },
  {
   "cell_type": "code",
   "execution_count": 6,
   "id": "416128a2",
   "metadata": {
    "execution": {
     "iopub.execute_input": "2024-02-14T21:17:28.782546Z",
     "iopub.status.busy": "2024-02-14T21:17:28.782124Z",
     "iopub.status.idle": "2024-02-14T21:17:41.212178Z",
     "shell.execute_reply": "2024-02-14T21:17:41.210944Z"
    },
    "papermill": {
     "duration": 12.448524,
     "end_time": "2024-02-14T21:17:41.215203",
     "exception": false,
     "start_time": "2024-02-14T21:17:28.766679",
     "status": "completed"
    },
    "tags": []
   },
   "outputs": [],
   "source": [
    "# Toutes les colonnes qu'on doit réorganiser\n",
    "col_prefixes = [\"img_red_mean_date\", \"img_green_mean_date\", \"img_blue_mean_date\", \"img_red_std_date\", \"img_green_std_date\", \"img_blue_std_date\", \"change_status_date\", \"date\"]\n",
    "\n",
    "for df in [train_df, test_df]:\n",
    "    # df avec les dates\n",
    "    dftemp=df[[f\"date{i}_old\" for i in range(5)]].replace(np.nan, pd.to_datetime(\"01-01-1970\", format=\"%d-%m-%Y\"))\n",
    "    \n",
    "    # Tableau numpy tq new_to_old[iLigne, nouvelleDate] = ancienneDate\n",
    "    new_to_old = np.argsort(dftemp.values, axis=1)\n",
    "\n",
    "    for col_prefix in col_prefixes:\n",
    "        for iNewDate in range(5):\n",
    "            # Ajout d'une nouvelle ligne\n",
    "            newColName = f\"{col_prefix}{iNewDate}\"\n",
    "            df.insert(len(df.columns), newColName, None)\n",
    "            for iOldDate in range(5):\n",
    "                oldColName = f\"{col_prefix}{iOldDate}_old\"\n",
    "                # Pour chaque ancienne date correspondante, on met à jour\n",
    "                df.loc[(new_to_old[df.index, iNewDate] == iOldDate), newColName] = df.loc[(new_to_old[df.index, iNewDate] == iOldDate), oldColName]"
   ]
  },
  {
   "cell_type": "code",
   "execution_count": 7,
   "id": "cd553991",
   "metadata": {
    "execution": {
     "iopub.execute_input": "2024-02-14T21:17:41.244526Z",
     "iopub.status.busy": "2024-02-14T21:17:41.244094Z",
     "iopub.status.idle": "2024-02-14T21:17:45.341842Z",
     "shell.execute_reply": "2024-02-14T21:17:45.340483Z"
    },
    "papermill": {
     "duration": 4.116611,
     "end_time": "2024-02-14T21:17:45.345202",
     "exception": false,
     "start_time": "2024-02-14T21:17:41.228591",
     "status": "completed"
    },
    "tags": []
   },
   "outputs": [],
   "source": [
    "\n",
    "\n",
    "# Converting back to float / datetime\n",
    "col_imgs = [\"img_red_mean_date\", \"img_green_mean_date\", \"img_blue_mean_date\", \"img_red_std_date\", \"img_green_std_date\", \"img_blue_std_date\"]\n",
    "for df in [train_df, test_df]:\n",
    "    for col in col_imgs:\n",
    "        for i in range(5):\n",
    "            col_name = f\"{col}{i}\"\n",
    "            df[col_name] = df[col_name].astype(float)\n",
    "    for iDate in range(5):\n",
    "        col_name = f'date{iDate}'\n",
    "        df[col_name] = pd.to_datetime(df[col_name])\n",
    "\n"
   ]
  },
  {
   "cell_type": "code",
   "execution_count": 8,
   "id": "748f1819",
   "metadata": {
    "execution": {
     "iopub.execute_input": "2024-02-14T21:17:45.381217Z",
     "iopub.status.busy": "2024-02-14T21:17:45.380770Z",
     "iopub.status.idle": "2024-02-14T21:17:46.958074Z",
     "shell.execute_reply": "2024-02-14T21:17:46.956142Z"
    },
    "papermill": {
     "duration": 1.597832,
     "end_time": "2024-02-14T21:17:46.961069",
     "exception": false,
     "start_time": "2024-02-14T21:17:45.363237",
     "status": "completed"
    },
    "tags": []
   },
   "outputs": [],
   "source": [
    "\n",
    "\n",
    "train_long = np.array(train_df[\"geometry\"].centroid.x)\n",
    "train_lat = np.array(train_df[\"geometry\"].centroid.y)\n",
    "train_coords = np.stack((train_long, train_lat), axis=1)\n",
    "\n",
    "test_long = np.array(test_df[\"geometry\"].centroid.x)\n",
    "test_lat = np.array(test_df[\"geometry\"].centroid.y)\n",
    "test_coords = np.stack((test_long, test_lat), axis=1)\n",
    "\n"
   ]
  },
  {
   "cell_type": "code",
   "execution_count": 9,
   "id": "2693f79f",
   "metadata": {
    "execution": {
     "iopub.execute_input": "2024-02-14T21:17:46.992109Z",
     "iopub.status.busy": "2024-02-14T21:17:46.991717Z",
     "iopub.status.idle": "2024-02-14T21:17:46.999200Z",
     "shell.execute_reply": "2024-02-14T21:17:46.997793Z"
    },
    "papermill": {
     "duration": 0.025853,
     "end_time": "2024-02-14T21:17:47.001713",
     "exception": false,
     "start_time": "2024-02-14T21:17:46.975860",
     "status": "completed"
    },
    "tags": []
   },
   "outputs": [
    {
     "name": "stdout",
     "output_type": "stream",
     "text": [
      "(416672, 2)\n"
     ]
    }
   ],
   "source": [
    "all_coords = np.concatenate([train_coords, test_coords])\n",
    "print(all_coords.shape)"
   ]
  },
  {
   "cell_type": "code",
   "execution_count": 10,
   "id": "3db02ff1",
   "metadata": {
    "execution": {
     "iopub.execute_input": "2024-02-14T21:17:47.032356Z",
     "iopub.status.busy": "2024-02-14T21:17:47.031919Z",
     "iopub.status.idle": "2024-02-14T21:17:58.675573Z",
     "shell.execute_reply": "2024-02-14T21:17:58.673991Z"
    },
    "papermill": {
     "duration": 11.66267,
     "end_time": "2024-02-14T21:17:58.678623",
     "exception": false,
     "start_time": "2024-02-14T21:17:47.015953",
     "status": "completed"
    },
    "tags": []
   },
   "outputs": [],
   "source": [
    "from sklearn.neighbors import NearestNeighbors\n",
    "\n",
    "model = NearestNeighbors(n_neighbors=12, algorithm='ball_tree').fit(all_coords)\n",
    "distances, indices = model.radius_neighbors(all_coords, radius=0.01)"
   ]
  },
  {
   "cell_type": "code",
   "execution_count": 11,
   "id": "13f14aff",
   "metadata": {
    "execution": {
     "iopub.execute_input": "2024-02-14T21:17:58.713569Z",
     "iopub.status.busy": "2024-02-14T21:17:58.713146Z",
     "iopub.status.idle": "2024-02-14T21:17:58.723856Z",
     "shell.execute_reply": "2024-02-14T21:17:58.722556Z"
    },
    "papermill": {
     "duration": 0.031987,
     "end_time": "2024-02-14T21:17:58.726530",
     "exception": false,
     "start_time": "2024-02-14T21:17:58.694543",
     "status": "completed"
    },
    "tags": []
   },
   "outputs": [
    {
     "data": {
      "text/plain": [
       "array([0.00126759, 0.00557772, 0.00557772, 0.00715338, 0.00715338,\n",
       "       0.00999379, 0.00999379, 0.00126759, 0.00257037, 0.00257037,\n",
       "       0.0070286 , 0.0070286 , 0.00990901, 0.00851602, 0.00851602,\n",
       "       0.00969911, 0.00573477, 0.00990901, 0.00426781, 0.00969911,\n",
       "       0.00962543, 0.00962543, 0.00426781, 0.00573477, 0.        ,\n",
       "       0.        ])"
      ]
     },
     "execution_count": 11,
     "metadata": {},
     "output_type": "execute_result"
    }
   ],
   "source": [
    "distances[0]"
   ]
  },
  {
   "cell_type": "code",
   "execution_count": 12,
   "id": "3fc8fcf0",
   "metadata": {
    "execution": {
     "iopub.execute_input": "2024-02-14T21:17:58.756645Z",
     "iopub.status.busy": "2024-02-14T21:17:58.755929Z",
     "iopub.status.idle": "2024-02-14T21:17:58.763278Z",
     "shell.execute_reply": "2024-02-14T21:17:58.762052Z"
    },
    "papermill": {
     "duration": 0.024812,
     "end_time": "2024-02-14T21:17:58.765556",
     "exception": false,
     "start_time": "2024-02-14T21:17:58.740744",
     "status": "completed"
    },
    "tags": []
   },
   "outputs": [
    {
     "data": {
      "text/plain": [
       "array([     1,      4, 303485,      6, 303487, 303490,      9, 303482,\n",
       "       303483,      2,      7, 303488, 303495, 303489,      8,     16,\n",
       "            5,     14,      3, 303497,     15, 303496, 303484, 303486,\n",
       "       303481,      0])"
      ]
     },
     "execution_count": 12,
     "metadata": {},
     "output_type": "execute_result"
    }
   ],
   "source": [
    "indices[0]"
   ]
  },
  {
   "cell_type": "code",
   "execution_count": 13,
   "id": "e6337a07",
   "metadata": {
    "execution": {
     "iopub.execute_input": "2024-02-14T21:17:58.796321Z",
     "iopub.status.busy": "2024-02-14T21:17:58.795622Z",
     "iopub.status.idle": "2024-02-14T21:17:59.208114Z",
     "shell.execute_reply": "2024-02-14T21:17:59.206817Z"
    },
    "papermill": {
     "duration": 0.431115,
     "end_time": "2024-02-14T21:17:59.211141",
     "exception": false,
     "start_time": "2024-02-14T21:17:58.780026",
     "status": "completed"
    },
    "tags": []
   },
   "outputs": [],
   "source": [
    "dfALL = pd.concat([train_df, test_df], axis=0)"
   ]
  },
  {
   "cell_type": "code",
   "execution_count": 14,
   "id": "f2375d50",
   "metadata": {
    "execution": {
     "iopub.execute_input": "2024-02-14T21:17:59.241056Z",
     "iopub.status.busy": "2024-02-14T21:17:59.240607Z",
     "iopub.status.idle": "2024-02-14T21:17:59.246245Z",
     "shell.execute_reply": "2024-02-14T21:17:59.245060Z"
    },
    "papermill": {
     "duration": 0.023887,
     "end_time": "2024-02-14T21:17:59.248893",
     "exception": false,
     "start_time": "2024-02-14T21:17:59.225006",
     "status": "completed"
    },
    "tags": []
   },
   "outputs": [],
   "source": [
    "dfALL.reset_index(drop=True, inplace=True)"
   ]
  },
  {
   "cell_type": "code",
   "execution_count": 17,
   "id": "674bc766",
   "metadata": {
    "execution": {
     "iopub.execute_input": "2024-02-14T21:18:02.239902Z",
     "iopub.status.busy": "2024-02-14T21:18:02.238805Z",
     "iopub.status.idle": "2024-02-14T21:18:02.245063Z",
     "shell.execute_reply": "2024-02-14T21:18:02.243843Z"
    },
    "papermill": {
     "duration": 0.027453,
     "end_time": "2024-02-14T21:18:02.248556",
     "exception": false,
     "start_time": "2024-02-14T21:18:02.221103",
     "status": "completed"
    },
    "tags": []
   },
   "outputs": [],
   "source": [
    "change_status_map = {\n",
    "    \"Prior Construction\": 0,\n",
    "    \"Greenland\": 1,\n",
    "    \"Land Cleared\": 2,\n",
    "    \"Excavation\": 3,\n",
    "    \"Materials Dumped\": 4,\n",
    "    \"Materials Introduced\": 5,\n",
    "    \"Construction Started\": 6,\n",
    "    \"Construction Midway\": 7,\n",
    "    \"Construction Done\": 8,\n",
    "    \"Operational\": 9,\n",
    "}"
   ]
  },
  {
   "cell_type": "code",
   "execution_count": 18,
   "id": "c98ac7de",
   "metadata": {
    "execution": {
     "iopub.execute_input": "2024-02-14T21:18:02.283871Z",
     "iopub.status.busy": "2024-02-14T21:18:02.283040Z",
     "iopub.status.idle": "2024-02-14T21:18:02.288446Z",
     "shell.execute_reply": "2024-02-14T21:18:02.287425Z"
    },
    "papermill": {
     "duration": 0.025364,
     "end_time": "2024-02-14T21:18:02.291187",
     "exception": false,
     "start_time": "2024-02-14T21:18:02.265823",
     "status": "completed"
    },
    "tags": []
   },
   "outputs": [],
   "source": [
    "NB_TRAINS = len(train_df)"
   ]
  },
  {
   "cell_type": "code",
   "execution_count": 22,
   "id": "4dcf545a",
   "metadata": {
    "execution": {
     "iopub.execute_input": "2024-02-14T21:18:02.495686Z",
     "iopub.status.busy": "2024-02-14T21:18:02.495262Z",
     "iopub.status.idle": "2024-02-14T21:18:02.503310Z",
     "shell.execute_reply": "2024-02-14T21:18:02.501938Z"
    },
    "papermill": {
     "duration": 0.028226,
     "end_time": "2024-02-14T21:18:02.506037",
     "exception": false,
     "start_time": "2024-02-14T21:18:02.477811",
     "status": "completed"
    },
    "tags": []
   },
   "outputs": [
    {
     "data": {
      "text/plain": [
       "array([     1,      4, 303485,      6, 303487, 303490,      9, 303482,\n",
       "       303483,      2,      7, 303488, 303495, 303489,      8,     16,\n",
       "            5,     14,      3, 303497,     15, 303496, 303484, 303486,\n",
       "       303481,      0])"
      ]
     },
     "execution_count": 22,
     "metadata": {},
     "output_type": "execute_result"
    }
   ],
   "source": [
    "indices[0]"
   ]
  },
  {
   "cell_type": "code",
   "execution_count": 24,
   "id": "1a2d5e48",
   "metadata": {
    "execution": {
     "iopub.execute_input": "2024-02-14T21:18:02.588194Z",
     "iopub.status.busy": "2024-02-14T21:18:02.587789Z",
     "iopub.status.idle": "2024-02-14T21:18:03.112945Z",
     "shell.execute_reply": "2024-02-14T21:18:03.111403Z"
    },
    "papermill": {
     "duration": 0.545833,
     "end_time": "2024-02-14T21:18:03.116056",
     "exception": false,
     "start_time": "2024-02-14T21:18:02.570223",
     "status": "completed"
    },
    "tags": []
   },
   "outputs": [],
   "source": [
    "for iDate in range(5):\n",
    "    dfALL[f\"change_status_date{iDate}\"] = dfALL[f\"change_status_date{iDate}\"].map(change_status_map)"
   ]
  },
  {
   "cell_type": "code",
   "execution_count": 25,
   "id": "ca62d68e",
   "metadata": {
    "execution": {
     "iopub.execute_input": "2024-02-14T21:18:03.154109Z",
     "iopub.status.busy": "2024-02-14T21:18:03.153617Z",
     "iopub.status.idle": "2024-02-14T21:55:51.621247Z",
     "shell.execute_reply": "2024-02-14T21:55:51.619760Z"
    },
    "papermill": {
     "duration": 2268.490781,
     "end_time": "2024-02-14T21:55:51.624576",
     "exception": false,
     "start_time": "2024-02-14T21:18:03.133795",
     "status": "completed"
    },
    "tags": []
   },
   "outputs": [],
   "source": [
    "def calculate_mean_difference(i, iDate):\n",
    "    return dfALL.iloc[i][f\"change_status_date{iDate}\"] - \\\n",
    "        (dfALL.iloc[indices[i]][f\"change_status_date{iDate}\"]).mean()\n",
    "\n",
    "# Create the new column using apply() function\n",
    "result = pd.DataFrame(dfALL.index.map(lambda i: calculate_mean_difference(i, iDate)), columns=[f\"neighb_meandiff_changestatus_{iDate}\"])"
   ]
  },
  {
   "cell_type": "code",
   "execution_count": 26,
   "id": "cc263ca9",
   "metadata": {
    "execution": {
     "iopub.execute_input": "2024-02-14T21:55:51.662105Z",
     "iopub.status.busy": "2024-02-14T21:55:51.661674Z",
     "iopub.status.idle": "2024-02-14T21:55:51.681192Z",
     "shell.execute_reply": "2024-02-14T21:55:51.679849Z"
    },
    "papermill": {
     "duration": 0.041992,
     "end_time": "2024-02-14T21:55:51.684234",
     "exception": false,
     "start_time": "2024-02-14T21:55:51.642242",
     "status": "completed"
    },
    "tags": []
   },
   "outputs": [
    {
     "data": {
      "text/html": [
       "<div>\n",
       "<style scoped>\n",
       "    .dataframe tbody tr th:only-of-type {\n",
       "        vertical-align: middle;\n",
       "    }\n",
       "\n",
       "    .dataframe tbody tr th {\n",
       "        vertical-align: top;\n",
       "    }\n",
       "\n",
       "    .dataframe thead th {\n",
       "        text-align: right;\n",
       "    }\n",
       "</style>\n",
       "<table border=\"1\" class=\"dataframe\">\n",
       "  <thead>\n",
       "    <tr style=\"text-align: right;\">\n",
       "      <th></th>\n",
       "      <th>neighb_meandiff_changestatus_4</th>\n",
       "    </tr>\n",
       "  </thead>\n",
       "  <tbody>\n",
       "    <tr>\n",
       "      <th>0</th>\n",
       "      <td>0.846154</td>\n",
       "    </tr>\n",
       "    <tr>\n",
       "      <th>1</th>\n",
       "      <td>0.888889</td>\n",
       "    </tr>\n",
       "    <tr>\n",
       "      <th>2</th>\n",
       "      <td>1.260870</td>\n",
       "    </tr>\n",
       "    <tr>\n",
       "      <th>3</th>\n",
       "      <td>0.904762</td>\n",
       "    </tr>\n",
       "    <tr>\n",
       "      <th>4</th>\n",
       "      <td>-5.022727</td>\n",
       "    </tr>\n",
       "    <tr>\n",
       "      <th>...</th>\n",
       "      <td>...</td>\n",
       "    </tr>\n",
       "    <tr>\n",
       "      <th>416667</th>\n",
       "      <td>6.121339</td>\n",
       "    </tr>\n",
       "    <tr>\n",
       "      <th>416668</th>\n",
       "      <td>6.113924</td>\n",
       "    </tr>\n",
       "    <tr>\n",
       "      <th>416669</th>\n",
       "      <td>6.113537</td>\n",
       "    </tr>\n",
       "    <tr>\n",
       "      <th>416670</th>\n",
       "      <td>6.113636</td>\n",
       "    </tr>\n",
       "    <tr>\n",
       "      <th>416671</th>\n",
       "      <td>6.092683</td>\n",
       "    </tr>\n",
       "  </tbody>\n",
       "</table>\n",
       "<p>416672 rows × 1 columns</p>\n",
       "</div>"
      ],
      "text/plain": [
       "        neighb_meandiff_changestatus_4\n",
       "0                             0.846154\n",
       "1                             0.888889\n",
       "2                             1.260870\n",
       "3                             0.904762\n",
       "4                            -5.022727\n",
       "...                                ...\n",
       "416667                        6.121339\n",
       "416668                        6.113924\n",
       "416669                        6.113537\n",
       "416670                        6.113636\n",
       "416671                        6.092683\n",
       "\n",
       "[416672 rows x 1 columns]"
      ]
     },
     "execution_count": 26,
     "metadata": {},
     "output_type": "execute_result"
    }
   ],
   "source": [
    "result"
   ]
  },
  {
   "cell_type": "code",
   "execution_count": 27,
   "id": "ed71b7f2",
   "metadata": {
    "execution": {
     "iopub.execute_input": "2024-02-14T21:55:51.720974Z",
     "iopub.status.busy": "2024-02-14T21:55:51.720101Z",
     "iopub.status.idle": "2024-02-14T21:55:52.796157Z",
     "shell.execute_reply": "2024-02-14T21:55:52.794544Z"
    },
    "papermill": {
     "duration": 1.098006,
     "end_time": "2024-02-14T21:55:52.799341",
     "exception": false,
     "start_time": "2024-02-14T21:55:51.701335",
     "status": "completed"
    },
    "tags": []
   },
   "outputs": [],
   "source": [
    "result.to_csv(f\"data/neighb_meandiff_changestatus_{iDate}.csv\", index=False)"
   ]
  }
 ],
 "metadata": {
  "kaggle": {
   "accelerator": "none",
   "dataSources": [
    {
     "databundleVersionId": 7549115,
     "sourceId": 67957,
     "sourceType": "competition"
    },
    {
     "databundleVersionId": 7716176,
     "datasetId": 4433393,
     "sourceId": 7620382,
     "sourceType": "datasetVersion"
    }
   ],
   "dockerImageVersionId": 30646,
   "isGpuEnabled": false,
   "isInternetEnabled": true,
   "language": "python",
   "sourceType": "notebook"
  },
  "kernelspec": {
   "display_name": "Python 3",
   "language": "python",
   "name": "python3"
  },
  "language_info": {
   "codemirror_mode": {
    "name": "ipython",
    "version": 3
   },
   "file_extension": ".py",
   "mimetype": "text/x-python",
   "name": "python",
   "nbconvert_exporter": "python",
   "pygments_lexer": "ipython3",
   "version": "3.10.13"
  },
  "papermill": {
   "default_parameters": {},
   "duration": 2456.05027,
   "end_time": "2024-02-14T21:55:56.096844",
   "environment_variables": {},
   "exception": null,
   "input_path": "__notebook__.ipynb",
   "output_path": "__notebook__.ipynb",
   "parameters": {},
   "start_time": "2024-02-14T21:15:00.046574",
   "version": "2.5.0"
  }
 },
 "nbformat": 4,
 "nbformat_minor": 5
}
