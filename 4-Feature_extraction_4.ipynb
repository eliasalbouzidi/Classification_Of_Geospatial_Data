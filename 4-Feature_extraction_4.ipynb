{
 "cells": [
  {
   "cell_type": "markdown",
   "id": "5bb4cff6",
   "metadata": {},
   "source": [
    "<h1><b>[IV - Feature extraction 4]</b></h1>\n",
    "\n",
    "This notebook extracts the more advanced features `neighb_maxdiff_meancolor_{iDate}` or `neighb_maxdiff_stdcolor_{iDate}`.\n",
    "\n",
    "It requires several hours to compute. Thus, the computed versions are also already available:\n",
    "\n",
    "=> <b>it is not mandatory to run this notebook</b> (but it is provided for reproductibility).\n",
    "\n",
    "Once computed, the features are saved in `neighb_maxdiff_meancolor_{iDate}.csv` or `neighb_maxdiff_stdcolor_{iDate}.csv`"
   ]
  },
  {
   "cell_type": "markdown",
   "id": "50ce8cf1",
   "metadata": {},
   "source": [
    "____________________________________"
   ]
  },
  {
   "cell_type": "markdown",
   "id": "07842586",
   "metadata": {},
   "source": [
    "Please choose mean or std, and iDate between 0 and 4 included\n",
    "\n",
    "(To recompute everything, you'll have to run this notebook with all the possible values (here, 2*5 = 10))"
   ]
  },
  {
   "cell_type": "code",
   "execution_count": 1,
   "id": "f9646c67",
   "metadata": {},
   "outputs": [],
   "source": [
    "method = \"mean\" # or method = \"std\""
   ]
  },
  {
   "cell_type": "code",
   "execution_count": null,
   "id": "350a70a5",
   "metadata": {},
   "outputs": [],
   "source": [
    "iDate = 0 #between 0 and 4 included"
   ]
  },
  {
   "cell_type": "markdown",
   "id": "c6645b3b",
   "metadata": {},
   "source": [
    "__________________________________________"
   ]
  },
  {
   "cell_type": "code",
   "execution_count": 2,
   "id": "e5d89969",
   "metadata": {
    "execution": {
     "iopub.execute_input": "2024-02-13T11:59:36.369083Z",
     "iopub.status.busy": "2024-02-13T11:59:36.368727Z",
     "iopub.status.idle": "2024-02-13T11:59:38.520298Z",
     "shell.execute_reply": "2024-02-13T11:59:38.519270Z"
    },
    "papermill": {
     "duration": 2.163512,
     "end_time": "2024-02-13T11:59:38.522743",
     "exception": false,
     "start_time": "2024-02-13T11:59:36.359231",
     "status": "completed"
    },
    "tags": []
   },
   "outputs": [],
   "source": [
    "import geopandas as gpd\n",
    "import pandas as pd\n",
    "import numpy as np\n",
    "\n",
    "import matplotlib.pyplot as plt\n",
    "import seaborn as sns\n",
    "\n",
    "import warnings\n",
    "warnings.filterwarnings('ignore')\n",
    "\n",
    "pd.set_option('display.max_columns', None)  "
   ]
  },
  {
   "cell_type": "code",
   "execution_count": 3,
   "id": "15129208",
   "metadata": {
    "execution": {
     "iopub.execute_input": "2024-02-13T11:59:38.541342Z",
     "iopub.status.busy": "2024-02-13T11:59:38.540871Z",
     "iopub.status.idle": "2024-02-13T12:01:01.685368Z",
     "shell.execute_reply": "2024-02-13T12:01:01.684229Z"
    },
    "papermill": {
     "duration": 83.165597,
     "end_time": "2024-02-13T12:01:01.697011",
     "exception": false,
     "start_time": "2024-02-13T11:59:38.531414",
     "status": "completed"
    },
    "tags": []
   },
   "outputs": [
    {
     "name": "stdout",
     "output_type": "stream",
     "text": [
      "Reading time: 83.1383125782013 s\n"
     ]
    }
   ],
   "source": [
    "## Read csvs\n",
    "import time\n",
    "start = time.time()\n",
    "\n",
    "train_df_geojson = gpd.read_file('data/train.geojson', engine=\"pyogrio\")\n",
    "test_df_geojson = gpd.read_file('data/test.geojson', engine=\"pyogrio\")\n",
    "\n",
    "end = time.time()\n",
    "print(\"Reading time:\", end - start,\"s\")"
   ]
  },
  {
   "cell_type": "code",
   "execution_count": 4,
   "id": "0c53e6de",
   "metadata": {
    "execution": {
     "iopub.execute_input": "2024-02-13T12:01:01.717177Z",
     "iopub.status.busy": "2024-02-13T12:01:01.716690Z",
     "iopub.status.idle": "2024-02-13T12:01:01.898172Z",
     "shell.execute_reply": "2024-02-13T12:01:01.897147Z"
    },
    "papermill": {
     "duration": 0.194453,
     "end_time": "2024-02-13T12:01:01.900659",
     "exception": false,
     "start_time": "2024-02-13T12:01:01.706206",
     "status": "completed"
    },
    "tags": []
   },
   "outputs": [],
   "source": [
    "train_df = train_df_geojson.copy()\n",
    "test_df = test_df_geojson.copy()"
   ]
  },
  {
   "cell_type": "code",
   "execution_count": 5,
   "id": "6b8d3c77",
   "metadata": {
    "execution": {
     "iopub.execute_input": "2024-02-13T12:01:01.920460Z",
     "iopub.status.busy": "2024-02-13T12:01:01.920088Z",
     "iopub.status.idle": "2024-02-13T12:01:02.568551Z",
     "shell.execute_reply": "2024-02-13T12:01:02.567411Z"
    },
    "papermill": {
     "duration": 0.661418,
     "end_time": "2024-02-13T12:01:02.571177",
     "exception": false,
     "start_time": "2024-02-13T12:01:01.909759",
     "status": "completed"
    },
    "tags": []
   },
   "outputs": [],
   "source": [
    "\n",
    "\n",
    "# renaming all dates related columns\n",
    "for df in [train_df, test_df]:\n",
    "    for i in range(5):\n",
    "        df[f\"date{i}\"] = pd.to_datetime(df[f\"date{i}\"], format=\"%d-%m-%Y\")\n",
    "        df.rename(columns={f\"date{i}\": f\"date{i}_old\",\n",
    "                           f\"img_red_mean_date{i+1}\": f\"img_red_mean_date{i}_old\",\n",
    "                           f\"img_green_mean_date{i+1}\": f\"img_green_mean_date{i}_old\",\n",
    "                           f\"img_blue_mean_date{i+1}\": f\"img_blue_mean_date{i}_old\",\n",
    "                           f\"img_red_std_date{i+1}\": f\"img_red_std_date{i}_old\",\n",
    "                           f\"img_green_std_date{i+1}\": f\"img_green_std_date{i}_old\",\n",
    "                           f\"img_blue_std_date{i+1}\": f\"img_blue_std_date{i}_old\",\n",
    "                           f\"change_status_date{i}\": f\"change_status_date{i}_old\"}, inplace=True)\n",
    "\n"
   ]
  },
  {
   "cell_type": "code",
   "execution_count": 6,
   "id": "c027a625",
   "metadata": {
    "execution": {
     "iopub.execute_input": "2024-02-13T12:01:02.590695Z",
     "iopub.status.busy": "2024-02-13T12:01:02.590284Z",
     "iopub.status.idle": "2024-02-13T12:01:12.336794Z",
     "shell.execute_reply": "2024-02-13T12:01:12.335631Z"
    },
    "papermill": {
     "duration": 9.759142,
     "end_time": "2024-02-13T12:01:12.339317",
     "exception": false,
     "start_time": "2024-02-13T12:01:02.580175",
     "status": "completed"
    },
    "tags": []
   },
   "outputs": [],
   "source": [
    "# Toutes les colonnes qu'on doit réorganiser\n",
    "col_prefixes = [\"img_red_mean_date\", \"img_green_mean_date\", \"img_blue_mean_date\", \"img_red_std_date\", \"img_green_std_date\", \"img_blue_std_date\", \"change_status_date\", \"date\"]\n",
    "\n",
    "for df in [train_df, test_df]:\n",
    "    # df avec les dates\n",
    "    dftemp=df[[f\"date{i}_old\" for i in range(5)]].replace(np.nan, pd.to_datetime(\"01-01-1970\", format=\"%d-%m-%Y\"))\n",
    "    \n",
    "    # Tableau numpy tq new_to_old[iLigne, nouvelleDate] = ancienneDate\n",
    "    new_to_old = np.argsort(dftemp.values, axis=1)\n",
    "\n",
    "    for col_prefix in col_prefixes:\n",
    "        for iNewDate in range(5):\n",
    "            # Ajout d'une nouvelle ligne\n",
    "            newColName = f\"{col_prefix}{iNewDate}\"\n",
    "            df.insert(len(df.columns), newColName, None)\n",
    "            for iOldDate in range(5):\n",
    "                oldColName = f\"{col_prefix}{iOldDate}_old\"\n",
    "                # Pour chaque ancienne date correspondante, on met à jour\n",
    "                df.loc[(new_to_old[df.index, iNewDate] == iOldDate), newColName] = df.loc[(new_to_old[df.index, iNewDate] == iOldDate), oldColName]"
   ]
  },
  {
   "cell_type": "code",
   "execution_count": 7,
   "id": "384a3481",
   "metadata": {
    "execution": {
     "iopub.execute_input": "2024-02-13T12:01:12.360984Z",
     "iopub.status.busy": "2024-02-13T12:01:12.358961Z",
     "iopub.status.idle": "2024-02-13T12:01:14.321021Z",
     "shell.execute_reply": "2024-02-13T12:01:14.319797Z"
    },
    "papermill": {
     "duration": 1.974375,
     "end_time": "2024-02-13T12:01:14.323466",
     "exception": false,
     "start_time": "2024-02-13T12:01:12.349091",
     "status": "completed"
    },
    "tags": []
   },
   "outputs": [],
   "source": [
    "\n",
    "\n",
    "# Converting back to float / datetime\n",
    "col_imgs = [\"img_red_mean_date\", \"img_green_mean_date\", \"img_blue_mean_date\", \"img_red_std_date\", \"img_green_std_date\", \"img_blue_std_date\"]\n",
    "for df in [train_df, test_df]:\n",
    "    for col in col_imgs:\n",
    "        for i in range(5):\n",
    "            col_name = f\"{col}{i}\"\n",
    "            df[col_name] = df[col_name].astype(float)\n",
    "    for iDate in range(5):\n",
    "        col_name = f'date{iDate}'\n",
    "        df[col_name] = pd.to_datetime(df[col_name])\n",
    "\n"
   ]
  },
  {
   "cell_type": "code",
   "execution_count": 8,
   "id": "1d108e79",
   "metadata": {
    "execution": {
     "iopub.execute_input": "2024-02-13T12:01:14.343762Z",
     "iopub.status.busy": "2024-02-13T12:01:14.342906Z",
     "iopub.status.idle": "2024-02-13T12:01:15.618965Z",
     "shell.execute_reply": "2024-02-13T12:01:15.617989Z"
    },
    "papermill": {
     "duration": 1.289035,
     "end_time": "2024-02-13T12:01:15.621447",
     "exception": false,
     "start_time": "2024-02-13T12:01:14.332412",
     "status": "completed"
    },
    "tags": []
   },
   "outputs": [],
   "source": [
    "\n",
    "\n",
    "train_long = np.array(train_df[\"geometry\"].centroid.x)\n",
    "train_lat = np.array(train_df[\"geometry\"].centroid.y)\n",
    "train_coords = np.stack((train_long, train_lat), axis=1)\n",
    "\n",
    "test_long = np.array(test_df[\"geometry\"].centroid.x)\n",
    "test_lat = np.array(test_df[\"geometry\"].centroid.y)\n",
    "test_coords = np.stack((test_long, test_lat), axis=1)\n",
    "\n"
   ]
  },
  {
   "cell_type": "code",
   "execution_count": 9,
   "id": "0cfff186",
   "metadata": {
    "execution": {
     "iopub.execute_input": "2024-02-13T12:01:15.640986Z",
     "iopub.status.busy": "2024-02-13T12:01:15.640080Z",
     "iopub.status.idle": "2024-02-13T12:01:15.646573Z",
     "shell.execute_reply": "2024-02-13T12:01:15.645688Z"
    },
    "papermill": {
     "duration": 0.018608,
     "end_time": "2024-02-13T12:01:15.648771",
     "exception": false,
     "start_time": "2024-02-13T12:01:15.630163",
     "status": "completed"
    },
    "tags": []
   },
   "outputs": [
    {
     "name": "stdout",
     "output_type": "stream",
     "text": [
      "(416672, 2)\n"
     ]
    }
   ],
   "source": [
    "all_coords = np.concatenate([train_coords, test_coords])\n",
    "print(all_coords.shape)"
   ]
  },
  {
   "cell_type": "code",
   "execution_count": 10,
   "id": "21781efb",
   "metadata": {
    "execution": {
     "iopub.execute_input": "2024-02-13T12:01:15.667795Z",
     "iopub.status.busy": "2024-02-13T12:01:15.667458Z",
     "iopub.status.idle": "2024-02-13T12:01:19.782926Z",
     "shell.execute_reply": "2024-02-13T12:01:19.781766Z"
    },
    "papermill": {
     "duration": 4.128021,
     "end_time": "2024-02-13T12:01:19.785573",
     "exception": false,
     "start_time": "2024-02-13T12:01:15.657552",
     "status": "completed"
    },
    "tags": []
   },
   "outputs": [],
   "source": [
    "from sklearn.neighbors import NearestNeighbors\n",
    "\n",
    "model = NearestNeighbors(n_neighbors=12, algorithm='ball_tree').fit(all_coords)\n",
    "distances, indices = model.radius_neighbors(all_coords, radius=0.003)"
   ]
  },
  {
   "cell_type": "code",
   "execution_count": 11,
   "id": "a68c36ae",
   "metadata": {
    "execution": {
     "iopub.execute_input": "2024-02-13T12:01:19.805648Z",
     "iopub.status.busy": "2024-02-13T12:01:19.804646Z",
     "iopub.status.idle": "2024-02-13T12:01:19.813436Z",
     "shell.execute_reply": "2024-02-13T12:01:19.812351Z"
    },
    "papermill": {
     "duration": 0.021037,
     "end_time": "2024-02-13T12:01:19.815614",
     "exception": false,
     "start_time": "2024-02-13T12:01:19.794577",
     "status": "completed"
    },
    "tags": []
   },
   "outputs": [
    {
     "data": {
      "text/plain": [
       "array([0.00126759, 0.00126759, 0.00257037, 0.00257037, 0.        ,\n",
       "       0.        ])"
      ]
     },
     "execution_count": 11,
     "metadata": {},
     "output_type": "execute_result"
    }
   ],
   "source": [
    "distances[0]"
   ]
  },
  {
   "cell_type": "code",
   "execution_count": 12,
   "id": "ee751dd0",
   "metadata": {
    "execution": {
     "iopub.execute_input": "2024-02-13T12:01:19.835271Z",
     "iopub.status.busy": "2024-02-13T12:01:19.834922Z",
     "iopub.status.idle": "2024-02-13T12:01:19.841811Z",
     "shell.execute_reply": "2024-02-13T12:01:19.840704Z"
    },
    "papermill": {
     "duration": 0.019641,
     "end_time": "2024-02-13T12:01:19.844249",
     "exception": false,
     "start_time": "2024-02-13T12:01:19.824608",
     "status": "completed"
    },
    "tags": []
   },
   "outputs": [
    {
     "data": {
      "text/plain": [
       "array([     1, 303482, 303483,      2, 303481,      0])"
      ]
     },
     "execution_count": 12,
     "metadata": {},
     "output_type": "execute_result"
    }
   ],
   "source": [
    "indices[0]"
   ]
  },
  {
   "cell_type": "code",
   "execution_count": 13,
   "id": "3b5c1c56",
   "metadata": {
    "execution": {
     "iopub.execute_input": "2024-02-13T12:01:19.865654Z",
     "iopub.status.busy": "2024-02-13T12:01:19.865251Z",
     "iopub.status.idle": "2024-02-13T12:01:20.264369Z",
     "shell.execute_reply": "2024-02-13T12:01:20.263117Z"
    },
    "papermill": {
     "duration": 0.413154,
     "end_time": "2024-02-13T12:01:20.267013",
     "exception": false,
     "start_time": "2024-02-13T12:01:19.853859",
     "status": "completed"
    },
    "tags": []
   },
   "outputs": [],
   "source": [
    "dfALL = pd.concat([train_df, test_df], axis=0)"
   ]
  },
  {
   "cell_type": "code",
   "execution_count": 14,
   "id": "b88804a0",
   "metadata": {
    "execution": {
     "iopub.execute_input": "2024-02-13T12:01:20.287847Z",
     "iopub.status.busy": "2024-02-13T12:01:20.287447Z",
     "iopub.status.idle": "2024-02-13T12:01:20.292937Z",
     "shell.execute_reply": "2024-02-13T12:01:20.291652Z"
    },
    "papermill": {
     "duration": 0.019099,
     "end_time": "2024-02-13T12:01:20.295567",
     "exception": false,
     "start_time": "2024-02-13T12:01:20.276468",
     "status": "completed"
    },
    "tags": []
   },
   "outputs": [],
   "source": [
    "dfALL.reset_index(drop=True, inplace=True)"
   ]
  },
  {
   "cell_type": "code",
   "execution_count": 17,
   "id": "87dfde47",
   "metadata": {
    "execution": {
     "iopub.execute_input": "2024-02-13T12:01:21.019538Z",
     "iopub.status.busy": "2024-02-13T12:01:21.019151Z",
     "iopub.status.idle": "2024-02-13T12:01:21.024315Z",
     "shell.execute_reply": "2024-02-13T12:01:21.023149Z"
    },
    "papermill": {
     "duration": 0.017997,
     "end_time": "2024-02-13T12:01:21.026451",
     "exception": false,
     "start_time": "2024-02-13T12:01:21.008454",
     "status": "completed"
    },
    "tags": []
   },
   "outputs": [],
   "source": [
    "change_status_map = {\n",
    "    \"Prior Construction\": 0,\n",
    "    \"Greenland\": 1,\n",
    "    \"Land Cleared\": 2,\n",
    "    \"Excavation\": 3,\n",
    "    \"Materials Dumped\": 4,\n",
    "    \"Materials Introduced\": 5,\n",
    "    \"Construction Started\": 6,\n",
    "    \"Construction Midway\": 7,\n",
    "    \"Construction Done\": 8,\n",
    "    \"Operational\": 9,\n",
    "}"
   ]
  },
  {
   "cell_type": "code",
   "execution_count": 18,
   "id": "83da2c34",
   "metadata": {
    "execution": {
     "iopub.execute_input": "2024-02-13T12:01:21.047301Z",
     "iopub.status.busy": "2024-02-13T12:01:21.046596Z",
     "iopub.status.idle": "2024-02-13T12:01:21.050570Z",
     "shell.execute_reply": "2024-02-13T12:01:21.049793Z"
    },
    "papermill": {
     "duration": 0.016977,
     "end_time": "2024-02-13T12:01:21.052703",
     "exception": false,
     "start_time": "2024-02-13T12:01:21.035726",
     "status": "completed"
    },
    "tags": []
   },
   "outputs": [],
   "source": [
    "NB_TRAINS = len(train_df)"
   ]
  },
  {
   "cell_type": "code",
   "execution_count": 22,
   "id": "b9e97599",
   "metadata": {
    "execution": {
     "iopub.execute_input": "2024-02-13T12:01:21.176706Z",
     "iopub.status.busy": "2024-02-13T12:01:21.176332Z",
     "iopub.status.idle": "2024-02-13T12:01:21.182690Z",
     "shell.execute_reply": "2024-02-13T12:01:21.181618Z"
    },
    "papermill": {
     "duration": 0.01992,
     "end_time": "2024-02-13T12:01:21.184899",
     "exception": false,
     "start_time": "2024-02-13T12:01:21.164979",
     "status": "completed"
    },
    "tags": []
   },
   "outputs": [
    {
     "data": {
      "text/plain": [
       "array([     1, 303482, 303483,      2, 303481,      0])"
      ]
     },
     "execution_count": 22,
     "metadata": {},
     "output_type": "execute_result"
    }
   ],
   "source": [
    "indices[0]"
   ]
  },
  {
   "cell_type": "code",
   "execution_count": 23,
   "id": "7cbba257",
   "metadata": {
    "execution": {
     "iopub.execute_input": "2024-02-13T12:01:21.206338Z",
     "iopub.status.busy": "2024-02-13T12:01:21.205486Z",
     "iopub.status.idle": "2024-02-13T13:11:57.129647Z",
     "shell.execute_reply": "2024-02-13T13:11:57.128316Z"
    },
    "papermill": {
     "duration": 4235.937764,
     "end_time": "2024-02-13T13:11:57.132630",
     "exception": false,
     "start_time": "2024-02-13T12:01:21.194866",
     "status": "completed"
    },
    "tags": []
   },
   "outputs": [],
   "source": [
    "def calculate_max_difference(i, iDate):\n",
    "    return (\n",
    "        dfALL.iloc[indices[i]][f\"img_red_{method}_date{iDate}\"] - dfALL.iloc[i][f\"img_red_{method}_date{iDate}\"] +\n",
    "        dfALL.iloc[indices[i]][f\"img_green_{method}_date{iDate}\"] - dfALL.iloc[i][f\"img_green_{method}_date{iDate}\"] +\n",
    "        dfALL.iloc[indices[i]][f\"img_blue_{method}_date{iDate}\"] - dfALL.iloc[i][f\"img_blue_{method}_date{iDate}\"]\n",
    "    ).abs().max()\n",
    "\n",
    "# Define the date variable\n",
    "\n",
    "# Create the new column using apply() function\n",
    "result = pd.DataFrame(dfALL.index.map(lambda i: calculate_max_difference(i, iDate)), columns=[f\"neighb_maxdiff_{method}color_{iDate}\"])"
   ]
  },
  {
   "cell_type": "code",
   "execution_count": 24,
   "id": "a41bd561",
   "metadata": {
    "execution": {
     "iopub.execute_input": "2024-02-13T13:11:57.156196Z",
     "iopub.status.busy": "2024-02-13T13:11:57.155382Z",
     "iopub.status.idle": "2024-02-13T13:11:57.172506Z",
     "shell.execute_reply": "2024-02-13T13:11:57.171317Z"
    },
    "papermill": {
     "duration": 0.031397,
     "end_time": "2024-02-13T13:11:57.175197",
     "exception": false,
     "start_time": "2024-02-13T13:11:57.143800",
     "status": "completed"
    },
    "tags": []
   },
   "outputs": [
    {
     "data": {
      "text/html": [
       "<div>\n",
       "<style scoped>\n",
       "    .dataframe tbody tr th:only-of-type {\n",
       "        vertical-align: middle;\n",
       "    }\n",
       "\n",
       "    .dataframe tbody tr th {\n",
       "        vertical-align: top;\n",
       "    }\n",
       "\n",
       "    .dataframe thead th {\n",
       "        text-align: right;\n",
       "    }\n",
       "</style>\n",
       "<table border=\"1\" class=\"dataframe\">\n",
       "  <thead>\n",
       "    <tr style=\"text-align: right;\">\n",
       "      <th></th>\n",
       "      <th>neighb_maxdiff_meancolor_3</th>\n",
       "    </tr>\n",
       "  </thead>\n",
       "  <tbody>\n",
       "    <tr>\n",
       "      <th>0</th>\n",
       "      <td>19.854632</td>\n",
       "    </tr>\n",
       "    <tr>\n",
       "      <th>1</th>\n",
       "      <td>16.455969</td>\n",
       "    </tr>\n",
       "    <tr>\n",
       "      <th>2</th>\n",
       "      <td>31.416012</td>\n",
       "    </tr>\n",
       "    <tr>\n",
       "      <th>3</th>\n",
       "      <td>34.987111</td>\n",
       "    </tr>\n",
       "    <tr>\n",
       "      <th>4</th>\n",
       "      <td>120.946772</td>\n",
       "    </tr>\n",
       "    <tr>\n",
       "      <th>...</th>\n",
       "      <td>...</td>\n",
       "    </tr>\n",
       "    <tr>\n",
       "      <th>416667</th>\n",
       "      <td>221.480656</td>\n",
       "    </tr>\n",
       "    <tr>\n",
       "      <th>416668</th>\n",
       "      <td>247.725578</td>\n",
       "    </tr>\n",
       "    <tr>\n",
       "      <th>416669</th>\n",
       "      <td>332.810042</td>\n",
       "    </tr>\n",
       "    <tr>\n",
       "      <th>416670</th>\n",
       "      <td>309.940239</td>\n",
       "    </tr>\n",
       "    <tr>\n",
       "      <th>416671</th>\n",
       "      <td>320.231659</td>\n",
       "    </tr>\n",
       "  </tbody>\n",
       "</table>\n",
       "<p>416672 rows × 1 columns</p>\n",
       "</div>"
      ],
      "text/plain": [
       "        neighb_maxdiff_meancolor_3\n",
       "0                        19.854632\n",
       "1                        16.455969\n",
       "2                        31.416012\n",
       "3                        34.987111\n",
       "4                       120.946772\n",
       "...                            ...\n",
       "416667                  221.480656\n",
       "416668                  247.725578\n",
       "416669                  332.810042\n",
       "416670                  309.940239\n",
       "416671                  320.231659\n",
       "\n",
       "[416672 rows x 1 columns]"
      ]
     },
     "execution_count": 24,
     "metadata": {},
     "output_type": "execute_result"
    }
   ],
   "source": [
    "result"
   ]
  },
  {
   "cell_type": "code",
   "execution_count": 25,
   "id": "cacef458",
   "metadata": {
    "execution": {
     "iopub.execute_input": "2024-02-13T13:11:57.197721Z",
     "iopub.status.busy": "2024-02-13T13:11:57.197292Z",
     "iopub.status.idle": "2024-02-13T13:11:58.082855Z",
     "shell.execute_reply": "2024-02-13T13:11:58.081727Z"
    },
    "papermill": {
     "duration": 0.900009,
     "end_time": "2024-02-13T13:11:58.085640",
     "exception": false,
     "start_time": "2024-02-13T13:11:57.185631",
     "status": "completed"
    },
    "tags": []
   },
   "outputs": [],
   "source": [
    "result.to_csv(f\"data/neighb_maxdiff_{method}color_{iDate}.csv\", index=False)"
   ]
  }
 ],
 "metadata": {
  "kaggle": {
   "accelerator": "none",
   "dataSources": [
    {
     "databundleVersionId": 7549115,
     "sourceId": 67957,
     "sourceType": "competition"
    },
    {
     "databundleVersionId": 7710159,
     "datasetId": 4433393,
     "sourceId": 7614588,
     "sourceType": "datasetVersion"
    }
   ],
   "dockerImageVersionId": 30646,
   "isGpuEnabled": false,
   "isInternetEnabled": true,
   "language": "python",
   "sourceType": "notebook"
  },
  "kernelspec": {
   "display_name": "Python 3",
   "language": "python",
   "name": "python3"
  },
  "language_info": {
   "codemirror_mode": {
    "name": "ipython",
    "version": 3
   },
   "file_extension": ".py",
   "mimetype": "text/x-python",
   "name": "python",
   "nbconvert_exporter": "python",
   "pygments_lexer": "ipython3",
   "version": "3.10.11"
  },
  "papermill": {
   "default_parameters": {},
   "duration": 4372.676308,
   "end_time": "2024-02-13T13:12:00.696530",
   "environment_variables": {},
   "exception": null,
   "input_path": "__notebook__.ipynb",
   "output_path": "__notebook__.ipynb",
   "parameters": {},
   "start_time": "2024-02-13T11:59:08.020222",
   "version": "2.5.0"
  }
 },
 "nbformat": 4,
 "nbformat_minor": 5
}
