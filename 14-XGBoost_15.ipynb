{
 "cells": [
  {
   "cell_type": "markdown",
   "id": "3ea35726",
   "metadata": {},
   "source": [
    "<h1><b>[XIV - XGBOOST_15]</b></h1>\n",
    "\n",
    "XGBoost, with :\n",
    "\n",
    "- learning_rate=0.08,  \n",
    "- colsample_bytree = 0.7,\n",
    "- subsample = 1.0,\n",
    "- n_estimators=350, \n",
    "- max_depth=15, \n",
    "- gamma=7,\n",
    "- n_jobs=-1,\n",
    "\n",
    "The result will be save in `data/XGBOOST_15.csv` and the probabilities in `data/PROBS_XGBOOST_15.npy`\n",
    "\n",
    "Note that the original `data/PROBS_XGBOOST_15.npy` is already available.\n",
    "\n",
    "___________________________"
   ]
  },
  {
   "cell_type": "code",
   "execution_count": 18,
   "id": "3f7fab66",
   "metadata": {
    "_cell_guid": "b1076dfc-b9ad-4769-8c92-a6c4dae69d19",
    "_uuid": "8f2839f25d086af736a60e9eeb907d3b93b6e0e5",
    "execution": {
     "iopub.execute_input": "2024-02-16T19:32:34.109474Z",
     "iopub.status.busy": "2024-02-16T19:32:34.109117Z",
     "iopub.status.idle": "2024-02-16T19:32:37.749037Z",
     "shell.execute_reply": "2024-02-16T19:32:37.748212Z"
    },
    "papermill": {
     "duration": 3.653806,
     "end_time": "2024-02-16T19:32:37.751221",
     "exception": false,
     "start_time": "2024-02-16T19:32:34.097415",
     "status": "completed"
    },
    "tags": []
   },
   "outputs": [],
   "source": [
    "import geopandas as gpd\n",
    "import pandas as pd\n",
    "import numpy as np\n",
    "\n",
    "import matplotlib.pyplot as plt\n",
    "import seaborn as sns\n",
    "\n",
    "import warnings\n",
    "warnings.filterwarnings('ignore')\n",
    "\n",
    "pd.set_option('display.max_columns', None)  \n",
    "from sklearn.metrics import f1_score, confusion_matrix\n",
    "from sklearn.ensemble import RandomForestClassifier\n",
    "\n",
    "from sklearn.model_selection import StratifiedKFold\n",
    "import xgboost as xgb\n",
    "from sklearn.utils.class_weight import compute_sample_weight\n",
    "from sklearn.model_selection import train_test_split"
   ]
  },
  {
   "cell_type": "code",
   "execution_count": 19,
   "id": "9a529d4b",
   "metadata": {
    "execution": {
     "iopub.execute_input": "2024-02-16T19:32:38.784524Z",
     "iopub.status.busy": "2024-02-16T19:32:38.783622Z",
     "iopub.status.idle": "2024-02-16T19:33:20.936537Z",
     "shell.execute_reply": "2024-02-16T19:33:20.935225Z"
    },
    "papermill": {
     "duration": 42.168015,
     "end_time": "2024-02-16T19:33:20.939819",
     "exception": false,
     "start_time": "2024-02-16T19:32:38.771804",
     "status": "completed"
    },
    "tags": []
   },
   "outputs": [],
   "source": [
    "train_df = pd.read_csv(\"data/train_df_FINAL.csv\")\n",
    "test_df = pd.read_csv(\"data/test_df_FINAL.csv\")"
   ]
  },
  {
   "cell_type": "code",
   "execution_count": 20,
   "id": "0ecec94e",
   "metadata": {
    "execution": {
     "iopub.execute_input": "2024-02-16T19:33:20.963765Z",
     "iopub.status.busy": "2024-02-16T19:33:20.962897Z",
     "iopub.status.idle": "2024-02-16T19:33:21.300912Z",
     "shell.execute_reply": "2024-02-16T19:33:21.299862Z"
    },
    "papermill": {
     "duration": 0.352421,
     "end_time": "2024-02-16T19:33:21.303419",
     "exception": false,
     "start_time": "2024-02-16T19:33:20.950998",
     "status": "completed"
    },
    "tags": []
   },
   "outputs": [],
   "source": [
    "train_df = train_df[(train_df.index < 195453) | (train_df.index > 197302)]"
   ]
  },
  {
   "cell_type": "code",
   "execution_count": 21,
   "id": "7c099571",
   "metadata": {
    "execution": {
     "iopub.execute_input": "2024-02-16T19:33:21.327075Z",
     "iopub.status.busy": "2024-02-16T19:33:21.326770Z",
     "iopub.status.idle": "2024-02-16T19:33:34.434299Z",
     "shell.execute_reply": "2024-02-16T19:33:34.433426Z"
    },
    "papermill": {
     "duration": 13.122423,
     "end_time": "2024-02-16T19:33:34.436640",
     "exception": false,
     "start_time": "2024-02-16T19:33:21.314217",
     "status": "completed"
    },
    "tags": []
   },
   "outputs": [],
   "source": [
    "change_types = train_df[\"change_type\"].unique()\n",
    "for change_type in change_types:\n",
    "    for column in train_df.columns:\n",
    "        if column == \"geometry\":\n",
    "            continue\n",
    "        train_df.loc[(train_df[\"change_type\"]==change_type) & (train_df[column].isnull()), column] = train_df.loc[(train_df[\"change_type\"]==change_type), column].mode()[0]"
   ]
  },
  {
   "cell_type": "code",
   "execution_count": 22,
   "id": "9ff65bcc",
   "metadata": {
    "execution": {
     "iopub.execute_input": "2024-02-16T19:33:34.489842Z",
     "iopub.status.busy": "2024-02-16T19:33:34.489572Z",
     "iopub.status.idle": "2024-02-16T19:33:34.508182Z",
     "shell.execute_reply": "2024-02-16T19:33:34.507257Z"
    },
    "papermill": {
     "duration": 0.032027,
     "end_time": "2024-02-16T19:33:34.510240",
     "exception": false,
     "start_time": "2024-02-16T19:33:34.478213",
     "status": "completed"
    },
    "tags": []
   },
   "outputs": [],
   "source": [
    "feature_names=[ 'urban_type_SparseUrban', 'urban_type_N,A', 'urban_type_Rural', 'urban_type_Industrial', 'urban_type_DenseUrban', 'urban_type_UrbanSlum',\n",
    "                'urban_type_Dense Urban,Urban Slum', 'urban_type_Dense Urban,Industrial', 'urban_type_Sparse Urban,Industrial', 'urban_type_Sparse Urban,Urban Slum', \n",
    "                'geography_type_Farms', 'geography_type_GrassLand', 'geography_type_N,A', 'geography_type_Snow', 'geography_type_SparseForest', 'geography_type_River', 'geography_type_Coastal', 'geography_type_Lakes', 'geography_type_DenseForest', 'geography_type_Desert', 'geography_type_Hills', 'geography_type_BarrenLand', \n",
    "                'geography_type_Sparse Forest,Grass Land', 'geography_type_Sparse Forest,Farms', 'geography_type_Sparse Forest,Dense Forest,Grass Land', 'geography_type_Barren Land,Sparse Forest', 'geography_type_Sparse Forest,Dense Forest', 'geography_type_Sparse Forest,Grass Land,Lakes', 'geography_type_Sparse Forest,Farms,Lakes', 'geography_type_River,Sparse Forest,Grass Land', 'geography_type_River,Sparse Forest', 'geography_type_Sparse Forest,Dense Forest,Grass Land,Lakes', 'geography_type_Barren Land,Sparse Forest,Grass Land', 'geography_type_Dense Forest,Grass Land', 'geography_type_River,Sparse Forest,Farms', \n",
    "                'geourban_geography_type_Farms_urban_type_SparseUrban', 'geourban_geography_type_Farms_urban_type_Rural', 'geourban_geography_type_Farms_urban_type_Industrial', 'geourban_geography_type_Farms_urban_type_DenseUrban', 'geourban_geography_type_GrassLand_urban_type_SparseUrban', 'geourban_geography_type_GrassLand_urban_type_Rural', 'geourban_geography_type_GrassLand_urban_type_Industrial', 'geourban_geography_type_GrassLand_urban_type_DenseUrban', 'geourban_geography_type_SparseForest_urban_type_SparseUrban', 'geourban_geography_type_SparseForest_urban_type_Rural', 'geourban_geography_type_SparseForest_urban_type_Industrial', 'geourban_geography_type_SparseForest_urban_type_DenseUrban', 'geourban_geography_type_SparseForest_urban_type_UrbanSlum', 'geourban_geography_type_River_urban_type_SparseUrban', 'geourban_geography_type_River_urban_type_Rural', 'geourban_geography_type_River_urban_type_Industrial', 'geourban_geography_type_River_urban_type_DenseUrban', 'geourban_geography_type_Coastal_urban_type_SparseUrban', 'geourban_geography_type_Lakes_urban_type_SparseUrban', 'geourban_geography_type_Lakes_urban_type_Rural', 'geourban_geography_type_Lakes_urban_type_Industrial', 'geourban_geography_type_Lakes_urban_type_DenseUrban', 'geourban_geography_type_DenseForest_urban_type_SparseUrban', 'geourban_geography_type_DenseForest_urban_type_Rural', 'geourban_geography_type_DenseForest_urban_type_Industrial', 'geourban_geography_type_DenseForest_urban_type_DenseUrban', 'geourban_geography_type_DenseForest_urban_type_UrbanSlum', 'geourban_geography_type_Desert_urban_type_Industrial', 'geourban_geography_type_BarrenLand_urban_type_SparseUrban', 'geourban_geography_type_BarrenLand_urban_type_Rural', 'geourban_geography_type_BarrenLand_urban_type_Industrial', 'geourban_geography_type_BarrenLand_urban_type_DenseUrban', \n",
    "               \n",
    "                'img_red_mean_date0', 'img_red_mean_date1', 'img_red_mean_date2', 'img_red_mean_date3', 'img_red_mean_date4', \n",
    "                'img_green_mean_date0', 'img_green_mean_date1', 'img_green_mean_date2', 'img_green_mean_date3', 'img_green_mean_date4',\n",
    "                'img_blue_mean_date0', 'img_blue_mean_date1', 'img_blue_mean_date2', 'img_blue_mean_date3', 'img_blue_mean_date4', \n",
    "               \n",
    "                'img_red_std_date0', 'img_red_std_date1', 'img_red_std_date2', 'img_red_std_date3', 'img_red_std_date4', \n",
    "                'img_green_std_date0', 'img_green_std_date1', 'img_green_std_date2', 'img_green_std_date3', 'img_green_std_date4', \n",
    "                'img_blue_std_date0', 'img_blue_std_date1', 'img_blue_std_date2', 'img_blue_std_date3', 'img_blue_std_date4', \n",
    "               \n",
    "                'img_mean_date0', 'img_std_date0', 'img_mean_date1', 'img_std_date1', 'img_mean_date2', 'img_std_date2', 'img_mean_date3', 'img_std_date3', 'img_mean_date4', 'img_std_date4', \n",
    "                'img_mean_date_4-0', 'img_mean_date_1-0', 'img_mean_date_2-1', 'img_mean_date_3-2', 'img_mean_date_4-3', 'img_std_date_4-0', 'img_std_date_1-0', 'img_std_date_2-1', 'img_std_date_3-2', 'img_std_date_4-3', \n",
    "                'img_red_mean_date_4-0', 'img_red_mean_date_1-0', 'img_red_mean_date_2-1', 'img_red_mean_date_3-2', 'img_red_mean_date_4-3', 'img_green_mean_date_4-0', 'img_green_mean_date_1-0', 'img_green_mean_date_2-1', 'img_green_mean_date_3-2', 'img_green_mean_date_4-3', 'img_blue_mean_date_4-0', 'img_blue_mean_date_1-0', 'img_blue_mean_date_2-1', 'img_blue_mean_date_3-2', 'img_blue_mean_date_4-3', 'img_red_std_date_4-0', 'img_red_std_date_1-0', 'img_red_std_date_2-1', 'img_red_std_date_3-2', 'img_red_std_date_4-3', 'img_green_std_date_4-0', 'img_green_std_date_1-0', 'img_green_std_date_2-1', 'img_green_std_date_3-2', 'img_green_std_date_4-3', 'img_blue_std_date_4-0', 'img_blue_std_date_1-0', 'img_blue_std_date_2-1', 'img_blue_std_date_3-2', 'img_blue_std_date_4-3', \n",
    "               \n",
    "                'change_status_date0_Construction Done', 'change_status_date0_Construction Midway', 'change_status_date0_Construction Started', 'change_status_date0_Excavation', 'change_status_date0_Greenland', 'change_status_date0_Land Cleared', 'change_status_date0_Materials Dumped', 'change_status_date0_Materials Introduced', 'change_status_date0_Operational', 'change_status_date0_Prior Construction', \n",
    "                'change_status_date1_Construction Done', 'change_status_date1_Construction Midway', 'change_status_date1_Construction Started', 'change_status_date1_Excavation', 'change_status_date1_Greenland', 'change_status_date1_Land Cleared', 'change_status_date1_Materials Dumped', 'change_status_date1_Materials Introduced', 'change_status_date1_Operational', 'change_status_date1_Prior Construction', \n",
    "                'change_status_date2_Construction Done', 'change_status_date2_Construction Midway', 'change_status_date2_Construction Started', 'change_status_date2_Excavation', 'change_status_date2_Greenland', 'change_status_date2_Land Cleared', 'change_status_date2_Materials Dumped', 'change_status_date2_Materials Introduced', 'change_status_date2_Operational', 'change_status_date2_Prior Construction', \n",
    "                'change_status_date3_Construction Done', 'change_status_date3_Construction Midway', 'change_status_date3_Construction Started', 'change_status_date3_Excavation', 'change_status_date3_Greenland', 'change_status_date3_Land Cleared', 'change_status_date3_Materials Dumped', 'change_status_date3_Materials Introduced', 'change_status_date3_Operational', 'change_status_date3_Prior Construction', \n",
    "                'change_status_date4_Construction Done', 'change_status_date4_Construction Midway', 'change_status_date4_Construction Started', 'change_status_date4_Excavation', 'change_status_date4_Greenland', 'change_status_date4_Land Cleared', 'change_status_date4_Materials Dumped', 'change_status_date4_Materials Introduced', 'change_status_date4_Operational', 'change_status_date4_Prior Construction', \n",
    "               \n",
    "                'change_status_Greenland', 'change_status_Land Cleared', 'change_status_Excavation', 'change_status_Construction Started', 'change_status_Construction Midway', 'change_status_Materials Dumped', 'change_status_Materials Introduced', 'change_status_Operational', 'change_status_Construction Done', 'change_status_Prior Construction', \n",
    "                'change_status_date0_encoded', 'change_status_date1_encoded', 'change_status_date2_encoded', 'change_status_date3_encoded', 'change_status_date4_encoded', \n",
    "                'change_status_date_4-0', 'change_status_date_1-0', 'change_status_date_2-1', 'change_status_date_3-2', 'change_status_date_4-3', \n",
    "               \n",
    "               \n",
    "                'date_1-0', 'date_2-1', 'date_3-2', 'date_4-3', 'date_4-0', \n",
    "                'date_0-0min', \n",
    "               \n",
    "                'img_mean_date_4-0/Date', 'img_mean_date_1-0/Date', 'img_mean_date_2-1/Date', 'img_mean_date_3-2/Date', 'img_mean_date_4-3/Date', 'img_std_date_4-0/Date', 'img_std_date_1-0/Date', 'img_std_date_2-1/Date', 'img_std_date_3-2/Date', 'img_std_date_4-3/Date', 'img_red_mean_date_4-0/Date', 'img_red_mean_date_1-0/Date', 'img_red_mean_date_2-1/Date', 'img_red_mean_date_3-2/Date', 'img_red_mean_date_4-3/Date', 'img_green_mean_date_4-0/Date', 'img_green_mean_date_1-0/Date', 'img_green_mean_date_2-1/Date', 'img_green_mean_date_3-2/Date', 'img_green_mean_date_4-3/Date', 'img_blue_mean_date_4-0/Date', 'img_blue_mean_date_1-0/Date', 'img_blue_mean_date_2-1/Date', 'img_blue_mean_date_3-2/Date', 'img_blue_mean_date_4-3/Date', 'img_red_std_date_4-0/Date', 'img_red_std_date_1-0/Date', 'img_red_std_date_2-1/Date', 'img_red_std_date_3-2/Date', 'img_red_std_date_4-3/Date', 'img_green_std_date_4-0/Date', 'img_green_std_date_1-0/Date', 'img_green_std_date_2-1/Date', 'img_green_std_date_3-2/Date', 'img_green_std_date_4-3/Date', 'img_blue_std_date_4-0/Date', 'img_blue_std_date_1-0/Date', 'img_blue_std_date_2-1/Date', 'img_blue_std_date_3-2/Date', 'img_blue_std_date_4-3/Date', 'change_status_date_4-0/Date', 'change_status_date_1-0/Date', 'change_status_date_2-1/Date', 'change_status_date_3-2/Date', 'change_status_date_4-3/Date', \n",
    "               \n",
    "                'geometry_area', \n",
    "                'geometry_perimeter', \n",
    "                'geometry_inscribed_circle_radius', 'geometry_compactness', 'geometry_convexity', \n",
    "                'geometry_vertices',\n",
    "                'geometry_bboxwidth', \n",
    "                'geometry_bboxheight', \n",
    "                'geometry_bboxratio', \n",
    "                'geometry_bboxarea', 'geometry_bboxperimeter', 'geometry_aspectratio', 'geometry_diameter', 'geometry_minumum_bounding_circle', 'geometry_minimum_rotated_rectangle', \n",
    "              \n",
    "                'neighb_density', \n",
    "                'neighb_nb', \n",
    "                'neighb_similar',\n",
    "                'neighb_maxdiff_change_status_date0_0.001', 'neighb_maxdiff_change_status_date1_0.001', 'neighb_maxdiff_change_status_date2_0.001', 'neighb_maxdiff_change_status_date3_0.001', 'neighb_maxdiff_change_status_date4_0.001',\n",
    "                'neighb_maxdiff_change_status_date0_0.003', 'neighb_maxdiff_change_status_date1_0.003', 'neighb_maxdiff_change_status_date2_0.003', 'neighb_maxdiff_change_status_date3_0.003', 'neighb_maxdiff_change_status_date4_0.003', \n",
    "                'neighb_maxdiff_meancolor_0', 'neighb_maxdiff_meancolor_1', 'neighb_maxdiff_meancolor_2', 'neighb_maxdiff_meancolor_3', 'neighb_maxdiff_meancolor_4',\n",
    "                'neighb_maxdiff_stdcolor_0', 'neighb_maxdiff_stdcolor_1', 'neighb_maxdiff_stdcolor_2', 'neighb_maxdiff_stdcolor_3', 'neighb_maxdiff_stdcolor_4'\n",
    "]"
   ]
  },
  {
   "cell_type": "code",
   "execution_count": 23,
   "id": "9dd449ea",
   "metadata": {
    "execution": {
     "iopub.execute_input": "2024-02-16T19:33:34.532030Z",
     "iopub.status.busy": "2024-02-16T19:33:34.531767Z",
     "iopub.status.idle": "2024-02-16T19:33:35.059629Z",
     "shell.execute_reply": "2024-02-16T19:33:35.058751Z"
    },
    "papermill": {
     "duration": 0.541627,
     "end_time": "2024-02-16T19:33:35.062284",
     "exception": false,
     "start_time": "2024-02-16T19:33:34.520657",
     "status": "completed"
    },
    "tags": []
   },
   "outputs": [],
   "source": [
    "X = train_df[feature_names].to_numpy()\n",
    "Y = train_df['change_type'].to_numpy()\n",
    "X_test = test_df[feature_names].to_numpy()"
   ]
  },
  {
   "cell_type": "code",
   "execution_count": 28,
   "id": "e4b402b5",
   "metadata": {},
   "outputs": [],
   "source": [
    "X_train=X\n",
    "Y_train=Y"
   ]
  },
  {
   "cell_type": "code",
   "execution_count": 24,
   "id": "09c3d1b4",
   "metadata": {
    "execution": {
     "iopub.execute_input": "2024-02-16T19:33:35.086248Z",
     "iopub.status.busy": "2024-02-16T19:33:35.085925Z",
     "iopub.status.idle": "2024-02-16T19:33:35.090714Z",
     "shell.execute_reply": "2024-02-16T19:33:35.089743Z"
    },
    "papermill": {
     "duration": 0.019016,
     "end_time": "2024-02-16T19:33:35.093284",
     "exception": false,
     "start_time": "2024-02-16T19:33:35.074268",
     "status": "completed"
    },
    "tags": []
   },
   "outputs": [
    {
     "name": "stdout",
     "output_type": "stream",
     "text": [
      "(294296, 306) (294296,) (120526, 306)\n"
     ]
    }
   ],
   "source": [
    "print(X.shape, Y.shape, X_test.shape)"
   ]
  },
  {
   "cell_type": "markdown",
   "id": "e0a04559",
   "metadata": {},
   "source": [
    "# Training"
   ]
  },
  {
   "cell_type": "code",
   "execution_count": 25,
   "id": "de2e8aef",
   "metadata": {
    "execution": {
     "iopub.execute_input": "2024-02-16T19:33:52.631606Z",
     "iopub.status.busy": "2024-02-16T19:33:52.631360Z",
     "iopub.status.idle": "2024-02-16T19:33:52.636974Z",
     "shell.execute_reply": "2024-02-16T19:33:52.636106Z"
    },
    "papermill": {
     "duration": 0.019096,
     "end_time": "2024-02-16T19:33:52.638844",
     "exception": false,
     "start_time": "2024-02-16T19:33:52.619748",
     "status": "completed"
    },
    "tags": []
   },
   "outputs": [],
   "source": [
    "def printScores(y_true, y_predict):\n",
    "    f1_score_micro = f1_score(y_true, y_predict, average='micro')\n",
    "    f1_score_macro = f1_score(y_true, y_predict, average='macro')\n",
    "    f1_score_weighted = f1_score(y_true, y_predict, average='weighted')\n",
    "    train_conf_matrix = confusion_matrix(y_true, y_predict)\n",
    "    print(\"F1 score micro\", f1_score_micro)\n",
    "    print(\"F1 score macro\", f1_score_macro)\n",
    "    print(\"F1 score weighted\", f1_score_weighted)\n",
    "    print(train_conf_matrix)"
   ]
  },
  {
   "cell_type": "code",
   "execution_count": 29,
   "id": "3c87fa9e",
   "metadata": {
    "execution": {
     "iopub.execute_input": "2024-02-16T19:33:52.690677Z",
     "iopub.status.busy": "2024-02-16T19:33:52.689914Z",
     "iopub.status.idle": "2024-02-16T19:33:52.695661Z",
     "shell.execute_reply": "2024-02-16T19:33:52.694803Z"
    },
    "papermill": {
     "duration": 0.01958,
     "end_time": "2024-02-16T19:33:52.697516",
     "exception": false,
     "start_time": "2024-02-16T19:33:52.677936",
     "status": "completed"
    },
    "tags": []
   },
   "outputs": [
    {
     "data": {
      "text/html": [
       "<style>#sk-container-id-1 {color: black;background-color: white;}#sk-container-id-1 pre{padding: 0;}#sk-container-id-1 div.sk-toggleable {background-color: white;}#sk-container-id-1 label.sk-toggleable__label {cursor: pointer;display: block;width: 100%;margin-bottom: 0;padding: 0.3em;box-sizing: border-box;text-align: center;}#sk-container-id-1 label.sk-toggleable__label-arrow:before {content: \"▸\";float: left;margin-right: 0.25em;color: #696969;}#sk-container-id-1 label.sk-toggleable__label-arrow:hover:before {color: black;}#sk-container-id-1 div.sk-estimator:hover label.sk-toggleable__label-arrow:before {color: black;}#sk-container-id-1 div.sk-toggleable__content {max-height: 0;max-width: 0;overflow: hidden;text-align: left;background-color: #f0f8ff;}#sk-container-id-1 div.sk-toggleable__content pre {margin: 0.2em;color: black;border-radius: 0.25em;background-color: #f0f8ff;}#sk-container-id-1 input.sk-toggleable__control:checked~div.sk-toggleable__content {max-height: 200px;max-width: 100%;overflow: auto;}#sk-container-id-1 input.sk-toggleable__control:checked~label.sk-toggleable__label-arrow:before {content: \"▾\";}#sk-container-id-1 div.sk-estimator input.sk-toggleable__control:checked~label.sk-toggleable__label {background-color: #d4ebff;}#sk-container-id-1 div.sk-label input.sk-toggleable__control:checked~label.sk-toggleable__label {background-color: #d4ebff;}#sk-container-id-1 input.sk-hidden--visually {border: 0;clip: rect(1px 1px 1px 1px);clip: rect(1px, 1px, 1px, 1px);height: 1px;margin: -1px;overflow: hidden;padding: 0;position: absolute;width: 1px;}#sk-container-id-1 div.sk-estimator {font-family: monospace;background-color: #f0f8ff;border: 1px dotted black;border-radius: 0.25em;box-sizing: border-box;margin-bottom: 0.5em;}#sk-container-id-1 div.sk-estimator:hover {background-color: #d4ebff;}#sk-container-id-1 div.sk-parallel-item::after {content: \"\";width: 100%;border-bottom: 1px solid gray;flex-grow: 1;}#sk-container-id-1 div.sk-label:hover label.sk-toggleable__label {background-color: #d4ebff;}#sk-container-id-1 div.sk-serial::before {content: \"\";position: absolute;border-left: 1px solid gray;box-sizing: border-box;top: 0;bottom: 0;left: 50%;z-index: 0;}#sk-container-id-1 div.sk-serial {display: flex;flex-direction: column;align-items: center;background-color: white;padding-right: 0.2em;padding-left: 0.2em;position: relative;}#sk-container-id-1 div.sk-item {position: relative;z-index: 1;}#sk-container-id-1 div.sk-parallel {display: flex;align-items: stretch;justify-content: center;background-color: white;position: relative;}#sk-container-id-1 div.sk-item::before, #sk-container-id-1 div.sk-parallel-item::before {content: \"\";position: absolute;border-left: 1px solid gray;box-sizing: border-box;top: 0;bottom: 0;left: 50%;z-index: -1;}#sk-container-id-1 div.sk-parallel-item {display: flex;flex-direction: column;z-index: 1;position: relative;background-color: white;}#sk-container-id-1 div.sk-parallel-item:first-child::after {align-self: flex-end;width: 50%;}#sk-container-id-1 div.sk-parallel-item:last-child::after {align-self: flex-start;width: 50%;}#sk-container-id-1 div.sk-parallel-item:only-child::after {width: 0;}#sk-container-id-1 div.sk-dashed-wrapped {border: 1px dashed gray;margin: 0 0.4em 0.5em 0.4em;box-sizing: border-box;padding-bottom: 0.4em;background-color: white;}#sk-container-id-1 div.sk-label label {font-family: monospace;font-weight: bold;display: inline-block;line-height: 1.2em;}#sk-container-id-1 div.sk-label-container {text-align: center;}#sk-container-id-1 div.sk-container {/* jupyter's `normalize.less` sets `[hidden] { display: none; }` but bootstrap.min.css set `[hidden] { display: none !important; }` so we also need the `!important` here to be able to override the default hidden behavior on the sphinx rendered scikit-learn.org. See: https://github.com/scikit-learn/scikit-learn/issues/21755 */display: inline-block !important;position: relative;}#sk-container-id-1 div.sk-text-repr-fallback {display: none;}</style><div id=\"sk-container-id-1\" class=\"sk-top-container\"><div class=\"sk-text-repr-fallback\"><pre>XGBClassifier(base_score=None, booster=None, callbacks=None,\n",
       "              colsample_bylevel=None, colsample_bynode=None,\n",
       "              colsample_bytree=0.7, device=None, early_stopping_rounds=None,\n",
       "              enable_categorical=False, eval_metric=None, feature_types=None,\n",
       "              gamma=7, grow_policy=None, importance_type=None,\n",
       "              interaction_constraints=None, learning_rate=0.08, max_bin=None,\n",
       "              max_cat_threshold=None, max_cat_to_onehot=None,\n",
       "              max_delta_step=None, max_depth=15, max_leaves=None,\n",
       "              min_child_weight=None, missing=nan, monotone_constraints=None,\n",
       "              multi_strategy=None, n_estimators=350, n_jobs=-1, num_class=6,\n",
       "              num_parallel_tree=None, ...)</pre><b>In a Jupyter environment, please rerun this cell to show the HTML representation or trust the notebook. <br />On GitHub, the HTML representation is unable to render, please try loading this page with nbviewer.org.</b></div><div class=\"sk-container\" hidden><div class=\"sk-item\"><div class=\"sk-estimator sk-toggleable\"><input class=\"sk-toggleable__control sk-hidden--visually\" id=\"sk-estimator-id-1\" type=\"checkbox\" checked><label for=\"sk-estimator-id-1\" class=\"sk-toggleable__label sk-toggleable__label-arrow\">XGBClassifier</label><div class=\"sk-toggleable__content\"><pre>XGBClassifier(base_score=None, booster=None, callbacks=None,\n",
       "              colsample_bylevel=None, colsample_bynode=None,\n",
       "              colsample_bytree=0.7, device=None, early_stopping_rounds=None,\n",
       "              enable_categorical=False, eval_metric=None, feature_types=None,\n",
       "              gamma=7, grow_policy=None, importance_type=None,\n",
       "              interaction_constraints=None, learning_rate=0.08, max_bin=None,\n",
       "              max_cat_threshold=None, max_cat_to_onehot=None,\n",
       "              max_delta_step=None, max_depth=15, max_leaves=None,\n",
       "              min_child_weight=None, missing=nan, monotone_constraints=None,\n",
       "              multi_strategy=None, n_estimators=350, n_jobs=-1, num_class=6,\n",
       "              num_parallel_tree=None, ...)</pre></div></div></div></div></div>"
      ],
      "text/plain": [
       "XGBClassifier(base_score=None, booster=None, callbacks=None,\n",
       "              colsample_bylevel=None, colsample_bynode=None,\n",
       "              colsample_bytree=0.7, device=None, early_stopping_rounds=None,\n",
       "              enable_categorical=False, eval_metric=None, feature_types=None,\n",
       "              gamma=7, grow_policy=None, importance_type=None,\n",
       "              interaction_constraints=None, learning_rate=0.08, max_bin=None,\n",
       "              max_cat_threshold=None, max_cat_to_onehot=None,\n",
       "              max_delta_step=None, max_depth=15, max_leaves=None,\n",
       "              min_child_weight=None, missing=nan, monotone_constraints=None,\n",
       "              multi_strategy=None, n_estimators=350, n_jobs=-1, num_class=6,\n",
       "              num_parallel_tree=None, ...)"
      ]
     },
     "execution_count": 29,
     "metadata": {},
     "output_type": "execute_result"
    }
   ],
   "source": [
    "model = xgb.XGBClassifier(silent=False, \n",
    "         objective='multi:softmax',    \n",
    "        num_class=6,               \n",
    "        n_estimators=350,          \n",
    "        max_depth=15,        \n",
    "        learning_rate=0.08,\n",
    "        n_jobs=-1,                  \n",
    "        random_state=25,\n",
    "        missing=np.nan,\n",
    "        colsample_bytree=0.7,\n",
    "        gamma=7, )\n",
    "model.fit(X_train,Y_train)                    "
   ]
  },
  {
   "cell_type": "markdown",
   "id": "68e88889",
   "metadata": {},
   "source": [
    "# Saving results"
   ]
  },
  {
   "cell_type": "code",
   "execution_count": 30,
   "id": "996281b6",
   "metadata": {
    "execution": {
     "iopub.execute_input": "2024-02-16T19:42:39.352146Z",
     "iopub.status.busy": "2024-02-16T19:42:39.351905Z",
     "iopub.status.idle": "2024-02-16T19:42:46.821250Z",
     "shell.execute_reply": "2024-02-16T19:42:46.820160Z"
    },
    "papermill": {
     "duration": 7.485419,
     "end_time": "2024-02-16T19:42:46.823606",
     "exception": false,
     "start_time": "2024-02-16T19:42:39.338187",
     "status": "completed"
    },
    "tags": []
   },
   "outputs": [],
   "source": [
    "\n",
    "pred_y = model.predict(X_test)\n",
    "\n",
    "## Save results to submission file\n",
    "pred_df = pd.DataFrame(pred_y, columns=['change_type'])\n",
    "pred_df.to_csv(\"data/XGBOOST_15.csv\", index=True, index_label='Id')\n"
   ]
  },
  {
   "cell_type": "code",
   "execution_count": 31,
   "id": "b4c5957b",
   "metadata": {
    "execution": {
     "iopub.execute_input": "2024-02-16T19:42:46.851353Z",
     "iopub.status.busy": "2024-02-16T19:42:46.851068Z",
     "iopub.status.idle": "2024-02-16T19:42:54.120858Z",
     "shell.execute_reply": "2024-02-16T19:42:54.119996Z"
    },
    "papermill": {
     "duration": 7.286262,
     "end_time": "2024-02-16T19:42:54.123266",
     "exception": false,
     "start_time": "2024-02-16T19:42:46.837004",
     "status": "completed"
    },
    "tags": []
   },
   "outputs": [],
   "source": [
    "\n",
    "pred_probs = model.predict_proba(X_test)\n",
    "np.save(\"data/PROBS_XGBOOST_15\", pred_probs)\n"
   ]
  }
 ],
 "metadata": {
  "kaggle": {
   "accelerator": "gpu",
   "dataSources": [
    {
     "datasetId": 4433393,
     "sourceId": 7627181,
     "sourceType": "datasetVersion"
    }
   ],
   "dockerImageVersionId": 30646,
   "isGpuEnabled": true,
   "isInternetEnabled": true,
   "language": "python",
   "sourceType": "notebook"
  },
  "kernelspec": {
   "display_name": "Python 3",
   "language": "python",
   "name": "python3"
  },
  "language_info": {
   "codemirror_mode": {
    "name": "ipython",
    "version": 3
   },
   "file_extension": ".py",
   "mimetype": "text/x-python",
   "name": "python",
   "nbconvert_exporter": "python",
   "pygments_lexer": "ipython3",
   "version": "3.11.3"
  },
  "papermill": {
   "default_parameters": {},
   "duration": 623.571072,
   "end_time": "2024-02-16T19:42:55.021077",
   "environment_variables": {},
   "exception": null,
   "input_path": "__notebook__.ipynb",
   "output_path": "__notebook__.ipynb",
   "parameters": {},
   "start_time": "2024-02-16T19:32:31.450005",
   "version": "2.5.0"
  }
 },
 "nbformat": 4,
 "nbformat_minor": 5
}
