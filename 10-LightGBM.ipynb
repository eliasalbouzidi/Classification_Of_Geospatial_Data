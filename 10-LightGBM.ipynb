{
 "cells": [
  {
   "cell_type": "markdown",
   "id": "11766ced",
   "metadata": {},
   "source": [
    "<h1><b>[X - LightGBM]</b></h1>\n",
    "\n",
    "The result will be save in `data/LightGBM.csv` and the probabilities in `data/PROBS_LIGHTGBM.npy`\n",
    "\n",
    "Note that the original `data/PROBS_LIGHTGBM.npy` is already available.\n",
    "\n",
    "___________________________"
   ]
  },
  {
   "cell_type": "code",
   "execution_count": 1,
   "id": "c6372c58",
   "metadata": {
    "_cell_guid": "b1076dfc-b9ad-4769-8c92-a6c4dae69d19",
    "_uuid": "8f2839f25d086af736a60e9eeb907d3b93b6e0e5",
    "execution": {
     "iopub.execute_input": "2024-02-16T21:15:25.375736Z",
     "iopub.status.busy": "2024-02-16T21:15:25.375361Z",
     "iopub.status.idle": "2024-02-16T21:15:28.776240Z",
     "shell.execute_reply": "2024-02-16T21:15:28.774918Z"
    },
    "papermill": {
     "duration": 3.410903,
     "end_time": "2024-02-16T21:15:28.778565",
     "exception": false,
     "start_time": "2024-02-16T21:15:25.367662",
     "status": "completed"
    },
    "tags": []
   },
   "outputs": [],
   "source": [
    "import lightgbm as lgb"
   ]
  },
  {
   "cell_type": "code",
   "execution_count": 2,
   "id": "3446a29c",
   "metadata": {
    "execution": {
     "iopub.execute_input": "2024-02-16T21:15:28.791086Z",
     "iopub.status.busy": "2024-02-16T21:15:28.790759Z",
     "iopub.status.idle": "2024-02-16T21:15:28.797760Z",
     "shell.execute_reply": "2024-02-16T21:15:28.796628Z"
    },
    "papermill": {
     "duration": 0.015135,
     "end_time": "2024-02-16T21:15:28.799449",
     "exception": false,
     "start_time": "2024-02-16T21:15:28.784314",
     "status": "completed"
    },
    "tags": []
   },
   "outputs": [
    {
     "data": {
      "text/plain": [
       "'4.2.0'"
      ]
     },
     "execution_count": 2,
     "metadata": {},
     "output_type": "execute_result"
    }
   ],
   "source": [
    "lgb.__version__"
   ]
  },
  {
   "cell_type": "code",
   "execution_count": 3,
   "id": "1d261776",
   "metadata": {
    "execution": {
     "iopub.execute_input": "2024-02-16T21:15:28.811689Z",
     "iopub.status.busy": "2024-02-16T21:15:28.811349Z",
     "iopub.status.idle": "2024-02-16T21:15:29.924274Z",
     "shell.execute_reply": "2024-02-16T21:15:29.923329Z"
    },
    "papermill": {
     "duration": 1.121518,
     "end_time": "2024-02-16T21:15:29.926441",
     "exception": false,
     "start_time": "2024-02-16T21:15:28.804923",
     "status": "completed"
    },
    "tags": []
   },
   "outputs": [],
   "source": [
    "import geopandas as gpd\n",
    "import pandas as pd\n",
    "import numpy as np\n",
    "\n",
    "import matplotlib.pyplot as plt\n",
    "import seaborn as sns\n",
    "\n",
    "import warnings\n",
    "warnings.filterwarnings('ignore')\n",
    "\n",
    "pd.set_option('display.max_columns', None)  \n",
    "from sklearn.metrics import f1_score, confusion_matrix\n",
    "from sklearn.ensemble import RandomForestClassifier\n",
    "\n",
    "from sklearn.model_selection import StratifiedKFold\n",
    "import xgboost as xgb\n",
    "from sklearn.utils.class_weight import compute_sample_weight\n",
    "from sklearn.model_selection import train_test_split"
   ]
  },
  {
   "cell_type": "code",
   "execution_count": 5,
   "id": "7e0a2f2e",
   "metadata": {
    "execution": {
     "iopub.execute_input": "2024-02-16T21:15:30.267620Z",
     "iopub.status.busy": "2024-02-16T21:15:30.266993Z",
     "iopub.status.idle": "2024-02-16T21:16:01.839233Z",
     "shell.execute_reply": "2024-02-16T21:16:01.838029Z"
    },
    "papermill": {
     "duration": 31.581553,
     "end_time": "2024-02-16T21:16:01.841745",
     "exception": false,
     "start_time": "2024-02-16T21:15:30.260192",
     "status": "completed"
    },
    "tags": []
   },
   "outputs": [],
   "source": [
    "train_df = pd.read_csv(\"data/train_df_FINAL.csv\")\n",
    "test_df = pd.read_csv(\"data/test_df_FINAL.csv\")"
   ]
  },
  {
   "cell_type": "code",
   "execution_count": 6,
   "id": "9936fb7d",
   "metadata": {
    "execution": {
     "iopub.execute_input": "2024-02-16T21:16:01.855335Z",
     "iopub.status.busy": "2024-02-16T21:16:01.855011Z",
     "iopub.status.idle": "2024-02-16T21:16:02.084038Z",
     "shell.execute_reply": "2024-02-16T21:16:02.082755Z"
    },
    "papermill": {
     "duration": 0.238629,
     "end_time": "2024-02-16T21:16:02.086198",
     "exception": false,
     "start_time": "2024-02-16T21:16:01.847569",
     "status": "completed"
    },
    "tags": []
   },
   "outputs": [],
   "source": [
    "train_df = train_df[(train_df.index < 195453) | (train_df.index > 197302)]"
   ]
  },
  {
   "cell_type": "code",
   "execution_count": 7,
   "id": "2ad2f203",
   "metadata": {
    "execution": {
     "iopub.execute_input": "2024-02-16T21:16:02.099211Z",
     "iopub.status.busy": "2024-02-16T21:16:02.098850Z",
     "iopub.status.idle": "2024-02-16T21:16:12.596332Z",
     "shell.execute_reply": "2024-02-16T21:16:12.595453Z"
    },
    "papermill": {
     "duration": 10.507524,
     "end_time": "2024-02-16T21:16:12.599437",
     "exception": false,
     "start_time": "2024-02-16T21:16:02.091913",
     "status": "completed"
    },
    "tags": []
   },
   "outputs": [],
   "source": [
    "change_types = train_df[\"change_type\"].unique()\n",
    "for change_type in change_types:\n",
    "    for column in train_df.columns:\n",
    "        if column == \"geometry\":\n",
    "            continue\n",
    "        train_df.loc[(train_df[\"change_type\"]==change_type) & (train_df[column].isnull()), column] = train_df.loc[(train_df[\"change_type\"]==change_type), column].mode()[0]"
   ]
  },
  {
   "cell_type": "code",
   "execution_count": 8,
   "id": "40c03f92",
   "metadata": {
    "execution": {
     "iopub.execute_input": "2024-02-16T21:16:12.616797Z",
     "iopub.status.busy": "2024-02-16T21:16:12.616462Z",
     "iopub.status.idle": "2024-02-16T21:16:12.631078Z",
     "shell.execute_reply": "2024-02-16T21:16:12.630457Z"
    },
    "papermill": {
     "duration": 0.025501,
     "end_time": "2024-02-16T21:16:12.632848",
     "exception": false,
     "start_time": "2024-02-16T21:16:12.607347",
     "status": "completed"
    },
    "tags": []
   },
   "outputs": [],
   "source": [
    "feature_names=[ 'urban_type_N,A', 'urban_type_UrbanSlum', 'urban_type_Rural', 'urban_type_DenseUrban', 'urban_type_Industrial', 'urban_type_SparseUrban', \n",
    "                #'urban_type_Dense Urban,Industrial', 'urban_type_Dense Urban,Urban Slum', 'urban_type_Sparse Urban,Industrial', 'urban_type_Sparse Urban,Urban Slum', \n",
    "               \n",
    "                'geography_type_N,A', 'geography_type_Desert', 'geography_type_Farms', 'geography_type_DenseForest', 'geography_type_Hills', 'geography_type_River', 'geography_type_GrassLand', 'geography_type_Snow', 'geography_type_Lakes', 'geography_type_BarrenLand', 'geography_type_Coastal', 'geography_type_SparseForest', \n",
    "                #'geography_type_Sparse Forest,Grass Land', 'geography_type_Sparse Forest,Farms', 'geography_type_Sparse Forest,Dense Forest,Grass Land', 'geography_type_Barren Land,Sparse Forest', 'geography_type_Sparse Forest,Dense Forest', 'geography_type_Sparse Forest,Grass Land,Lakes', 'geography_type_Sparse Forest,Farms,Lakes', 'geography_type_River,Sparse Forest,Grass Land', 'geography_type_River,Sparse Forest', 'geography_type_Sparse Forest,Dense Forest,Grass Land,Lakes', 'geography_type_Barren Land,Sparse Forest,Grass Land', 'geography_type_Dense Forest,Grass Land', 'geography_type_River,Sparse Forest,Farms', \n",
    "               \n",
    "                #'geourban_geography_type_Desert_urban_type_Industrial', 'geourban_geography_type_Farms_urban_type_Rural', 'geourban_geography_type_Farms_urban_type_DenseUrban', 'geourban_geography_type_Farms_urban_type_Industrial', 'geourban_geography_type_Farms_urban_type_SparseUrban', 'geourban_geography_type_DenseForest_urban_type_UrbanSlum', 'geourban_geography_type_DenseForest_urban_type_Rural', 'geourban_geography_type_DenseForest_urban_type_DenseUrban', 'geourban_geography_type_DenseForest_urban_type_Industrial', 'geourban_geography_type_DenseForest_urban_type_SparseUrban', 'geourban_geography_type_River_urban_type_Rural', 'geourban_geography_type_River_urban_type_DenseUrban', 'geourban_geography_type_River_urban_type_Industrial', 'geourban_geography_type_River_urban_type_SparseUrban', 'geourban_geography_type_GrassLand_urban_type_Rural', 'geourban_geography_type_GrassLand_urban_type_DenseUrban', 'geourban_geography_type_GrassLand_urban_type_Industrial', 'geourban_geography_type_GrassLand_urban_type_SparseUrban', 'geourban_geography_type_Lakes_urban_type_Rural', 'geourban_geography_type_Lakes_urban_type_DenseUrban', 'geourban_geography_type_Lakes_urban_type_Industrial', 'geourban_geography_type_Lakes_urban_type_SparseUrban', 'geourban_geography_type_BarrenLand_urban_type_Rural', 'geourban_geography_type_BarrenLand_urban_type_DenseUrban', 'geourban_geography_type_BarrenLand_urban_type_Industrial', 'geourban_geography_type_BarrenLand_urban_type_SparseUrban', 'geourban_geography_type_Coastal_urban_type_SparseUrban', 'geourban_geography_type_SparseForest_urban_type_UrbanSlum', 'geourban_geography_type_SparseForest_urban_type_Rural', 'geourban_geography_type_SparseForest_urban_type_DenseUrban', 'geourban_geography_type_SparseForest_urban_type_Industrial', 'geourban_geography_type_SparseForest_urban_type_SparseUrban', \n",
    "               \n",
    "                'img_red_mean_date0', 'img_red_mean_date1', 'img_red_mean_date2', 'img_red_mean_date3', 'img_red_mean_date4', \n",
    "                'img_green_mean_date0', 'img_green_mean_date1', 'img_green_mean_date2', 'img_green_mean_date3', 'img_green_mean_date4', \n",
    "                'img_blue_mean_date0', 'img_blue_mean_date1', 'img_blue_mean_date2', 'img_blue_mean_date3', 'img_blue_mean_date4', \n",
    "               \n",
    "                'img_red_std_date0', 'img_red_std_date1', 'img_red_std_date2', 'img_red_std_date3', 'img_red_std_date4', \n",
    "                'img_green_std_date0', 'img_green_std_date1', 'img_green_std_date2', 'img_green_std_date3', 'img_green_std_date4', \n",
    "                'img_blue_std_date0', 'img_blue_std_date1', 'img_blue_std_date2', 'img_blue_std_date3', 'img_blue_std_date4', \n",
    "               \n",
    "                'change_status_date0_Construction Done', 'change_status_date0_Construction Midway', 'change_status_date0_Construction Started', 'change_status_date0_Excavation', 'change_status_date0_Greenland', 'change_status_date0_Land Cleared', 'change_status_date0_Materials Dumped', 'change_status_date0_Materials Introduced', 'change_status_date0_Operational', 'change_status_date0_Prior Construction', \n",
    "                'change_status_date1_Construction Done', 'change_status_date1_Construction Midway', 'change_status_date1_Construction Started', 'change_status_date1_Excavation', 'change_status_date1_Greenland', 'change_status_date1_Land Cleared', 'change_status_date1_Materials Dumped', 'change_status_date1_Materials Introduced', 'change_status_date1_Operational', 'change_status_date1_Prior Construction', \n",
    "                'change_status_date2_Construction Done', 'change_status_date2_Construction Midway', 'change_status_date2_Construction Started', 'change_status_date2_Excavation', 'change_status_date2_Greenland', 'change_status_date2_Land Cleared', 'change_status_date2_Materials Dumped', 'change_status_date2_Materials Introduced', 'change_status_date2_Operational', 'change_status_date2_Prior Construction', \n",
    "                'change_status_date3_Construction Done', 'change_status_date3_Construction Midway', 'change_status_date3_Construction Started', 'change_status_date3_Excavation', 'change_status_date3_Greenland', 'change_status_date3_Land Cleared', 'change_status_date3_Materials Dumped', 'change_status_date3_Materials Introduced', 'change_status_date3_Operational', 'change_status_date3_Prior Construction', \n",
    "                'change_status_date4_Construction Done', 'change_status_date4_Construction Midway', 'change_status_date4_Construction Started', 'change_status_date4_Excavation', 'change_status_date4_Greenland', 'change_status_date4_Land Cleared', 'change_status_date4_Materials Dumped', 'change_status_date4_Materials Introduced', 'change_status_date4_Operational', 'change_status_date4_Prior Construction', \n",
    "               \n",
    "                'change_status_Prior Construction', 'change_status_Greenland', 'change_status_Land Cleared', 'change_status_Excavation', 'change_status_Materials Dumped', 'change_status_Materials Introduced', 'change_status_Construction Started', 'change_status_Construction Midway', 'change_status_Construction Done', 'change_status_Operational', \n",
    "                'change_status_date0_encoded', 'change_status_date1_encoded', 'change_status_date2_encoded', 'change_status_date3_encoded', 'change_status_date4_encoded', \n",
    "                'change_status_date_4-0', 'change_status_date_1-0', 'change_status_date_2-1', 'change_status_date_3-2', 'change_status_date_4-3', \n",
    "               \n",
    "                'img_mean_date0', 'img_std_date0', 'img_mean_date1', 'img_std_date1', 'img_mean_date2', 'img_std_date2', 'img_mean_date3', 'img_std_date3', 'img_mean_date4', 'img_std_date4', \n",
    "                'img_mean_date_4-0', 'img_mean_date_1-0', 'img_mean_date_2-1', 'img_mean_date_3-2', 'img_mean_date_4-3', 'img_std_date_4-0', 'img_std_date_1-0', 'img_std_date_2-1', 'img_std_date_3-2', 'img_std_date_4-3', \n",
    "               \n",
    "                'img_red_mean_date_4-0', 'img_red_mean_date_1-0', 'img_red_mean_date_2-1', 'img_red_mean_date_3-2', 'img_red_mean_date_4-3', 'img_green_mean_date_4-0', 'img_green_mean_date_1-0', 'img_green_mean_date_2-1', 'img_green_mean_date_3-2', 'img_green_mean_date_4-3', 'img_blue_mean_date_4-0', 'img_blue_mean_date_1-0', 'img_blue_mean_date_2-1', 'img_blue_mean_date_3-2', 'img_blue_mean_date_4-3', 'img_red_std_date_4-0', 'img_red_std_date_1-0', 'img_red_std_date_2-1', 'img_red_std_date_3-2', 'img_red_std_date_4-3', 'img_green_std_date_4-0', 'img_green_std_date_1-0', 'img_green_std_date_2-1', 'img_green_std_date_3-2', 'img_green_std_date_4-3', 'img_blue_std_date_4-0', 'img_blue_std_date_1-0', 'img_blue_std_date_2-1', 'img_blue_std_date_3-2', 'img_blue_std_date_4-3', \n",
    "                \n",
    "                'date_1-0', 'date_2-1', 'date_3-2', 'date_4-3', 'date_4-0',\n",
    "                #'date_0-0min', \n",
    "                'img_mean_date_4-0/Date', 'img_mean_date_1-0/Date', 'img_mean_date_2-1/Date', 'img_mean_date_3-2/Date', 'img_mean_date_4-3/Date', 'img_std_date_4-0/Date', 'img_std_date_1-0/Date', 'img_std_date_2-1/Date', 'img_std_date_3-2/Date', 'img_std_date_4-3/Date', 'img_red_mean_date_4-0/Date', 'img_red_mean_date_1-0/Date', 'img_red_mean_date_2-1/Date', 'img_red_mean_date_3-2/Date', 'img_red_mean_date_4-3/Date', 'img_green_mean_date_4-0/Date', 'img_green_mean_date_1-0/Date', 'img_green_mean_date_2-1/Date', 'img_green_mean_date_3-2/Date', 'img_green_mean_date_4-3/Date', 'img_blue_mean_date_4-0/Date', 'img_blue_mean_date_1-0/Date', 'img_blue_mean_date_2-1/Date', 'img_blue_mean_date_3-2/Date', 'img_blue_mean_date_4-3/Date', 'img_red_std_date_4-0/Date', 'img_red_std_date_1-0/Date', 'img_red_std_date_2-1/Date', 'img_red_std_date_3-2/Date', 'img_red_std_date_4-3/Date', 'img_green_std_date_4-0/Date', 'img_green_std_date_1-0/Date', 'img_green_std_date_2-1/Date', 'img_green_std_date_3-2/Date', 'img_green_std_date_4-3/Date', 'img_blue_std_date_4-0/Date', 'img_blue_std_date_1-0/Date', 'img_blue_std_date_2-1/Date', 'img_blue_std_date_3-2/Date', 'img_blue_std_date_4-3/Date', \n",
    "                'change_status_date_4-0/Date', 'change_status_date_1-0/Date', 'change_status_date_2-1/Date', 'change_status_date_3-2/Date', 'change_status_date_4-3/Date', \n",
    "               \n",
    "                'geometry_area', 'geometry_perimeter', 'geometry_inscribed_circle_radius', 'geometry_compactness', 'geometry_convexity', 'geometry_vertices', 'geometry_bboxwidth', 'geometry_bboxheight', 'geometry_bboxratio', 'geometry_bboxarea', 'geometry_bboxperimeter', \n",
    "                #'geometry_aspectratio', \n",
    "                'geometry_diameter', 'geometry_minumum_bounding_circle', 'geometry_minimum_rotated_rectangle', \n",
    "               \n",
    "                'neighb_density', 'neighb_nb', 'neighb_similar', \n",
    "                'neighb_maxdiff_change_status_date0_0.001', 'neighb_maxdiff_change_status_date1_0.001', 'neighb_maxdiff_change_status_date2_0.001', 'neighb_maxdiff_change_status_date3_0.001', 'neighb_maxdiff_change_status_date4_0.001', \n",
    "                'neighb_maxdiff_change_status_date0_0.003', 'neighb_maxdiff_change_status_date1_0.003', 'neighb_maxdiff_change_status_date2_0.003', 'neighb_maxdiff_change_status_date3_0.003', 'neighb_maxdiff_change_status_date4_0.003', \n",
    "                'neighb_maxdiff_meancolor_0', 'neighb_maxdiff_meancolor_1', 'neighb_maxdiff_meancolor_2', 'neighb_maxdiff_meancolor_3', 'neighb_maxdiff_meancolor_4', \n",
    "                'neighb_maxdiff_stdcolor_0', 'neighb_maxdiff_stdcolor_1', 'neighb_maxdiff_stdcolor_2', 'neighb_maxdiff_stdcolor_3', 'neighb_maxdiff_stdcolor_4', \n",
    "               \n",
    "                'neighb_meandiff_changestatus_0', 'neighb_meandiff_changestatus_1', 'neighb_meandiff_changestatus_2', 'neighb_meandiff_changestatus_3', 'neighb_meandiff_changestatus_4', \n",
    "                'neighb_meandiff_meancolor_0', 'neighb_meandiff_meancolor_1', 'neighb_meandiff_meancolor_2', 'neighb_meandiff_meancolor_3', 'neighb_meandiff_meancolor_4', \n",
    "                'neighb_meandiff_stdcolor_0', 'neighb_meandiff_stdcolor_1', 'neighb_meandiff_stdcolor_2', 'neighb_meandiff_stdcolor_3', 'neighb_meandiff_stdcolor_4'\n",
    "            ]"
   ]
  },
  {
   "cell_type": "code",
   "execution_count": 9,
   "id": "0f8789e9",
   "metadata": {
    "execution": {
     "iopub.execute_input": "2024-02-16T21:16:12.646087Z",
     "iopub.status.busy": "2024-02-16T21:16:12.645088Z",
     "iopub.status.idle": "2024-02-16T21:16:12.913046Z",
     "shell.execute_reply": "2024-02-16T21:16:12.912188Z"
    },
    "papermill": {
     "duration": 0.27652,
     "end_time": "2024-02-16T21:16:12.915204",
     "exception": false,
     "start_time": "2024-02-16T21:16:12.638684",
     "status": "completed"
    },
    "tags": []
   },
   "outputs": [],
   "source": [
    "X = train_df[feature_names].to_numpy()\n",
    "Y = train_df['change_type'].to_numpy()\n",
    "X_test = test_df[feature_names].to_numpy()"
   ]
  },
  {
   "cell_type": "code",
   "execution_count": 10,
   "id": "f16684e6",
   "metadata": {
    "execution": {
     "iopub.execute_input": "2024-02-16T21:16:12.928459Z",
     "iopub.status.busy": "2024-02-16T21:16:12.928122Z",
     "iopub.status.idle": "2024-02-16T21:16:28.925773Z",
     "shell.execute_reply": "2024-02-16T21:16:28.924535Z"
    },
    "papermill": {
     "duration": 16.006324,
     "end_time": "2024-02-16T21:16:28.928022",
     "exception": false,
     "start_time": "2024-02-16T21:16:12.921698",
     "status": "completed"
    },
    "tags": []
   },
   "outputs": [],
   "source": [
    "\n",
    "from sklearn.impute import SimpleImputer\n",
    "\n",
    "# Handle NaN values using SimpleImputer\n",
    "imp_mean = SimpleImputer(missing_values=np.nan, strategy='median')\n",
    "imp_mean.fit(np.concatenate([X, X_test], axis=0))\n",
    "X_test = imp_mean.transform(X_test)\n"
   ]
  },
  {
   "cell_type": "code",
   "execution_count": 11,
   "id": "5ca2ad01",
   "metadata": {
    "execution": {
     "iopub.execute_input": "2024-02-16T21:16:28.940917Z",
     "iopub.status.busy": "2024-02-16T21:16:28.940584Z",
     "iopub.status.idle": "2024-02-16T21:16:28.945897Z",
     "shell.execute_reply": "2024-02-16T21:16:28.944219Z"
    },
    "papermill": {
     "duration": 0.01433,
     "end_time": "2024-02-16T21:16:28.948095",
     "exception": false,
     "start_time": "2024-02-16T21:16:28.933765",
     "status": "completed"
    },
    "tags": []
   },
   "outputs": [
    {
     "name": "stdout",
     "output_type": "stream",
     "text": [
      "(294296, 270) (294296,) (120526, 270)\n"
     ]
    }
   ],
   "source": [
    "print(X.shape, Y.shape, X_test.shape)"
   ]
  },
  {
   "cell_type": "code",
   "execution_count": 12,
   "id": "37c649f3",
   "metadata": {
    "execution": {
     "iopub.execute_input": "2024-02-16T21:16:28.961350Z",
     "iopub.status.busy": "2024-02-16T21:16:28.960998Z",
     "iopub.status.idle": "2024-02-16T21:16:29.612284Z",
     "shell.execute_reply": "2024-02-16T21:16:29.611039Z"
    },
    "papermill": {
     "duration": 0.660601,
     "end_time": "2024-02-16T21:16:29.614580",
     "exception": false,
     "start_time": "2024-02-16T21:16:28.953979",
     "status": "completed"
    },
    "tags": []
   },
   "outputs": [],
   "source": [
    "X_train, X_valid, Y_train, Y_valid = train_test_split(X, Y, test_size=0.2, random_state=65, stratify=Y)"
   ]
  },
  {
   "cell_type": "code",
   "execution_count": 13,
   "id": "fab0ffce",
   "metadata": {
    "execution": {
     "iopub.execute_input": "2024-02-16T21:16:29.627261Z",
     "iopub.status.busy": "2024-02-16T21:16:29.626929Z",
     "iopub.status.idle": "2024-02-16T21:16:29.711823Z",
     "shell.execute_reply": "2024-02-16T21:16:29.710700Z"
    },
    "papermill": {
     "duration": 0.093585,
     "end_time": "2024-02-16T21:16:29.713863",
     "exception": false,
     "start_time": "2024-02-16T21:16:29.620278",
     "status": "completed"
    },
    "tags": []
   },
   "outputs": [],
   "source": [
    "remove5 = True\n",
    "if remove5:\n",
    "    X_train = X_train[Y_train != 5]\n",
    "    Y_train = Y_train[Y_train != 5]"
   ]
  },
  {
   "cell_type": "code",
   "execution_count": 14,
   "id": "40d1b575",
   "metadata": {
    "execution": {
     "iopub.execute_input": "2024-02-16T21:16:29.726852Z",
     "iopub.status.busy": "2024-02-16T21:16:29.726457Z",
     "iopub.status.idle": "2024-02-16T21:16:29.733824Z",
     "shell.execute_reply": "2024-02-16T21:16:29.732884Z"
    },
    "papermill": {
     "duration": 0.016181,
     "end_time": "2024-02-16T21:16:29.735759",
     "exception": false,
     "start_time": "2024-02-16T21:16:29.719578",
     "status": "completed"
    },
    "tags": []
   },
   "outputs": [],
   "source": [
    "def printScores(y_true, y_predict):\n",
    "    f1_score_micro = f1_score(y_true, y_predict, average='micro')\n",
    "    f1_score_macro = f1_score(y_true, y_predict, average='macro')\n",
    "    f1_score_weighted = f1_score(y_true, y_predict, average='weighted')\n",
    "    train_conf_matrix = confusion_matrix(y_true, y_predict)\n",
    "    print(\"F1 score micro\", f1_score_micro)\n",
    "    print(\"F1 score macro\", f1_score_macro)\n",
    "    print(\"F1 score weighted\", f1_score_weighted)\n",
    "    print(train_conf_matrix)"
   ]
  },
  {
   "cell_type": "code",
   "execution_count": 15,
   "id": "252f4595",
   "metadata": {
    "execution": {
     "iopub.execute_input": "2024-02-16T21:16:29.749036Z",
     "iopub.status.busy": "2024-02-16T21:16:29.748699Z",
     "iopub.status.idle": "2024-02-16T21:16:29.753607Z",
     "shell.execute_reply": "2024-02-16T21:16:29.752451Z"
    },
    "papermill": {
     "duration": 0.01373,
     "end_time": "2024-02-16T21:16:29.755442",
     "exception": false,
     "start_time": "2024-02-16T21:16:29.741712",
     "status": "completed"
    },
    "tags": []
   },
   "outputs": [],
   "source": [
    "if remove5:\n",
    "    N = 5\n",
    "else:\n",
    "    N = 6"
   ]
  },
  {
   "cell_type": "markdown",
   "id": "6e84c411",
   "metadata": {},
   "source": [
    "# Training"
   ]
  },
  {
   "cell_type": "code",
   "execution_count": 16,
   "id": "4524d1ad",
   "metadata": {
    "execution": {
     "iopub.execute_input": "2024-02-16T21:16:29.767766Z",
     "iopub.status.busy": "2024-02-16T21:16:29.767451Z",
     "iopub.status.idle": "2024-02-16T21:21:49.287585Z",
     "shell.execute_reply": "2024-02-16T21:21:49.286696Z"
    },
    "papermill": {
     "duration": 319.533671,
     "end_time": "2024-02-16T21:21:49.294699",
     "exception": false,
     "start_time": "2024-02-16T21:16:29.761028",
     "status": "completed"
    },
    "tags": []
   },
   "outputs": [
    {
     "name": "stdout",
     "output_type": "stream",
     "text": [
      "[LightGBM] [Info] Auto-choosing col-wise multi-threading, the overhead of testing was 0.705114 seconds.\n",
      "You can set `force_col_wise=true` to remove the overhead.\n",
      "[LightGBM] [Info] Total Bins 43838\n",
      "[LightGBM] [Info] Number of data points in the train set: 294149, number of used features: 269\n",
      "[LightGBM] [Info] Start training from score -2.236451\n",
      "[LightGBM] [Info] Start training from score -3.025226\n",
      "[LightGBM] [Info] Start training from score -0.692736\n",
      "[LightGBM] [Info] Start training from score -1.079066\n",
      "[LightGBM] [Info] Start training from score -5.404185\n"
     ]
    },
    {
     "data": {
      "text/html": [
       "<style>#sk-container-id-1 {color: black;background-color: white;}#sk-container-id-1 pre{padding: 0;}#sk-container-id-1 div.sk-toggleable {background-color: white;}#sk-container-id-1 label.sk-toggleable__label {cursor: pointer;display: block;width: 100%;margin-bottom: 0;padding: 0.3em;box-sizing: border-box;text-align: center;}#sk-container-id-1 label.sk-toggleable__label-arrow:before {content: \"▸\";float: left;margin-right: 0.25em;color: #696969;}#sk-container-id-1 label.sk-toggleable__label-arrow:hover:before {color: black;}#sk-container-id-1 div.sk-estimator:hover label.sk-toggleable__label-arrow:before {color: black;}#sk-container-id-1 div.sk-toggleable__content {max-height: 0;max-width: 0;overflow: hidden;text-align: left;background-color: #f0f8ff;}#sk-container-id-1 div.sk-toggleable__content pre {margin: 0.2em;color: black;border-radius: 0.25em;background-color: #f0f8ff;}#sk-container-id-1 input.sk-toggleable__control:checked~div.sk-toggleable__content {max-height: 200px;max-width: 100%;overflow: auto;}#sk-container-id-1 input.sk-toggleable__control:checked~label.sk-toggleable__label-arrow:before {content: \"▾\";}#sk-container-id-1 div.sk-estimator input.sk-toggleable__control:checked~label.sk-toggleable__label {background-color: #d4ebff;}#sk-container-id-1 div.sk-label input.sk-toggleable__control:checked~label.sk-toggleable__label {background-color: #d4ebff;}#sk-container-id-1 input.sk-hidden--visually {border: 0;clip: rect(1px 1px 1px 1px);clip: rect(1px, 1px, 1px, 1px);height: 1px;margin: -1px;overflow: hidden;padding: 0;position: absolute;width: 1px;}#sk-container-id-1 div.sk-estimator {font-family: monospace;background-color: #f0f8ff;border: 1px dotted black;border-radius: 0.25em;box-sizing: border-box;margin-bottom: 0.5em;}#sk-container-id-1 div.sk-estimator:hover {background-color: #d4ebff;}#sk-container-id-1 div.sk-parallel-item::after {content: \"\";width: 100%;border-bottom: 1px solid gray;flex-grow: 1;}#sk-container-id-1 div.sk-label:hover label.sk-toggleable__label {background-color: #d4ebff;}#sk-container-id-1 div.sk-serial::before {content: \"\";position: absolute;border-left: 1px solid gray;box-sizing: border-box;top: 0;bottom: 0;left: 50%;z-index: 0;}#sk-container-id-1 div.sk-serial {display: flex;flex-direction: column;align-items: center;background-color: white;padding-right: 0.2em;padding-left: 0.2em;position: relative;}#sk-container-id-1 div.sk-item {position: relative;z-index: 1;}#sk-container-id-1 div.sk-parallel {display: flex;align-items: stretch;justify-content: center;background-color: white;position: relative;}#sk-container-id-1 div.sk-item::before, #sk-container-id-1 div.sk-parallel-item::before {content: \"\";position: absolute;border-left: 1px solid gray;box-sizing: border-box;top: 0;bottom: 0;left: 50%;z-index: -1;}#sk-container-id-1 div.sk-parallel-item {display: flex;flex-direction: column;z-index: 1;position: relative;background-color: white;}#sk-container-id-1 div.sk-parallel-item:first-child::after {align-self: flex-end;width: 50%;}#sk-container-id-1 div.sk-parallel-item:last-child::after {align-self: flex-start;width: 50%;}#sk-container-id-1 div.sk-parallel-item:only-child::after {width: 0;}#sk-container-id-1 div.sk-dashed-wrapped {border: 1px dashed gray;margin: 0 0.4em 0.5em 0.4em;box-sizing: border-box;padding-bottom: 0.4em;background-color: white;}#sk-container-id-1 div.sk-label label {font-family: monospace;font-weight: bold;display: inline-block;line-height: 1.2em;}#sk-container-id-1 div.sk-label-container {text-align: center;}#sk-container-id-1 div.sk-container {/* jupyter's `normalize.less` sets `[hidden] { display: none; }` but bootstrap.min.css set `[hidden] { display: none !important; }` so we also need the `!important` here to be able to override the default hidden behavior on the sphinx rendered scikit-learn.org. See: https://github.com/scikit-learn/scikit-learn/issues/21755 */display: inline-block !important;position: relative;}#sk-container-id-1 div.sk-text-repr-fallback {display: none;}</style><div id=\"sk-container-id-1\" class=\"sk-top-container\"><div class=\"sk-text-repr-fallback\"><pre>LGBMClassifier(num_class=5, num_leaves=256, objective=&#x27;multiclass&#x27;)</pre><b>In a Jupyter environment, please rerun this cell to show the HTML representation or trust the notebook. <br />On GitHub, the HTML representation is unable to render, please try loading this page with nbviewer.org.</b></div><div class=\"sk-container\" hidden><div class=\"sk-item\"><div class=\"sk-estimator sk-toggleable\"><input class=\"sk-toggleable__control sk-hidden--visually\" id=\"sk-estimator-id-1\" type=\"checkbox\" checked><label for=\"sk-estimator-id-1\" class=\"sk-toggleable__label sk-toggleable__label-arrow\">LGBMClassifier</label><div class=\"sk-toggleable__content\"><pre>LGBMClassifier(num_class=5, num_leaves=256, objective=&#x27;multiclass&#x27;)</pre></div></div></div></div></div>"
      ],
      "text/plain": [
       "LGBMClassifier(num_class=5, num_leaves=256, objective='multiclass')"
      ]
     },
     "execution_count": 16,
     "metadata": {},
     "output_type": "execute_result"
    }
   ],
   "source": [
    "model = lgb.LGBMClassifier(objective=\"multiclass\", num_class=N, num_leaves=256)\n",
    "\n",
    "\n",
    "eval_set = [(X_train, Y_train), (X_valid, Y_valid)]\n",
    "if remove5:\n",
    "    eval_set = [(X_train, Y_train), (X_valid[Y_valid != 5], Y_valid[Y_valid != 5])]\n",
    "    \n",
    "#model.fit(X_train, Y_train, eval_set=eval_set)\n",
    "model.fit(X[Y != 5], Y[Y != 5])"
   ]
  },
  {
   "cell_type": "code",
   "execution_count": 17,
   "id": "3e030796",
   "metadata": {
    "execution": {
     "iopub.execute_input": "2024-02-16T21:21:49.307411Z",
     "iopub.status.busy": "2024-02-16T21:21:49.306954Z",
     "iopub.status.idle": "2024-02-16T21:21:49.424624Z",
     "shell.execute_reply": "2024-02-16T21:21:49.423691Z"
    },
    "papermill": {
     "duration": 0.126453,
     "end_time": "2024-02-16T21:21:49.426711",
     "exception": false,
     "start_time": "2024-02-16T21:21:49.300258",
     "status": "completed"
    },
    "tags": []
   },
   "outputs": [
    {
     "data": {
      "text/plain": [
       "<lightgbm.basic.Booster at 0x7dec4cc9ee30>"
      ]
     },
     "execution_count": 17,
     "metadata": {},
     "output_type": "execute_result"
    }
   ],
   "source": [
    "model.booster_.save_model('mode.txt')"
   ]
  },
  {
   "cell_type": "code",
   "execution_count": 18,
   "id": "0e5c0905",
   "metadata": {
    "execution": {
     "iopub.execute_input": "2024-02-16T21:21:49.440366Z",
     "iopub.status.busy": "2024-02-16T21:21:49.440024Z",
     "iopub.status.idle": "2024-02-16T21:22:11.095204Z",
     "shell.execute_reply": "2024-02-16T21:22:11.093793Z"
    },
    "papermill": {
     "duration": 21.663941,
     "end_time": "2024-02-16T21:22:11.096988",
     "exception": false,
     "start_time": "2024-02-16T21:21:49.433047",
     "status": "completed"
    },
    "tags": []
   },
   "outputs": [
    {
     "name": "stdout",
     "output_type": "stream",
     "text": [
      "F1 score micro 0.8930133138420612\n",
      "F1 score macro 0.9349141965058372\n",
      "F1 score weighted 0.8925902246642756\n",
      "[[ 25073      0     37     31      0]\n",
      " [     2  11400      7     15      0]\n",
      " [  2988     85 104590  10045      0]\n",
      " [   899    107  10960  68022      0]\n",
      " [     0      0      0      0   1058]]\n"
     ]
    }
   ],
   "source": [
    "\n",
    "pred = model.predict(X_train)\n",
    "printScores(Y_train, pred)\n"
   ]
  },
  {
   "cell_type": "code",
   "execution_count": 19,
   "id": "066b716e",
   "metadata": {
    "execution": {
     "iopub.execute_input": "2024-02-16T21:22:11.111198Z",
     "iopub.status.busy": "2024-02-16T21:22:11.110852Z",
     "iopub.status.idle": "2024-02-16T21:22:11.115730Z",
     "shell.execute_reply": "2024-02-16T21:22:11.114594Z"
    },
    "papermill": {
     "duration": 0.013899,
     "end_time": "2024-02-16T21:22:11.117586",
     "exception": false,
     "start_time": "2024-02-16T21:22:11.103687",
     "status": "completed"
    },
    "tags": []
   },
   "outputs": [],
   "source": [
    "#model.fit(X[Y != 5], Y[Y != 5])"
   ]
  },
  {
   "cell_type": "markdown",
   "id": "b08efc6c",
   "metadata": {
    "papermill": {
     "duration": 0.006147,
     "end_time": "2024-02-16T21:22:11.130478",
     "exception": false,
     "start_time": "2024-02-16T21:22:11.124331",
     "status": "completed"
    },
    "tags": []
   },
   "source": [
    "1 > 0.7834"
   ]
  },
  {
   "cell_type": "code",
   "execution_count": 20,
   "id": "1ba3138f",
   "metadata": {
    "execution": {
     "iopub.execute_input": "2024-02-16T21:22:11.143971Z",
     "iopub.status.busy": "2024-02-16T21:22:11.143611Z",
     "iopub.status.idle": "2024-02-16T21:22:16.549646Z",
     "shell.execute_reply": "2024-02-16T21:22:16.548369Z"
    },
    "papermill": {
     "duration": 5.415458,
     "end_time": "2024-02-16T21:22:16.551962",
     "exception": false,
     "start_time": "2024-02-16T21:22:11.136504",
     "status": "completed"
    },
    "tags": []
   },
   "outputs": [
    {
     "name": "stdout",
     "output_type": "stream",
     "text": [
      "F1 score micro 0.8939347604485219\n",
      "F1 score macro 0.7798688684989795\n",
      "F1 score weighted 0.8932716941355393\n",
      "[[ 6272     0     7     6     0     0]\n",
      " [    0  2855     1     0     0     0]\n",
      " [  727    22 26228  2450     0     0]\n",
      " [  242    16  2742 16997     0     0]\n",
      " [    0     0     0     0   265     0]\n",
      " [    4     3     8    15     0     0]]\n"
     ]
    }
   ],
   "source": [
    "\n",
    "pred = model.predict(X_valid)\n",
    "printScores(Y_valid, pred)\n"
   ]
  },
  {
   "cell_type": "code",
   "execution_count": 21,
   "id": "bcf9c64f",
   "metadata": {
    "execution": {
     "iopub.execute_input": "2024-02-16T21:22:16.566588Z",
     "iopub.status.busy": "2024-02-16T21:22:16.566200Z",
     "iopub.status.idle": "2024-02-16T21:22:16.572472Z",
     "shell.execute_reply": "2024-02-16T21:22:16.571718Z"
    },
    "papermill": {
     "duration": 0.015528,
     "end_time": "2024-02-16T21:22:16.574145",
     "exception": false,
     "start_time": "2024-02-16T21:22:16.558617",
     "status": "completed"
    },
    "tags": []
   },
   "outputs": [
    {
     "data": {
      "text/plain": [
       "'\\nnum_leave = 31 : \\nF1 score micro 0.768824328916072\\nF1 score macro 0.5398432785011614\\nF1 score weighted 0.7684447101463885\\n[[ 5906    18    96   237     4    24]\\n [   18  1987   160   657    13    21]\\n [ 1215   113 23479  4502    37    81]\\n [  579   368  5012 13850   105    83]\\n [    6     4    68   158    29     0]\\n [    4     4     7    12     1     2]]\\n\\nnum_leave 64\\nF1 score micro 0.7725790010193679\\nF1 score macro 0.5381640749369746\\nF1 score weighted 0.7742446783031189\\n[[ 5869    16   101   236     7    56]\\n [   15  2028   156   624     4    29]\\n [ 1210   112 23492  4359    43   211]\\n [  577   336  4735 14062    83   204]\\n [    5     5    65   165    23     2]\\n [    4     2     8    15     1     0]]\\n\\nnum_leaves 120\\nF1 score micro 0.7769113149847094\\nF1 score macro 0.5471793296072588\\nF1 score weighted 0.7777244168599494\\n[[ 5833    14   124   261     9    44]\\n [   16  2052   166   596     1    25]\\n [ 1204    96 23615  4339    30   143]\\n [  570   313  4698 14200    64   152]\\n [    5     3    59   166    29     3]\\n [    4     4     8    13     1     0]]\\n\\n\\nnum_leaves 256\\nF1 score micro 0.7747366632687733\\nF1 score macro 0.5351609930666787\\nF1 score weighted 0.7779180907056056\\n[[ 5809    11   140   252    22    51]\\n [   16  2039   149   596    18    38]\\n [ 1188    95 23464  4308   135   237]\\n [  540   283  4561 14269   122   222]\\n [    6     3    60   173    20     3]\\n [    4     2     9    15     0     0]]\\n'"
      ]
     },
     "execution_count": 21,
     "metadata": {},
     "output_type": "execute_result"
    }
   ],
   "source": [
    "\"\"\"\n",
    "num_leave = 31 : \n",
    "F1 score micro 0.768824328916072\n",
    "F1 score macro 0.5398432785011614\n",
    "F1 score weighted 0.7684447101463885\n",
    "[[ 5906    18    96   237     4    24]\n",
    " [   18  1987   160   657    13    21]\n",
    " [ 1215   113 23479  4502    37    81]\n",
    " [  579   368  5012 13850   105    83]\n",
    " [    6     4    68   158    29     0]\n",
    " [    4     4     7    12     1     2]]\n",
    "\n",
    "num_leave 64\n",
    "F1 score micro 0.7725790010193679\n",
    "F1 score macro 0.5381640749369746\n",
    "F1 score weighted 0.7742446783031189\n",
    "[[ 5869    16   101   236     7    56]\n",
    " [   15  2028   156   624     4    29]\n",
    " [ 1210   112 23492  4359    43   211]\n",
    " [  577   336  4735 14062    83   204]\n",
    " [    5     5    65   165    23     2]\n",
    " [    4     2     8    15     1     0]]\n",
    "\n",
    "num_leaves 120\n",
    "F1 score micro 0.7769113149847094\n",
    "F1 score macro 0.5471793296072588\n",
    "F1 score weighted 0.7777244168599494\n",
    "[[ 5833    14   124   261     9    44]\n",
    " [   16  2052   166   596     1    25]\n",
    " [ 1204    96 23615  4339    30   143]\n",
    " [  570   313  4698 14200    64   152]\n",
    " [    5     3    59   166    29     3]\n",
    " [    4     4     8    13     1     0]]\n",
    "\n",
    "\n",
    "num_leaves 256\n",
    "F1 score micro 0.7747366632687733\n",
    "F1 score macro 0.5351609930666787\n",
    "F1 score weighted 0.7779180907056056\n",
    "[[ 5809    11   140   252    22    51]\n",
    " [   16  2039   149   596    18    38]\n",
    " [ 1188    95 23464  4308   135   237]\n",
    " [  540   283  4561 14269   122   222]\n",
    " [    6     3    60   173    20     3]\n",
    " [    4     2     9    15     0     0]]\n",
    "\"\"\""
   ]
  },
  {
   "cell_type": "markdown",
   "id": "175f2dc2",
   "metadata": {},
   "source": [
    "# Saving results"
   ]
  },
  {
   "cell_type": "code",
   "execution_count": 23,
   "id": "6ade0cc1",
   "metadata": {
    "execution": {
     "iopub.execute_input": "2024-02-16T21:22:16.610118Z",
     "iopub.status.busy": "2024-02-16T21:22:16.609749Z",
     "iopub.status.idle": "2024-02-16T21:22:26.411705Z",
     "shell.execute_reply": "2024-02-16T21:22:26.410785Z"
    },
    "papermill": {
     "duration": 9.811544,
     "end_time": "2024-02-16T21:22:26.413721",
     "exception": false,
     "start_time": "2024-02-16T21:22:16.602177",
     "status": "completed"
    },
    "tags": []
   },
   "outputs": [],
   "source": [
    "\n",
    "pred_y = model.predict(X_test)\n",
    "\n",
    "## Save results to submission file\n",
    "pred_df = pd.DataFrame(pred_y, columns=['change_type'])\n",
    "pred_df.to_csv(\"data/LIGHTGBM.csv\", index=True, index_label='Id')\n"
   ]
  },
  {
   "cell_type": "code",
   "execution_count": 24,
   "id": "0c4bf701",
   "metadata": {
    "execution": {
     "iopub.execute_input": "2024-02-16T21:22:26.427485Z",
     "iopub.status.busy": "2024-02-16T21:22:26.427165Z",
     "iopub.status.idle": "2024-02-16T21:22:36.061080Z",
     "shell.execute_reply": "2024-02-16T21:22:36.059790Z"
    },
    "papermill": {
     "duration": 9.643048,
     "end_time": "2024-02-16T21:22:36.063261",
     "exception": false,
     "start_time": "2024-02-16T21:22:26.420213",
     "status": "completed"
    },
    "tags": []
   },
   "outputs": [],
   "source": [
    "\n",
    "pred_probs = model.predict_proba(X_test)\n",
    "np.save(\"data/PROBS_LIGHTGBM\", pred_probs)\n"
   ]
  }
 ],
 "metadata": {
  "kaggle": {
   "accelerator": "none",
   "dataSources": [
    {
     "datasetId": 4433393,
     "sourceId": 7627181,
     "sourceType": "datasetVersion"
    }
   ],
   "dockerImageVersionId": 30646,
   "isGpuEnabled": false,
   "isInternetEnabled": true,
   "language": "python",
   "sourceType": "notebook"
  },
  "kernelspec": {
   "display_name": "Python 3",
   "language": "python",
   "name": "python3"
  },
  "language_info": {
   "codemirror_mode": {
    "name": "ipython",
    "version": 3
   },
   "file_extension": ".py",
   "mimetype": "text/x-python",
   "name": "python",
   "nbconvert_exporter": "python",
   "pygments_lexer": "ipython3",
   "version": "3.10.13"
  },
  "papermill": {
   "default_parameters": {},
   "duration": 433.874611,
   "end_time": "2024-02-16T21:22:36.914060",
   "environment_variables": {},
   "exception": null,
   "input_path": "__notebook__.ipynb",
   "output_path": "__notebook__.ipynb",
   "parameters": {},
   "start_time": "2024-02-16T21:15:23.039449",
   "version": "2.5.0"
  }
 },
 "nbformat": 4,
 "nbformat_minor": 5
}
