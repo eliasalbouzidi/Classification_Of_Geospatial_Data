{
 "cells": [
  {
   "cell_type": "markdown",
   "id": "87921a94",
   "metadata": {},
   "source": [
    "<h1><b>[VIII - XGBOOST_13]</b></h1>\n",
    "\n",
    "XGBoost, with :\n",
    "\n",
    "- learning_rate=0.01,  \n",
    "- colsample_bytree = 0.3,\n",
    "- subsample = 1.0,\n",
    "- n_estimators=2550, \n",
    "- min_child_weight=29,\n",
    "- max_depth=13, \n",
    "- gamma=0.003177450944562012,\n",
    "- reg_lambda=0.3736917401344113, #L1 \n",
    "- reg_alpha=0.01345834681286108, #L2\n",
    "\n",
    "The result will be save in `data/XGBOOST_13.csv` and the probabilities in `data/PROBS_XGBOOST_13.npy`\n",
    "\n",
    "Note that the original `data/PROBS_XGBOOST_13.npy` is already available."
   ]
  },
  {
   "cell_type": "markdown",
   "id": "8f87b7f2",
   "metadata": {},
   "source": [
    "_________________"
   ]
  },
  {
   "cell_type": "markdown",
   "id": "adba9e39",
   "metadata": {},
   "source": [
    "# 1) Initialisation"
   ]
  },
  {
   "cell_type": "code",
   "execution_count": 1,
   "id": "c7ff58a1",
   "metadata": {
    "_cell_guid": "b1076dfc-b9ad-4769-8c92-a6c4dae69d19",
    "_uuid": "8f2839f25d086af736a60e9eeb907d3b93b6e0e5",
    "execution": {
     "iopub.execute_input": "2024-02-15T22:59:12.702517Z",
     "iopub.status.busy": "2024-02-15T22:59:12.702110Z",
     "iopub.status.idle": "2024-02-15T22:59:17.653047Z",
     "shell.execute_reply": "2024-02-15T22:59:17.652114Z"
    },
    "papermill": {
     "duration": 4.967051,
     "end_time": "2024-02-15T22:59:17.655435",
     "exception": false,
     "start_time": "2024-02-15T22:59:12.688384",
     "status": "completed"
    },
    "tags": []
   },
   "outputs": [],
   "source": [
    "import geopandas as gpd\n",
    "import pandas as pd\n",
    "import numpy as np\n",
    "\n",
    "import matplotlib.pyplot as plt\n",
    "import seaborn as sns\n",
    "\n",
    "import warnings\n",
    "warnings.filterwarnings('ignore')\n",
    "\n",
    "pd.set_option('display.max_columns', None)  \n",
    "from sklearn.metrics import f1_score, confusion_matrix\n",
    "from sklearn.ensemble import RandomForestClassifier\n",
    "\n",
    "from sklearn.model_selection import StratifiedKFold\n",
    "import xgboost as xgb\n",
    "from sklearn.utils.class_weight import compute_sample_weight\n",
    "from sklearn.model_selection import train_test_split"
   ]
  },
  {
   "cell_type": "code",
   "execution_count": 3,
   "id": "6ea2e86b",
   "metadata": {
    "execution": {
     "iopub.execute_input": "2024-02-15T22:59:18.673032Z",
     "iopub.status.busy": "2024-02-15T22:59:18.672115Z",
     "iopub.status.idle": "2024-02-15T23:00:03.297047Z",
     "shell.execute_reply": "2024-02-15T23:00:03.295965Z"
    },
    "papermill": {
     "duration": 44.638591,
     "end_time": "2024-02-15T23:00:03.299815",
     "exception": false,
     "start_time": "2024-02-15T22:59:18.661224",
     "status": "completed"
    },
    "tags": []
   },
   "outputs": [],
   "source": [
    "train_df = pd.read_csv(\"data/train_df_FINAL.csv\")\n",
    "test_df = pd.read_csv(\"data/test_df_FINAL.csv\")"
   ]
  },
  {
   "cell_type": "markdown",
   "id": "318d8b3e",
   "metadata": {},
   "source": [
    "We delete weird data"
   ]
  },
  {
   "cell_type": "code",
   "execution_count": 4,
   "id": "64cd0ab9",
   "metadata": {
    "execution": {
     "iopub.execute_input": "2024-02-15T23:00:03.323685Z",
     "iopub.status.busy": "2024-02-15T23:00:03.323321Z",
     "iopub.status.idle": "2024-02-15T23:00:03.674790Z",
     "shell.execute_reply": "2024-02-15T23:00:03.673785Z"
    },
    "papermill": {
     "duration": 0.36801,
     "end_time": "2024-02-15T23:00:03.677782",
     "exception": false,
     "start_time": "2024-02-15T23:00:03.309772",
     "status": "completed"
    },
    "tags": []
   },
   "outputs": [],
   "source": [
    "train_df = train_df[(train_df.index < 195453) | (train_df.index > 197302)]"
   ]
  },
  {
   "cell_type": "markdown",
   "id": "511b4278",
   "metadata": {},
   "source": [
    "We replace nan values by the most frequent value for each class"
   ]
  },
  {
   "cell_type": "code",
   "execution_count": 5,
   "id": "b4165712",
   "metadata": {
    "execution": {
     "iopub.execute_input": "2024-02-15T23:00:03.706170Z",
     "iopub.status.busy": "2024-02-15T23:00:03.705856Z",
     "iopub.status.idle": "2024-02-15T23:00:16.795966Z",
     "shell.execute_reply": "2024-02-15T23:00:16.795144Z"
    },
    "papermill": {
     "duration": 13.105294,
     "end_time": "2024-02-15T23:00:16.798305",
     "exception": false,
     "start_time": "2024-02-15T23:00:03.693011",
     "status": "completed"
    },
    "tags": []
   },
   "outputs": [],
   "source": [
    "change_types = train_df[\"change_type\"].unique()\n",
    "for change_type in change_types:\n",
    "    for column in train_df.columns:\n",
    "        if column == \"geometry\":\n",
    "            continue\n",
    "        train_df.loc[(train_df[\"change_type\"]==change_type) & (train_df[column].isnull()), column] = train_df.loc[(train_df[\"change_type\"]==change_type), column].mode()[0]"
   ]
  },
  {
   "cell_type": "code",
   "execution_count": 7,
   "id": "6b6482e2",
   "metadata": {
    "execution": {
     "iopub.execute_input": "2024-02-15T23:00:16.848046Z",
     "iopub.status.busy": "2024-02-15T23:00:16.847788Z",
     "iopub.status.idle": "2024-02-15T23:00:16.857548Z",
     "shell.execute_reply": "2024-02-15T23:00:16.856770Z"
    },
    "papermill": {
     "duration": 0.022086,
     "end_time": "2024-02-15T23:00:16.859693",
     "exception": false,
     "start_time": "2024-02-15T23:00:16.837607",
     "status": "completed"
    },
    "tags": []
   },
   "outputs": [
    {
     "name": "stdout",
     "output_type": "stream",
     "text": [
      "'change_type', 'index', 'urban_type_N,A', 'urban_type_UrbanSlum', 'urban_type_Rural', 'urban_type_DenseUrban', 'urban_type_Industrial', 'urban_type_SparseUrban', 'urban_type_Dense Urban,Industrial', 'urban_type_Dense Urban,Urban Slum', 'urban_type_Sparse Urban,Industrial', 'urban_type_Sparse Urban,Urban Slum', 'geography_type_N,A', 'geography_type_Desert', 'geography_type_Farms', 'geography_type_DenseForest', 'geography_type_Hills', 'geography_type_River', 'geography_type_GrassLand', 'geography_type_Snow', 'geography_type_Lakes', 'geography_type_BarrenLand', 'geography_type_Coastal', 'geography_type_SparseForest', 'geography_type_Sparse Forest,Grass Land', 'geography_type_Sparse Forest,Farms', 'geography_type_Sparse Forest,Dense Forest,Grass Land', 'geography_type_Barren Land,Sparse Forest', 'geography_type_Sparse Forest,Dense Forest', 'geography_type_Sparse Forest,Grass Land,Lakes', 'geography_type_Sparse Forest,Farms,Lakes', 'geography_type_River,Sparse Forest,Grass Land', 'geography_type_River,Sparse Forest', 'geography_type_Sparse Forest,Dense Forest,Grass Land,Lakes', 'geography_type_Barren Land,Sparse Forest,Grass Land', 'geography_type_Dense Forest,Grass Land', 'geography_type_River,Sparse Forest,Farms', 'geourban_geography_type_Desert_urban_type_Industrial', 'geourban_geography_type_Farms_urban_type_Rural', 'geourban_geography_type_Farms_urban_type_DenseUrban', 'geourban_geography_type_Farms_urban_type_Industrial', 'geourban_geography_type_Farms_urban_type_SparseUrban', 'geourban_geography_type_DenseForest_urban_type_UrbanSlum', 'geourban_geography_type_DenseForest_urban_type_Rural', 'geourban_geography_type_DenseForest_urban_type_DenseUrban', 'geourban_geography_type_DenseForest_urban_type_Industrial', 'geourban_geography_type_DenseForest_urban_type_SparseUrban', 'geourban_geography_type_River_urban_type_Rural', 'geourban_geography_type_River_urban_type_DenseUrban', 'geourban_geography_type_River_urban_type_Industrial', 'geourban_geography_type_River_urban_type_SparseUrban', 'geourban_geography_type_GrassLand_urban_type_Rural', 'geourban_geography_type_GrassLand_urban_type_DenseUrban', 'geourban_geography_type_GrassLand_urban_type_Industrial', 'geourban_geography_type_GrassLand_urban_type_SparseUrban', 'geourban_geography_type_Lakes_urban_type_Rural', 'geourban_geography_type_Lakes_urban_type_DenseUrban', 'geourban_geography_type_Lakes_urban_type_Industrial', 'geourban_geography_type_Lakes_urban_type_SparseUrban', 'geourban_geography_type_BarrenLand_urban_type_Rural', 'geourban_geography_type_BarrenLand_urban_type_DenseUrban', 'geourban_geography_type_BarrenLand_urban_type_Industrial', 'geourban_geography_type_BarrenLand_urban_type_SparseUrban', 'geourban_geography_type_Coastal_urban_type_SparseUrban', 'geourban_geography_type_SparseForest_urban_type_UrbanSlum', 'geourban_geography_type_SparseForest_urban_type_Rural', 'geourban_geography_type_SparseForest_urban_type_DenseUrban', 'geourban_geography_type_SparseForest_urban_type_Industrial', 'geourban_geography_type_SparseForest_urban_type_SparseUrban', 'img_red_mean_date0', 'img_red_mean_date1', 'img_red_mean_date2', 'img_red_mean_date3', 'img_red_mean_date4', 'img_green_mean_date0', 'img_green_mean_date1', 'img_green_mean_date2', 'img_green_mean_date3', 'img_green_mean_date4', 'img_blue_mean_date0', 'img_blue_mean_date1', 'img_blue_mean_date2', 'img_blue_mean_date3', 'img_blue_mean_date4', 'img_red_std_date0', 'img_red_std_date1', 'img_red_std_date2', 'img_red_std_date3', 'img_red_std_date4', 'img_green_std_date0', 'img_green_std_date1', 'img_green_std_date2', 'img_green_std_date3', 'img_green_std_date4', 'img_blue_std_date0', 'img_blue_std_date1', 'img_blue_std_date2', 'img_blue_std_date3', 'img_blue_std_date4', 'change_status_date0_Construction Done', 'change_status_date0_Construction Midway', 'change_status_date0_Construction Started', 'change_status_date0_Excavation', 'change_status_date0_Greenland', 'change_status_date0_Land Cleared', 'change_status_date0_Materials Dumped', 'change_status_date0_Materials Introduced', 'change_status_date0_Operational', 'change_status_date0_Prior Construction', 'change_status_date1_Construction Done', 'change_status_date1_Construction Midway', 'change_status_date1_Construction Started', 'change_status_date1_Excavation', 'change_status_date1_Greenland', 'change_status_date1_Land Cleared', 'change_status_date1_Materials Dumped', 'change_status_date1_Materials Introduced', 'change_status_date1_Operational', 'change_status_date1_Prior Construction', 'change_status_date2_Construction Done', 'change_status_date2_Construction Midway', 'change_status_date2_Construction Started', 'change_status_date2_Excavation', 'change_status_date2_Greenland', 'change_status_date2_Land Cleared', 'change_status_date2_Materials Dumped', 'change_status_date2_Materials Introduced', 'change_status_date2_Operational', 'change_status_date2_Prior Construction', 'change_status_date3_Construction Done', 'change_status_date3_Construction Midway', 'change_status_date3_Construction Started', 'change_status_date3_Excavation', 'change_status_date3_Greenland', 'change_status_date3_Land Cleared', 'change_status_date3_Materials Dumped', 'change_status_date3_Materials Introduced', 'change_status_date3_Operational', 'change_status_date3_Prior Construction', 'change_status_date4_Construction Done', 'change_status_date4_Construction Midway', 'change_status_date4_Construction Started', 'change_status_date4_Excavation', 'change_status_date4_Greenland', 'change_status_date4_Land Cleared', 'change_status_date4_Materials Dumped', 'change_status_date4_Materials Introduced', 'change_status_date4_Operational', 'change_status_date4_Prior Construction', 'change_status_Prior Construction', 'change_status_Greenland', 'change_status_Land Cleared', 'change_status_Excavation', 'change_status_Materials Dumped', 'change_status_Materials Introduced', 'change_status_Construction Started', 'change_status_Construction Midway', 'change_status_Construction Done', 'change_status_Operational', 'change_status_date0_encoded', 'change_status_date1_encoded', 'change_status_date2_encoded', 'change_status_date3_encoded', 'change_status_date4_encoded', 'change_status_date_4-0', 'change_status_date_1-0', 'change_status_date_2-1', 'change_status_date_3-2', 'change_status_date_4-3', 'img_mean_date0', 'img_std_date0', 'img_mean_date1', 'img_std_date1', 'img_mean_date2', 'img_std_date2', 'img_mean_date3', 'img_std_date3', 'img_mean_date4', 'img_std_date4', 'img_mean_date_4-0', 'img_mean_date_1-0', 'img_mean_date_2-1', 'img_mean_date_3-2', 'img_mean_date_4-3', 'img_std_date_4-0', 'img_std_date_1-0', 'img_std_date_2-1', 'img_std_date_3-2', 'img_std_date_4-3', 'img_red_mean_date_4-0', 'img_red_mean_date_1-0', 'img_red_mean_date_2-1', 'img_red_mean_date_3-2', 'img_red_mean_date_4-3', 'img_green_mean_date_4-0', 'img_green_mean_date_1-0', 'img_green_mean_date_2-1', 'img_green_mean_date_3-2', 'img_green_mean_date_4-3', 'img_blue_mean_date_4-0', 'img_blue_mean_date_1-0', 'img_blue_mean_date_2-1', 'img_blue_mean_date_3-2', 'img_blue_mean_date_4-3', 'img_red_std_date_4-0', 'img_red_std_date_1-0', 'img_red_std_date_2-1', 'img_red_std_date_3-2', 'img_red_std_date_4-3', 'img_green_std_date_4-0', 'img_green_std_date_1-0', 'img_green_std_date_2-1', 'img_green_std_date_3-2', 'img_green_std_date_4-3', 'img_blue_std_date_4-0', 'img_blue_std_date_1-0', 'img_blue_std_date_2-1', 'img_blue_std_date_3-2', 'img_blue_std_date_4-3', 'date_1-0', 'date_2-1', 'date_3-2', 'date_4-3', 'date_4-0', 'date_0-0min', 'img_mean_date_4-0/Date', 'img_mean_date_1-0/Date', 'img_mean_date_2-1/Date', 'img_mean_date_3-2/Date', 'img_mean_date_4-3/Date', 'img_std_date_4-0/Date', 'img_std_date_1-0/Date', 'img_std_date_2-1/Date', 'img_std_date_3-2/Date', 'img_std_date_4-3/Date', 'img_red_mean_date_4-0/Date', 'img_red_mean_date_1-0/Date', 'img_red_mean_date_2-1/Date', 'img_red_mean_date_3-2/Date', 'img_red_mean_date_4-3/Date', 'img_green_mean_date_4-0/Date', 'img_green_mean_date_1-0/Date', 'img_green_mean_date_2-1/Date', 'img_green_mean_date_3-2/Date', 'img_green_mean_date_4-3/Date', 'img_blue_mean_date_4-0/Date', 'img_blue_mean_date_1-0/Date', 'img_blue_mean_date_2-1/Date', 'img_blue_mean_date_3-2/Date', 'img_blue_mean_date_4-3/Date', 'img_red_std_date_4-0/Date', 'img_red_std_date_1-0/Date', 'img_red_std_date_2-1/Date', 'img_red_std_date_3-2/Date', 'img_red_std_date_4-3/Date', 'img_green_std_date_4-0/Date', 'img_green_std_date_1-0/Date', 'img_green_std_date_2-1/Date', 'img_green_std_date_3-2/Date', 'img_green_std_date_4-3/Date', 'img_blue_std_date_4-0/Date', 'img_blue_std_date_1-0/Date', 'img_blue_std_date_2-1/Date', 'img_blue_std_date_3-2/Date', 'img_blue_std_date_4-3/Date', 'change_status_date_4-0/Date', 'change_status_date_1-0/Date', 'change_status_date_2-1/Date', 'change_status_date_3-2/Date', 'change_status_date_4-3/Date', 'geometry_area', 'geometry_perimeter', 'geometry_inscribed_circle_radius', 'geometry_compactness', 'geometry_convexity', 'geometry_vertices', 'geometry_bboxwidth', 'geometry_bboxheight', 'geometry_bboxratio', 'geometry_bboxarea', 'geometry_bboxperimeter', 'geometry_aspectratio', 'geometry_diameter', 'geometry_minumum_bounding_circle', 'geometry_minimum_rotated_rectangle', 'neighb_density', 'neighb_nb', 'neighb_similar', 'neighb_maxdiff_change_status_date0_0.001', 'neighb_maxdiff_change_status_date1_0.001', 'neighb_maxdiff_change_status_date2_0.001', 'neighb_maxdiff_change_status_date3_0.001', 'neighb_maxdiff_change_status_date4_0.001', 'neighb_maxdiff_change_status_date0_0.003', 'neighb_maxdiff_change_status_date1_0.003', 'neighb_maxdiff_change_status_date2_0.003', 'neighb_maxdiff_change_status_date3_0.003', 'neighb_maxdiff_change_status_date4_0.003', 'neighb_maxdiff_meancolor_0', 'neighb_maxdiff_meancolor_1', 'neighb_maxdiff_meancolor_2', 'neighb_maxdiff_meancolor_3', 'neighb_maxdiff_meancolor_4', 'neighb_maxdiff_stdcolor_0', 'neighb_maxdiff_stdcolor_1', 'neighb_maxdiff_stdcolor_2', 'neighb_maxdiff_stdcolor_3', 'neighb_maxdiff_stdcolor_4', 'neighb_meandiff_changestatus_0', 'neighb_meandiff_changestatus_1', 'neighb_meandiff_changestatus_2', 'neighb_meandiff_changestatus_3', 'neighb_meandiff_changestatus_4', 'neighb_meandiff_meancolor_0', 'neighb_meandiff_meancolor_1', 'neighb_meandiff_meancolor_2', 'neighb_meandiff_meancolor_3', 'neighb_meandiff_meancolor_4', 'neighb_meandiff_stdcolor_0', 'neighb_meandiff_stdcolor_1', 'neighb_meandiff_stdcolor_2', 'neighb_meandiff_stdcolor_3', 'neighb_meandiff_stdcolor_4', "
     ]
    }
   ],
   "source": [
    "for column, typ in zip(train_df.columns, train_df.dtypes):\n",
    "    if typ in ['object', 'datetime64[ns]', 'geometry']:\n",
    "        continue\n",
    "    print('\\'', end=\"\")\n",
    "    print(column, end=\"\\', \")"
   ]
  },
  {
   "cell_type": "code",
   "execution_count": 8,
   "id": "28be7dca",
   "metadata": {
    "execution": {
     "iopub.execute_input": "2024-02-15T23:00:16.879946Z",
     "iopub.status.busy": "2024-02-15T23:00:16.879711Z",
     "iopub.status.idle": "2024-02-15T23:00:16.899935Z",
     "shell.execute_reply": "2024-02-15T23:00:16.898889Z"
    },
    "papermill": {
     "duration": 0.033225,
     "end_time": "2024-02-15T23:00:16.902370",
     "exception": false,
     "start_time": "2024-02-15T23:00:16.869145",
     "status": "completed"
    },
    "tags": []
   },
   "outputs": [],
   "source": [
    "feature_names=[ 'urban_type_N,A', 'urban_type_UrbanSlum', 'urban_type_Rural', 'urban_type_DenseUrban', 'urban_type_Industrial', 'urban_type_SparseUrban', \n",
    "                #'urban_type_Dense Urban,Industrial', 'urban_type_Dense Urban,Urban Slum', 'urban_type_Sparse Urban,Industrial', 'urban_type_Sparse Urban,Urban Slum', \n",
    "               \n",
    "                'geography_type_N,A', 'geography_type_Desert', 'geography_type_Farms', 'geography_type_DenseForest', 'geography_type_Hills', 'geography_type_River', 'geography_type_GrassLand', 'geography_type_Snow', 'geography_type_Lakes', 'geography_type_BarrenLand', 'geography_type_Coastal', 'geography_type_SparseForest', \n",
    "                #'geography_type_Sparse Forest,Grass Land', 'geography_type_Sparse Forest,Farms', 'geography_type_Sparse Forest,Dense Forest,Grass Land', 'geography_type_Barren Land,Sparse Forest', 'geography_type_Sparse Forest,Dense Forest', 'geography_type_Sparse Forest,Grass Land,Lakes', 'geography_type_Sparse Forest,Farms,Lakes', 'geography_type_River,Sparse Forest,Grass Land', 'geography_type_River,Sparse Forest', 'geography_type_Sparse Forest,Dense Forest,Grass Land,Lakes', 'geography_type_Barren Land,Sparse Forest,Grass Land', 'geography_type_Dense Forest,Grass Land', 'geography_type_River,Sparse Forest,Farms', \n",
    "               \n",
    "                #'geourban_geography_type_Desert_urban_type_Industrial', 'geourban_geography_type_Farms_urban_type_Rural', 'geourban_geography_type_Farms_urban_type_DenseUrban', 'geourban_geography_type_Farms_urban_type_Industrial', 'geourban_geography_type_Farms_urban_type_SparseUrban', 'geourban_geography_type_DenseForest_urban_type_UrbanSlum', 'geourban_geography_type_DenseForest_urban_type_Rural', 'geourban_geography_type_DenseForest_urban_type_DenseUrban', 'geourban_geography_type_DenseForest_urban_type_Industrial', 'geourban_geography_type_DenseForest_urban_type_SparseUrban', 'geourban_geography_type_River_urban_type_Rural', 'geourban_geography_type_River_urban_type_DenseUrban', 'geourban_geography_type_River_urban_type_Industrial', 'geourban_geography_type_River_urban_type_SparseUrban', 'geourban_geography_type_GrassLand_urban_type_Rural', 'geourban_geography_type_GrassLand_urban_type_DenseUrban', 'geourban_geography_type_GrassLand_urban_type_Industrial', 'geourban_geography_type_GrassLand_urban_type_SparseUrban', 'geourban_geography_type_Lakes_urban_type_Rural', 'geourban_geography_type_Lakes_urban_type_DenseUrban', 'geourban_geography_type_Lakes_urban_type_Industrial', 'geourban_geography_type_Lakes_urban_type_SparseUrban', 'geourban_geography_type_BarrenLand_urban_type_Rural', 'geourban_geography_type_BarrenLand_urban_type_DenseUrban', 'geourban_geography_type_BarrenLand_urban_type_Industrial', 'geourban_geography_type_BarrenLand_urban_type_SparseUrban', 'geourban_geography_type_Coastal_urban_type_SparseUrban', 'geourban_geography_type_SparseForest_urban_type_UrbanSlum', 'geourban_geography_type_SparseForest_urban_type_Rural', 'geourban_geography_type_SparseForest_urban_type_DenseUrban', 'geourban_geography_type_SparseForest_urban_type_Industrial', 'geourban_geography_type_SparseForest_urban_type_SparseUrban', \n",
    "               \n",
    "                'img_red_mean_date0', 'img_red_mean_date1', 'img_red_mean_date2', 'img_red_mean_date3', 'img_red_mean_date4', \n",
    "                'img_green_mean_date0', 'img_green_mean_date1', 'img_green_mean_date2', 'img_green_mean_date3', 'img_green_mean_date4', \n",
    "                'img_blue_mean_date0', 'img_blue_mean_date1', 'img_blue_mean_date2', 'img_blue_mean_date3', 'img_blue_mean_date4', \n",
    "               \n",
    "                'img_red_std_date0', 'img_red_std_date1', 'img_red_std_date2', 'img_red_std_date3', 'img_red_std_date4', \n",
    "                'img_green_std_date0', 'img_green_std_date1', 'img_green_std_date2', 'img_green_std_date3', 'img_green_std_date4', \n",
    "                'img_blue_std_date0', 'img_blue_std_date1', 'img_blue_std_date2', 'img_blue_std_date3', 'img_blue_std_date4', \n",
    "               \n",
    "                'change_status_date0_Construction Done', 'change_status_date0_Construction Midway', 'change_status_date0_Construction Started', 'change_status_date0_Excavation', 'change_status_date0_Greenland', 'change_status_date0_Land Cleared', 'change_status_date0_Materials Dumped', 'change_status_date0_Materials Introduced', 'change_status_date0_Operational', 'change_status_date0_Prior Construction', \n",
    "                'change_status_date1_Construction Done', 'change_status_date1_Construction Midway', 'change_status_date1_Construction Started', 'change_status_date1_Excavation', 'change_status_date1_Greenland', 'change_status_date1_Land Cleared', 'change_status_date1_Materials Dumped', 'change_status_date1_Materials Introduced', 'change_status_date1_Operational', 'change_status_date1_Prior Construction', \n",
    "                'change_status_date2_Construction Done', 'change_status_date2_Construction Midway', 'change_status_date2_Construction Started', 'change_status_date2_Excavation', 'change_status_date2_Greenland', 'change_status_date2_Land Cleared', 'change_status_date2_Materials Dumped', 'change_status_date2_Materials Introduced', 'change_status_date2_Operational', 'change_status_date2_Prior Construction', \n",
    "                'change_status_date3_Construction Done', 'change_status_date3_Construction Midway', 'change_status_date3_Construction Started', 'change_status_date3_Excavation', 'change_status_date3_Greenland', 'change_status_date3_Land Cleared', 'change_status_date3_Materials Dumped', 'change_status_date3_Materials Introduced', 'change_status_date3_Operational', 'change_status_date3_Prior Construction', \n",
    "                'change_status_date4_Construction Done', 'change_status_date4_Construction Midway', 'change_status_date4_Construction Started', 'change_status_date4_Excavation', 'change_status_date4_Greenland', 'change_status_date4_Land Cleared', 'change_status_date4_Materials Dumped', 'change_status_date4_Materials Introduced', 'change_status_date4_Operational', 'change_status_date4_Prior Construction', \n",
    "               \n",
    "                'change_status_Prior Construction', 'change_status_Greenland', 'change_status_Land Cleared', 'change_status_Excavation', 'change_status_Materials Dumped', 'change_status_Materials Introduced', 'change_status_Construction Started', 'change_status_Construction Midway', 'change_status_Construction Done', 'change_status_Operational', \n",
    "                'change_status_date0_encoded', 'change_status_date1_encoded', 'change_status_date2_encoded', 'change_status_date3_encoded', 'change_status_date4_encoded', \n",
    "                'change_status_date_4-0', 'change_status_date_1-0', 'change_status_date_2-1', 'change_status_date_3-2', 'change_status_date_4-3', \n",
    "               \n",
    "                'img_mean_date0', 'img_std_date0', 'img_mean_date1', 'img_std_date1', 'img_mean_date2', 'img_std_date2', 'img_mean_date3', 'img_std_date3', 'img_mean_date4', 'img_std_date4', \n",
    "                'img_mean_date_4-0', 'img_mean_date_1-0', 'img_mean_date_2-1', 'img_mean_date_3-2', 'img_mean_date_4-3', 'img_std_date_4-0', 'img_std_date_1-0', 'img_std_date_2-1', 'img_std_date_3-2', 'img_std_date_4-3', \n",
    "               \n",
    "                'img_red_mean_date_4-0', 'img_red_mean_date_1-0', 'img_red_mean_date_2-1', 'img_red_mean_date_3-2', 'img_red_mean_date_4-3', 'img_green_mean_date_4-0', 'img_green_mean_date_1-0', 'img_green_mean_date_2-1', 'img_green_mean_date_3-2', 'img_green_mean_date_4-3', 'img_blue_mean_date_4-0', 'img_blue_mean_date_1-0', 'img_blue_mean_date_2-1', 'img_blue_mean_date_3-2', 'img_blue_mean_date_4-3', 'img_red_std_date_4-0', 'img_red_std_date_1-0', 'img_red_std_date_2-1', 'img_red_std_date_3-2', 'img_red_std_date_4-3', 'img_green_std_date_4-0', 'img_green_std_date_1-0', 'img_green_std_date_2-1', 'img_green_std_date_3-2', 'img_green_std_date_4-3', 'img_blue_std_date_4-0', 'img_blue_std_date_1-0', 'img_blue_std_date_2-1', 'img_blue_std_date_3-2', 'img_blue_std_date_4-3', \n",
    "                \n",
    "                'date_1-0', 'date_2-1', 'date_3-2', 'date_4-3', 'date_4-0', 'date_0-0min', \n",
    "                'img_mean_date_4-0/Date', 'img_mean_date_1-0/Date', 'img_mean_date_2-1/Date', 'img_mean_date_3-2/Date', 'img_mean_date_4-3/Date', 'img_std_date_4-0/Date', 'img_std_date_1-0/Date', 'img_std_date_2-1/Date', 'img_std_date_3-2/Date', 'img_std_date_4-3/Date', 'img_red_mean_date_4-0/Date', 'img_red_mean_date_1-0/Date', 'img_red_mean_date_2-1/Date', 'img_red_mean_date_3-2/Date', 'img_red_mean_date_4-3/Date', 'img_green_mean_date_4-0/Date', 'img_green_mean_date_1-0/Date', 'img_green_mean_date_2-1/Date', 'img_green_mean_date_3-2/Date', 'img_green_mean_date_4-3/Date', 'img_blue_mean_date_4-0/Date', 'img_blue_mean_date_1-0/Date', 'img_blue_mean_date_2-1/Date', 'img_blue_mean_date_3-2/Date', 'img_blue_mean_date_4-3/Date', 'img_red_std_date_4-0/Date', 'img_red_std_date_1-0/Date', 'img_red_std_date_2-1/Date', 'img_red_std_date_3-2/Date', 'img_red_std_date_4-3/Date', 'img_green_std_date_4-0/Date', 'img_green_std_date_1-0/Date', 'img_green_std_date_2-1/Date', 'img_green_std_date_3-2/Date', 'img_green_std_date_4-3/Date', 'img_blue_std_date_4-0/Date', 'img_blue_std_date_1-0/Date', 'img_blue_std_date_2-1/Date', 'img_blue_std_date_3-2/Date', 'img_blue_std_date_4-3/Date', \n",
    "                'change_status_date_4-0/Date', 'change_status_date_1-0/Date', 'change_status_date_2-1/Date', 'change_status_date_3-2/Date', 'change_status_date_4-3/Date', \n",
    "               \n",
    "                'geometry_area', 'geometry_perimeter', 'geometry_inscribed_circle_radius', 'geometry_compactness', 'geometry_convexity', 'geometry_vertices', 'geometry_bboxwidth', 'geometry_bboxheight', 'geometry_bboxratio', 'geometry_bboxarea', 'geometry_bboxperimeter', \n",
    "                #'geometry_aspectratio', \n",
    "                'geometry_diameter', 'geometry_minumum_bounding_circle', 'geometry_minimum_rotated_rectangle', \n",
    "               \n",
    "                'neighb_density', 'neighb_nb', 'neighb_similar', \n",
    "                'neighb_maxdiff_change_status_date0_0.001', 'neighb_maxdiff_change_status_date1_0.001', 'neighb_maxdiff_change_status_date2_0.001', 'neighb_maxdiff_change_status_date3_0.001', 'neighb_maxdiff_change_status_date4_0.001', \n",
    "                'neighb_maxdiff_change_status_date0_0.003', 'neighb_maxdiff_change_status_date1_0.003', 'neighb_maxdiff_change_status_date2_0.003', 'neighb_maxdiff_change_status_date3_0.003', 'neighb_maxdiff_change_status_date4_0.003', \n",
    "                'neighb_maxdiff_meancolor_0', 'neighb_maxdiff_meancolor_1', 'neighb_maxdiff_meancolor_2', 'neighb_maxdiff_meancolor_3', 'neighb_maxdiff_meancolor_4', \n",
    "                'neighb_maxdiff_stdcolor_0', 'neighb_maxdiff_stdcolor_1', 'neighb_maxdiff_stdcolor_2', 'neighb_maxdiff_stdcolor_3', 'neighb_maxdiff_stdcolor_4', \n",
    "               \n",
    "                'neighb_meandiff_changestatus_0', 'neighb_meandiff_changestatus_1', 'neighb_meandiff_changestatus_2', 'neighb_meandiff_changestatus_3', 'neighb_meandiff_changestatus_4', \n",
    "                'neighb_meandiff_meancolor_0', 'neighb_meandiff_meancolor_1', 'neighb_meandiff_meancolor_2', 'neighb_meandiff_meancolor_3', 'neighb_meandiff_meancolor_4', \n",
    "                'neighb_meandiff_stdcolor_0', 'neighb_meandiff_stdcolor_1', 'neighb_meandiff_stdcolor_2', 'neighb_meandiff_stdcolor_3', 'neighb_meandiff_stdcolor_4'\n",
    "            ]"
   ]
  },
  {
   "cell_type": "code",
   "execution_count": 9,
   "id": "f7b0287a",
   "metadata": {
    "execution": {
     "iopub.execute_input": "2024-02-15T23:00:16.925633Z",
     "iopub.status.busy": "2024-02-15T23:00:16.925252Z",
     "iopub.status.idle": "2024-02-15T23:00:17.459381Z",
     "shell.execute_reply": "2024-02-15T23:00:17.458569Z"
    },
    "papermill": {
     "duration": 0.548222,
     "end_time": "2024-02-15T23:00:17.461695",
     "exception": false,
     "start_time": "2024-02-15T23:00:16.913473",
     "status": "completed"
    },
    "tags": []
   },
   "outputs": [],
   "source": [
    "X = train_df[feature_names].to_numpy()\n",
    "Y = train_df['change_type'].to_numpy()\n",
    "X_test = test_df[feature_names].to_numpy()"
   ]
  },
  {
   "cell_type": "code",
   "execution_count": 10,
   "id": "25daffb0",
   "metadata": {
    "execution": {
     "iopub.execute_input": "2024-02-15T23:00:17.482391Z",
     "iopub.status.busy": "2024-02-15T23:00:17.482073Z",
     "iopub.status.idle": "2024-02-15T23:00:17.486595Z",
     "shell.execute_reply": "2024-02-15T23:00:17.485722Z"
    },
    "papermill": {
     "duration": 0.017139,
     "end_time": "2024-02-15T23:00:17.488757",
     "exception": false,
     "start_time": "2024-02-15T23:00:17.471618",
     "status": "completed"
    },
    "tags": []
   },
   "outputs": [
    {
     "name": "stdout",
     "output_type": "stream",
     "text": [
      "(294296, 271) (294296,) (120526, 271)\n"
     ]
    }
   ],
   "source": [
    "print(X.shape, Y.shape, X_test.shape)"
   ]
  },
  {
   "cell_type": "markdown",
   "id": "f1b7cf58",
   "metadata": {},
   "source": [
    "We impute nan values for test data"
   ]
  },
  {
   "cell_type": "code",
   "execution_count": 11,
   "id": "80fca94c",
   "metadata": {
    "execution": {
     "iopub.execute_input": "2024-02-15T23:00:17.511996Z",
     "iopub.status.busy": "2024-02-15T23:00:17.511136Z",
     "iopub.status.idle": "2024-02-15T23:00:34.420000Z",
     "shell.execute_reply": "2024-02-15T23:00:34.419061Z"
    },
    "papermill": {
     "duration": 16.923857,
     "end_time": "2024-02-15T23:00:34.423011",
     "exception": false,
     "start_time": "2024-02-15T23:00:17.499154",
     "status": "completed"
    },
    "tags": []
   },
   "outputs": [],
   "source": [
    "\n",
    "from sklearn.impute import SimpleImputer\n",
    "\n",
    "# Handle NaN values using SimpleImputer\n",
    "imp_mean = SimpleImputer(missing_values=np.nan, strategy='median')\n",
    "imp_mean.fit(np.concatenate([X, X_test], axis=0))\n",
    "X_test = imp_mean.transform(X_test)\n"
   ]
  },
  {
   "cell_type": "markdown",
   "id": "52288a30",
   "metadata": {},
   "source": [
    "Train test split, 20% validation"
   ]
  },
  {
   "cell_type": "code",
   "execution_count": 12,
   "id": "229c2275",
   "metadata": {
    "execution": {
     "iopub.execute_input": "2024-02-15T23:00:34.449894Z",
     "iopub.status.busy": "2024-02-15T23:00:34.448942Z",
     "iopub.status.idle": "2024-02-15T23:00:35.546799Z",
     "shell.execute_reply": "2024-02-15T23:00:35.545992Z"
    },
    "papermill": {
     "duration": 1.111875,
     "end_time": "2024-02-15T23:00:35.549314",
     "exception": false,
     "start_time": "2024-02-15T23:00:34.437439",
     "status": "completed"
    },
    "tags": []
   },
   "outputs": [],
   "source": [
    "X_train, X_valid, Y_train, Y_valid = train_test_split(X, Y, test_size=0.2, random_state=65, stratify=Y)"
   ]
  },
  {
   "cell_type": "code",
   "execution_count": 13,
   "id": "a9f54274",
   "metadata": {
    "execution": {
     "iopub.execute_input": "2024-02-15T23:00:35.570999Z",
     "iopub.status.busy": "2024-02-15T23:00:35.570647Z",
     "iopub.status.idle": "2024-02-15T23:00:35.580087Z",
     "shell.execute_reply": "2024-02-15T23:00:35.579193Z"
    },
    "papermill": {
     "duration": 0.022914,
     "end_time": "2024-02-15T23:00:35.582143",
     "exception": false,
     "start_time": "2024-02-15T23:00:35.559229",
     "status": "completed"
    },
    "tags": []
   },
   "outputs": [
    {
     "data": {
      "text/plain": [
       "(array([0, 1, 2, 3, 4, 5]),\n",
       " array([ 25141,  11424, 117708,  79988,   1058,    117]))"
      ]
     },
     "execution_count": 13,
     "metadata": {},
     "output_type": "execute_result"
    }
   ],
   "source": [
    "np.unique(Y_train, return_counts=True)"
   ]
  },
  {
   "cell_type": "markdown",
   "id": "ba8e1ebd",
   "metadata": {
    "papermill": {
     "duration": 0.009929,
     "end_time": "2024-02-15T23:00:35.602351",
     "exception": false,
     "start_time": "2024-02-15T23:00:35.592422",
     "status": "completed"
    },
    "tags": []
   },
   "source": [
    "# 2) Oversample"
   ]
  },
  {
   "cell_type": "code",
   "execution_count": 14,
   "id": "f7873b6a",
   "metadata": {
    "execution": {
     "iopub.execute_input": "2024-02-15T23:00:35.624231Z",
     "iopub.status.busy": "2024-02-15T23:00:35.623884Z",
     "iopub.status.idle": "2024-02-15T23:00:35.631448Z",
     "shell.execute_reply": "2024-02-15T23:00:35.630516Z"
    },
    "papermill": {
     "duration": 0.021072,
     "end_time": "2024-02-15T23:00:35.633702",
     "exception": false,
     "start_time": "2024-02-15T23:00:35.612630",
     "status": "completed"
    },
    "tags": []
   },
   "outputs": [
    {
     "data": {
      "text/plain": [
       "'\\nfrom imblearn.under_sampling import RandomUnderSampler\\n\\nrus = RandomUnderSampler(random_state=42, sampling_strategy={2:70000})\\nX_under, Y_under = rus.fit_resample(X_train, Y_train)\\nnp.unique(Y_under, return_counts=True)\\n\\n## TEST FINALL\\n#X_under, Y_under = X, Y\\n\\n\\ncategorical_columns = []\\nfor iColumn in range(len(X_train[0])):\\n    if len(np.unique(X_train[:,iColumn])) < 300:\\n        #print(feature_names[iColumn], len(np.unique(X_train[:,iColumn])))\\n        categorical_columns.append(iColumn)\\n#categorical_columns\\n\\nfrom imblearn.over_sampling import SMOTE, SMOTENC\\n\\n#sm = SMOTE(random_state=42, sampling_strategy={5:30000})\\nsm = SMOTENC(random_state=42, sampling_strategy={4:10000, 5:10000}, categorical_features=categorical_columns)\\nX_over, Y_over = sm.fit_resample(X_under, Y_under)\\n#X_over, Y_over = sm.fit_resample(X, Y)\\n\\n#X_over, Y_over = X_under, Y_under\\n\\n#from imblearn.over_sampling import RandomOverSampler\\n#ros = RandomOverSampler(random_state=0, sampling_strategy={5:50000})\\n\\n#X_over, Y_over = ros.fit_resample(X_under, Y_under)\\n\\n#pd.DataFrame(X_under[Y_under == 5][119:]).head(n=5)\\n#pd.DataFrame(X_over[Y_over == 5][119:]).head(n=5)\\n\\n'"
      ]
     },
     "execution_count": 14,
     "metadata": {},
     "output_type": "execute_result"
    }
   ],
   "source": [
    "\"\"\"\n",
    "from imblearn.under_sampling import RandomUnderSampler\n",
    "\n",
    "rus = RandomUnderSampler(random_state=42, sampling_strategy={2:70000})\n",
    "X_under, Y_under = rus.fit_resample(X_train, Y_train)\n",
    "np.unique(Y_under, return_counts=True)\n",
    "\n",
    "## TEST FINALL\n",
    "#X_under, Y_under = X, Y\n",
    "\n",
    "\n",
    "categorical_columns = []\n",
    "for iColumn in range(len(X_train[0])):\n",
    "    if len(np.unique(X_train[:,iColumn])) < 300:\n",
    "        #print(feature_names[iColumn], len(np.unique(X_train[:,iColumn])))\n",
    "        categorical_columns.append(iColumn)\n",
    "#categorical_columns\n",
    "\n",
    "from imblearn.over_sampling import SMOTE, SMOTENC\n",
    "\n",
    "#sm = SMOTE(random_state=42, sampling_strategy={5:30000})\n",
    "sm = SMOTENC(random_state=42, sampling_strategy={4:10000, 5:10000}, categorical_features=categorical_columns)\n",
    "X_over, Y_over = sm.fit_resample(X_under, Y_under)\n",
    "#X_over, Y_over = sm.fit_resample(X, Y)\n",
    "\n",
    "#X_over, Y_over = X_under, Y_under\n",
    "\n",
    "#from imblearn.over_sampling import RandomOverSampler\n",
    "#ros = RandomOverSampler(random_state=0, sampling_strategy={5:50000})\n",
    "\n",
    "#X_over, Y_over = ros.fit_resample(X_under, Y_under)\n",
    "\n",
    "#pd.DataFrame(X_under[Y_under == 5][119:]).head(n=5)\n",
    "#pd.DataFrame(X_over[Y_over == 5][119:]).head(n=5)\n",
    "\n",
    "\"\"\""
   ]
  },
  {
   "cell_type": "code",
   "execution_count": 15,
   "id": "eecd4891",
   "metadata": {
    "execution": {
     "iopub.execute_input": "2024-02-15T23:00:35.654552Z",
     "iopub.status.busy": "2024-02-15T23:00:35.654226Z",
     "iopub.status.idle": "2024-02-15T23:00:35.658101Z",
     "shell.execute_reply": "2024-02-15T23:00:35.657299Z"
    },
    "papermill": {
     "duration": 0.016501,
     "end_time": "2024-02-15T23:00:35.660042",
     "exception": false,
     "start_time": "2024-02-15T23:00:35.643541",
     "status": "completed"
    },
    "tags": []
   },
   "outputs": [],
   "source": [
    "X_over, Y_over = X_train, Y_train"
   ]
  },
  {
   "cell_type": "code",
   "execution_count": 16,
   "id": "c24abbfb",
   "metadata": {
    "execution": {
     "iopub.execute_input": "2024-02-15T23:00:35.681161Z",
     "iopub.status.busy": "2024-02-15T23:00:35.680864Z",
     "iopub.status.idle": "2024-02-15T23:00:35.689891Z",
     "shell.execute_reply": "2024-02-15T23:00:35.689059Z"
    },
    "papermill": {
     "duration": 0.021958,
     "end_time": "2024-02-15T23:00:35.691888",
     "exception": false,
     "start_time": "2024-02-15T23:00:35.669930",
     "status": "completed"
    },
    "tags": []
   },
   "outputs": [
    {
     "data": {
      "text/plain": [
       "(array([0, 1, 2, 3, 4, 5]),\n",
       " array([ 25141,  11424, 117708,  79988,   1058,    117]))"
      ]
     },
     "execution_count": 16,
     "metadata": {},
     "output_type": "execute_result"
    }
   ],
   "source": [
    "np.unique(Y_over, return_counts=True)"
   ]
  },
  {
   "cell_type": "code",
   "execution_count": 17,
   "id": "4406b771",
   "metadata": {
    "execution": {
     "iopub.execute_input": "2024-02-15T23:00:35.715594Z",
     "iopub.status.busy": "2024-02-15T23:00:35.715201Z",
     "iopub.status.idle": "2024-02-15T23:00:35.721240Z",
     "shell.execute_reply": "2024-02-15T23:00:35.720319Z"
    },
    "papermill": {
     "duration": 0.020743,
     "end_time": "2024-02-15T23:00:35.723452",
     "exception": false,
     "start_time": "2024-02-15T23:00:35.702709",
     "status": "completed"
    },
    "tags": []
   },
   "outputs": [
    {
     "data": {
      "text/plain": [
       "'\\nclasses_weights = compute_sample_weight(class_weight=\"balanced\", y=Y_over)\\nnp.unique(classes_weights)\\n'"
      ]
     },
     "execution_count": 17,
     "metadata": {},
     "output_type": "execute_result"
    }
   ],
   "source": [
    "\"\"\"\n",
    "classes_weights = compute_sample_weight(class_weight=\"balanced\", y=Y_over)\n",
    "np.unique(classes_weights)\n",
    "\"\"\""
   ]
  },
  {
   "cell_type": "markdown",
   "id": "37d1e8a2",
   "metadata": {},
   "source": [
    "# 3) Training"
   ]
  },
  {
   "cell_type": "code",
   "execution_count": 18,
   "id": "af0f119b",
   "metadata": {
    "execution": {
     "iopub.execute_input": "2024-02-15T23:00:35.746342Z",
     "iopub.status.busy": "2024-02-15T23:00:35.746007Z",
     "iopub.status.idle": "2024-02-15T23:00:35.751881Z",
     "shell.execute_reply": "2024-02-15T23:00:35.751022Z"
    },
    "papermill": {
     "duration": 0.019574,
     "end_time": "2024-02-15T23:00:35.753941",
     "exception": false,
     "start_time": "2024-02-15T23:00:35.734367",
     "status": "completed"
    },
    "tags": []
   },
   "outputs": [],
   "source": [
    "def printScores(y_true, y_predict):\n",
    "    f1_score_micro = f1_score(y_true, y_predict, average='micro')\n",
    "    f1_score_macro = f1_score(y_true, y_predict, average='macro')\n",
    "    f1_score_weighted = f1_score(y_true, y_predict, average='weighted')\n",
    "    train_conf_matrix = confusion_matrix(y_true, y_predict)\n",
    "    print(\"F1 score micro\", f1_score_micro)\n",
    "    print(\"F1 score macro\", f1_score_macro)\n",
    "    print(\"F1 score weighted\", f1_score_weighted)\n",
    "    print(train_conf_matrix)"
   ]
  },
  {
   "cell_type": "code",
   "execution_count": 19,
   "id": "191368dc",
   "metadata": {
    "execution": {
     "iopub.execute_input": "2024-02-15T23:00:35.776147Z",
     "iopub.status.busy": "2024-02-15T23:00:35.775895Z",
     "iopub.status.idle": "2024-02-15T23:00:35.781484Z",
     "shell.execute_reply": "2024-02-15T23:00:35.780656Z"
    },
    "papermill": {
     "duration": 0.019178,
     "end_time": "2024-02-15T23:00:35.783308",
     "exception": false,
     "start_time": "2024-02-15T23:00:35.764130",
     "status": "completed"
    },
    "tags": []
   },
   "outputs": [],
   "source": [
    "model = xgb.XGBClassifier(silent=False, \n",
    "                      num_class=6,\n",
    "                      objective='multi:softmax', \n",
    "                      seed=42,\n",
    "                      scale_pos_weight=1,\n",
    "                      learning_rate=0.01,  \n",
    "                      colsample_bytree = 0.3,\n",
    "                      subsample = 1.0,\n",
    "                      n_estimators=2550, \n",
    "                      #reg_alpha = 0.3,\n",
    "                      min_child_weight=29,\n",
    "                      max_depth=13, \n",
    "                      gamma=0.003177450944562012,\n",
    "                      n_jobs=-1,\n",
    "                      reg_lambda=0.3736917401344113, #L1 \n",
    "                      reg_alpha=0.01345834681286108, #L2\n",
    "                      tree_method='gpu_hist',\n",
    "                      random_state=2020\n",
    "                    )"
   ]
  },
  {
   "cell_type": "code",
   "execution_count": 20,
   "id": "835a7d08",
   "metadata": {
    "execution": {
     "iopub.execute_input": "2024-02-15T23:00:35.804808Z",
     "iopub.status.busy": "2024-02-15T23:00:35.804562Z",
     "iopub.status.idle": "2024-02-15T23:13:25.163322Z",
     "shell.execute_reply": "2024-02-15T23:13:25.162385Z"
    },
    "papermill": {
     "duration": 769.382421,
     "end_time": "2024-02-15T23:13:25.175795",
     "exception": false,
     "start_time": "2024-02-15T23:00:35.793374",
     "status": "completed"
    },
    "tags": []
   },
   "outputs": [
    {
     "data": {
      "text/html": [
       "<style>#sk-container-id-1 {color: black;background-color: white;}#sk-container-id-1 pre{padding: 0;}#sk-container-id-1 div.sk-toggleable {background-color: white;}#sk-container-id-1 label.sk-toggleable__label {cursor: pointer;display: block;width: 100%;margin-bottom: 0;padding: 0.3em;box-sizing: border-box;text-align: center;}#sk-container-id-1 label.sk-toggleable__label-arrow:before {content: \"▸\";float: left;margin-right: 0.25em;color: #696969;}#sk-container-id-1 label.sk-toggleable__label-arrow:hover:before {color: black;}#sk-container-id-1 div.sk-estimator:hover label.sk-toggleable__label-arrow:before {color: black;}#sk-container-id-1 div.sk-toggleable__content {max-height: 0;max-width: 0;overflow: hidden;text-align: left;background-color: #f0f8ff;}#sk-container-id-1 div.sk-toggleable__content pre {margin: 0.2em;color: black;border-radius: 0.25em;background-color: #f0f8ff;}#sk-container-id-1 input.sk-toggleable__control:checked~div.sk-toggleable__content {max-height: 200px;max-width: 100%;overflow: auto;}#sk-container-id-1 input.sk-toggleable__control:checked~label.sk-toggleable__label-arrow:before {content: \"▾\";}#sk-container-id-1 div.sk-estimator input.sk-toggleable__control:checked~label.sk-toggleable__label {background-color: #d4ebff;}#sk-container-id-1 div.sk-label input.sk-toggleable__control:checked~label.sk-toggleable__label {background-color: #d4ebff;}#sk-container-id-1 input.sk-hidden--visually {border: 0;clip: rect(1px 1px 1px 1px);clip: rect(1px, 1px, 1px, 1px);height: 1px;margin: -1px;overflow: hidden;padding: 0;position: absolute;width: 1px;}#sk-container-id-1 div.sk-estimator {font-family: monospace;background-color: #f0f8ff;border: 1px dotted black;border-radius: 0.25em;box-sizing: border-box;margin-bottom: 0.5em;}#sk-container-id-1 div.sk-estimator:hover {background-color: #d4ebff;}#sk-container-id-1 div.sk-parallel-item::after {content: \"\";width: 100%;border-bottom: 1px solid gray;flex-grow: 1;}#sk-container-id-1 div.sk-label:hover label.sk-toggleable__label {background-color: #d4ebff;}#sk-container-id-1 div.sk-serial::before {content: \"\";position: absolute;border-left: 1px solid gray;box-sizing: border-box;top: 0;bottom: 0;left: 50%;z-index: 0;}#sk-container-id-1 div.sk-serial {display: flex;flex-direction: column;align-items: center;background-color: white;padding-right: 0.2em;padding-left: 0.2em;position: relative;}#sk-container-id-1 div.sk-item {position: relative;z-index: 1;}#sk-container-id-1 div.sk-parallel {display: flex;align-items: stretch;justify-content: center;background-color: white;position: relative;}#sk-container-id-1 div.sk-item::before, #sk-container-id-1 div.sk-parallel-item::before {content: \"\";position: absolute;border-left: 1px solid gray;box-sizing: border-box;top: 0;bottom: 0;left: 50%;z-index: -1;}#sk-container-id-1 div.sk-parallel-item {display: flex;flex-direction: column;z-index: 1;position: relative;background-color: white;}#sk-container-id-1 div.sk-parallel-item:first-child::after {align-self: flex-end;width: 50%;}#sk-container-id-1 div.sk-parallel-item:last-child::after {align-self: flex-start;width: 50%;}#sk-container-id-1 div.sk-parallel-item:only-child::after {width: 0;}#sk-container-id-1 div.sk-dashed-wrapped {border: 1px dashed gray;margin: 0 0.4em 0.5em 0.4em;box-sizing: border-box;padding-bottom: 0.4em;background-color: white;}#sk-container-id-1 div.sk-label label {font-family: monospace;font-weight: bold;display: inline-block;line-height: 1.2em;}#sk-container-id-1 div.sk-label-container {text-align: center;}#sk-container-id-1 div.sk-container {/* jupyter's `normalize.less` sets `[hidden] { display: none; }` but bootstrap.min.css set `[hidden] { display: none !important; }` so we also need the `!important` here to be able to override the default hidden behavior on the sphinx rendered scikit-learn.org. See: https://github.com/scikit-learn/scikit-learn/issues/21755 */display: inline-block !important;position: relative;}#sk-container-id-1 div.sk-text-repr-fallback {display: none;}</style><div id=\"sk-container-id-1\" class=\"sk-top-container\"><div class=\"sk-text-repr-fallback\"><pre>XGBClassifier(base_score=None, booster=None, callbacks=None,\n",
       "              colsample_bylevel=None, colsample_bynode=None,\n",
       "              colsample_bytree=0.3, device=None, early_stopping_rounds=None,\n",
       "              enable_categorical=False, eval_metric=None, feature_types=None,\n",
       "              gamma=0.003177450944562012, grow_policy=None,\n",
       "              importance_type=None, interaction_constraints=None,\n",
       "              learning_rate=0.01, max_bin=None, max_cat_threshold=None,\n",
       "              max_cat_to_onehot=None, max_delta_step=None, max_depth=13,\n",
       "              max_leaves=None, min_child_weight=29, missing=nan,\n",
       "              monotone_constraints=None, multi_strategy=None, n_estimators=2550,\n",
       "              n_jobs=-1, num_class=6, num_parallel_tree=None, ...)</pre><b>In a Jupyter environment, please rerun this cell to show the HTML representation or trust the notebook. <br />On GitHub, the HTML representation is unable to render, please try loading this page with nbviewer.org.</b></div><div class=\"sk-container\" hidden><div class=\"sk-item\"><div class=\"sk-estimator sk-toggleable\"><input class=\"sk-toggleable__control sk-hidden--visually\" id=\"sk-estimator-id-1\" type=\"checkbox\" checked><label for=\"sk-estimator-id-1\" class=\"sk-toggleable__label sk-toggleable__label-arrow\">XGBClassifier</label><div class=\"sk-toggleable__content\"><pre>XGBClassifier(base_score=None, booster=None, callbacks=None,\n",
       "              colsample_bylevel=None, colsample_bynode=None,\n",
       "              colsample_bytree=0.3, device=None, early_stopping_rounds=None,\n",
       "              enable_categorical=False, eval_metric=None, feature_types=None,\n",
       "              gamma=0.003177450944562012, grow_policy=None,\n",
       "              importance_type=None, interaction_constraints=None,\n",
       "              learning_rate=0.01, max_bin=None, max_cat_threshold=None,\n",
       "              max_cat_to_onehot=None, max_delta_step=None, max_depth=13,\n",
       "              max_leaves=None, min_child_weight=29, missing=nan,\n",
       "              monotone_constraints=None, multi_strategy=None, n_estimators=2550,\n",
       "              n_jobs=-1, num_class=6, num_parallel_tree=None, ...)</pre></div></div></div></div></div>"
      ],
      "text/plain": [
       "XGBClassifier(base_score=None, booster=None, callbacks=None,\n",
       "              colsample_bylevel=None, colsample_bynode=None,\n",
       "              colsample_bytree=0.3, device=None, early_stopping_rounds=None,\n",
       "              enable_categorical=False, eval_metric=None, feature_types=None,\n",
       "              gamma=0.003177450944562012, grow_policy=None,\n",
       "              importance_type=None, interaction_constraints=None,\n",
       "              learning_rate=0.01, max_bin=None, max_cat_threshold=None,\n",
       "              max_cat_to_onehot=None, max_delta_step=None, max_depth=13,\n",
       "              max_leaves=None, min_child_weight=29, missing=nan,\n",
       "              monotone_constraints=None, multi_strategy=None, n_estimators=2550,\n",
       "              n_jobs=-1, num_class=6, num_parallel_tree=None, ...)"
      ]
     },
     "execution_count": 20,
     "metadata": {},
     "output_type": "execute_result"
    }
   ],
   "source": [
    "\"\"\"\n",
    "eval_set = [(X_over, Y_over), (X_valid, Y_valid)]\n",
    "eval_metric = [\"merror\", \"auc\"]\n",
    "#model.fit(X_over, Y_over, eval_metric=eval_metric, eval_set=eval_set, early_stopping_rounds=20, verbose=True)#,sample_weight=compute_sample_weight(class_weight=\"balanced\", y=Y_over))\n",
    "\n",
    "model.fit(X_over, Y_over, eval_set=eval_set, early_stopping_rounds=20, verbose=True)#,sample_weight=compute_sample_weight(class_weight=\"balanced\", y=Y_over))\n",
    "\"\"\"\n",
    "model.fit(X, Y, verbose=True)"
   ]
  },
  {
   "cell_type": "markdown",
   "id": "334852ac",
   "metadata": {},
   "source": [
    "Plotting curves"
   ]
  },
  {
   "cell_type": "code",
   "execution_count": 21,
   "id": "be769992",
   "metadata": {
    "execution": {
     "iopub.execute_input": "2024-02-15T23:13:25.197996Z",
     "iopub.status.busy": "2024-02-15T23:13:25.197699Z",
     "iopub.status.idle": "2024-02-15T23:13:25.203169Z",
     "shell.execute_reply": "2024-02-15T23:13:25.202334Z"
    },
    "papermill": {
     "duration": 0.018777,
     "end_time": "2024-02-15T23:13:25.205187",
     "exception": false,
     "start_time": "2024-02-15T23:13:25.186410",
     "status": "completed"
    },
    "tags": []
   },
   "outputs": [
    {
     "data": {
      "text/plain": [
       "\"\\nresults = model.evals_result()\\nepochs = len(results['validation_0']['merror'])\\nx_axis = range(0, epochs)\\n\\nfig, ax = plt.subplots()\\nax.plot(x_axis, results['validation_0']['auc'], label='Train')\\nax.plot(x_axis, results['validation_1']['auc'], label='Test')\\nax.legend()\\nplt.ylabel('AUC')\\nplt.title('XGBoost AUC')\\nplt.show()\\n\""
      ]
     },
     "execution_count": 21,
     "metadata": {},
     "output_type": "execute_result"
    }
   ],
   "source": [
    "\"\"\"\n",
    "results = model.evals_result()\n",
    "epochs = len(results['validation_0']['merror'])\n",
    "x_axis = range(0, epochs)\n",
    "\n",
    "fig, ax = plt.subplots()\n",
    "ax.plot(x_axis, results['validation_0']['auc'], label='Train')\n",
    "ax.plot(x_axis, results['validation_1']['auc'], label='Test')\n",
    "ax.legend()\n",
    "plt.ylabel('AUC')\n",
    "plt.title('XGBoost AUC')\n",
    "plt.show()\n",
    "\"\"\""
   ]
  },
  {
   "cell_type": "code",
   "execution_count": 22,
   "id": "a9b947ee",
   "metadata": {
    "execution": {
     "iopub.execute_input": "2024-02-15T23:13:25.228696Z",
     "iopub.status.busy": "2024-02-15T23:13:25.228421Z",
     "iopub.status.idle": "2024-02-15T23:13:30.857652Z",
     "shell.execute_reply": "2024-02-15T23:13:30.856667Z"
    },
    "papermill": {
     "duration": 5.644416,
     "end_time": "2024-02-15T23:13:30.860134",
     "exception": false,
     "start_time": "2024-02-15T23:13:25.215718",
     "status": "completed"
    },
    "tags": []
   },
   "outputs": [],
   "source": [
    "model.save_model(\"model.json\")"
   ]
  },
  {
   "cell_type": "markdown",
   "id": "a06d6830",
   "metadata": {},
   "source": [
    "Training score"
   ]
  },
  {
   "cell_type": "code",
   "execution_count": 23,
   "id": "1231a117",
   "metadata": {
    "execution": {
     "iopub.execute_input": "2024-02-15T23:13:30.884100Z",
     "iopub.status.busy": "2024-02-15T23:13:30.883766Z",
     "iopub.status.idle": "2024-02-15T23:13:30.889524Z",
     "shell.execute_reply": "2024-02-15T23:13:30.888641Z"
    },
    "papermill": {
     "duration": 0.020261,
     "end_time": "2024-02-15T23:13:30.891844",
     "exception": false,
     "start_time": "2024-02-15T23:13:30.871583",
     "status": "completed"
    },
    "tags": []
   },
   "outputs": [
    {
     "data": {
      "text/plain": [
       "'\\npred = model.predict(X_over)\\nprintScores(Y_over, pred)\\n'"
      ]
     },
     "execution_count": 23,
     "metadata": {},
     "output_type": "execute_result"
    }
   ],
   "source": [
    "\"\"\"\n",
    "pred = model.predict(X_over)\n",
    "printScores(Y_over, pred)\n",
    "\"\"\""
   ]
  },
  {
   "cell_type": "markdown",
   "id": "95db990d",
   "metadata": {},
   "source": [
    "Validation score"
   ]
  },
  {
   "cell_type": "code",
   "execution_count": 24,
   "id": "03ecd8d5",
   "metadata": {
    "execution": {
     "iopub.execute_input": "2024-02-15T23:13:30.918133Z",
     "iopub.status.busy": "2024-02-15T23:13:30.917783Z",
     "iopub.status.idle": "2024-02-15T23:13:36.935636Z",
     "shell.execute_reply": "2024-02-15T23:13:36.934612Z"
    },
    "papermill": {
     "duration": 6.032496,
     "end_time": "2024-02-15T23:13:36.937890",
     "exception": false,
     "start_time": "2024-02-15T23:13:30.905394",
     "status": "completed"
    },
    "tags": []
   },
   "outputs": [
    {
     "name": "stdout",
     "output_type": "stream",
     "text": [
      "F1 score micro 0.9444274549779137\n",
      "F1 score macro 0.7463281089790873\n",
      "F1 score weighted 0.9440369316273594\n",
      "[[ 6180     3    41    61     0     0]\n",
      " [   10  2695    56    95     0     0]\n",
      " [  615    26 28048   738     0     0]\n",
      " [  243    17  1213 18524     0     0]\n",
      " [    2     1    31    89   142     0]\n",
      " [    4     2     8    16     0     0]]\n"
     ]
    }
   ],
   "source": [
    "\n",
    "pred = model.predict(X_valid)\n",
    "printScores(Y_valid, pred)\n"
   ]
  },
  {
   "cell_type": "markdown",
   "id": "3aec70ec",
   "metadata": {},
   "source": [
    "Feature importance"
   ]
  },
  {
   "cell_type": "code",
   "execution_count": 29,
   "id": "b1c5d07c",
   "metadata": {
    "execution": {
     "iopub.execute_input": "2024-02-15T23:13:38.522457Z",
     "iopub.status.busy": "2024-02-15T23:13:38.522099Z",
     "iopub.status.idle": "2024-02-15T23:13:38.527572Z",
     "shell.execute_reply": "2024-02-15T23:13:38.526723Z"
    },
    "papermill": {
     "duration": 0.019206,
     "end_time": "2024-02-15T23:13:38.529329",
     "exception": false,
     "start_time": "2024-02-15T23:13:38.510123",
     "status": "completed"
    },
    "tags": []
   },
   "outputs": [
    {
     "data": {
      "text/plain": [
       "'\\nfrom xgboost import plot_importance\\n\\nmodel.get_booster().feature_names = feature_names\\n\\nfig, ax = plt.subplots(1,1,figsize=(25,35))\\nplot_importance(model.get_booster(), ax=ax)\\nplt.show()\\n'"
      ]
     },
     "execution_count": 29,
     "metadata": {},
     "output_type": "execute_result"
    }
   ],
   "source": [
    "\"\"\"\n",
    "from xgboost import plot_importance\n",
    "\n",
    "model.get_booster().feature_names = feature_names\n",
    "\n",
    "fig, ax = plt.subplots(1,1,figsize=(25,35))\n",
    "plot_importance(model.get_booster(), ax=ax)\n",
    "plt.show()\n",
    "\"\"\""
   ]
  },
  {
   "cell_type": "markdown",
   "id": "a8a60093",
   "metadata": {},
   "source": [
    "# 4) Optuna"
   ]
  },
  {
   "cell_type": "code",
   "execution_count": 25,
   "id": "be9b5957",
   "metadata": {
    "execution": {
     "iopub.execute_input": "2024-02-15T23:13:36.982690Z",
     "iopub.status.busy": "2024-02-15T23:13:36.982002Z",
     "iopub.status.idle": "2024-02-15T23:13:38.406642Z",
     "shell.execute_reply": "2024-02-15T23:13:38.405857Z"
    },
    "papermill": {
     "duration": 1.438506,
     "end_time": "2024-02-15T23:13:38.408890",
     "exception": false,
     "start_time": "2024-02-15T23:13:36.970384",
     "status": "completed"
    },
    "tags": []
   },
   "outputs": [],
   "source": [
    "import optuna"
   ]
  },
  {
   "cell_type": "code",
   "execution_count": 26,
   "id": "6909bcd5",
   "metadata": {
    "execution": {
     "iopub.execute_input": "2024-02-15T23:13:38.432097Z",
     "iopub.status.busy": "2024-02-15T23:13:38.431814Z",
     "iopub.status.idle": "2024-02-15T23:13:38.438428Z",
     "shell.execute_reply": "2024-02-15T23:13:38.437648Z"
    },
    "papermill": {
     "duration": 0.020417,
     "end_time": "2024-02-15T23:13:38.440350",
     "exception": false,
     "start_time": "2024-02-15T23:13:38.419933",
     "status": "completed"
    },
    "tags": []
   },
   "outputs": [
    {
     "data": {
      "text/plain": [
       "\"\\ndef objective(trial):\\n    \\n    param = {\\n        'num_class':6,\\n        'objective':'multi:softmax', \\n        'tree_method':'gpu_hist',  # this parameter means using the GPU when training our model to speedup the training process\\n        'lambda': trial.suggest_loguniform('lambda', 1e-3, 10.0),\\n        'alpha': trial.suggest_loguniform('alpha', 1e-3, 10.0),\\n        'gamma': trial.suggest_loguniform('gamma', 1e-3, 10.0),\\n        'colsample_bytree': trial.suggest_categorical('colsample_bytree', [0.3,0.4,0.5,0.6,0.7,0.8,0.9, 1.0]),\\n        'subsample': trial.suggest_categorical('subsample', [0.4,0.5,0.6,0.7,0.8,0.9,1.0]),\\n        'learning_rate': trial.suggest_categorical('learning_rate', [0.05]),\\n        'n_estimators': 1500,\\n        'max_depth': trial.suggest_categorical('max_depth', [13]),\\n        'random_state': trial.suggest_categorical('random_state', [2020]),\\n        'min_child_weight': trial.suggest_int('min_child_weight', 1, 30),\\n    }\\n    model = xgb.XGBClassifier(**param)\\n    #xgb.XGBRegressor(**param)  \\n    \\n    model.fit(X_train,Y_train,eval_set=[(X_train, Y_train), (X_valid, Y_valid)],early_stopping_rounds=20,verbose=False)\\n    \\n    preds = model.predict(X_valid)\\n    \\n    score = f1_score(Y_valid, preds, average='weighted')\\n    \\n    return score\""
      ]
     },
     "execution_count": 26,
     "metadata": {},
     "output_type": "execute_result"
    }
   ],
   "source": [
    "\"\"\"\n",
    "def objective(trial):\n",
    "    \n",
    "    param = {\n",
    "        'num_class':6,\n",
    "        'objective':'multi:softmax', \n",
    "        'tree_method':'gpu_hist',  # this parameter means using the GPU when training our model to speedup the training process\n",
    "        'lambda': trial.suggest_loguniform('lambda', 1e-3, 10.0),\n",
    "        'alpha': trial.suggest_loguniform('alpha', 1e-3, 10.0),\n",
    "        'gamma': trial.suggest_loguniform('gamma', 1e-3, 10.0),\n",
    "        'colsample_bytree': trial.suggest_categorical('colsample_bytree', [0.3,0.4,0.5,0.6,0.7,0.8,0.9, 1.0]),\n",
    "        'subsample': trial.suggest_categorical('subsample', [0.4,0.5,0.6,0.7,0.8,0.9,1.0]),\n",
    "        'learning_rate': trial.suggest_categorical('learning_rate', [0.05]),\n",
    "        'n_estimators': 1500,\n",
    "        'max_depth': trial.suggest_categorical('max_depth', [13]),\n",
    "        'random_state': trial.suggest_categorical('random_state', [2020]),\n",
    "        'min_child_weight': trial.suggest_int('min_child_weight', 1, 30),\n",
    "    }\n",
    "    model = xgb.XGBClassifier(**param)\n",
    "    #xgb.XGBRegressor(**param)  \n",
    "    \n",
    "    model.fit(X_train,Y_train,eval_set=[(X_train, Y_train), (X_valid, Y_valid)],early_stopping_rounds=20,verbose=False)\n",
    "    \n",
    "    preds = model.predict(X_valid)\n",
    "    \n",
    "    score = f1_score(Y_valid, preds, average='weighted')\n",
    "    \n",
    "    return score\"\"\""
   ]
  },
  {
   "cell_type": "code",
   "execution_count": 27,
   "id": "aa3d8e4d",
   "metadata": {
    "execution": {
     "iopub.execute_input": "2024-02-15T23:13:38.463056Z",
     "iopub.status.busy": "2024-02-15T23:13:38.462782Z",
     "iopub.status.idle": "2024-02-15T23:13:38.468234Z",
     "shell.execute_reply": "2024-02-15T23:13:38.467387Z"
    },
    "papermill": {
     "duration": 0.018999,
     "end_time": "2024-02-15T23:13:38.470061",
     "exception": false,
     "start_time": "2024-02-15T23:13:38.451062",
     "status": "completed"
    },
    "tags": []
   },
   "outputs": [
    {
     "data": {
      "text/plain": [
       "\"\\nstudy = optuna.create_study(direction='maximize')\\nstudy.optimize(objective, n_trials=90)\\nprint('Number of finished trials:', len(study.trials))\\nprint('Best trial:', study.best_trial.params)\""
      ]
     },
     "execution_count": 27,
     "metadata": {},
     "output_type": "execute_result"
    }
   ],
   "source": [
    "\"\"\"\n",
    "study = optuna.create_study(direction='maximize')\n",
    "study.optimize(objective, n_trials=90)\n",
    "print('Number of finished trials:', len(study.trials))\n",
    "print('Best trial:', study.best_trial.params)\"\"\""
   ]
  },
  {
   "cell_type": "code",
   "execution_count": 28,
   "id": "26ecab2a",
   "metadata": {
    "execution": {
     "iopub.execute_input": "2024-02-15T23:13:38.494030Z",
     "iopub.status.busy": "2024-02-15T23:13:38.493065Z",
     "iopub.status.idle": "2024-02-15T23:13:38.497154Z",
     "shell.execute_reply": "2024-02-15T23:13:38.496314Z"
    },
    "papermill": {
     "duration": 0.017751,
     "end_time": "2024-02-15T23:13:38.498955",
     "exception": false,
     "start_time": "2024-02-15T23:13:38.481204",
     "status": "completed"
    },
    "tags": []
   },
   "outputs": [],
   "source": [
    "#study.trials_dataframe()"
   ]
  },
  {
   "cell_type": "markdown",
   "id": "baf27843",
   "metadata": {},
   "source": [
    "# 5) Saving results"
   ]
  },
  {
   "cell_type": "code",
   "execution_count": 31,
   "id": "3bcca6b8",
   "metadata": {
    "execution": {
     "iopub.execute_input": "2024-02-15T23:13:38.583554Z",
     "iopub.status.busy": "2024-02-15T23:13:38.583042Z",
     "iopub.status.idle": "2024-02-15T23:13:49.883656Z",
     "shell.execute_reply": "2024-02-15T23:13:49.882579Z"
    },
    "papermill": {
     "duration": 11.315005,
     "end_time": "2024-02-15T23:13:49.886095",
     "exception": false,
     "start_time": "2024-02-15T23:13:38.571090",
     "status": "completed"
    },
    "tags": []
   },
   "outputs": [],
   "source": [
    "\n",
    "pred_y = model.predict(X_test)\n",
    "\n",
    "## Save results to submission file\n",
    "pred_df = pd.DataFrame(pred_y, columns=['change_type'])\n",
    "pred_df.to_csv(\"data/XGBOOST_13.csv\", index=True, index_label='Id')\n"
   ]
  },
  {
   "cell_type": "code",
   "execution_count": 32,
   "id": "c3bd82e4",
   "metadata": {
    "execution": {
     "iopub.execute_input": "2024-02-15T23:13:49.914108Z",
     "iopub.status.busy": "2024-02-15T23:13:49.912997Z",
     "iopub.status.idle": "2024-02-15T23:14:01.104113Z",
     "shell.execute_reply": "2024-02-15T23:14:01.103299Z"
    },
    "papermill": {
     "duration": 11.206647,
     "end_time": "2024-02-15T23:14:01.106567",
     "exception": false,
     "start_time": "2024-02-15T23:13:49.899920",
     "status": "completed"
    },
    "tags": []
   },
   "outputs": [],
   "source": [
    "\n",
    "pred_probs = model.predict_proba(X_test)\n",
    "np.save(\"data/PROBS_XGBOOST_13\", pred_probs)"
   ]
  }
 ],
 "metadata": {
  "kaggle": {
   "accelerator": "nvidiaTeslaT4",
   "dataSources": [
    {
     "datasetId": 4433393,
     "sourceId": 7627181,
     "sourceType": "datasetVersion"
    }
   ],
   "dockerImageVersionId": 30646,
   "isGpuEnabled": true,
   "isInternetEnabled": true,
   "language": "python",
   "sourceType": "notebook"
  },
  "kernelspec": {
   "display_name": "Python 3",
   "language": "python",
   "name": "python3"
  },
  "language_info": {
   "codemirror_mode": {
    "name": "ipython",
    "version": 3
   },
   "file_extension": ".py",
   "mimetype": "text/x-python",
   "name": "python",
   "nbconvert_exporter": "python",
   "pygments_lexer": "ipython3",
   "version": "3.10.13"
  },
  "papermill": {
   "default_parameters": {},
   "duration": 893.544214,
   "end_time": "2024-02-15T23:14:02.338250",
   "environment_variables": {},
   "exception": null,
   "input_path": "__notebook__.ipynb",
   "output_path": "__notebook__.ipynb",
   "parameters": {},
   "start_time": "2024-02-15T22:59:08.794036",
   "version": "2.5.0"
  }
 },
 "nbformat": 4,
 "nbformat_minor": 5
}
