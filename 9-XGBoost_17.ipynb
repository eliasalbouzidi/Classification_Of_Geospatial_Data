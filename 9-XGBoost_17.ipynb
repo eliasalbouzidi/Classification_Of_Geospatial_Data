{
 "cells": [
  {
   "cell_type": "markdown",
   "id": "3ea35726",
   "metadata": {},
   "source": [
    "<h1><b>[IX - XGBOOST_17]</b></h1>\n",
    "\n",
    "XGBoost, with :\n",
    "\n",
    "- learning_rate=0.01,  \n",
    "- colsample_bytree = 0.3,\n",
    "- subsample = 1.0,\n",
    "- n_estimators=2300, \n",
    "- min_child_weight=29,\n",
    "- max_depth=17, \n",
    "- gamma=0.003177450944562012,\n",
    "- n_jobs=-1,\n",
    "- reg_lambda=0.3736917401344113, #L1 \n",
    "- reg_alpha=0.01345834681286108, #L2\n",
    "\n",
    "The result will be save in `data/XGBOOST_17.csv` and the probabilities in `data/PROBS_XGBOOST_17.npy`\n",
    "\n",
    "Note that the original `data/PROBS_XGBOOST_17.npy` is already available.\n",
    "\n",
    "___________________________"
   ]
  },
  {
   "cell_type": "code",
   "execution_count": 1,
   "id": "3f7fab66",
   "metadata": {
    "_cell_guid": "b1076dfc-b9ad-4769-8c92-a6c4dae69d19",
    "_uuid": "8f2839f25d086af736a60e9eeb907d3b93b6e0e5",
    "execution": {
     "iopub.execute_input": "2024-02-16T19:32:34.109474Z",
     "iopub.status.busy": "2024-02-16T19:32:34.109117Z",
     "iopub.status.idle": "2024-02-16T19:32:37.749037Z",
     "shell.execute_reply": "2024-02-16T19:32:37.748212Z"
    },
    "papermill": {
     "duration": 3.653806,
     "end_time": "2024-02-16T19:32:37.751221",
     "exception": false,
     "start_time": "2024-02-16T19:32:34.097415",
     "status": "completed"
    },
    "tags": []
   },
   "outputs": [],
   "source": [
    "import geopandas as gpd\n",
    "import pandas as pd\n",
    "import numpy as np\n",
    "import optuna\n",
    "\n",
    "import matplotlib.pyplot as plt\n",
    "import seaborn as sns\n",
    "\n",
    "import warnings\n",
    "warnings.filterwarnings('ignore')\n",
    "\n",
    "pd.set_option('display.max_columns', None)  \n",
    "pd.set_option('display.max_rows', None)  \n",
    "from sklearn.metrics import f1_score, confusion_matrix\n",
    "from sklearn.ensemble import RandomForestClassifier\n",
    "\n",
    "from sklearn.model_selection import StratifiedKFold\n",
    "import xgboost as xgb\n",
    "from sklearn.utils.class_weight import compute_sample_weight\n",
    "from sklearn.model_selection import train_test_split"
   ]
  },
  {
   "cell_type": "code",
   "execution_count": 2,
   "id": "fe3fd0d6",
   "metadata": {
    "execution": {
     "iopub.execute_input": "2024-02-16T19:32:37.773252Z",
     "iopub.status.busy": "2024-02-16T19:32:37.772465Z",
     "iopub.status.idle": "2024-02-16T19:32:37.776345Z",
     "shell.execute_reply": "2024-02-16T19:32:37.775537Z"
    },
    "papermill": {
     "duration": 0.01658,
     "end_time": "2024-02-16T19:32:37.778168",
     "exception": false,
     "start_time": "2024-02-16T19:32:37.761588",
     "status": "completed"
    },
    "tags": []
   },
   "outputs": [],
   "source": [
    "remove5 = True"
   ]
  },
  {
   "cell_type": "code",
   "execution_count": 4,
   "id": "9a529d4b",
   "metadata": {
    "execution": {
     "iopub.execute_input": "2024-02-16T19:32:38.784524Z",
     "iopub.status.busy": "2024-02-16T19:32:38.783622Z",
     "iopub.status.idle": "2024-02-16T19:33:20.936537Z",
     "shell.execute_reply": "2024-02-16T19:33:20.935225Z"
    },
    "papermill": {
     "duration": 42.168015,
     "end_time": "2024-02-16T19:33:20.939819",
     "exception": false,
     "start_time": "2024-02-16T19:32:38.771804",
     "status": "completed"
    },
    "tags": []
   },
   "outputs": [],
   "source": [
    "train_df = pd.read_csv(\"data/train_df_FINAL.csv\")\n",
    "test_df = pd.read_csv(\"data/test_df_FINAL.csv\")"
   ]
  },
  {
   "cell_type": "code",
   "execution_count": 5,
   "id": "0ecec94e",
   "metadata": {
    "execution": {
     "iopub.execute_input": "2024-02-16T19:33:20.963765Z",
     "iopub.status.busy": "2024-02-16T19:33:20.962897Z",
     "iopub.status.idle": "2024-02-16T19:33:21.300912Z",
     "shell.execute_reply": "2024-02-16T19:33:21.299862Z"
    },
    "papermill": {
     "duration": 0.352421,
     "end_time": "2024-02-16T19:33:21.303419",
     "exception": false,
     "start_time": "2024-02-16T19:33:20.950998",
     "status": "completed"
    },
    "tags": []
   },
   "outputs": [],
   "source": [
    "train_df = train_df[(train_df.index < 195453) | (train_df.index > 197302)]"
   ]
  },
  {
   "cell_type": "code",
   "execution_count": 6,
   "id": "7c099571",
   "metadata": {
    "execution": {
     "iopub.execute_input": "2024-02-16T19:33:21.327075Z",
     "iopub.status.busy": "2024-02-16T19:33:21.326770Z",
     "iopub.status.idle": "2024-02-16T19:33:34.434299Z",
     "shell.execute_reply": "2024-02-16T19:33:34.433426Z"
    },
    "papermill": {
     "duration": 13.122423,
     "end_time": "2024-02-16T19:33:34.436640",
     "exception": false,
     "start_time": "2024-02-16T19:33:21.314217",
     "status": "completed"
    },
    "tags": []
   },
   "outputs": [],
   "source": [
    "change_types = train_df[\"change_type\"].unique()\n",
    "for change_type in change_types:\n",
    "    for column in train_df.columns:\n",
    "        if column == \"geometry\":\n",
    "            continue\n",
    "        train_df.loc[(train_df[\"change_type\"]==change_type) & (train_df[column].isnull()), column] = train_df.loc[(train_df[\"change_type\"]==change_type), column].mode()[0]"
   ]
  },
  {
   "cell_type": "code",
   "execution_count": 8,
   "id": "9ff65bcc",
   "metadata": {
    "execution": {
     "iopub.execute_input": "2024-02-16T19:33:34.489842Z",
     "iopub.status.busy": "2024-02-16T19:33:34.489572Z",
     "iopub.status.idle": "2024-02-16T19:33:34.508182Z",
     "shell.execute_reply": "2024-02-16T19:33:34.507257Z"
    },
    "papermill": {
     "duration": 0.032027,
     "end_time": "2024-02-16T19:33:34.510240",
     "exception": false,
     "start_time": "2024-02-16T19:33:34.478213",
     "status": "completed"
    },
    "tags": []
   },
   "outputs": [],
   "source": [
    "feature_names=[ 'urban_type_N,A', 'urban_type_UrbanSlum', 'urban_type_Rural', 'urban_type_DenseUrban', 'urban_type_Industrial', 'urban_type_SparseUrban', \n",
    "                #'urban_type_Dense Urban,Industrial', 'urban_type_Dense Urban,Urban Slum', 'urban_type_Sparse Urban,Industrial', 'urban_type_Sparse Urban,Urban Slum', \n",
    "               \n",
    "                'geography_type_N,A', 'geography_type_Desert', 'geography_type_Farms', 'geography_type_DenseForest', 'geography_type_Hills', 'geography_type_River', 'geography_type_GrassLand', 'geography_type_Snow', 'geography_type_Lakes', 'geography_type_BarrenLand', 'geography_type_Coastal', 'geography_type_SparseForest', \n",
    "                #'geography_type_Sparse Forest,Grass Land', 'geography_type_Sparse Forest,Farms', 'geography_type_Sparse Forest,Dense Forest,Grass Land', 'geography_type_Barren Land,Sparse Forest', 'geography_type_Sparse Forest,Dense Forest', 'geography_type_Sparse Forest,Grass Land,Lakes', 'geography_type_Sparse Forest,Farms,Lakes', 'geography_type_River,Sparse Forest,Grass Land', 'geography_type_River,Sparse Forest', 'geography_type_Sparse Forest,Dense Forest,Grass Land,Lakes', 'geography_type_Barren Land,Sparse Forest,Grass Land', 'geography_type_Dense Forest,Grass Land', 'geography_type_River,Sparse Forest,Farms', \n",
    "               \n",
    "                #'geourban_geography_type_Desert_urban_type_Industrial', 'geourban_geography_type_Farms_urban_type_Rural', 'geourban_geography_type_Farms_urban_type_DenseUrban', 'geourban_geography_type_Farms_urban_type_Industrial', 'geourban_geography_type_Farms_urban_type_SparseUrban', 'geourban_geography_type_DenseForest_urban_type_UrbanSlum', 'geourban_geography_type_DenseForest_urban_type_Rural', 'geourban_geography_type_DenseForest_urban_type_DenseUrban', 'geourban_geography_type_DenseForest_urban_type_Industrial', 'geourban_geography_type_DenseForest_urban_type_SparseUrban', 'geourban_geography_type_River_urban_type_Rural', 'geourban_geography_type_River_urban_type_DenseUrban', 'geourban_geography_type_River_urban_type_Industrial', 'geourban_geography_type_River_urban_type_SparseUrban', 'geourban_geography_type_GrassLand_urban_type_Rural', 'geourban_geography_type_GrassLand_urban_type_DenseUrban', 'geourban_geography_type_GrassLand_urban_type_Industrial', 'geourban_geography_type_GrassLand_urban_type_SparseUrban', 'geourban_geography_type_Lakes_urban_type_Rural', 'geourban_geography_type_Lakes_urban_type_DenseUrban', 'geourban_geography_type_Lakes_urban_type_Industrial', 'geourban_geography_type_Lakes_urban_type_SparseUrban', 'geourban_geography_type_BarrenLand_urban_type_Rural', 'geourban_geography_type_BarrenLand_urban_type_DenseUrban', 'geourban_geography_type_BarrenLand_urban_type_Industrial', 'geourban_geography_type_BarrenLand_urban_type_SparseUrban', 'geourban_geography_type_Coastal_urban_type_SparseUrban', 'geourban_geography_type_SparseForest_urban_type_UrbanSlum', 'geourban_geography_type_SparseForest_urban_type_Rural', 'geourban_geography_type_SparseForest_urban_type_DenseUrban', 'geourban_geography_type_SparseForest_urban_type_Industrial', 'geourban_geography_type_SparseForest_urban_type_SparseUrban', \n",
    "               \n",
    "                'img_red_mean_date0', 'img_red_mean_date1', 'img_red_mean_date2', 'img_red_mean_date3', 'img_red_mean_date4', \n",
    "                'img_green_mean_date0', 'img_green_mean_date1', 'img_green_mean_date2', 'img_green_mean_date3', 'img_green_mean_date4', \n",
    "                'img_blue_mean_date0', 'img_blue_mean_date1', 'img_blue_mean_date2', 'img_blue_mean_date3', 'img_blue_mean_date4', \n",
    "               \n",
    "                'img_red_std_date0', 'img_red_std_date1', 'img_red_std_date2', 'img_red_std_date3', 'img_red_std_date4', \n",
    "                'img_green_std_date0', 'img_green_std_date1', 'img_green_std_date2', 'img_green_std_date3', 'img_green_std_date4', \n",
    "                'img_blue_std_date0', 'img_blue_std_date1', 'img_blue_std_date2', 'img_blue_std_date3', 'img_blue_std_date4', \n",
    "               \n",
    "                'change_status_date0_Construction Done', 'change_status_date0_Construction Midway', 'change_status_date0_Construction Started', 'change_status_date0_Excavation', 'change_status_date0_Greenland', 'change_status_date0_Land Cleared', 'change_status_date0_Materials Dumped', 'change_status_date0_Materials Introduced', 'change_status_date0_Operational', 'change_status_date0_Prior Construction', \n",
    "                'change_status_date1_Construction Done', 'change_status_date1_Construction Midway', 'change_status_date1_Construction Started', 'change_status_date1_Excavation', 'change_status_date1_Greenland', 'change_status_date1_Land Cleared', 'change_status_date1_Materials Dumped', 'change_status_date1_Materials Introduced', 'change_status_date1_Operational', 'change_status_date1_Prior Construction', \n",
    "                'change_status_date2_Construction Done', 'change_status_date2_Construction Midway', 'change_status_date2_Construction Started', 'change_status_date2_Excavation', 'change_status_date2_Greenland', 'change_status_date2_Land Cleared', 'change_status_date2_Materials Dumped', 'change_status_date2_Materials Introduced', 'change_status_date2_Operational', 'change_status_date2_Prior Construction', \n",
    "                'change_status_date3_Construction Done', 'change_status_date3_Construction Midway', 'change_status_date3_Construction Started', 'change_status_date3_Excavation', 'change_status_date3_Greenland', 'change_status_date3_Land Cleared', 'change_status_date3_Materials Dumped', 'change_status_date3_Materials Introduced', 'change_status_date3_Operational', 'change_status_date3_Prior Construction', \n",
    "                'change_status_date4_Construction Done', 'change_status_date4_Construction Midway', 'change_status_date4_Construction Started', 'change_status_date4_Excavation', 'change_status_date4_Greenland', 'change_status_date4_Land Cleared', 'change_status_date4_Materials Dumped', 'change_status_date4_Materials Introduced', 'change_status_date4_Operational', 'change_status_date4_Prior Construction', \n",
    "               \n",
    "                'change_status_Prior Construction', 'change_status_Greenland', 'change_status_Land Cleared', 'change_status_Excavation', 'change_status_Materials Dumped', 'change_status_Materials Introduced', 'change_status_Construction Started', 'change_status_Construction Midway', 'change_status_Construction Done', 'change_status_Operational', \n",
    "                'change_status_date0_encoded', 'change_status_date1_encoded', 'change_status_date2_encoded', 'change_status_date3_encoded', 'change_status_date4_encoded', \n",
    "                'change_status_date_4-0', 'change_status_date_1-0', 'change_status_date_2-1', 'change_status_date_3-2', 'change_status_date_4-3', \n",
    "               \n",
    "                'img_mean_date0', 'img_std_date0', 'img_mean_date1', 'img_std_date1', 'img_mean_date2', 'img_std_date2', 'img_mean_date3', 'img_std_date3', 'img_mean_date4', 'img_std_date4', \n",
    "                'img_mean_date_4-0', 'img_mean_date_1-0', 'img_mean_date_2-1', 'img_mean_date_3-2', 'img_mean_date_4-3', 'img_std_date_4-0', 'img_std_date_1-0', 'img_std_date_2-1', 'img_std_date_3-2', 'img_std_date_4-3', \n",
    "               \n",
    "                'img_red_mean_date_4-0', 'img_red_mean_date_1-0', 'img_red_mean_date_2-1', 'img_red_mean_date_3-2', 'img_red_mean_date_4-3', 'img_green_mean_date_4-0', 'img_green_mean_date_1-0', 'img_green_mean_date_2-1', 'img_green_mean_date_3-2', 'img_green_mean_date_4-3', 'img_blue_mean_date_4-0', 'img_blue_mean_date_1-0', 'img_blue_mean_date_2-1', 'img_blue_mean_date_3-2', 'img_blue_mean_date_4-3', 'img_red_std_date_4-0', 'img_red_std_date_1-0', 'img_red_std_date_2-1', 'img_red_std_date_3-2', 'img_red_std_date_4-3', 'img_green_std_date_4-0', 'img_green_std_date_1-0', 'img_green_std_date_2-1', 'img_green_std_date_3-2', 'img_green_std_date_4-3', 'img_blue_std_date_4-0', 'img_blue_std_date_1-0', 'img_blue_std_date_2-1', 'img_blue_std_date_3-2', 'img_blue_std_date_4-3', \n",
    "                \n",
    "                'date_1-0', 'date_2-1', 'date_3-2', 'date_4-3', 'date_4-0', \n",
    "               #'date_0-0min', \n",
    "                'img_mean_date_4-0/Date', 'img_mean_date_1-0/Date', 'img_mean_date_2-1/Date', 'img_mean_date_3-2/Date', 'img_mean_date_4-3/Date', 'img_std_date_4-0/Date', 'img_std_date_1-0/Date', 'img_std_date_2-1/Date', 'img_std_date_3-2/Date', 'img_std_date_4-3/Date', 'img_red_mean_date_4-0/Date', 'img_red_mean_date_1-0/Date', 'img_red_mean_date_2-1/Date', 'img_red_mean_date_3-2/Date', 'img_red_mean_date_4-3/Date', 'img_green_mean_date_4-0/Date', 'img_green_mean_date_1-0/Date', 'img_green_mean_date_2-1/Date', 'img_green_mean_date_3-2/Date', 'img_green_mean_date_4-3/Date', 'img_blue_mean_date_4-0/Date', 'img_blue_mean_date_1-0/Date', 'img_blue_mean_date_2-1/Date', 'img_blue_mean_date_3-2/Date', 'img_blue_mean_date_4-3/Date', 'img_red_std_date_4-0/Date', 'img_red_std_date_1-0/Date', 'img_red_std_date_2-1/Date', 'img_red_std_date_3-2/Date', 'img_red_std_date_4-3/Date', 'img_green_std_date_4-0/Date', 'img_green_std_date_1-0/Date', 'img_green_std_date_2-1/Date', 'img_green_std_date_3-2/Date', 'img_green_std_date_4-3/Date', 'img_blue_std_date_4-0/Date', 'img_blue_std_date_1-0/Date', 'img_blue_std_date_2-1/Date', 'img_blue_std_date_3-2/Date', 'img_blue_std_date_4-3/Date', \n",
    "                'change_status_date_4-0/Date', 'change_status_date_1-0/Date', 'change_status_date_2-1/Date', 'change_status_date_3-2/Date', 'change_status_date_4-3/Date', \n",
    "               \n",
    "                'geometry_area', 'geometry_perimeter', 'geometry_inscribed_circle_radius', 'geometry_compactness', 'geometry_convexity', 'geometry_vertices', 'geometry_bboxwidth', 'geometry_bboxheight', 'geometry_bboxratio', 'geometry_bboxarea', 'geometry_bboxperimeter', \n",
    "                #'geometry_aspectratio', \n",
    "                'geometry_diameter', 'geometry_minumum_bounding_circle', 'geometry_minimum_rotated_rectangle', \n",
    "               \n",
    "                'neighb_density', 'neighb_nb', 'neighb_similar', \n",
    "                'neighb_maxdiff_change_status_date0_0.001', 'neighb_maxdiff_change_status_date1_0.001', 'neighb_maxdiff_change_status_date2_0.001', 'neighb_maxdiff_change_status_date3_0.001', 'neighb_maxdiff_change_status_date4_0.001', \n",
    "                'neighb_maxdiff_change_status_date0_0.003', 'neighb_maxdiff_change_status_date1_0.003', 'neighb_maxdiff_change_status_date2_0.003', 'neighb_maxdiff_change_status_date3_0.003', 'neighb_maxdiff_change_status_date4_0.003', \n",
    "                'neighb_maxdiff_meancolor_0', 'neighb_maxdiff_meancolor_1', 'neighb_maxdiff_meancolor_2', 'neighb_maxdiff_meancolor_3', 'neighb_maxdiff_meancolor_4', \n",
    "                'neighb_maxdiff_stdcolor_0', 'neighb_maxdiff_stdcolor_1', 'neighb_maxdiff_stdcolor_2', 'neighb_maxdiff_stdcolor_3', 'neighb_maxdiff_stdcolor_4', \n",
    "               \n",
    "                'neighb_meandiff_changestatus_0', 'neighb_meandiff_changestatus_1', 'neighb_meandiff_changestatus_2', 'neighb_meandiff_changestatus_3', 'neighb_meandiff_changestatus_4', \n",
    "                'neighb_meandiff_meancolor_0', 'neighb_meandiff_meancolor_1', 'neighb_meandiff_meancolor_2', 'neighb_meandiff_meancolor_3', 'neighb_meandiff_meancolor_4', \n",
    "                'neighb_meandiff_stdcolor_0', 'neighb_meandiff_stdcolor_1', 'neighb_meandiff_stdcolor_2', 'neighb_meandiff_stdcolor_3', 'neighb_meandiff_stdcolor_4'\n",
    "            ]"
   ]
  },
  {
   "cell_type": "code",
   "execution_count": 9,
   "id": "9dd449ea",
   "metadata": {
    "execution": {
     "iopub.execute_input": "2024-02-16T19:33:34.532030Z",
     "iopub.status.busy": "2024-02-16T19:33:34.531767Z",
     "iopub.status.idle": "2024-02-16T19:33:35.059629Z",
     "shell.execute_reply": "2024-02-16T19:33:35.058751Z"
    },
    "papermill": {
     "duration": 0.541627,
     "end_time": "2024-02-16T19:33:35.062284",
     "exception": false,
     "start_time": "2024-02-16T19:33:34.520657",
     "status": "completed"
    },
    "tags": []
   },
   "outputs": [],
   "source": [
    "X = train_df[feature_names].to_numpy()\n",
    "Y = train_df['change_type'].to_numpy()\n",
    "X_test = test_df[feature_names].to_numpy()"
   ]
  },
  {
   "cell_type": "code",
   "execution_count": 10,
   "id": "09c3d1b4",
   "metadata": {
    "execution": {
     "iopub.execute_input": "2024-02-16T19:33:35.086248Z",
     "iopub.status.busy": "2024-02-16T19:33:35.085925Z",
     "iopub.status.idle": "2024-02-16T19:33:35.090714Z",
     "shell.execute_reply": "2024-02-16T19:33:35.089743Z"
    },
    "papermill": {
     "duration": 0.019016,
     "end_time": "2024-02-16T19:33:35.093284",
     "exception": false,
     "start_time": "2024-02-16T19:33:35.074268",
     "status": "completed"
    },
    "tags": []
   },
   "outputs": [
    {
     "name": "stdout",
     "output_type": "stream",
     "text": [
      "(294296, 270) (294296,) (120526, 270)\n"
     ]
    }
   ],
   "source": [
    "print(X.shape, Y.shape, X_test.shape)"
   ]
  },
  {
   "cell_type": "code",
   "execution_count": 11,
   "id": "5742371d",
   "metadata": {
    "execution": {
     "iopub.execute_input": "2024-02-16T19:33:35.115896Z",
     "iopub.status.busy": "2024-02-16T19:33:35.115609Z",
     "iopub.status.idle": "2024-02-16T19:33:51.075366Z",
     "shell.execute_reply": "2024-02-16T19:33:51.074419Z"
    },
    "papermill": {
     "duration": 15.973581,
     "end_time": "2024-02-16T19:33:51.077713",
     "exception": false,
     "start_time": "2024-02-16T19:33:35.104132",
     "status": "completed"
    },
    "tags": []
   },
   "outputs": [],
   "source": [
    "\n",
    "from sklearn.impute import SimpleImputer\n",
    "\n",
    "# Handle NaN values using SimpleImputer\n",
    "imp_mean = SimpleImputer(missing_values=np.nan, strategy='median')\n",
    "imp_mean.fit(np.concatenate([X, X_test], axis=0))\n",
    "X_test = imp_mean.transform(X_test)\n"
   ]
  },
  {
   "cell_type": "code",
   "execution_count": 12,
   "id": "344305d0",
   "metadata": {
    "execution": {
     "iopub.execute_input": "2024-02-16T19:33:51.100714Z",
     "iopub.status.busy": "2024-02-16T19:33:51.100394Z",
     "iopub.status.idle": "2024-02-16T19:33:52.171579Z",
     "shell.execute_reply": "2024-02-16T19:33:52.170748Z"
    },
    "papermill": {
     "duration": 1.085281,
     "end_time": "2024-02-16T19:33:52.174079",
     "exception": false,
     "start_time": "2024-02-16T19:33:51.088798",
     "status": "completed"
    },
    "tags": []
   },
   "outputs": [],
   "source": [
    "X_train, X_valid, Y_train, Y_valid = train_test_split(X, Y, test_size=0.2, random_state=65, stratify=Y)"
   ]
  },
  {
   "cell_type": "code",
   "execution_count": 13,
   "id": "68247a6d",
   "metadata": {
    "execution": {
     "iopub.execute_input": "2024-02-16T19:33:52.197514Z",
     "iopub.status.busy": "2024-02-16T19:33:52.197010Z",
     "iopub.status.idle": "2024-02-16T19:33:52.362744Z",
     "shell.execute_reply": "2024-02-16T19:33:52.361736Z"
    },
    "papermill": {
     "duration": 0.179629,
     "end_time": "2024-02-16T19:33:52.365081",
     "exception": false,
     "start_time": "2024-02-16T19:33:52.185452",
     "status": "completed"
    },
    "tags": []
   },
   "outputs": [],
   "source": [
    "if remove5:\n",
    "    X_train = X_train[Y_train != 5]\n",
    "    Y_train = Y_train[Y_train != 5]"
   ]
  },
  {
   "cell_type": "code",
   "execution_count": 14,
   "id": "b14162f1",
   "metadata": {
    "execution": {
     "iopub.execute_input": "2024-02-16T19:33:52.388205Z",
     "iopub.status.busy": "2024-02-16T19:33:52.387881Z",
     "iopub.status.idle": "2024-02-16T19:33:52.397568Z",
     "shell.execute_reply": "2024-02-16T19:33:52.396565Z"
    },
    "papermill": {
     "duration": 0.023484,
     "end_time": "2024-02-16T19:33:52.399566",
     "exception": false,
     "start_time": "2024-02-16T19:33:52.376082",
     "status": "completed"
    },
    "tags": []
   },
   "outputs": [
    {
     "data": {
      "text/plain": [
       "(array([0, 1, 2, 3, 4]), array([ 25141,  11424, 117708,  79988,   1058]))"
      ]
     },
     "execution_count": 14,
     "metadata": {},
     "output_type": "execute_result"
    }
   ],
   "source": [
    "np.unique(Y_train, return_counts=True)"
   ]
  },
  {
   "cell_type": "markdown",
   "id": "89e79cc3",
   "metadata": {
    "papermill": {
     "duration": 0.010513,
     "end_time": "2024-02-16T19:33:52.420981",
     "exception": false,
     "start_time": "2024-02-16T19:33:52.410468",
     "status": "completed"
    },
    "tags": []
   },
   "source": [
    "# Oversample"
   ]
  },
  {
   "cell_type": "code",
   "execution_count": 15,
   "id": "e7786721",
   "metadata": {
    "execution": {
     "iopub.execute_input": "2024-02-16T19:33:52.443711Z",
     "iopub.status.busy": "2024-02-16T19:33:52.443421Z",
     "iopub.status.idle": "2024-02-16T19:33:52.451163Z",
     "shell.execute_reply": "2024-02-16T19:33:52.450266Z"
    },
    "papermill": {
     "duration": 0.021331,
     "end_time": "2024-02-16T19:33:52.453088",
     "exception": false,
     "start_time": "2024-02-16T19:33:52.431757",
     "status": "completed"
    },
    "tags": []
   },
   "outputs": [
    {
     "data": {
      "text/plain": [
       "'\\nfrom imblearn.under_sampling import RandomUnderSampler\\n\\nrus = RandomUnderSampler(random_state=42, sampling_strategy={2:70000})\\nX_under, Y_under = rus.fit_resample(X_train, Y_train)\\nnp.unique(Y_under, return_counts=True)\\n\\n## TEST FINALL\\n#X_under, Y_under = X, Y\\n\\n\\ncategorical_columns = []\\nfor iColumn in range(len(X_train[0])):\\n    if len(np.unique(X_train[:,iColumn])) < 300:\\n        #print(feature_names[iColumn], len(np.unique(X_train[:,iColumn])))\\n        categorical_columns.append(iColumn)\\n#categorical_columns\\n\\nfrom imblearn.over_sampling import SMOTE, SMOTENC\\n\\n#sm = SMOTE(random_state=42, sampling_strategy={5:30000})\\nsm = SMOTENC(random_state=42, sampling_strategy={4:10000, 5:10000}, categorical_features=categorical_columns)\\nX_over, Y_over = sm.fit_resample(X_under, Y_under)\\n#X_over, Y_over = sm.fit_resample(X, Y)\\n\\n#X_over, Y_over = X_under, Y_under\\n\\n#from imblearn.over_sampling import RandomOverSampler\\n#ros = RandomOverSampler(random_state=0, sampling_strategy={5:50000})\\n\\n#X_over, Y_over = ros.fit_resample(X_under, Y_under)\\n\\n#pd.DataFrame(X_under[Y_under == 5][119:]).head(n=5)\\n#pd.DataFrame(X_over[Y_over == 5][119:]).head(n=5)\\n\\n'"
      ]
     },
     "execution_count": 15,
     "metadata": {},
     "output_type": "execute_result"
    }
   ],
   "source": [
    "\"\"\"\n",
    "from imblearn.under_sampling import RandomUnderSampler\n",
    "\n",
    "rus = RandomUnderSampler(random_state=42, sampling_strategy={2:70000})\n",
    "X_under, Y_under = rus.fit_resample(X_train, Y_train)\n",
    "np.unique(Y_under, return_counts=True)\n",
    "\n",
    "## TEST FINALL\n",
    "#X_under, Y_under = X, Y\n",
    "\n",
    "\n",
    "categorical_columns = []\n",
    "for iColumn in range(len(X_train[0])):\n",
    "    if len(np.unique(X_train[:,iColumn])) < 300:\n",
    "        #print(feature_names[iColumn], len(np.unique(X_train[:,iColumn])))\n",
    "        categorical_columns.append(iColumn)\n",
    "#categorical_columns\n",
    "\n",
    "from imblearn.over_sampling import SMOTE, SMOTENC\n",
    "\n",
    "#sm = SMOTE(random_state=42, sampling_strategy={5:30000})\n",
    "sm = SMOTENC(random_state=42, sampling_strategy={4:10000, 5:10000}, categorical_features=categorical_columns)\n",
    "X_over, Y_over = sm.fit_resample(X_under, Y_under)\n",
    "#X_over, Y_over = sm.fit_resample(X, Y)\n",
    "\n",
    "#X_over, Y_over = X_under, Y_under\n",
    "\n",
    "#from imblearn.over_sampling import RandomOverSampler\n",
    "#ros = RandomOverSampler(random_state=0, sampling_strategy={5:50000})\n",
    "\n",
    "#X_over, Y_over = ros.fit_resample(X_under, Y_under)\n",
    "\n",
    "#pd.DataFrame(X_under[Y_under == 5][119:]).head(n=5)\n",
    "#pd.DataFrame(X_over[Y_over == 5][119:]).head(n=5)\n",
    "\n",
    "\"\"\""
   ]
  },
  {
   "cell_type": "code",
   "execution_count": 16,
   "id": "c5d01d57",
   "metadata": {
    "execution": {
     "iopub.execute_input": "2024-02-16T19:33:52.475224Z",
     "iopub.status.busy": "2024-02-16T19:33:52.474968Z",
     "iopub.status.idle": "2024-02-16T19:33:52.478715Z",
     "shell.execute_reply": "2024-02-16T19:33:52.477833Z"
    },
    "papermill": {
     "duration": 0.016922,
     "end_time": "2024-02-16T19:33:52.480749",
     "exception": false,
     "start_time": "2024-02-16T19:33:52.463827",
     "status": "completed"
    },
    "tags": []
   },
   "outputs": [],
   "source": [
    "X_over, Y_over = X_train, Y_train"
   ]
  },
  {
   "cell_type": "code",
   "execution_count": 17,
   "id": "6c0068f7",
   "metadata": {
    "execution": {
     "iopub.execute_input": "2024-02-16T19:33:52.503305Z",
     "iopub.status.busy": "2024-02-16T19:33:52.503071Z",
     "iopub.status.idle": "2024-02-16T19:33:52.511756Z",
     "shell.execute_reply": "2024-02-16T19:33:52.510854Z"
    },
    "papermill": {
     "duration": 0.02245,
     "end_time": "2024-02-16T19:33:52.513945",
     "exception": false,
     "start_time": "2024-02-16T19:33:52.491495",
     "status": "completed"
    },
    "tags": []
   },
   "outputs": [
    {
     "data": {
      "text/plain": [
       "(array([0, 1, 2, 3, 4]), array([ 25141,  11424, 117708,  79988,   1058]))"
      ]
     },
     "execution_count": 17,
     "metadata": {},
     "output_type": "execute_result"
    }
   ],
   "source": [
    "np.unique(Y_over, return_counts=True)"
   ]
  },
  {
   "cell_type": "code",
   "execution_count": 18,
   "id": "bae10b7c",
   "metadata": {
    "execution": {
     "iopub.execute_input": "2024-02-16T19:33:52.538022Z",
     "iopub.status.busy": "2024-02-16T19:33:52.537782Z",
     "iopub.status.idle": "2024-02-16T19:33:52.606659Z",
     "shell.execute_reply": "2024-02-16T19:33:52.605755Z"
    },
    "papermill": {
     "duration": 0.082482,
     "end_time": "2024-02-16T19:33:52.608490",
     "exception": false,
     "start_time": "2024-02-16T19:33:52.526008",
     "status": "completed"
    },
    "tags": []
   },
   "outputs": [
    {
     "data": {
      "text/plain": [
       "array([ 0.39983519,  0.58838576,  1.87199395,  4.11973039, 44.48374291])"
      ]
     },
     "execution_count": 18,
     "metadata": {},
     "output_type": "execute_result"
    }
   ],
   "source": [
    "\n",
    "classes_weights = compute_sample_weight(class_weight=\"balanced\", y=Y_over)\n",
    "np.unique(classes_weights)\n"
   ]
  },
  {
   "cell_type": "markdown",
   "id": "e0a04559",
   "metadata": {},
   "source": [
    "# Training"
   ]
  },
  {
   "cell_type": "code",
   "execution_count": 19,
   "id": "de2e8aef",
   "metadata": {
    "execution": {
     "iopub.execute_input": "2024-02-16T19:33:52.631606Z",
     "iopub.status.busy": "2024-02-16T19:33:52.631360Z",
     "iopub.status.idle": "2024-02-16T19:33:52.636974Z",
     "shell.execute_reply": "2024-02-16T19:33:52.636106Z"
    },
    "papermill": {
     "duration": 0.019096,
     "end_time": "2024-02-16T19:33:52.638844",
     "exception": false,
     "start_time": "2024-02-16T19:33:52.619748",
     "status": "completed"
    },
    "tags": []
   },
   "outputs": [],
   "source": [
    "def printScores(y_true, y_predict):\n",
    "    f1_score_micro = f1_score(y_true, y_predict, average='micro')\n",
    "    f1_score_macro = f1_score(y_true, y_predict, average='macro')\n",
    "    f1_score_weighted = f1_score(y_true, y_predict, average='weighted')\n",
    "    train_conf_matrix = confusion_matrix(y_true, y_predict)\n",
    "    print(\"F1 score micro\", f1_score_micro)\n",
    "    print(\"F1 score macro\", f1_score_macro)\n",
    "    print(\"F1 score weighted\", f1_score_weighted)\n",
    "    print(train_conf_matrix)"
   ]
  },
  {
   "cell_type": "code",
   "execution_count": 20,
   "id": "774a96e0",
   "metadata": {
    "execution": {
     "iopub.execute_input": "2024-02-16T19:33:52.661508Z",
     "iopub.status.busy": "2024-02-16T19:33:52.661275Z",
     "iopub.status.idle": "2024-02-16T19:33:52.665110Z",
     "shell.execute_reply": "2024-02-16T19:33:52.664290Z"
    },
    "papermill": {
     "duration": 0.017355,
     "end_time": "2024-02-16T19:33:52.667028",
     "exception": false,
     "start_time": "2024-02-16T19:33:52.649673",
     "status": "completed"
    },
    "tags": []
   },
   "outputs": [],
   "source": [
    "if remove5:\n",
    "    N = 5\n",
    "else:\n",
    "    N = 6"
   ]
  },
  {
   "cell_type": "code",
   "execution_count": 21,
   "id": "3c87fa9e",
   "metadata": {
    "execution": {
     "iopub.execute_input": "2024-02-16T19:33:52.690677Z",
     "iopub.status.busy": "2024-02-16T19:33:52.689914Z",
     "iopub.status.idle": "2024-02-16T19:33:52.695661Z",
     "shell.execute_reply": "2024-02-16T19:33:52.694803Z"
    },
    "papermill": {
     "duration": 0.01958,
     "end_time": "2024-02-16T19:33:52.697516",
     "exception": false,
     "start_time": "2024-02-16T19:33:52.677936",
     "status": "completed"
    },
    "tags": []
   },
   "outputs": [],
   "source": [
    "\n",
    "model = xgb.XGBClassifier(silent=False, \n",
    "                      num_class=N,\n",
    "                      objective='multi:softmax', \n",
    "                      seed=42,\n",
    "                      scale_pos_weight=1,\n",
    "                      learning_rate=0.01,  \n",
    "                      colsample_bytree = 0.3,\n",
    "                      subsample = 1.0,\n",
    "                      n_estimators=2300, \n",
    "                      #reg_alpha = 0.3,\n",
    "                      min_child_weight=29,\n",
    "                      max_depth=17, \n",
    "                      gamma=0.003177450944562012,\n",
    "                      n_jobs=-1,\n",
    "                      reg_lambda=0.3736917401344113, #L1 \n",
    "                      reg_alpha=0.01345834681286108, #L2\n",
    "                      tree_method='gpu_hist',\n",
    "                      random_state=2020,\n",
    "                    )\n",
    "                    "
   ]
  },
  {
   "cell_type": "code",
   "execution_count": 22,
   "id": "a12eedfc",
   "metadata": {
    "execution": {
     "iopub.execute_input": "2024-02-16T19:33:52.720511Z",
     "iopub.status.busy": "2024-02-16T19:33:52.720253Z",
     "iopub.status.idle": "2024-02-16T19:42:38.851192Z",
     "shell.execute_reply": "2024-02-16T19:42:38.850199Z"
    },
    "papermill": {
     "duration": 526.156689,
     "end_time": "2024-02-16T19:42:38.865197",
     "exception": false,
     "start_time": "2024-02-16T19:33:52.708508",
     "status": "completed"
    },
    "tags": []
   },
   "outputs": [
    {
     "data": {
      "text/html": [
       "<style>#sk-container-id-1 {color: black;background-color: white;}#sk-container-id-1 pre{padding: 0;}#sk-container-id-1 div.sk-toggleable {background-color: white;}#sk-container-id-1 label.sk-toggleable__label {cursor: pointer;display: block;width: 100%;margin-bottom: 0;padding: 0.3em;box-sizing: border-box;text-align: center;}#sk-container-id-1 label.sk-toggleable__label-arrow:before {content: \"▸\";float: left;margin-right: 0.25em;color: #696969;}#sk-container-id-1 label.sk-toggleable__label-arrow:hover:before {color: black;}#sk-container-id-1 div.sk-estimator:hover label.sk-toggleable__label-arrow:before {color: black;}#sk-container-id-1 div.sk-toggleable__content {max-height: 0;max-width: 0;overflow: hidden;text-align: left;background-color: #f0f8ff;}#sk-container-id-1 div.sk-toggleable__content pre {margin: 0.2em;color: black;border-radius: 0.25em;background-color: #f0f8ff;}#sk-container-id-1 input.sk-toggleable__control:checked~div.sk-toggleable__content {max-height: 200px;max-width: 100%;overflow: auto;}#sk-container-id-1 input.sk-toggleable__control:checked~label.sk-toggleable__label-arrow:before {content: \"▾\";}#sk-container-id-1 div.sk-estimator input.sk-toggleable__control:checked~label.sk-toggleable__label {background-color: #d4ebff;}#sk-container-id-1 div.sk-label input.sk-toggleable__control:checked~label.sk-toggleable__label {background-color: #d4ebff;}#sk-container-id-1 input.sk-hidden--visually {border: 0;clip: rect(1px 1px 1px 1px);clip: rect(1px, 1px, 1px, 1px);height: 1px;margin: -1px;overflow: hidden;padding: 0;position: absolute;width: 1px;}#sk-container-id-1 div.sk-estimator {font-family: monospace;background-color: #f0f8ff;border: 1px dotted black;border-radius: 0.25em;box-sizing: border-box;margin-bottom: 0.5em;}#sk-container-id-1 div.sk-estimator:hover {background-color: #d4ebff;}#sk-container-id-1 div.sk-parallel-item::after {content: \"\";width: 100%;border-bottom: 1px solid gray;flex-grow: 1;}#sk-container-id-1 div.sk-label:hover label.sk-toggleable__label {background-color: #d4ebff;}#sk-container-id-1 div.sk-serial::before {content: \"\";position: absolute;border-left: 1px solid gray;box-sizing: border-box;top: 0;bottom: 0;left: 50%;z-index: 0;}#sk-container-id-1 div.sk-serial {display: flex;flex-direction: column;align-items: center;background-color: white;padding-right: 0.2em;padding-left: 0.2em;position: relative;}#sk-container-id-1 div.sk-item {position: relative;z-index: 1;}#sk-container-id-1 div.sk-parallel {display: flex;align-items: stretch;justify-content: center;background-color: white;position: relative;}#sk-container-id-1 div.sk-item::before, #sk-container-id-1 div.sk-parallel-item::before {content: \"\";position: absolute;border-left: 1px solid gray;box-sizing: border-box;top: 0;bottom: 0;left: 50%;z-index: -1;}#sk-container-id-1 div.sk-parallel-item {display: flex;flex-direction: column;z-index: 1;position: relative;background-color: white;}#sk-container-id-1 div.sk-parallel-item:first-child::after {align-self: flex-end;width: 50%;}#sk-container-id-1 div.sk-parallel-item:last-child::after {align-self: flex-start;width: 50%;}#sk-container-id-1 div.sk-parallel-item:only-child::after {width: 0;}#sk-container-id-1 div.sk-dashed-wrapped {border: 1px dashed gray;margin: 0 0.4em 0.5em 0.4em;box-sizing: border-box;padding-bottom: 0.4em;background-color: white;}#sk-container-id-1 div.sk-label label {font-family: monospace;font-weight: bold;display: inline-block;line-height: 1.2em;}#sk-container-id-1 div.sk-label-container {text-align: center;}#sk-container-id-1 div.sk-container {/* jupyter's `normalize.less` sets `[hidden] { display: none; }` but bootstrap.min.css set `[hidden] { display: none !important; }` so we also need the `!important` here to be able to override the default hidden behavior on the sphinx rendered scikit-learn.org. See: https://github.com/scikit-learn/scikit-learn/issues/21755 */display: inline-block !important;position: relative;}#sk-container-id-1 div.sk-text-repr-fallback {display: none;}</style><div id=\"sk-container-id-1\" class=\"sk-top-container\"><div class=\"sk-text-repr-fallback\"><pre>XGBClassifier(base_score=None, booster=None, callbacks=None,\n",
       "              colsample_bylevel=None, colsample_bynode=None,\n",
       "              colsample_bytree=0.3, device=None, early_stopping_rounds=None,\n",
       "              enable_categorical=False, eval_metric=None, feature_types=None,\n",
       "              gamma=0.003177450944562012, grow_policy=None,\n",
       "              importance_type=None, interaction_constraints=None,\n",
       "              learning_rate=0.01, max_bin=None, max_cat_threshold=None,\n",
       "              max_cat_to_onehot=None, max_delta_step=None, max_depth=17,\n",
       "              max_leaves=None, min_child_weight=29, missing=nan,\n",
       "              monotone_constraints=None, multi_strategy=None, n_estimators=2300,\n",
       "              n_jobs=-1, num_class=5, num_parallel_tree=None, ...)</pre><b>In a Jupyter environment, please rerun this cell to show the HTML representation or trust the notebook. <br />On GitHub, the HTML representation is unable to render, please try loading this page with nbviewer.org.</b></div><div class=\"sk-container\" hidden><div class=\"sk-item\"><div class=\"sk-estimator sk-toggleable\"><input class=\"sk-toggleable__control sk-hidden--visually\" id=\"sk-estimator-id-1\" type=\"checkbox\" checked><label for=\"sk-estimator-id-1\" class=\"sk-toggleable__label sk-toggleable__label-arrow\">XGBClassifier</label><div class=\"sk-toggleable__content\"><pre>XGBClassifier(base_score=None, booster=None, callbacks=None,\n",
       "              colsample_bylevel=None, colsample_bynode=None,\n",
       "              colsample_bytree=0.3, device=None, early_stopping_rounds=None,\n",
       "              enable_categorical=False, eval_metric=None, feature_types=None,\n",
       "              gamma=0.003177450944562012, grow_policy=None,\n",
       "              importance_type=None, interaction_constraints=None,\n",
       "              learning_rate=0.01, max_bin=None, max_cat_threshold=None,\n",
       "              max_cat_to_onehot=None, max_delta_step=None, max_depth=17,\n",
       "              max_leaves=None, min_child_weight=29, missing=nan,\n",
       "              monotone_constraints=None, multi_strategy=None, n_estimators=2300,\n",
       "              n_jobs=-1, num_class=5, num_parallel_tree=None, ...)</pre></div></div></div></div></div>"
      ],
      "text/plain": [
       "XGBClassifier(base_score=None, booster=None, callbacks=None,\n",
       "              colsample_bylevel=None, colsample_bynode=None,\n",
       "              colsample_bytree=0.3, device=None, early_stopping_rounds=None,\n",
       "              enable_categorical=False, eval_metric=None, feature_types=None,\n",
       "              gamma=0.003177450944562012, grow_policy=None,\n",
       "              importance_type=None, interaction_constraints=None,\n",
       "              learning_rate=0.01, max_bin=None, max_cat_threshold=None,\n",
       "              max_cat_to_onehot=None, max_delta_step=None, max_depth=17,\n",
       "              max_leaves=None, min_child_weight=29, missing=nan,\n",
       "              monotone_constraints=None, multi_strategy=None, n_estimators=2300,\n",
       "              n_jobs=-1, num_class=5, num_parallel_tree=None, ...)"
      ]
     },
     "execution_count": 22,
     "metadata": {},
     "output_type": "execute_result"
    }
   ],
   "source": [
    "\n",
    "eval_set = [(X_over, Y_over), (X_valid, Y_valid)]\n",
    "if remove5:\n",
    "    eval_set = [(X_over, Y_over), (X_valid[Y_valid != 5], Y_valid[Y_valid != 5])]\n",
    "eval_metric = [\"merror\", \"auc\"]\n",
    "#model.fit(X_over, Y_over, eval_metric=eval_metric, eval_set=eval_set, early_stopping_rounds=20, verbose=10)#,sample_weight=compute_sample_weight(class_weight=\"balanced\", y=Y_over))\n",
    "\n",
    "#model.fit(X_over, Y_over, eval_set=eval_set, early_stopping_rounds=20, verbose=True)#,sample_weight=compute_sample_weight(class_weight=\"balanced\", y=Y_over))\n",
    "\n",
    "model.fit(X[Y != 5], Y[Y != 5])\n"
   ]
  },
  {
   "cell_type": "code",
   "execution_count": 23,
   "id": "3c1a40bb",
   "metadata": {
    "execution": {
     "iopub.execute_input": "2024-02-16T19:42:38.889467Z",
     "iopub.status.busy": "2024-02-16T19:42:38.888924Z",
     "iopub.status.idle": "2024-02-16T19:42:38.894865Z",
     "shell.execute_reply": "2024-02-16T19:42:38.893943Z"
    },
    "papermill": {
     "duration": 0.020525,
     "end_time": "2024-02-16T19:42:38.896886",
     "exception": false,
     "start_time": "2024-02-16T19:42:38.876361",
     "status": "completed"
    },
    "tags": []
   },
   "outputs": [
    {
     "data": {
      "text/plain": [
       "\"\\nresults = model.evals_result()\\nepochs = len(results['validation_0']['merror'])\\nx_axis = range(0, epochs)\\n\\nfig, ax = plt.subplots()\\nax.plot(x_axis, results['validation_0']['auc'], label='Train')\\nax.plot(x_axis, results['validation_1']['auc'], label='Test')\\nax.legend()\\nplt.ylabel('AUC')\\nplt.title('XGBoost AUC')\\nplt.show()\\n\""
      ]
     },
     "execution_count": 23,
     "metadata": {},
     "output_type": "execute_result"
    }
   ],
   "source": [
    "\"\"\"\n",
    "results = model.evals_result()\n",
    "epochs = len(results['validation_0']['merror'])\n",
    "x_axis = range(0, epochs)\n",
    "\n",
    "fig, ax = plt.subplots()\n",
    "ax.plot(x_axis, results['validation_0']['auc'], label='Train')\n",
    "ax.plot(x_axis, results['validation_1']['auc'], label='Test')\n",
    "ax.legend()\n",
    "plt.ylabel('AUC')\n",
    "plt.title('XGBoost AUC')\n",
    "plt.show()\n",
    "\"\"\""
   ]
  },
  {
   "cell_type": "code",
   "execution_count": 24,
   "id": "1e91299d",
   "metadata": {
    "execution": {
     "iopub.execute_input": "2024-02-16T19:42:38.920289Z",
     "iopub.status.busy": "2024-02-16T19:42:38.920028Z",
     "iopub.status.idle": "2024-02-16T19:42:38.923525Z",
     "shell.execute_reply": "2024-02-16T19:42:38.922741Z"
    },
    "papermill": {
     "duration": 0.017338,
     "end_time": "2024-02-16T19:42:38.925364",
     "exception": false,
     "start_time": "2024-02-16T19:42:38.908026",
     "status": "completed"
    },
    "tags": []
   },
   "outputs": [],
   "source": [
    "#model.save_model(\"model.json\")"
   ]
  },
  {
   "cell_type": "code",
   "execution_count": 25,
   "id": "453096ae",
   "metadata": {
    "execution": {
     "iopub.execute_input": "2024-02-16T19:42:38.949140Z",
     "iopub.status.busy": "2024-02-16T19:42:38.948466Z",
     "iopub.status.idle": "2024-02-16T19:42:38.953911Z",
     "shell.execute_reply": "2024-02-16T19:42:38.953032Z"
    },
    "papermill": {
     "duration": 0.019422,
     "end_time": "2024-02-16T19:42:38.955960",
     "exception": false,
     "start_time": "2024-02-16T19:42:38.936538",
     "status": "completed"
    },
    "tags": []
   },
   "outputs": [
    {
     "data": {
      "text/plain": [
       "'\\npred = model.predict(X_over)\\nprintScores(Y_over, pred)\\n'"
      ]
     },
     "execution_count": 25,
     "metadata": {},
     "output_type": "execute_result"
    }
   ],
   "source": [
    "\"\"\"\n",
    "pred = model.predict(X_over)\n",
    "printScores(Y_over, pred)\n",
    "\"\"\""
   ]
  },
  {
   "cell_type": "code",
   "execution_count": 26,
   "id": "4bb2ffd2",
   "metadata": {
    "execution": {
     "iopub.execute_input": "2024-02-16T19:42:38.980660Z",
     "iopub.status.busy": "2024-02-16T19:42:38.980413Z",
     "iopub.status.idle": "2024-02-16T19:42:38.985437Z",
     "shell.execute_reply": "2024-02-16T19:42:38.984595Z"
    },
    "papermill": {
     "duration": 0.019515,
     "end_time": "2024-02-16T19:42:38.987418",
     "exception": false,
     "start_time": "2024-02-16T19:42:38.967903",
     "status": "completed"
    },
    "tags": []
   },
   "outputs": [
    {
     "data": {
      "text/plain": [
       "'\\npred = model.predict(X_valid)\\nprintScores(Y_valid, pred)\\n'"
      ]
     },
     "execution_count": 26,
     "metadata": {},
     "output_type": "execute_result"
    }
   ],
   "source": [
    "\"\"\"\n",
    "pred = model.predict(X_valid)\n",
    "printScores(Y_valid, pred)\n",
    "\"\"\""
   ]
  },
  {
   "cell_type": "code",
   "execution_count": 27,
   "id": "195dd16a",
   "metadata": {
    "execution": {
     "iopub.execute_input": "2024-02-16T19:42:39.012633Z",
     "iopub.status.busy": "2024-02-16T19:42:39.012355Z",
     "iopub.status.idle": "2024-02-16T19:42:39.017812Z",
     "shell.execute_reply": "2024-02-16T19:42:39.016966Z"
    },
    "papermill": {
     "duration": 0.020442,
     "end_time": "2024-02-16T19:42:39.019838",
     "exception": false,
     "start_time": "2024-02-16T19:42:38.999396",
     "status": "completed"
    },
    "tags": []
   },
   "outputs": [
    {
     "data": {
      "text/plain": [
       "'\\nF1 score micro 0.7926265715256541\\nF1 score macro 0.5473635197656118\\nF1 score weighted 0.7904021892109715\\n[[ 5914    13   107   250     1     0]\\n [   14  2067   164   611     0     0]\\n [ 1186    84 24016  4137     4     0]\\n [  548   259  4538 14643     9     0]\\n [    5     3    58   185    14     0]\\n [    4     2     9    15     0     0]]\\n'"
      ]
     },
     "execution_count": 27,
     "metadata": {},
     "output_type": "execute_result"
    }
   ],
   "source": [
    "\"\"\"\n",
    "Validation score\n",
    "F1 score micro 0.7926265715256541\n",
    "F1 score macro 0.5473635197656118\n",
    "F1 score weighted 0.7904021892109715\n",
    "[[ 5914    13   107   250     1     0]\n",
    " [   14  2067   164   611     0     0]\n",
    " [ 1186    84 24016  4137     4     0]\n",
    " [  548   259  4538 14643     9     0]\n",
    " [    5     3    58   185    14     0]\n",
    " [    4     2     9    15     0     0]]\n",
    "\"\"\"\n"
   ]
  },
  {
   "cell_type": "code",
   "execution_count": 29,
   "id": "c047e7ec",
   "metadata": {
    "execution": {
     "iopub.execute_input": "2024-02-16T19:42:39.080316Z",
     "iopub.status.busy": "2024-02-16T19:42:39.080067Z",
     "iopub.status.idle": "2024-02-16T19:42:39.085628Z",
     "shell.execute_reply": "2024-02-16T19:42:39.084769Z"
    },
    "papermill": {
     "duration": 0.020734,
     "end_time": "2024-02-16T19:42:39.087597",
     "exception": false,
     "start_time": "2024-02-16T19:42:39.066863",
     "status": "completed"
    },
    "tags": []
   },
   "outputs": [
    {
     "data": {
      "text/plain": [
       "'\\nfrom xgboost import plot_importance\\n\\nmodel.get_booster().feature_names = feature_names\\n\\nfig, ax = plt.subplots(1,1,figsize=(25,35))\\nplot_importance(model.get_booster(), ax=ax)\\nplt.show()'"
      ]
     },
     "execution_count": 29,
     "metadata": {},
     "output_type": "execute_result"
    }
   ],
   "source": [
    "\"\"\"\n",
    "from xgboost import plot_importance\n",
    "\n",
    "model.get_booster().feature_names = feature_names\n",
    "\n",
    "fig, ax = plt.subplots(1,1,figsize=(25,35))\n",
    "plot_importance(model.get_booster(), ax=ax)\n",
    "plt.show()\"\"\""
   ]
  },
  {
   "cell_type": "markdown",
   "id": "0c569d60",
   "metadata": {},
   "source": [
    "# Optuna"
   ]
  },
  {
   "cell_type": "code",
   "execution_count": 30,
   "id": "8391ac2b",
   "metadata": {
    "execution": {
     "iopub.execute_input": "2024-02-16T19:42:39.138166Z",
     "iopub.status.busy": "2024-02-16T19:42:39.137577Z",
     "iopub.status.idle": "2024-02-16T19:42:39.144256Z",
     "shell.execute_reply": "2024-02-16T19:42:39.143441Z"
    },
    "papermill": {
     "duration": 0.021816,
     "end_time": "2024-02-16T19:42:39.146259",
     "exception": false,
     "start_time": "2024-02-16T19:42:39.124443",
     "status": "completed"
    },
    "tags": []
   },
   "outputs": [
    {
     "data": {
      "text/plain": [
       "\"\\ndef objective(trial):\\n    \\n    param = {\\n        'num_class':N,\\n        'objective':'multi:softmax', \\n        'tree_method':'gpu_hist',  # this parameter means using the GPU when training our model to speedup the training process\\n        'lambda': trial.suggest_loguniform('lambda', 1e-3, 10.0),\\n        'alpha': trial.suggest_loguniform('alpha', 1e-3, 10.0),\\n        'gamma': trial.suggest_loguniform('gamma', 1e-3, 10.0),\\n        'colsample_bytree': trial.suggest_categorical('colsample_bytree', [0.3]),\\n        'subsample': trial.suggest_categorical('subsample', [1.0]),\\n        'learning_rate': 0.05,\\n        'n_estimators': 3000,\\n        'max_depth': 17,\\n        'random_state': 2020,\\n        'min_child_weight': trial.suggest_int('min_child_weight', 25, 40),\\n    }\\n    \\n    model = xgb.XGBClassifier(**param)\\n    #xgb.XGBRegressor(**param)  \\n    \\n    eval_set = [(X_valid, Y_valid)]\\n    if remove5:\\n        eval_set = [(X_valid[Y_valid != 5], Y_valid[Y_valid != 5])]\\n    model.fit(X_train,Y_train,eval_set=eval_set,early_stopping_rounds=20,verbose=500)\\n    \\n    preds = model.predict(X_valid)\\n    \\n    score = f1_score(Y_valid, preds, average='weighted')\\n    \\n    return score\""
      ]
     },
     "execution_count": 30,
     "metadata": {},
     "output_type": "execute_result"
    }
   ],
   "source": [
    "\"\"\"\n",
    "def objective(trial):\n",
    "    \n",
    "    param = {\n",
    "        'num_class':N,\n",
    "        'objective':'multi:softmax', \n",
    "        'tree_method':'gpu_hist',  # this parameter means using the GPU when training our model to speedup the training process\n",
    "        'lambda': trial.suggest_loguniform('lambda', 1e-3, 10.0),\n",
    "        'alpha': trial.suggest_loguniform('alpha', 1e-3, 10.0),\n",
    "        'gamma': trial.suggest_loguniform('gamma', 1e-3, 10.0),\n",
    "        'colsample_bytree': trial.suggest_categorical('colsample_bytree', [0.3]),\n",
    "        'subsample': trial.suggest_categorical('subsample', [1.0]),\n",
    "        'learning_rate': 0.05,\n",
    "        'n_estimators': 3000,\n",
    "        'max_depth': 17,\n",
    "        'random_state': 2020,\n",
    "        'min_child_weight': trial.suggest_int('min_child_weight', 25, 40),\n",
    "    }\n",
    "    \n",
    "    model = xgb.XGBClassifier(**param)\n",
    "    #xgb.XGBRegressor(**param)  \n",
    "    \n",
    "    eval_set = [(X_valid, Y_valid)]\n",
    "    if remove5:\n",
    "        eval_set = [(X_valid[Y_valid != 5], Y_valid[Y_valid != 5])]\n",
    "    model.fit(X_train,Y_train,eval_set=eval_set,early_stopping_rounds=20,verbose=500)\n",
    "    \n",
    "    preds = model.predict(X_valid)\n",
    "    \n",
    "    score = f1_score(Y_valid, preds, average='weighted')\n",
    "    \n",
    "    return score\"\"\""
   ]
  },
  {
   "cell_type": "code",
   "execution_count": 31,
   "id": "bedae2f2",
   "metadata": {
    "execution": {
     "iopub.execute_input": "2024-02-16T19:42:39.173033Z",
     "iopub.status.busy": "2024-02-16T19:42:39.172780Z",
     "iopub.status.idle": "2024-02-16T19:42:39.178186Z",
     "shell.execute_reply": "2024-02-16T19:42:39.177329Z"
    },
    "papermill": {
     "duration": 0.021155,
     "end_time": "2024-02-16T19:42:39.180098",
     "exception": false,
     "start_time": "2024-02-16T19:42:39.158943",
     "status": "completed"
    },
    "tags": []
   },
   "outputs": [
    {
     "data": {
      "text/plain": [
       "\"\\nstudy = optuna.create_study(direction='maximize')\\nstudy.optimize(objective, n_trials=20)\\nprint('Number of finished trials:', len(study.trials))\\nprint('Best trial:', study.best_trial.params)\""
      ]
     },
     "execution_count": 31,
     "metadata": {},
     "output_type": "execute_result"
    }
   ],
   "source": [
    "\"\"\"\n",
    "study = optuna.create_study(direction='maximize')\n",
    "study.optimize(objective, n_trials=20)\n",
    "print('Number of finished trials:', len(study.trials))\n",
    "print('Best trial:', study.best_trial.params)\"\"\""
   ]
  },
  {
   "cell_type": "code",
   "execution_count": 32,
   "id": "58607c7a",
   "metadata": {
    "execution": {
     "iopub.execute_input": "2024-02-16T19:42:39.207192Z",
     "iopub.status.busy": "2024-02-16T19:42:39.206941Z",
     "iopub.status.idle": "2024-02-16T19:42:39.210541Z",
     "shell.execute_reply": "2024-02-16T19:42:39.209741Z"
    },
    "papermill": {
     "duration": 0.019444,
     "end_time": "2024-02-16T19:42:39.212538",
     "exception": false,
     "start_time": "2024-02-16T19:42:39.193094",
     "status": "completed"
    },
    "tags": []
   },
   "outputs": [],
   "source": [
    "#study.trials_dataframe().sort_values(\"value\")"
   ]
  },
  {
   "cell_type": "markdown",
   "id": "68e88889",
   "metadata": {},
   "source": [
    "# Saving results"
   ]
  },
  {
   "cell_type": "code",
   "execution_count": 35,
   "id": "996281b6",
   "metadata": {
    "execution": {
     "iopub.execute_input": "2024-02-16T19:42:39.352146Z",
     "iopub.status.busy": "2024-02-16T19:42:39.351905Z",
     "iopub.status.idle": "2024-02-16T19:42:46.821250Z",
     "shell.execute_reply": "2024-02-16T19:42:46.820160Z"
    },
    "papermill": {
     "duration": 7.485419,
     "end_time": "2024-02-16T19:42:46.823606",
     "exception": false,
     "start_time": "2024-02-16T19:42:39.338187",
     "status": "completed"
    },
    "tags": []
   },
   "outputs": [],
   "source": [
    "\n",
    "pred_y = model.predict(X_test)\n",
    "\n",
    "## Save results to submission file\n",
    "pred_df = pd.DataFrame(pred_y, columns=['change_type'])\n",
    "pred_df.to_csv(\"data/XGBOOST_17.csv\", index=True, index_label='Id')\n"
   ]
  },
  {
   "cell_type": "code",
   "execution_count": 36,
   "id": "b4c5957b",
   "metadata": {
    "execution": {
     "iopub.execute_input": "2024-02-16T19:42:46.851353Z",
     "iopub.status.busy": "2024-02-16T19:42:46.851068Z",
     "iopub.status.idle": "2024-02-16T19:42:54.120858Z",
     "shell.execute_reply": "2024-02-16T19:42:54.119996Z"
    },
    "papermill": {
     "duration": 7.286262,
     "end_time": "2024-02-16T19:42:54.123266",
     "exception": false,
     "start_time": "2024-02-16T19:42:46.837004",
     "status": "completed"
    },
    "tags": []
   },
   "outputs": [],
   "source": [
    "\n",
    "pred_probs = model.predict_proba(X_test)\n",
    "np.save(\"data/PROBS_XGBOOST_17\", pred_probs)\n"
   ]
  }
 ],
 "metadata": {
  "kaggle": {
   "accelerator": "gpu",
   "dataSources": [
    {
     "datasetId": 4433393,
     "sourceId": 7627181,
     "sourceType": "datasetVersion"
    }
   ],
   "dockerImageVersionId": 30646,
   "isGpuEnabled": true,
   "isInternetEnabled": true,
   "language": "python",
   "sourceType": "notebook"
  },
  "kernelspec": {
   "display_name": "Python 3",
   "language": "python",
   "name": "python3"
  },
  "language_info": {
   "codemirror_mode": {
    "name": "ipython",
    "version": 3
   },
   "file_extension": ".py",
   "mimetype": "text/x-python",
   "name": "python",
   "nbconvert_exporter": "python",
   "pygments_lexer": "ipython3",
   "version": "3.10.13"
  },
  "papermill": {
   "default_parameters": {},
   "duration": 623.571072,
   "end_time": "2024-02-16T19:42:55.021077",
   "environment_variables": {},
   "exception": null,
   "input_path": "__notebook__.ipynb",
   "output_path": "__notebook__.ipynb",
   "parameters": {},
   "start_time": "2024-02-16T19:32:31.450005",
   "version": "2.5.0"
  }
 },
 "nbformat": 4,
 "nbformat_minor": 5
}
