{
 "cells": [
  {
   "cell_type": "markdown",
   "metadata": {},
   "source": [
    "<h1><b>[VII - Construction]</b></h1>\n",
    "\n",
    "We can finally construct our final dataset!\n",
    "\n",
    "The dataset will be save in `data/train_df_FINAL.csv` and `data/test_df_FINAL.csv`"
   ]
  },
  {
   "cell_type": "code",
   "execution_count": 1,
   "metadata": {},
   "outputs": [],
   "source": [
    "import pandas as pd\n",
    "import numpy as np"
   ]
  },
  {
   "cell_type": "code",
   "execution_count": 2,
   "metadata": {},
   "outputs": [],
   "source": [
    "train_df = pd.read_csv(\"data/train_df.csv\")\n",
    "test_df = pd.read_csv(\"data/test_df.csv\")"
   ]
  },
  {
   "cell_type": "code",
   "execution_count": 10,
   "metadata": {},
   "outputs": [],
   "source": [
    "NB_TRAINS = len(train_df)"
   ]
  },
  {
   "cell_type": "markdown",
   "metadata": {},
   "source": [
    "_____________________\n",
    "Features 2"
   ]
  },
  {
   "cell_type": "code",
   "execution_count": 8,
   "metadata": {},
   "outputs": [],
   "source": [
    "neighb_density = np.load(\"data/neighb_density.npy\")\n",
    "neighb_nb = np.load(\"data/neighb_nb.npy\")\n",
    "neighb_similar = np.load(\"data/neighb_similar.npy\")"
   ]
  },
  {
   "cell_type": "code",
   "execution_count": 12,
   "metadata": {},
   "outputs": [],
   "source": [
    "train_df[\"neighb_density\"] = neighb_density[:NB_TRAINS]\n",
    "train_df[\"neighb_nb\"] = neighb_nb[:NB_TRAINS]\n",
    "train_df[\"neighb_similar\"] = neighb_similar[:NB_TRAINS]\n",
    "\n",
    "test_df[\"neighb_density\"] = neighb_density[NB_TRAINS:]\n",
    "test_df[\"neighb_nb\"] = neighb_nb[NB_TRAINS:]\n",
    "test_df[\"neighb_similar\"] = neighb_similar[NB_TRAINS:]"
   ]
  },
  {
   "cell_type": "markdown",
   "metadata": {},
   "source": [
    "_________________________\n",
    "Features 3"
   ]
  },
  {
   "cell_type": "code",
   "execution_count": 13,
   "metadata": {},
   "outputs": [],
   "source": [
    "diffs_change_status1 = np.load(\"data/diffs_change_status0.001.npy\")\n",
    "diffs_change_status3 = np.load(\"data/diffs_change_status0.003.npy\")"
   ]
  },
  {
   "cell_type": "code",
   "execution_count": 15,
   "metadata": {},
   "outputs": [],
   "source": [
    "for iDate in range(5):\n",
    "    train_df[f\"neighb_maxdiff_change_status_date{iDate}_0.001\"] = diffs_change_status1[iDate][:NB_TRAINS]\n",
    "    test_df[f\"neighb_maxdiff_change_status_date{iDate}_0.001\"] = diffs_change_status1[iDate][NB_TRAINS:]\n",
    "\n",
    "for iDate in range(5):\n",
    "    train_df[f\"neighb_maxdiff_change_status_date{iDate}_0.003\"] = diffs_change_status3[iDate][:NB_TRAINS]\n",
    "    test_df[f\"neighb_maxdiff_change_status_date{iDate}_0.003\"] = diffs_change_status3[iDate][NB_TRAINS:]"
   ]
  },
  {
   "cell_type": "markdown",
   "metadata": {},
   "source": [
    "________________\n",
    "Features 4"
   ]
  },
  {
   "cell_type": "code",
   "execution_count": 16,
   "metadata": {},
   "outputs": [],
   "source": [
    "for method in [\"mean\", \"std\"]:\n",
    "    for iDate in range(5):\n",
    "        csv = pd.read_csv(f\"data/neighb_maxdiff_{method}color_{iDate}.csv\")\n",
    "        train_df[f\"neighb_maxdiff_{method}color_{iDate}\"] = csv[f\"neighb_maxdiff_{method}color_{iDate}\"].to_numpy()[:NB_TRAINS]\n",
    "        test_df[f\"neighb_maxdiff_{method}color_{iDate}\"] = csv[f\"neighb_maxdiff_{method}color_{iDate}\"].to_numpy()[NB_TRAINS:]"
   ]
  },
  {
   "cell_type": "markdown",
   "metadata": {},
   "source": [
    "___________________\n",
    "Features 5"
   ]
  },
  {
   "cell_type": "code",
   "execution_count": 17,
   "metadata": {},
   "outputs": [],
   "source": [
    "for iDate in range(5):\n",
    "    csv = pd.read_csv(f\"data/neighb_meandiff_changestatus_{iDate}.csv\")\n",
    "    train_df[f\"neighb_meandiff_changestatus_{iDate}\"] = csv[f\"neighb_meandiff_changestatus_{iDate}\"].to_numpy()[:NB_TRAINS]\n",
    "    test_df[f\"neighb_meandiff_changestatus_{iDate}\"] = csv[f\"neighb_meandiff_changestatus_{iDate}\"].to_numpy()[NB_TRAINS:]"
   ]
  },
  {
   "cell_type": "markdown",
   "metadata": {},
   "source": [
    "_______________________\n",
    "Features 6"
   ]
  },
  {
   "cell_type": "code",
   "execution_count": 18,
   "metadata": {},
   "outputs": [],
   "source": [
    "for method in [\"mean\", \"std\"]:\n",
    "    for iDate in range(5):\n",
    "        csv = pd.read_csv(f\"data/neighb_meandiff_{method}color_{iDate}.csv\")\n",
    "        train_df[f\"neighb_meandiff_{method}color_{iDate}\"] = csv[f\"neighb_meandiff_{method}color_{iDate}\"].to_numpy()[:NB_TRAINS]\n",
    "        test_df[f\"neighb_meandiff_{method}color_{iDate}\"] = csv[f\"neighb_meandiff_{method}color_{iDate}\"].to_numpy()[NB_TRAINS:]"
   ]
  },
  {
   "cell_type": "markdown",
   "metadata": {},
   "source": [
    "____________________________"
   ]
  },
  {
   "cell_type": "code",
   "execution_count": 19,
   "metadata": {},
   "outputs": [
    {
     "data": {
      "text/html": [
       "<div>\n",
       "<style scoped>\n",
       "    .dataframe tbody tr th:only-of-type {\n",
       "        vertical-align: middle;\n",
       "    }\n",
       "\n",
       "    .dataframe tbody tr th {\n",
       "        vertical-align: top;\n",
       "    }\n",
       "\n",
       "    .dataframe thead th {\n",
       "        text-align: right;\n",
       "    }\n",
       "</style>\n",
       "<table border=\"1\" class=\"dataframe\">\n",
       "  <thead>\n",
       "    <tr style=\"text-align: right;\">\n",
       "      <th></th>\n",
       "      <th>urban_type</th>\n",
       "      <th>geography_type</th>\n",
       "      <th>change_type</th>\n",
       "      <th>index</th>\n",
       "      <th>geometry</th>\n",
       "      <th>urban_type_N,A</th>\n",
       "      <th>urban_type_UrbanSlum</th>\n",
       "      <th>urban_type_Rural</th>\n",
       "      <th>urban_type_DenseUrban</th>\n",
       "      <th>urban_type_Industrial</th>\n",
       "      <th>...</th>\n",
       "      <th>neighb_meandiff_meancolor_0</th>\n",
       "      <th>neighb_meandiff_meancolor_1</th>\n",
       "      <th>neighb_meandiff_meancolor_2</th>\n",
       "      <th>neighb_meandiff_meancolor_3</th>\n",
       "      <th>neighb_meandiff_meancolor_4</th>\n",
       "      <th>neighb_meandiff_stdcolor_0</th>\n",
       "      <th>neighb_meandiff_stdcolor_1</th>\n",
       "      <th>neighb_meandiff_stdcolor_2</th>\n",
       "      <th>neighb_meandiff_stdcolor_3</th>\n",
       "      <th>neighb_meandiff_stdcolor_4</th>\n",
       "    </tr>\n",
       "  </thead>\n",
       "  <tbody>\n",
       "    <tr>\n",
       "      <th>0</th>\n",
       "      <td>Sparse Urban</td>\n",
       "      <td>Dense Forest,Grass Land</td>\n",
       "      <td>1</td>\n",
       "      <td>0</td>\n",
       "      <td>POLYGON ((112.16774086470313 32.0219772550438,...</td>\n",
       "      <td>0.0</td>\n",
       "      <td>0</td>\n",
       "      <td>0</td>\n",
       "      <td>0</td>\n",
       "      <td>0</td>\n",
       "      <td>...</td>\n",
       "      <td>41.218072</td>\n",
       "      <td>53.415744</td>\n",
       "      <td>0.830730</td>\n",
       "      <td>-38.613157</td>\n",
       "      <td>0.862482</td>\n",
       "      <td>-0.222173</td>\n",
       "      <td>28.776537</td>\n",
       "      <td>1.171524</td>\n",
       "      <td>-22.193249</td>\n",
       "      <td>3.225752</td>\n",
       "    </tr>\n",
       "    <tr>\n",
       "      <th>1</th>\n",
       "      <td>Sparse Urban</td>\n",
       "      <td>Dense Forest,Grass Land</td>\n",
       "      <td>1</td>\n",
       "      <td>1</td>\n",
       "      <td>POLYGON ((112.16848748857684 32.02047741874698...</td>\n",
       "      <td>0.0</td>\n",
       "      <td>0</td>\n",
       "      <td>0</td>\n",
       "      <td>0</td>\n",
       "      <td>0</td>\n",
       "      <td>...</td>\n",
       "      <td>62.641541</td>\n",
       "      <td>153.365827</td>\n",
       "      <td>13.932604</td>\n",
       "      <td>-30.509336</td>\n",
       "      <td>50.069651</td>\n",
       "      <td>-17.088303</td>\n",
       "      <td>-1.663827</td>\n",
       "      <td>3.654883</td>\n",
       "      <td>-44.086075</td>\n",
       "      <td>-3.225888</td>\n",
       "    </tr>\n",
       "    <tr>\n",
       "      <th>2</th>\n",
       "      <td>Sparse Urban</td>\n",
       "      <td>Dense Forest,Grass Land</td>\n",
       "      <td>1</td>\n",
       "      <td>2</td>\n",
       "      <td>POLYGON ((112.16891598575654 32.01968680736571...</td>\n",
       "      <td>0.0</td>\n",
       "      <td>0</td>\n",
       "      <td>0</td>\n",
       "      <td>0</td>\n",
       "      <td>0</td>\n",
       "      <td>...</td>\n",
       "      <td>21.751123</td>\n",
       "      <td>64.394203</td>\n",
       "      <td>-12.089585</td>\n",
       "      <td>-17.190314</td>\n",
       "      <td>7.150059</td>\n",
       "      <td>-7.524125</td>\n",
       "      <td>35.144122</td>\n",
       "      <td>6.819188</td>\n",
       "      <td>-52.969705</td>\n",
       "      <td>13.382244</td>\n",
       "    </tr>\n",
       "    <tr>\n",
       "      <th>3</th>\n",
       "      <td>Rural</td>\n",
       "      <td>Dense Forest,Grass Land</td>\n",
       "      <td>1</td>\n",
       "      <td>3</td>\n",
       "      <td>POLYGON ((112.16966260963025 32.01809977128419...</td>\n",
       "      <td>0.0</td>\n",
       "      <td>0</td>\n",
       "      <td>1</td>\n",
       "      <td>0</td>\n",
       "      <td>0</td>\n",
       "      <td>...</td>\n",
       "      <td>27.539912</td>\n",
       "      <td>61.336169</td>\n",
       "      <td>-56.298177</td>\n",
       "      <td>-54.223249</td>\n",
       "      <td>-2.200072</td>\n",
       "      <td>10.556988</td>\n",
       "      <td>32.857172</td>\n",
       "      <td>-0.754455</td>\n",
       "      <td>-31.125627</td>\n",
       "      <td>18.403588</td>\n",
       "    </tr>\n",
       "    <tr>\n",
       "      <th>4</th>\n",
       "      <td>Dense Urban</td>\n",
       "      <td>Sparse Forest,Dense Forest,Farms</td>\n",
       "      <td>0</td>\n",
       "      <td>4</td>\n",
       "      <td>POLYGON ((112.16668909889843 32.01597209653754...</td>\n",
       "      <td>0.0</td>\n",
       "      <td>0</td>\n",
       "      <td>0</td>\n",
       "      <td>1</td>\n",
       "      <td>0</td>\n",
       "      <td>...</td>\n",
       "      <td>155.646857</td>\n",
       "      <td>142.110806</td>\n",
       "      <td>93.716103</td>\n",
       "      <td>220.215236</td>\n",
       "      <td>42.091290</td>\n",
       "      <td>24.233205</td>\n",
       "      <td>17.400085</td>\n",
       "      <td>14.967066</td>\n",
       "      <td>61.859579</td>\n",
       "      <td>5.183346</td>\n",
       "    </tr>\n",
       "  </tbody>\n",
       "</table>\n",
       "<p>5 rows × 336 columns</p>\n",
       "</div>"
      ],
      "text/plain": [
       "     urban_type                    geography_type  change_type  index  \\\n",
       "0  Sparse Urban           Dense Forest,Grass Land            1      0   \n",
       "1  Sparse Urban           Dense Forest,Grass Land            1      1   \n",
       "2  Sparse Urban           Dense Forest,Grass Land            1      2   \n",
       "3         Rural           Dense Forest,Grass Land            1      3   \n",
       "4   Dense Urban  Sparse Forest,Dense Forest,Farms            0      4   \n",
       "\n",
       "                                            geometry  urban_type_N,A  \\\n",
       "0  POLYGON ((112.16774086470313 32.0219772550438,...             0.0   \n",
       "1  POLYGON ((112.16848748857684 32.02047741874698...             0.0   \n",
       "2  POLYGON ((112.16891598575654 32.01968680736571...             0.0   \n",
       "3  POLYGON ((112.16966260963025 32.01809977128419...             0.0   \n",
       "4  POLYGON ((112.16668909889843 32.01597209653754...             0.0   \n",
       "\n",
       "   urban_type_UrbanSlum  urban_type_Rural  urban_type_DenseUrban  \\\n",
       "0                     0                 0                      0   \n",
       "1                     0                 0                      0   \n",
       "2                     0                 0                      0   \n",
       "3                     0                 1                      0   \n",
       "4                     0                 0                      1   \n",
       "\n",
       "   urban_type_Industrial  ...  neighb_meandiff_meancolor_0  \\\n",
       "0                      0  ...                    41.218072   \n",
       "1                      0  ...                    62.641541   \n",
       "2                      0  ...                    21.751123   \n",
       "3                      0  ...                    27.539912   \n",
       "4                      0  ...                   155.646857   \n",
       "\n",
       "   neighb_meandiff_meancolor_1  neighb_meandiff_meancolor_2  \\\n",
       "0                    53.415744                     0.830730   \n",
       "1                   153.365827                    13.932604   \n",
       "2                    64.394203                   -12.089585   \n",
       "3                    61.336169                   -56.298177   \n",
       "4                   142.110806                    93.716103   \n",
       "\n",
       "   neighb_meandiff_meancolor_3  neighb_meandiff_meancolor_4  \\\n",
       "0                   -38.613157                     0.862482   \n",
       "1                   -30.509336                    50.069651   \n",
       "2                   -17.190314                     7.150059   \n",
       "3                   -54.223249                    -2.200072   \n",
       "4                   220.215236                    42.091290   \n",
       "\n",
       "   neighb_meandiff_stdcolor_0  neighb_meandiff_stdcolor_1  \\\n",
       "0                   -0.222173                   28.776537   \n",
       "1                  -17.088303                   -1.663827   \n",
       "2                   -7.524125                   35.144122   \n",
       "3                   10.556988                   32.857172   \n",
       "4                   24.233205                   17.400085   \n",
       "\n",
       "   neighb_meandiff_stdcolor_2  neighb_meandiff_stdcolor_3  \\\n",
       "0                    1.171524                  -22.193249   \n",
       "1                    3.654883                  -44.086075   \n",
       "2                    6.819188                  -52.969705   \n",
       "3                   -0.754455                  -31.125627   \n",
       "4                   14.967066                   61.859579   \n",
       "\n",
       "   neighb_meandiff_stdcolor_4  \n",
       "0                    3.225752  \n",
       "1                   -3.225888  \n",
       "2                   13.382244  \n",
       "3                   18.403588  \n",
       "4                    5.183346  \n",
       "\n",
       "[5 rows x 336 columns]"
      ]
     },
     "execution_count": 19,
     "metadata": {},
     "output_type": "execute_result"
    }
   ],
   "source": [
    "train_df.head()"
   ]
  },
  {
   "cell_type": "code",
   "execution_count": 43,
   "metadata": {},
   "outputs": [
    {
     "data": {
      "text/plain": [
       "<AxesSubplot:xlabel='change_type', ylabel='neighb_meandiff_changestatus_4'>"
      ]
     },
     "execution_count": 43,
     "metadata": {},
     "output_type": "execute_result"
    },
    {
     "data": {
      "image/png": "[encoded data removed]",
      "text/plain": [
       "<Figure size 640x480 with 1 Axes>"
      ]
     },
     "metadata": {},
     "output_type": "display_data"
    }
   ],
   "source": [
    "import seaborn as sns\n",
    "\n",
    "sns.violinplot(x=\"change_type\", y=\"neighb_meandiff_changestatus_4\", hue=None, data=train_df, split=True, inner=\"quart\")"
   ]
  },
  {
   "cell_type": "code",
   "execution_count": 44,
   "metadata": {},
   "outputs": [],
   "source": [
    "train_df.to_csv(\"data/train_df_FINAL.csv\", index=False)\n",
    "test_df.to_csv(\"data/test_df_FINAL.csv\", index=False)"
   ]
  }
 ],
 "metadata": {
  "kernelspec": {
   "display_name": "Python 3",
   "language": "python",
   "name": "python3"
  },
  "language_info": {
   "codemirror_mode": {
    "name": "ipython",
    "version": 3
   },
   "file_extension": ".py",
   "mimetype": "text/x-python",
   "name": "python",
   "nbconvert_exporter": "python",
   "pygments_lexer": "ipython3",
   "version": "3.10.11"
  }
 },
 "nbformat": 4,
 "nbformat_minor": 2
}
