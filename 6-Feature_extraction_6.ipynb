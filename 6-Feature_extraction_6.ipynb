{
 "cells": [
  {
   "cell_type": "markdown",
   "id": "1a17daf8",
   "metadata": {},
   "source": [
    "<h1><b>[VI - Feature extraction 6]</b></h1>\n",
    "\n",
    "This notebook extracts the more advanced features `neighb_meandiff_meancolor_{iDate}` or `neighb_meandiff_stdcolor_{iDate}`.\n",
    "\n",
    "It requires several hours to compute. Thus, the computed versions are also already available:\n",
    "\n",
    "=> <b>it is not mandatory to run this notebook</b> (but it is provided for reproductibility).\n",
    "\n",
    "Once computed, the features are saved in `neighb_meandiff_meancolor_{iDate}.csv` or `neighb_meandiff_stdcolor_{iDate}.csv`"
   ]
  },
  {
   "cell_type": "markdown",
   "id": "2a3500d5",
   "metadata": {},
   "source": [
    "________________________________"
   ]
  },
  {
   "cell_type": "markdown",
   "id": "2911ea48",
   "metadata": {},
   "source": [
    "Please choose mean or std, and iDate between 0 and 4 included\n",
    "\n",
    "(To recompute everything, you'll have to run this notebook with all the possible values (here, 2*5 = 10))"
   ]
  },
  {
   "cell_type": "code",
   "execution_count": null,
   "id": "af295ad0",
   "metadata": {},
   "outputs": [],
   "source": [
    "method = \"mean\" # or method = \"std\""
   ]
  },
  {
   "cell_type": "code",
   "execution_count": null,
   "id": "20d2aa35",
   "metadata": {},
   "outputs": [],
   "source": [
    "iDate = 0 #between 0 and 4 included"
   ]
  },
  {
   "cell_type": "markdown",
   "id": "c7212bca",
   "metadata": {},
   "source": [
    "______________________________________"
   ]
  },
  {
   "cell_type": "code",
   "execution_count": 2,
   "id": "e630bb44",
   "metadata": {
    "execution": {
     "iopub.execute_input": "2024-02-14T19:21:00.288583Z",
     "iopub.status.busy": "2024-02-14T19:21:00.287006Z",
     "iopub.status.idle": "2024-02-14T19:21:03.025112Z",
     "shell.execute_reply": "2024-02-14T19:21:03.023837Z"
    },
    "papermill": {
     "duration": 2.754441,
     "end_time": "2024-02-14T19:21:03.027993",
     "exception": false,
     "start_time": "2024-02-14T19:21:00.273552",
     "status": "completed"
    },
    "tags": []
   },
   "outputs": [],
   "source": [
    "import geopandas as gpd\n",
    "import pandas as pd\n",
    "import numpy as np\n",
    "\n",
    "import matplotlib.pyplot as plt\n",
    "import seaborn as sns\n",
    "\n",
    "import warnings\n",
    "warnings.filterwarnings('ignore')\n",
    "\n",
    "pd.set_option('display.max_columns', None)  "
   ]
  },
  {
   "cell_type": "code",
   "execution_count": 3,
   "id": "9a209a2e",
   "metadata": {
    "execution": {
     "iopub.execute_input": "2024-02-14T19:21:03.049121Z",
     "iopub.status.busy": "2024-02-14T19:21:03.048606Z",
     "iopub.status.idle": "2024-02-14T19:22:25.967676Z",
     "shell.execute_reply": "2024-02-14T19:22:25.966861Z"
    },
    "papermill": {
     "duration": 82.941898,
     "end_time": "2024-02-14T19:22:25.979875",
     "exception": false,
     "start_time": "2024-02-14T19:21:03.037977",
     "status": "completed"
    },
    "tags": []
   },
   "outputs": [
    {
     "name": "stdout",
     "output_type": "stream",
     "text": [
      "Reading time: 82.91350603103638 s\n"
     ]
    }
   ],
   "source": [
    "## Read csvs\n",
    "import time\n",
    "start = time.time()\n",
    "\n",
    "train_df_geojson = gpd.read_file('data/train.geojson', engine=\"pyogrio\")\n",
    "test_df_geojson = gpd.read_file('data/test.geojson', engine=\"pyogrio\")\n",
    "\n",
    "end = time.time()\n",
    "print(\"Reading time:\", end - start,\"s\")"
   ]
  },
  {
   "cell_type": "code",
   "execution_count": 4,
   "id": "29a94a92",
   "metadata": {
    "execution": {
     "iopub.execute_input": "2024-02-14T19:22:26.002237Z",
     "iopub.status.busy": "2024-02-14T19:22:26.000384Z",
     "iopub.status.idle": "2024-02-14T19:22:26.175658Z",
     "shell.execute_reply": "2024-02-14T19:22:26.174442Z"
    },
    "papermill": {
     "duration": 0.189303,
     "end_time": "2024-02-14T19:22:26.178665",
     "exception": false,
     "start_time": "2024-02-14T19:22:25.989362",
     "status": "completed"
    },
    "tags": []
   },
   "outputs": [],
   "source": [
    "train_df = train_df_geojson.copy()\n",
    "test_df = test_df_geojson.copy()"
   ]
  },
  {
   "cell_type": "code",
   "execution_count": 5,
   "id": "9a48ee1a",
   "metadata": {
    "execution": {
     "iopub.execute_input": "2024-02-14T19:22:26.200328Z",
     "iopub.status.busy": "2024-02-14T19:22:26.199919Z",
     "iopub.status.idle": "2024-02-14T19:22:26.834033Z",
     "shell.execute_reply": "2024-02-14T19:22:26.832828Z"
    },
    "papermill": {
     "duration": 0.648631,
     "end_time": "2024-02-14T19:22:26.837064",
     "exception": false,
     "start_time": "2024-02-14T19:22:26.188433",
     "status": "completed"
    },
    "tags": []
   },
   "outputs": [],
   "source": [
    "\n",
    "\n",
    "# renaming all dates related columns\n",
    "for df in [train_df, test_df]:\n",
    "    for i in range(5):\n",
    "        df[f\"date{i}\"] = pd.to_datetime(df[f\"date{i}\"], format=\"%d-%m-%Y\")\n",
    "        df.rename(columns={f\"date{i}\": f\"date{i}_old\",\n",
    "                           f\"img_red_mean_date{i+1}\": f\"img_red_mean_date{i}_old\",\n",
    "                           f\"img_green_mean_date{i+1}\": f\"img_green_mean_date{i}_old\",\n",
    "                           f\"img_blue_mean_date{i+1}\": f\"img_blue_mean_date{i}_old\",\n",
    "                           f\"img_red_std_date{i+1}\": f\"img_red_std_date{i}_old\",\n",
    "                           f\"img_green_std_date{i+1}\": f\"img_green_std_date{i}_old\",\n",
    "                           f\"img_blue_std_date{i+1}\": f\"img_blue_std_date{i}_old\",\n",
    "                           f\"change_status_date{i}\": f\"change_status_date{i}_old\"}, inplace=True)\n",
    "\n"
   ]
  },
  {
   "cell_type": "code",
   "execution_count": 6,
   "id": "147e4d37",
   "metadata": {
    "execution": {
     "iopub.execute_input": "2024-02-14T19:22:26.861364Z",
     "iopub.status.busy": "2024-02-14T19:22:26.860939Z",
     "iopub.status.idle": "2024-02-14T19:22:36.600029Z",
     "shell.execute_reply": "2024-02-14T19:22:36.598483Z"
    },
    "papermill": {
     "duration": 9.754846,
     "end_time": "2024-02-14T19:22:36.602834",
     "exception": false,
     "start_time": "2024-02-14T19:22:26.847988",
     "status": "completed"
    },
    "tags": []
   },
   "outputs": [],
   "source": [
    "# Toutes les colonnes qu'on doit réorganiser\n",
    "col_prefixes = [\"img_red_mean_date\", \"img_green_mean_date\", \"img_blue_mean_date\", \"img_red_std_date\", \"img_green_std_date\", \"img_blue_std_date\", \"change_status_date\", \"date\"]\n",
    "\n",
    "for df in [train_df, test_df]:\n",
    "    # df avec les dates\n",
    "    dftemp=df[[f\"date{i}_old\" for i in range(5)]].replace(np.nan, pd.to_datetime(\"01-01-1970\", format=\"%d-%m-%Y\"))\n",
    "    \n",
    "    # Tableau numpy tq new_to_old[iLigne, nouvelleDate] = ancienneDate\n",
    "    new_to_old = np.argsort(dftemp.values, axis=1)\n",
    "\n",
    "    for col_prefix in col_prefixes:\n",
    "        for iNewDate in range(5):\n",
    "            # Ajout d'une nouvelle ligne\n",
    "            newColName = f\"{col_prefix}{iNewDate}\"\n",
    "            df.insert(len(df.columns), newColName, None)\n",
    "            for iOldDate in range(5):\n",
    "                oldColName = f\"{col_prefix}{iOldDate}_old\"\n",
    "                # Pour chaque ancienne date correspondante, on met à jour\n",
    "                df.loc[(new_to_old[df.index, iNewDate] == iOldDate), newColName] = df.loc[(new_to_old[df.index, iNewDate] == iOldDate), oldColName]"
   ]
  },
  {
   "cell_type": "code",
   "execution_count": 7,
   "id": "426ef901",
   "metadata": {
    "execution": {
     "iopub.execute_input": "2024-02-14T19:22:36.623960Z",
     "iopub.status.busy": "2024-02-14T19:22:36.623521Z",
     "iopub.status.idle": "2024-02-14T19:22:38.618719Z",
     "shell.execute_reply": "2024-02-14T19:22:38.617523Z"
    },
    "papermill": {
     "duration": 2.009215,
     "end_time": "2024-02-14T19:22:38.621703",
     "exception": false,
     "start_time": "2024-02-14T19:22:36.612488",
     "status": "completed"
    },
    "tags": []
   },
   "outputs": [],
   "source": [
    "\n",
    "\n",
    "# Converting back to float / datetime\n",
    "col_imgs = [\"img_red_mean_date\", \"img_green_mean_date\", \"img_blue_mean_date\", \"img_red_std_date\", \"img_green_std_date\", \"img_blue_std_date\"]\n",
    "for df in [train_df, test_df]:\n",
    "    for col in col_imgs:\n",
    "        for i in range(5):\n",
    "            col_name = f\"{col}{i}\"\n",
    "            df[col_name] = df[col_name].astype(float)\n",
    "    for iDate in range(5):\n",
    "        col_name = f'date{iDate}'\n",
    "        df[col_name] = pd.to_datetime(df[col_name])\n",
    "\n"
   ]
  },
  {
   "cell_type": "code",
   "execution_count": 8,
   "id": "7ca15b74",
   "metadata": {
    "execution": {
     "iopub.execute_input": "2024-02-14T19:22:38.643075Z",
     "iopub.status.busy": "2024-02-14T19:22:38.642117Z",
     "iopub.status.idle": "2024-02-14T19:22:39.957386Z",
     "shell.execute_reply": "2024-02-14T19:22:39.956007Z"
    },
    "papermill": {
     "duration": 1.328615,
     "end_time": "2024-02-14T19:22:39.959912",
     "exception": false,
     "start_time": "2024-02-14T19:22:38.631297",
     "status": "completed"
    },
    "tags": []
   },
   "outputs": [],
   "source": [
    "\n",
    "\n",
    "train_long = np.array(train_df[\"geometry\"].centroid.x)\n",
    "train_lat = np.array(train_df[\"geometry\"].centroid.y)\n",
    "train_coords = np.stack((train_long, train_lat), axis=1)\n",
    "\n",
    "test_long = np.array(test_df[\"geometry\"].centroid.x)\n",
    "test_lat = np.array(test_df[\"geometry\"].centroid.y)\n",
    "test_coords = np.stack((test_long, test_lat), axis=1)\n",
    "\n"
   ]
  },
  {
   "cell_type": "code",
   "execution_count": 9,
   "id": "ab12f016",
   "metadata": {
    "execution": {
     "iopub.execute_input": "2024-02-14T19:22:39.980027Z",
     "iopub.status.busy": "2024-02-14T19:22:39.979594Z",
     "iopub.status.idle": "2024-02-14T19:22:39.987003Z",
     "shell.execute_reply": "2024-02-14T19:22:39.986184Z"
    },
    "papermill": {
     "duration": 0.020322,
     "end_time": "2024-02-14T19:22:39.989174",
     "exception": false,
     "start_time": "2024-02-14T19:22:39.968852",
     "status": "completed"
    },
    "tags": []
   },
   "outputs": [
    {
     "name": "stdout",
     "output_type": "stream",
     "text": [
      "(416672, 2)\n"
     ]
    }
   ],
   "source": [
    "all_coords = np.concatenate([train_coords, test_coords])\n",
    "print(all_coords.shape)"
   ]
  },
  {
   "cell_type": "code",
   "execution_count": 10,
   "id": "1a40b73d",
   "metadata": {
    "execution": {
     "iopub.execute_input": "2024-02-14T19:22:40.011116Z",
     "iopub.status.busy": "2024-02-14T19:22:40.010544Z",
     "iopub.status.idle": "2024-02-14T19:22:50.913660Z",
     "shell.execute_reply": "2024-02-14T19:22:50.912194Z"
    },
    "papermill": {
     "duration": 10.917715,
     "end_time": "2024-02-14T19:22:50.916696",
     "exception": false,
     "start_time": "2024-02-14T19:22:39.998981",
     "status": "completed"
    },
    "tags": []
   },
   "outputs": [],
   "source": [
    "from sklearn.neighbors import NearestNeighbors\n",
    "\n",
    "model = NearestNeighbors(n_neighbors=12, algorithm='ball_tree').fit(all_coords)\n",
    "distances, indices = model.radius_neighbors(all_coords, radius=0.01)"
   ]
  },
  {
   "cell_type": "code",
   "execution_count": 11,
   "id": "9a34a93b",
   "metadata": {
    "execution": {
     "iopub.execute_input": "2024-02-14T19:22:50.938159Z",
     "iopub.status.busy": "2024-02-14T19:22:50.937798Z",
     "iopub.status.idle": "2024-02-14T19:22:50.946763Z",
     "shell.execute_reply": "2024-02-14T19:22:50.945394Z"
    },
    "papermill": {
     "duration": 0.022499,
     "end_time": "2024-02-14T19:22:50.949136",
     "exception": false,
     "start_time": "2024-02-14T19:22:50.926637",
     "status": "completed"
    },
    "tags": []
   },
   "outputs": [
    {
     "data": {
      "text/plain": [
       "array([0.00126759, 0.00557772, 0.00557772, 0.00715338, 0.00715338,\n",
       "       0.00999379, 0.00999379, 0.00126759, 0.00257037, 0.00257037,\n",
       "       0.0070286 , 0.0070286 , 0.00990901, 0.00851602, 0.00851602,\n",
       "       0.00969911, 0.00573477, 0.00990901, 0.00426781, 0.00969911,\n",
       "       0.00962543, 0.00962543, 0.00426781, 0.00573477, 0.        ,\n",
       "       0.        ])"
      ]
     },
     "execution_count": 11,
     "metadata": {},
     "output_type": "execute_result"
    }
   ],
   "source": [
    "distances[0]"
   ]
  },
  {
   "cell_type": "code",
   "execution_count": 12,
   "id": "6f672812",
   "metadata": {
    "execution": {
     "iopub.execute_input": "2024-02-14T19:22:50.971298Z",
     "iopub.status.busy": "2024-02-14T19:22:50.970881Z",
     "iopub.status.idle": "2024-02-14T19:22:50.978709Z",
     "shell.execute_reply": "2024-02-14T19:22:50.977386Z"
    },
    "papermill": {
     "duration": 0.021888,
     "end_time": "2024-02-14T19:22:50.981019",
     "exception": false,
     "start_time": "2024-02-14T19:22:50.959131",
     "status": "completed"
    },
    "tags": []
   },
   "outputs": [
    {
     "data": {
      "text/plain": [
       "array([     1,      4, 303485,      6, 303487, 303490,      9, 303482,\n",
       "       303483,      2,      7, 303488, 303495, 303489,      8,     16,\n",
       "            5,     14,      3, 303497,     15, 303496, 303484, 303486,\n",
       "       303481,      0])"
      ]
     },
     "execution_count": 12,
     "metadata": {},
     "output_type": "execute_result"
    }
   ],
   "source": [
    "indices[0]"
   ]
  },
  {
   "cell_type": "code",
   "execution_count": 13,
   "id": "5c5796a5",
   "metadata": {
    "execution": {
     "iopub.execute_input": "2024-02-14T19:22:51.003819Z",
     "iopub.status.busy": "2024-02-14T19:22:51.003358Z",
     "iopub.status.idle": "2024-02-14T19:22:51.352459Z",
     "shell.execute_reply": "2024-02-14T19:22:51.351234Z"
    },
    "papermill": {
     "duration": 0.364161,
     "end_time": "2024-02-14T19:22:51.355794",
     "exception": false,
     "start_time": "2024-02-14T19:22:50.991633",
     "status": "completed"
    },
    "tags": []
   },
   "outputs": [],
   "source": [
    "dfALL = pd.concat([train_df, test_df], axis=0)"
   ]
  },
  {
   "cell_type": "code",
   "execution_count": 14,
   "id": "3658c960",
   "metadata": {
    "execution": {
     "iopub.execute_input": "2024-02-14T19:22:51.377635Z",
     "iopub.status.busy": "2024-02-14T19:22:51.377264Z",
     "iopub.status.idle": "2024-02-14T19:22:51.382685Z",
     "shell.execute_reply": "2024-02-14T19:22:51.381484Z"
    },
    "papermill": {
     "duration": 0.019187,
     "end_time": "2024-02-14T19:22:51.385037",
     "exception": false,
     "start_time": "2024-02-14T19:22:51.365850",
     "status": "completed"
    },
    "tags": []
   },
   "outputs": [],
   "source": [
    "dfALL.reset_index(drop=True, inplace=True)"
   ]
  },
  {
   "cell_type": "code",
   "execution_count": 17,
   "id": "386b87c2",
   "metadata": {
    "execution": {
     "iopub.execute_input": "2024-02-14T19:22:53.871912Z",
     "iopub.status.busy": "2024-02-14T19:22:53.870255Z",
     "iopub.status.idle": "2024-02-14T19:22:53.878119Z",
     "shell.execute_reply": "2024-02-14T19:22:53.876815Z"
    },
    "papermill": {
     "duration": 0.024814,
     "end_time": "2024-02-14T19:22:53.881113",
     "exception": false,
     "start_time": "2024-02-14T19:22:53.856299",
     "status": "completed"
    },
    "tags": []
   },
   "outputs": [],
   "source": [
    "change_status_map = {\n",
    "    \"Prior Construction\": 0,\n",
    "    \"Greenland\": 1,\n",
    "    \"Land Cleared\": 2,\n",
    "    \"Excavation\": 3,\n",
    "    \"Materials Dumped\": 4,\n",
    "    \"Materials Introduced\": 5,\n",
    "    \"Construction Started\": 6,\n",
    "    \"Construction Midway\": 7,\n",
    "    \"Construction Done\": 8,\n",
    "    \"Operational\": 9,\n",
    "}"
   ]
  },
  {
   "cell_type": "code",
   "execution_count": 18,
   "id": "9f88c862",
   "metadata": {
    "execution": {
     "iopub.execute_input": "2024-02-14T19:22:53.909088Z",
     "iopub.status.busy": "2024-02-14T19:22:53.908173Z",
     "iopub.status.idle": "2024-02-14T19:22:53.913796Z",
     "shell.execute_reply": "2024-02-14T19:22:53.912877Z"
    },
    "papermill": {
     "duration": 0.022642,
     "end_time": "2024-02-14T19:22:53.916244",
     "exception": false,
     "start_time": "2024-02-14T19:22:53.893602",
     "status": "completed"
    },
    "tags": []
   },
   "outputs": [],
   "source": [
    "NB_TRAINS = len(train_df)"
   ]
  },
  {
   "cell_type": "code",
   "execution_count": 22,
   "id": "b620e8a9",
   "metadata": {
    "execution": {
     "iopub.execute_input": "2024-02-14T19:22:54.080408Z",
     "iopub.status.busy": "2024-02-14T19:22:54.078995Z",
     "iopub.status.idle": "2024-02-14T19:22:54.085986Z",
     "shell.execute_reply": "2024-02-14T19:22:54.084895Z"
    },
    "papermill": {
     "duration": 0.022711,
     "end_time": "2024-02-14T19:22:54.088271",
     "exception": false,
     "start_time": "2024-02-14T19:22:54.065560",
     "status": "completed"
    },
    "tags": []
   },
   "outputs": [
    {
     "data": {
      "text/plain": [
       "array([     1,      4, 303485,      6, 303487, 303490,      9, 303482,\n",
       "       303483,      2,      7, 303488, 303495, 303489,      8,     16,\n",
       "            5,     14,      3, 303497,     15, 303496, 303484, 303486,\n",
       "       303481,      0])"
      ]
     },
     "execution_count": 22,
     "metadata": {},
     "output_type": "execute_result"
    }
   ],
   "source": [
    "indices[0]"
   ]
  },
  {
   "cell_type": "code",
   "execution_count": 24,
   "id": "5245e7e3",
   "metadata": {
    "execution": {
     "iopub.execute_input": "2024-02-14T19:22:54.151749Z",
     "iopub.status.busy": "2024-02-14T19:22:54.150964Z",
     "iopub.status.idle": "2024-02-14T20:45:20.142524Z",
     "shell.execute_reply": "2024-02-14T20:45:20.140859Z"
    },
    "papermill": {
     "duration": 4946.008336,
     "end_time": "2024-02-14T20:45:20.145956",
     "exception": false,
     "start_time": "2024-02-14T19:22:54.137620",
     "status": "completed"
    },
    "tags": []
   },
   "outputs": [],
   "source": [
    "def calculate_mean_difference(i, iDate):\n",
    "    return dfALL.iloc[i][f\"img_red_{method}_date{iDate}\"] + dfALL.iloc[i][f\"img_green_{method}_date{iDate}\"] + dfALL.iloc[i][f\"img_blue_{method}_date{iDate}\"] - \\\n",
    "        (dfALL.iloc[indices[i]][f\"img_red_{method}_date{iDate}\"] + dfALL.iloc[indices[i]][f\"img_green_{method}_date{iDate}\"] + dfALL.iloc[indices[i]][f\"img_blue_{method}_date{iDate}\"]).mean()\n",
    "\n",
    "# Create the new column using apply() function\n",
    "result = pd.DataFrame(dfALL.index.map(lambda i: calculate_mean_difference(i, iDate)), columns=[f\"neighb_meandiff_{method}color_{iDate}\"])"
   ]
  },
  {
   "cell_type": "code",
   "execution_count": 25,
   "id": "54166b2a",
   "metadata": {
    "execution": {
     "iopub.execute_input": "2024-02-14T20:45:20.173385Z",
     "iopub.status.busy": "2024-02-14T20:45:20.172280Z",
     "iopub.status.idle": "2024-02-14T20:45:20.191499Z",
     "shell.execute_reply": "2024-02-14T20:45:20.190476Z"
    },
    "papermill": {
     "duration": 0.034783,
     "end_time": "2024-02-14T20:45:20.193693",
     "exception": false,
     "start_time": "2024-02-14T20:45:20.158910",
     "status": "completed"
    },
    "tags": []
   },
   "outputs": [
    {
     "data": {
      "text/html": [
       "<div>\n",
       "<style scoped>\n",
       "    .dataframe tbody tr th:only-of-type {\n",
       "        vertical-align: middle;\n",
       "    }\n",
       "\n",
       "    .dataframe tbody tr th {\n",
       "        vertical-align: top;\n",
       "    }\n",
       "\n",
       "    .dataframe thead th {\n",
       "        text-align: right;\n",
       "    }\n",
       "</style>\n",
       "<table border=\"1\" class=\"dataframe\">\n",
       "  <thead>\n",
       "    <tr style=\"text-align: right;\">\n",
       "      <th></th>\n",
       "      <th>neighb_meandiff_meancolor_0</th>\n",
       "    </tr>\n",
       "  </thead>\n",
       "  <tbody>\n",
       "    <tr>\n",
       "      <th>0</th>\n",
       "      <td>41.218072</td>\n",
       "    </tr>\n",
       "    <tr>\n",
       "      <th>1</th>\n",
       "      <td>62.641541</td>\n",
       "    </tr>\n",
       "    <tr>\n",
       "      <th>2</th>\n",
       "      <td>21.751123</td>\n",
       "    </tr>\n",
       "    <tr>\n",
       "      <th>3</th>\n",
       "      <td>27.539912</td>\n",
       "    </tr>\n",
       "    <tr>\n",
       "      <th>4</th>\n",
       "      <td>155.646857</td>\n",
       "    </tr>\n",
       "    <tr>\n",
       "      <th>...</th>\n",
       "      <td>...</td>\n",
       "    </tr>\n",
       "    <tr>\n",
       "      <th>416667</th>\n",
       "      <td>15.202047</td>\n",
       "    </tr>\n",
       "    <tr>\n",
       "      <th>416668</th>\n",
       "      <td>-18.601975</td>\n",
       "    </tr>\n",
       "    <tr>\n",
       "      <th>416669</th>\n",
       "      <td>-54.276127</td>\n",
       "    </tr>\n",
       "    <tr>\n",
       "      <th>416670</th>\n",
       "      <td>-44.607959</td>\n",
       "    </tr>\n",
       "    <tr>\n",
       "      <th>416671</th>\n",
       "      <td>-55.489969</td>\n",
       "    </tr>\n",
       "  </tbody>\n",
       "</table>\n",
       "<p>416672 rows × 1 columns</p>\n",
       "</div>"
      ],
      "text/plain": [
       "        neighb_meandiff_meancolor_0\n",
       "0                         41.218072\n",
       "1                         62.641541\n",
       "2                         21.751123\n",
       "3                         27.539912\n",
       "4                        155.646857\n",
       "...                             ...\n",
       "416667                    15.202047\n",
       "416668                   -18.601975\n",
       "416669                   -54.276127\n",
       "416670                   -44.607959\n",
       "416671                   -55.489969\n",
       "\n",
       "[416672 rows x 1 columns]"
      ]
     },
     "execution_count": 25,
     "metadata": {},
     "output_type": "execute_result"
    }
   ],
   "source": [
    "result"
   ]
  },
  {
   "cell_type": "code",
   "execution_count": 26,
   "id": "d8b613a0",
   "metadata": {
    "execution": {
     "iopub.execute_input": "2024-02-14T20:45:20.220268Z",
     "iopub.status.busy": "2024-02-14T20:45:20.219473Z",
     "iopub.status.idle": "2024-02-14T20:45:20.939338Z",
     "shell.execute_reply": "2024-02-14T20:45:20.937816Z"
    },
    "papermill": {
     "duration": 0.736711,
     "end_time": "2024-02-14T20:45:20.942459",
     "exception": false,
     "start_time": "2024-02-14T20:45:20.205748",
     "status": "completed"
    },
    "tags": []
   },
   "outputs": [],
   "source": [
    "result.to_csv(f\"data/neighb_meandiff_{method}color_{iDate}.csv\", index=False)"
   ]
  }
 ],
 "metadata": {
  "kaggle": {
   "accelerator": "none",
   "dataSources": [
    {
     "databundleVersionId": 7549115,
     "sourceId": 67957,
     "sourceType": "competition"
    },
    {
     "databundleVersionId": 7716176,
     "datasetId": 4433393,
     "sourceId": 7620382,
     "sourceType": "datasetVersion"
    }
   ],
   "dockerImageVersionId": 30646,
   "isGpuEnabled": false,
   "isInternetEnabled": true,
   "language": "python",
   "sourceType": "notebook"
  },
  "kernelspec": {
   "display_name": "Python 3",
   "language": "python",
   "name": "python3"
  },
  "language_info": {
   "codemirror_mode": {
    "name": "ipython",
    "version": 3
   },
   "file_extension": ".py",
   "mimetype": "text/x-python",
   "name": "python",
   "nbconvert_exporter": "python",
   "pygments_lexer": "ipython3",
   "version": "3.10.13"
  },
  "papermill": {
   "default_parameters": {},
   "duration": 5094.767112,
   "end_time": "2024-02-14T20:45:23.960430",
   "environment_variables": {},
   "exception": null,
   "input_path": "__notebook__.ipynb",
   "output_path": "__notebook__.ipynb",
   "parameters": {},
   "start_time": "2024-02-14T19:20:29.193318",
   "version": "2.5.0"
  }
 },
 "nbformat": 4,
 "nbformat_minor": 5
}
