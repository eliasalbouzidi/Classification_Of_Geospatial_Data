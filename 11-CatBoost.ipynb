{
 "cells": [
  {
   "cell_type": "markdown",
   "id": "39bd1e65",
   "metadata": {},
   "source": [
    "<h1><b>[XI - CatBoost]</b></h1>\n",
    "\n",
    "The result will be save in `data/CATBOOST.csv` and the probabilities in `data/PROBS_CATBOOST.npy`\n",
    "\n",
    "Note that the original `data/PROBS_CATBOOST.npy` is already available.\n",
    "\n",
    "___________________________"
   ]
  },
  {
   "cell_type": "markdown",
   "id": "9fc60a46",
   "metadata": {},
   "source": [
    "# Initialisation"
   ]
  },
  {
   "cell_type": "code",
   "execution_count": 1,
   "id": "3a3dd7f1",
   "metadata": {
    "_cell_guid": "b1076dfc-b9ad-4769-8c92-a6c4dae69d19",
    "_uuid": "8f2839f25d086af736a60e9eeb907d3b93b6e0e5",
    "execution": {
     "iopub.execute_input": "2024-02-15T15:39:01.964317Z",
     "iopub.status.busy": "2024-02-15T15:39:01.963925Z",
     "iopub.status.idle": "2024-02-15T15:39:06.418242Z",
     "shell.execute_reply": "2024-02-15T15:39:06.417210Z"
    },
    "papermill": {
     "duration": 4.46778,
     "end_time": "2024-02-15T15:39:06.420656",
     "exception": false,
     "start_time": "2024-02-15T15:39:01.952876",
     "status": "completed"
    },
    "tags": []
   },
   "outputs": [
    {
     "name": "stdout",
     "output_type": "stream",
     "text": [
      "CatBoost version 1.2.2\n"
     ]
    }
   ],
   "source": [
    "import catboost as cat\n",
    "from catboost import CatBoostClassifier, Pool\n",
    "print('CatBoost version',cat.__version__)"
   ]
  },
  {
   "cell_type": "code",
   "execution_count": 2,
   "id": "7deaf37c",
   "metadata": {
    "execution": {
     "iopub.execute_input": "2024-02-15T15:39:06.447361Z",
     "iopub.status.busy": "2024-02-15T15:39:06.446855Z",
     "iopub.status.idle": "2024-02-15T15:39:07.638144Z",
     "shell.execute_reply": "2024-02-15T15:39:07.636899Z"
    },
    "papermill": {
     "duration": 1.204829,
     "end_time": "2024-02-15T15:39:07.640740",
     "exception": false,
     "start_time": "2024-02-15T15:39:06.435911",
     "status": "completed"
    },
    "tags": []
   },
   "outputs": [],
   "source": [
    "import geopandas as gpd\n",
    "import pandas as pd\n",
    "import numpy as np\n",
    "\n",
    "import matplotlib.pyplot as plt\n",
    "import seaborn as sns\n",
    "\n",
    "import warnings\n",
    "warnings.filterwarnings('ignore')\n",
    "\n",
    "pd.set_option('display.max_columns', None)  \n",
    "from sklearn.metrics import f1_score, confusion_matrix\n",
    "from sklearn.ensemble import RandomForestClassifier\n",
    "\n",
    "from sklearn.model_selection import StratifiedKFold\n",
    "import xgboost as xgb\n",
    "from sklearn.utils.class_weight import compute_sample_weight\n",
    "from sklearn.model_selection import train_test_split"
   ]
  },
  {
   "cell_type": "code",
   "execution_count": 3,
   "id": "6327f3fc",
   "metadata": {
    "execution": {
     "iopub.execute_input": "2024-02-15T15:39:07.659848Z",
     "iopub.status.busy": "2024-02-15T15:39:07.659419Z",
     "iopub.status.idle": "2024-02-15T15:39:54.355989Z",
     "shell.execute_reply": "2024-02-15T15:39:54.354902Z"
    },
    "papermill": {
     "duration": 46.708818,
     "end_time": "2024-02-15T15:39:54.358558",
     "exception": false,
     "start_time": "2024-02-15T15:39:07.649740",
     "status": "completed"
    },
    "tags": []
   },
   "outputs": [],
   "source": [
    "train_df = pd.read_csv(\"/kaggle/input/ml-cs-df-8/train_df_FINAL.csv\")\n",
    "test_df = pd.read_csv(\"/kaggle/input/ml-cs-df-8/test_df_FINAL.csv\")"
   ]
  },
  {
   "cell_type": "code",
   "execution_count": 4,
   "id": "ec56323e",
   "metadata": {
    "execution": {
     "iopub.execute_input": "2024-02-15T15:39:54.376931Z",
     "iopub.status.busy": "2024-02-15T15:39:54.376621Z",
     "iopub.status.idle": "2024-02-15T15:39:54.731188Z",
     "shell.execute_reply": "2024-02-15T15:39:54.730018Z"
    },
    "papermill": {
     "duration": 0.366619,
     "end_time": "2024-02-15T15:39:54.734062",
     "exception": false,
     "start_time": "2024-02-15T15:39:54.367443",
     "status": "completed"
    },
    "tags": []
   },
   "outputs": [],
   "source": [
    "train_df = train_df[(train_df.index < 195453) | (train_df.index > 197302)]"
   ]
  },
  {
   "cell_type": "code",
   "execution_count": 5,
   "id": "0b71fe0a",
   "metadata": {
    "execution": {
     "iopub.execute_input": "2024-02-15T15:39:54.755127Z",
     "iopub.status.busy": "2024-02-15T15:39:54.754319Z",
     "iopub.status.idle": "2024-02-15T15:40:09.774897Z",
     "shell.execute_reply": "2024-02-15T15:40:09.773997Z"
    },
    "papermill": {
     "duration": 15.033728,
     "end_time": "2024-02-15T15:40:09.777469",
     "exception": false,
     "start_time": "2024-02-15T15:39:54.743741",
     "status": "completed"
    },
    "tags": []
   },
   "outputs": [],
   "source": [
    "change_types = train_df[\"change_type\"].unique()\n",
    "for change_type in change_types:\n",
    "    for column in train_df.columns:\n",
    "        if column == \"geometry\":\n",
    "            continue\n",
    "        train_df.loc[(train_df[\"change_type\"]==change_type) & (train_df[column].isnull()), column] = train_df.loc[(train_df[\"change_type\"]==change_type), column].mode()[0]"
   ]
  },
  {
   "cell_type": "code",
   "execution_count": 6,
   "id": "4f57001c",
   "metadata": {
    "execution": {
     "iopub.execute_input": "2024-02-15T15:40:09.796027Z",
     "iopub.status.busy": "2024-02-15T15:40:09.795707Z",
     "iopub.status.idle": "2024-02-15T15:40:09.814698Z",
     "shell.execute_reply": "2024-02-15T15:40:09.813782Z"
    },
    "papermill": {
     "duration": 0.030498,
     "end_time": "2024-02-15T15:40:09.816758",
     "exception": false,
     "start_time": "2024-02-15T15:40:09.786260",
     "status": "completed"
    },
    "tags": []
   },
   "outputs": [],
   "source": [
    "feature_names=[ 'urban_type_N,A', 'urban_type_UrbanSlum', 'urban_type_Rural', 'urban_type_DenseUrban', 'urban_type_Industrial', 'urban_type_SparseUrban', \n",
    "                #'urban_type_Dense Urban,Industrial', 'urban_type_Dense Urban,Urban Slum', 'urban_type_Sparse Urban,Industrial', 'urban_type_Sparse Urban,Urban Slum', \n",
    "               \n",
    "                'geography_type_N,A', 'geography_type_Desert', 'geography_type_Farms', 'geography_type_DenseForest', 'geography_type_Hills', 'geography_type_River', 'geography_type_GrassLand', 'geography_type_Snow', 'geography_type_Lakes', 'geography_type_BarrenLand', 'geography_type_Coastal', 'geography_type_SparseForest', \n",
    "                #'geography_type_Sparse Forest,Grass Land', 'geography_type_Sparse Forest,Farms', 'geography_type_Sparse Forest,Dense Forest,Grass Land', 'geography_type_Barren Land,Sparse Forest', 'geography_type_Sparse Forest,Dense Forest', 'geography_type_Sparse Forest,Grass Land,Lakes', 'geography_type_Sparse Forest,Farms,Lakes', 'geography_type_River,Sparse Forest,Grass Land', 'geography_type_River,Sparse Forest', 'geography_type_Sparse Forest,Dense Forest,Grass Land,Lakes', 'geography_type_Barren Land,Sparse Forest,Grass Land', 'geography_type_Dense Forest,Grass Land', 'geography_type_River,Sparse Forest,Farms', \n",
    "               \n",
    "                #'geourban_geography_type_Desert_urban_type_Industrial', 'geourban_geography_type_Farms_urban_type_Rural', 'geourban_geography_type_Farms_urban_type_DenseUrban', 'geourban_geography_type_Farms_urban_type_Industrial', 'geourban_geography_type_Farms_urban_type_SparseUrban', 'geourban_geography_type_DenseForest_urban_type_UrbanSlum', 'geourban_geography_type_DenseForest_urban_type_Rural', 'geourban_geography_type_DenseForest_urban_type_DenseUrban', 'geourban_geography_type_DenseForest_urban_type_Industrial', 'geourban_geography_type_DenseForest_urban_type_SparseUrban', 'geourban_geography_type_River_urban_type_Rural', 'geourban_geography_type_River_urban_type_DenseUrban', 'geourban_geography_type_River_urban_type_Industrial', 'geourban_geography_type_River_urban_type_SparseUrban', 'geourban_geography_type_GrassLand_urban_type_Rural', 'geourban_geography_type_GrassLand_urban_type_DenseUrban', 'geourban_geography_type_GrassLand_urban_type_Industrial', 'geourban_geography_type_GrassLand_urban_type_SparseUrban', 'geourban_geography_type_Lakes_urban_type_Rural', 'geourban_geography_type_Lakes_urban_type_DenseUrban', 'geourban_geography_type_Lakes_urban_type_Industrial', 'geourban_geography_type_Lakes_urban_type_SparseUrban', 'geourban_geography_type_BarrenLand_urban_type_Rural', 'geourban_geography_type_BarrenLand_urban_type_DenseUrban', 'geourban_geography_type_BarrenLand_urban_type_Industrial', 'geourban_geography_type_BarrenLand_urban_type_SparseUrban', 'geourban_geography_type_Coastal_urban_type_SparseUrban', 'geourban_geography_type_SparseForest_urban_type_UrbanSlum', 'geourban_geography_type_SparseForest_urban_type_Rural', 'geourban_geography_type_SparseForest_urban_type_DenseUrban', 'geourban_geography_type_SparseForest_urban_type_Industrial', 'geourban_geography_type_SparseForest_urban_type_SparseUrban', \n",
    "               \n",
    "                'img_red_mean_date0', 'img_red_mean_date1', 'img_red_mean_date2', 'img_red_mean_date3', 'img_red_mean_date4', \n",
    "                'img_green_mean_date0', 'img_green_mean_date1', 'img_green_mean_date2', 'img_green_mean_date3', 'img_green_mean_date4', \n",
    "                'img_blue_mean_date0', 'img_blue_mean_date1', 'img_blue_mean_date2', 'img_blue_mean_date3', 'img_blue_mean_date4', \n",
    "               \n",
    "                'img_red_std_date0', 'img_red_std_date1', 'img_red_std_date2', 'img_red_std_date3', 'img_red_std_date4', \n",
    "                'img_green_std_date0', 'img_green_std_date1', 'img_green_std_date2', 'img_green_std_date3', 'img_green_std_date4', \n",
    "                'img_blue_std_date0', 'img_blue_std_date1', 'img_blue_std_date2', 'img_blue_std_date3', 'img_blue_std_date4', \n",
    "               \n",
    "                'change_status_date0_Construction Done', 'change_status_date0_Construction Midway', 'change_status_date0_Construction Started', 'change_status_date0_Excavation', 'change_status_date0_Greenland', 'change_status_date0_Land Cleared', 'change_status_date0_Materials Dumped', 'change_status_date0_Materials Introduced', 'change_status_date0_Operational', 'change_status_date0_Prior Construction', \n",
    "                'change_status_date1_Construction Done', 'change_status_date1_Construction Midway', 'change_status_date1_Construction Started', 'change_status_date1_Excavation', 'change_status_date1_Greenland', 'change_status_date1_Land Cleared', 'change_status_date1_Materials Dumped', 'change_status_date1_Materials Introduced', 'change_status_date1_Operational', 'change_status_date1_Prior Construction', \n",
    "                'change_status_date2_Construction Done', 'change_status_date2_Construction Midway', 'change_status_date2_Construction Started', 'change_status_date2_Excavation', 'change_status_date2_Greenland', 'change_status_date2_Land Cleared', 'change_status_date2_Materials Dumped', 'change_status_date2_Materials Introduced', 'change_status_date2_Operational', 'change_status_date2_Prior Construction', \n",
    "                'change_status_date3_Construction Done', 'change_status_date3_Construction Midway', 'change_status_date3_Construction Started', 'change_status_date3_Excavation', 'change_status_date3_Greenland', 'change_status_date3_Land Cleared', 'change_status_date3_Materials Dumped', 'change_status_date3_Materials Introduced', 'change_status_date3_Operational', 'change_status_date3_Prior Construction', \n",
    "                'change_status_date4_Construction Done', 'change_status_date4_Construction Midway', 'change_status_date4_Construction Started', 'change_status_date4_Excavation', 'change_status_date4_Greenland', 'change_status_date4_Land Cleared', 'change_status_date4_Materials Dumped', 'change_status_date4_Materials Introduced', 'change_status_date4_Operational', 'change_status_date4_Prior Construction', \n",
    "               \n",
    "                'change_status_Prior Construction', 'change_status_Greenland', 'change_status_Land Cleared', 'change_status_Excavation', 'change_status_Materials Dumped', 'change_status_Materials Introduced', 'change_status_Construction Started', 'change_status_Construction Midway', 'change_status_Construction Done', 'change_status_Operational', \n",
    "                'change_status_date0_encoded', 'change_status_date1_encoded', 'change_status_date2_encoded', 'change_status_date3_encoded', 'change_status_date4_encoded', \n",
    "                'change_status_date_4-0', 'change_status_date_1-0', 'change_status_date_2-1', 'change_status_date_3-2', 'change_status_date_4-3', \n",
    "               \n",
    "                'img_mean_date0', 'img_std_date0', 'img_mean_date1', 'img_std_date1', 'img_mean_date2', 'img_std_date2', 'img_mean_date3', 'img_std_date3', 'img_mean_date4', 'img_std_date4', \n",
    "                'img_mean_date_4-0', 'img_mean_date_1-0', 'img_mean_date_2-1', 'img_mean_date_3-2', 'img_mean_date_4-3', 'img_std_date_4-0', 'img_std_date_1-0', 'img_std_date_2-1', 'img_std_date_3-2', 'img_std_date_4-3', \n",
    "               \n",
    "                'img_red_mean_date_4-0', 'img_red_mean_date_1-0', 'img_red_mean_date_2-1', 'img_red_mean_date_3-2', 'img_red_mean_date_4-3', 'img_green_mean_date_4-0', 'img_green_mean_date_1-0', 'img_green_mean_date_2-1', 'img_green_mean_date_3-2', 'img_green_mean_date_4-3', 'img_blue_mean_date_4-0', 'img_blue_mean_date_1-0', 'img_blue_mean_date_2-1', 'img_blue_mean_date_3-2', 'img_blue_mean_date_4-3', 'img_red_std_date_4-0', 'img_red_std_date_1-0', 'img_red_std_date_2-1', 'img_red_std_date_3-2', 'img_red_std_date_4-3', 'img_green_std_date_4-0', 'img_green_std_date_1-0', 'img_green_std_date_2-1', 'img_green_std_date_3-2', 'img_green_std_date_4-3', 'img_blue_std_date_4-0', 'img_blue_std_date_1-0', 'img_blue_std_date_2-1', 'img_blue_std_date_3-2', 'img_blue_std_date_4-3', \n",
    "                \n",
    "                'date_1-0', 'date_2-1', 'date_3-2', 'date_4-3', 'date_4-0', 'date_0-0min', \n",
    "                'img_mean_date_4-0/Date', 'img_mean_date_1-0/Date', 'img_mean_date_2-1/Date', 'img_mean_date_3-2/Date', 'img_mean_date_4-3/Date', 'img_std_date_4-0/Date', 'img_std_date_1-0/Date', 'img_std_date_2-1/Date', 'img_std_date_3-2/Date', 'img_std_date_4-3/Date', 'img_red_mean_date_4-0/Date', 'img_red_mean_date_1-0/Date', 'img_red_mean_date_2-1/Date', 'img_red_mean_date_3-2/Date', 'img_red_mean_date_4-3/Date', 'img_green_mean_date_4-0/Date', 'img_green_mean_date_1-0/Date', 'img_green_mean_date_2-1/Date', 'img_green_mean_date_3-2/Date', 'img_green_mean_date_4-3/Date', 'img_blue_mean_date_4-0/Date', 'img_blue_mean_date_1-0/Date', 'img_blue_mean_date_2-1/Date', 'img_blue_mean_date_3-2/Date', 'img_blue_mean_date_4-3/Date', 'img_red_std_date_4-0/Date', 'img_red_std_date_1-0/Date', 'img_red_std_date_2-1/Date', 'img_red_std_date_3-2/Date', 'img_red_std_date_4-3/Date', 'img_green_std_date_4-0/Date', 'img_green_std_date_1-0/Date', 'img_green_std_date_2-1/Date', 'img_green_std_date_3-2/Date', 'img_green_std_date_4-3/Date', 'img_blue_std_date_4-0/Date', 'img_blue_std_date_1-0/Date', 'img_blue_std_date_2-1/Date', 'img_blue_std_date_3-2/Date', 'img_blue_std_date_4-3/Date', \n",
    "                'change_status_date_4-0/Date', 'change_status_date_1-0/Date', 'change_status_date_2-1/Date', 'change_status_date_3-2/Date', 'change_status_date_4-3/Date', \n",
    "               \n",
    "                'geometry_area', 'geometry_perimeter', 'geometry_inscribed_circle_radius', 'geometry_compactness', 'geometry_convexity', 'geometry_vertices', 'geometry_bboxwidth', 'geometry_bboxheight', 'geometry_bboxratio', 'geometry_bboxarea', 'geometry_bboxperimeter', \n",
    "                #'geometry_aspectratio', \n",
    "                'geometry_diameter', 'geometry_minumum_bounding_circle', 'geometry_minimum_rotated_rectangle', \n",
    "               \n",
    "                'neighb_density', 'neighb_nb', 'neighb_similar', \n",
    "                'neighb_maxdiff_change_status_date0_0.001', 'neighb_maxdiff_change_status_date1_0.001', 'neighb_maxdiff_change_status_date2_0.001', 'neighb_maxdiff_change_status_date3_0.001', 'neighb_maxdiff_change_status_date4_0.001', \n",
    "                'neighb_maxdiff_change_status_date0_0.003', 'neighb_maxdiff_change_status_date1_0.003', 'neighb_maxdiff_change_status_date2_0.003', 'neighb_maxdiff_change_status_date3_0.003', 'neighb_maxdiff_change_status_date4_0.003', \n",
    "                'neighb_maxdiff_meancolor_0', 'neighb_maxdiff_meancolor_1', 'neighb_maxdiff_meancolor_2', 'neighb_maxdiff_meancolor_3', 'neighb_maxdiff_meancolor_4', \n",
    "                'neighb_maxdiff_stdcolor_0', 'neighb_maxdiff_stdcolor_1', 'neighb_maxdiff_stdcolor_2', 'neighb_maxdiff_stdcolor_3', 'neighb_maxdiff_stdcolor_4', \n",
    "               \n",
    "                'neighb_meandiff_changestatus_0', 'neighb_meandiff_changestatus_1', 'neighb_meandiff_changestatus_2', 'neighb_meandiff_changestatus_3', 'neighb_meandiff_changestatus_4', \n",
    "                'neighb_meandiff_meancolor_0', 'neighb_meandiff_meancolor_1', 'neighb_meandiff_meancolor_2', 'neighb_meandiff_meancolor_3', 'neighb_meandiff_meancolor_4', \n",
    "                'neighb_meandiff_stdcolor_0', 'neighb_meandiff_stdcolor_1', 'neighb_meandiff_stdcolor_2', 'neighb_meandiff_stdcolor_3', 'neighb_meandiff_stdcolor_4'\n",
    "            ]"
   ]
  },
  {
   "cell_type": "code",
   "execution_count": 7,
   "id": "0dcc7abd",
   "metadata": {
    "execution": {
     "iopub.execute_input": "2024-02-15T15:40:09.834978Z",
     "iopub.status.busy": "2024-02-15T15:40:09.834680Z",
     "iopub.status.idle": "2024-02-15T15:40:10.385467Z",
     "shell.execute_reply": "2024-02-15T15:40:10.384219Z"
    },
    "papermill": {
     "duration": 0.562428,
     "end_time": "2024-02-15T15:40:10.388264",
     "exception": false,
     "start_time": "2024-02-15T15:40:09.825836",
     "status": "completed"
    },
    "tags": []
   },
   "outputs": [],
   "source": [
    "X = train_df[feature_names].to_numpy()\n",
    "Y = train_df['change_type'].to_numpy()\n",
    "X_test = test_df[feature_names].to_numpy()"
   ]
  },
  {
   "cell_type": "code",
   "execution_count": 8,
   "id": "e7e1e6e0",
   "metadata": {
    "execution": {
     "iopub.execute_input": "2024-02-15T15:40:10.408689Z",
     "iopub.status.busy": "2024-02-15T15:40:10.408332Z",
     "iopub.status.idle": "2024-02-15T15:40:28.394026Z",
     "shell.execute_reply": "2024-02-15T15:40:28.393155Z"
    },
    "papermill": {
     "duration": 17.998865,
     "end_time": "2024-02-15T15:40:28.396626",
     "exception": false,
     "start_time": "2024-02-15T15:40:10.397761",
     "status": "completed"
    },
    "tags": []
   },
   "outputs": [],
   "source": [
    "from sklearn.impute import SimpleImputer\n",
    "\n",
    "# Handle NaN values using SimpleImputer\n",
    "imp_mean = SimpleImputer(missing_values=np.nan, strategy='median')\n",
    "imp_mean.fit(np.concatenate([X, X_test], axis=0))\n",
    "X_test = imp_mean.transform(X_test)"
   ]
  },
  {
   "cell_type": "code",
   "execution_count": 9,
   "id": "b104362d",
   "metadata": {
    "execution": {
     "iopub.execute_input": "2024-02-15T15:40:28.432480Z",
     "iopub.status.busy": "2024-02-15T15:40:28.431701Z",
     "iopub.status.idle": "2024-02-15T15:40:28.436866Z",
     "shell.execute_reply": "2024-02-15T15:40:28.435887Z"
    },
    "papermill": {
     "duration": 0.016947,
     "end_time": "2024-02-15T15:40:28.439159",
     "exception": false,
     "start_time": "2024-02-15T15:40:28.422212",
     "status": "completed"
    },
    "tags": []
   },
   "outputs": [
    {
     "name": "stdout",
     "output_type": "stream",
     "text": [
      "(294296, 271) (294296,) (120526, 271)\n"
     ]
    }
   ],
   "source": [
    "print(X.shape, Y.shape, X_test.shape)"
   ]
  },
  {
   "cell_type": "markdown",
   "id": "a1e9d3c7",
   "metadata": {},
   "source": [
    "# Train test split"
   ]
  },
  {
   "cell_type": "code",
   "execution_count": 10,
   "id": "bbba5a41",
   "metadata": {
    "execution": {
     "iopub.execute_input": "2024-02-15T15:40:28.457573Z",
     "iopub.status.busy": "2024-02-15T15:40:28.457245Z",
     "iopub.status.idle": "2024-02-15T15:40:29.621505Z",
     "shell.execute_reply": "2024-02-15T15:40:29.620548Z"
    },
    "papermill": {
     "duration": 1.176785,
     "end_time": "2024-02-15T15:40:29.624368",
     "exception": false,
     "start_time": "2024-02-15T15:40:28.447583",
     "status": "completed"
    },
    "tags": []
   },
   "outputs": [],
   "source": [
    "X_train, X_valid, Y_train, Y_valid = train_test_split(X, Y, test_size=0.2, random_state=65, stratify=Y)"
   ]
  },
  {
   "cell_type": "code",
   "execution_count": 11,
   "id": "0e2220b0",
   "metadata": {
    "execution": {
     "iopub.execute_input": "2024-02-15T15:40:29.648162Z",
     "iopub.status.busy": "2024-02-15T15:40:29.647801Z",
     "iopub.status.idle": "2024-02-15T15:40:29.659814Z",
     "shell.execute_reply": "2024-02-15T15:40:29.658693Z"
    },
    "papermill": {
     "duration": 0.025176,
     "end_time": "2024-02-15T15:40:29.662375",
     "exception": false,
     "start_time": "2024-02-15T15:40:29.637199",
     "status": "completed"
    },
    "tags": []
   },
   "outputs": [
    {
     "data": {
      "text/plain": [
       "(array([0, 1, 2, 3, 4, 5]),\n",
       " array([ 25141,  11424, 117708,  79988,   1058,    117]))"
      ]
     },
     "execution_count": 11,
     "metadata": {},
     "output_type": "execute_result"
    }
   ],
   "source": [
    "np.unique(Y_train, return_counts=True)"
   ]
  },
  {
   "cell_type": "code",
   "execution_count": 12,
   "id": "fc07f831",
   "metadata": {
    "execution": {
     "iopub.execute_input": "2024-02-15T15:40:29.683100Z",
     "iopub.status.busy": "2024-02-15T15:40:29.682679Z",
     "iopub.status.idle": "2024-02-15T15:40:29.691340Z",
     "shell.execute_reply": "2024-02-15T15:40:29.690208Z"
    },
    "papermill": {
     "duration": 0.022082,
     "end_time": "2024-02-15T15:40:29.693664",
     "exception": false,
     "start_time": "2024-02-15T15:40:29.671582",
     "status": "completed"
    },
    "tags": []
   },
   "outputs": [
    {
     "data": {
      "text/plain": [
       "'\\nfrom imblearn.under_sampling import RandomUnderSampler\\n\\nrus = RandomUnderSampler(random_state=42, sampling_strategy={})\\nX_under, Y_under = rus.fit_resample(X_train, Y_train)\\nnp.unique(Y_under, return_counts=True)\\n\\n## TEST FINALL\\n#X_under, Y_under = X, Y\\n\\n\\ncategorical_columns = []\\nfor iColumn in range(len(X_train[0])):\\n    if len(np.unique(X_train[:,iColumn])) < 300:\\n        #print(feature_names[iColumn], len(np.unique(X_train[:,iColumn])))\\n        categorical_columns.append(iColumn)\\n#categorical_columns\\n\\nfrom imblearn.over_sampling import SMOTE, SMOTENC\\n\\n#sm = SMOTE(random_state=42, sampling_strategy={5:30000})\\nsm = SMOTENC(random_state=42, sampling_strategy={}, categorical_features=categorical_columns)\\nX_over, Y_over = sm.fit_resample(X_under, Y_under)\\n#X_over, Y_over = sm.fit_resample(X, Y)\\n\\n#X_over, Y_over = X_under, Y_under\\n\\n#from imblearn.over_sampling import RandomOverSampler\\n#ros = RandomOverSampler(random_state=0, sampling_strategy={5:50000})\\n\\n#X_over, Y_over = ros.fit_resample(X_under, Y_under)\\n\\n#pd.DataFrame(X_under[Y_under == 5][119:]).head(n=5)\\n#pd.DataFrame(X_over[Y_over == 5][119:]).head(n=5)\\nnp.unique(Y_over, return_counts=True)\\n'"
      ]
     },
     "execution_count": 12,
     "metadata": {},
     "output_type": "execute_result"
    }
   ],
   "source": [
    "\"\"\"\n",
    "from imblearn.under_sampling import RandomUnderSampler\n",
    "\n",
    "rus = RandomUnderSampler(random_state=42, sampling_strategy={})\n",
    "X_under, Y_under = rus.fit_resample(X_train, Y_train)\n",
    "np.unique(Y_under, return_counts=True)\n",
    "\n",
    "## TEST FINALL\n",
    "#X_under, Y_under = X, Y\n",
    "\n",
    "\n",
    "categorical_columns = []\n",
    "for iColumn in range(len(X_train[0])):\n",
    "    if len(np.unique(X_train[:,iColumn])) < 300:\n",
    "        #print(feature_names[iColumn], len(np.unique(X_train[:,iColumn])))\n",
    "        categorical_columns.append(iColumn)\n",
    "#categorical_columns\n",
    "\n",
    "from imblearn.over_sampling import SMOTE, SMOTENC\n",
    "\n",
    "#sm = SMOTE(random_state=42, sampling_strategy={5:30000})\n",
    "sm = SMOTENC(random_state=42, sampling_strategy={}, categorical_features=categorical_columns)\n",
    "X_over, Y_over = sm.fit_resample(X_under, Y_under)\n",
    "#X_over, Y_over = sm.fit_resample(X, Y)\n",
    "\n",
    "#X_over, Y_over = X_under, Y_under\n",
    "\n",
    "#from imblearn.over_sampling import RandomOverSampler\n",
    "#ros = RandomOverSampler(random_state=0, sampling_strategy={5:50000})\n",
    "\n",
    "#X_over, Y_over = ros.fit_resample(X_under, Y_under)\n",
    "\n",
    "#pd.DataFrame(X_under[Y_under == 5][119:]).head(n=5)\n",
    "#pd.DataFrame(X_over[Y_over == 5][119:]).head(n=5)\n",
    "np.unique(Y_over, return_counts=True)\n",
    "\"\"\"\n"
   ]
  },
  {
   "cell_type": "code",
   "execution_count": 13,
   "id": "d4b0b425",
   "metadata": {
    "execution": {
     "iopub.execute_input": "2024-02-15T15:40:29.713834Z",
     "iopub.status.busy": "2024-02-15T15:40:29.713486Z",
     "iopub.status.idle": "2024-02-15T15:40:29.720077Z",
     "shell.execute_reply": "2024-02-15T15:40:29.718907Z"
    },
    "papermill": {
     "duration": 0.019174,
     "end_time": "2024-02-15T15:40:29.722374",
     "exception": false,
     "start_time": "2024-02-15T15:40:29.703200",
     "status": "completed"
    },
    "tags": []
   },
   "outputs": [],
   "source": [
    "def printScores(y_true, y_predict):\n",
    "    f1_score_micro = f1_score(y_true, y_predict, average='micro')\n",
    "    f1_score_macro = f1_score(y_true, y_predict, average='macro')\n",
    "    f1_score_weighted = f1_score(y_true, y_predict, average='weighted')\n",
    "    train_conf_matrix = confusion_matrix(y_true, y_predict)\n",
    "    print(\"F1 score micro\", f1_score_micro)\n",
    "    print(\"F1 score macro\", f1_score_macro)\n",
    "    print(\"F1 score weighted\", f1_score_weighted)\n",
    "    print(train_conf_matrix)"
   ]
  },
  {
   "cell_type": "markdown",
   "id": "fe4c5499",
   "metadata": {},
   "source": [
    "# Optuna"
   ]
  },
  {
   "cell_type": "code",
   "execution_count": 14,
   "id": "99d74626",
   "metadata": {
    "execution": {
     "iopub.execute_input": "2024-02-15T15:40:29.743110Z",
     "iopub.status.busy": "2024-02-15T15:40:29.742722Z",
     "iopub.status.idle": "2024-02-15T15:40:31.374342Z",
     "shell.execute_reply": "2024-02-15T15:40:31.373433Z"
    },
    "papermill": {
     "duration": 1.644864,
     "end_time": "2024-02-15T15:40:31.376897",
     "exception": false,
     "start_time": "2024-02-15T15:40:29.732033",
     "status": "completed"
    },
    "tags": []
   },
   "outputs": [],
   "source": [
    "import optuna"
   ]
  },
  {
   "cell_type": "code",
   "execution_count": 15,
   "id": "05f79c16",
   "metadata": {
    "execution": {
     "iopub.execute_input": "2024-02-15T15:40:31.398244Z",
     "iopub.status.busy": "2024-02-15T15:40:31.397470Z",
     "iopub.status.idle": "2024-02-15T15:41:13.360094Z",
     "shell.execute_reply": "2024-02-15T15:41:13.359201Z"
    },
    "papermill": {
     "duration": 41.97563,
     "end_time": "2024-02-15T15:41:13.362576",
     "exception": false,
     "start_time": "2024-02-15T15:40:31.386946",
     "status": "completed"
    },
    "tags": []
   },
   "outputs": [],
   "source": [
    "\n",
    "train_pool = Pool(\n",
    "    data = X_train,\n",
    "    label = Y_train,\n",
    ")\n",
    "\n",
    "valid_pool = Pool(\n",
    "    data = X_valid,\n",
    "    label = Y_valid,\n",
    ")"
   ]
  },
  {
   "cell_type": "code",
   "execution_count": 16,
   "id": "7c19829a",
   "metadata": {
    "execution": {
     "iopub.execute_input": "2024-02-15T15:41:13.383529Z",
     "iopub.status.busy": "2024-02-15T15:41:13.382792Z",
     "iopub.status.idle": "2024-02-15T15:41:13.390610Z",
     "shell.execute_reply": "2024-02-15T15:41:13.389659Z"
    },
    "papermill": {
     "duration": 0.020773,
     "end_time": "2024-02-15T15:41:13.392816",
     "exception": false,
     "start_time": "2024-02-15T15:41:13.372043",
     "status": "completed"
    },
    "tags": []
   },
   "outputs": [
    {
     "data": {
      "text/plain": [
       "\"\\ndef objective(trial):\\n    \\n    param = {\\n        'loss_function': 'MultiClass',\\n        'classes_count':6,\\n        'task_type': 'GPU',\\n        'l2_leaf_reg': trial.suggest_loguniform('l2_leaf_reg', 1e-3, 10.0),\\n        'max_bin': trial.suggest_int('max_bin', 200, 400),\\n        #'rsm': trial.suggest_uniform('rsm', 0.3, 1.0),\\n        #'subsample': trial.suggest_uniform('bagging_fraction', 0.4, 1.0),\\n        'learning_rate': trial.suggest_uniform('learning_rate', 0.01, 0.05),\\n        'n_estimators':  1500,\\n        'max_depth': trial.suggest_categorical('max_depth', [5,6,7,8,9,10,11,12,13,14,15]),\\n        'random_state': trial.suggest_categorical('random_state', [2020]),\\n        'min_data_in_leaf': trial.suggest_int('min_data_in_leaf', 1, 300),\\n    }\\n    model = CatBoostClassifier(**param)  \\n    \\n    #model.fit(X_train,Y_train,eval_set=[(X_valid,Y_valid)],early_stopping_rounds=20,verbose=False)\\n    \\n    model.fit(train_pool,\\n             verbose=100,\\n             eval_set=valid_pool,\\n             early_stopping_rounds=20\\n             )\\n    \\n    preds = model.predict(X_valid)\\n    \\n    score = f1_score(Y_valid, preds, average='weighted')\\n    \\n    return score\\n\""
      ]
     },
     "execution_count": 16,
     "metadata": {},
     "output_type": "execute_result"
    }
   ],
   "source": [
    "\"\"\"\n",
    "def objective(trial):\n",
    "    \n",
    "    param = {\n",
    "        'loss_function': 'MultiClass',\n",
    "        'classes_count':6,\n",
    "        'task_type': 'GPU',\n",
    "        'l2_leaf_reg': trial.suggest_loguniform('l2_leaf_reg', 1e-3, 10.0),\n",
    "        'max_bin': trial.suggest_int('max_bin', 200, 400),\n",
    "        #'rsm': trial.suggest_uniform('rsm', 0.3, 1.0),\n",
    "        #'subsample': trial.suggest_uniform('bagging_fraction', 0.4, 1.0),\n",
    "        'learning_rate': trial.suggest_uniform('learning_rate', 0.01, 0.05),\n",
    "        'n_estimators':  1500,\n",
    "        'max_depth': trial.suggest_categorical('max_depth', [5,6,7,8,9,10,11,12,13,14,15]),\n",
    "        'random_state': trial.suggest_categorical('random_state', [2020]),\n",
    "        'min_data_in_leaf': trial.suggest_int('min_data_in_leaf', 1, 300),\n",
    "    }\n",
    "    model = CatBoostClassifier(**param)  \n",
    "    \n",
    "    #model.fit(X_train,Y_train,eval_set=[(X_valid,Y_valid)],early_stopping_rounds=20,verbose=False)\n",
    "    \n",
    "    model.fit(train_pool,\n",
    "             verbose=100,\n",
    "             eval_set=valid_pool,\n",
    "             early_stopping_rounds=20\n",
    "             )\n",
    "    \n",
    "    preds = model.predict(X_valid)\n",
    "    \n",
    "    score = f1_score(Y_valid, preds, average='weighted')\n",
    "    \n",
    "    return score\n",
    "\"\"\""
   ]
  },
  {
   "cell_type": "code",
   "execution_count": 17,
   "id": "617536df",
   "metadata": {
    "execution": {
     "iopub.execute_input": "2024-02-15T15:41:13.412910Z",
     "iopub.status.busy": "2024-02-15T15:41:13.412598Z",
     "iopub.status.idle": "2024-02-15T15:41:13.418340Z",
     "shell.execute_reply": "2024-02-15T15:41:13.417514Z"
    },
    "papermill": {
     "duration": 0.017993,
     "end_time": "2024-02-15T15:41:13.420429",
     "exception": false,
     "start_time": "2024-02-15T15:41:13.402436",
     "status": "completed"
    },
    "tags": []
   },
   "outputs": [
    {
     "data": {
      "text/plain": [
       "\"\\nstudy = optuna.create_study(direction='maximize')\\nstudy.optimize(objective, n_trials=30)\\nprint('Number of finished trials:', len(study.trials))\\nprint('Best trial:', study.best_trial.params)\\n\""
      ]
     },
     "execution_count": 17,
     "metadata": {},
     "output_type": "execute_result"
    }
   ],
   "source": [
    "\"\"\"\n",
    "study = optuna.create_study(direction='maximize')\n",
    "study.optimize(objective, n_trials=30)\n",
    "print('Number of finished trials:', len(study.trials))\n",
    "print('Best trial:', study.best_trial.params)\n",
    "\"\"\""
   ]
  },
  {
   "cell_type": "code",
   "execution_count": 18,
   "id": "6584f79b",
   "metadata": {
    "execution": {
     "iopub.execute_input": "2024-02-15T15:41:13.439809Z",
     "iopub.status.busy": "2024-02-15T15:41:13.439297Z",
     "iopub.status.idle": "2024-02-15T15:41:13.443248Z",
     "shell.execute_reply": "2024-02-15T15:41:13.442354Z"
    },
    "papermill": {
     "duration": 0.015787,
     "end_time": "2024-02-15T15:41:13.445347",
     "exception": false,
     "start_time": "2024-02-15T15:41:13.429560",
     "status": "completed"
    },
    "tags": []
   },
   "outputs": [],
   "source": [
    "#study.trials_dataframe()"
   ]
  },
  {
   "cell_type": "markdown",
   "id": "940528ae",
   "metadata": {},
   "source": [
    "# Training"
   ]
  },
  {
   "cell_type": "code",
   "execution_count": 19,
   "id": "a1f247e7",
   "metadata": {
    "execution": {
     "iopub.execute_input": "2024-02-15T15:41:13.464867Z",
     "iopub.status.busy": "2024-02-15T15:41:13.464560Z",
     "iopub.status.idle": "2024-02-15T15:50:23.149215Z",
     "shell.execute_reply": "2024-02-15T15:50:23.148202Z"
    },
    "papermill": {
     "duration": 549.697788,
     "end_time": "2024-02-15T15:50:23.152129",
     "exception": false,
     "start_time": "2024-02-15T15:41:13.454341",
     "status": "completed"
    },
    "tags": []
   },
   "outputs": [
    {
     "name": "stdout",
     "output_type": "stream",
     "text": [
      "0:\tlearn: 1.6047829\ttotal: 1.18s\tremaining: 15m 25s\n",
      "50:\tlearn: 0.5964504\ttotal: 33.5s\tremaining: 8m 2s\n",
      "100:\tlearn: 0.5390079\ttotal: 1m 6s\tremaining: 7m 28s\n",
      "150:\tlearn: 0.5103889\ttotal: 1m 38s\tremaining: 6m 52s\n",
      "200:\tlearn: 0.4871052\ttotal: 2m 11s\tremaining: 6m 22s\n",
      "250:\tlearn: 0.4673464\ttotal: 2m 45s\tremaining: 5m 51s\n",
      "300:\tlearn: 0.4487291\ttotal: 3m 18s\tremaining: 5m 19s\n",
      "350:\tlearn: 0.4316118\ttotal: 3m 54s\tremaining: 4m 49s\n",
      "400:\tlearn: 0.4158267\ttotal: 4m 29s\tremaining: 4m 18s\n",
      "450:\tlearn: 0.4004869\ttotal: 5m 6s\tremaining: 3m 46s\n",
      "500:\tlearn: 0.3875018\ttotal: 5m 41s\tremaining: 3m 13s\n",
      "550:\tlearn: 0.3744534\ttotal: 6m 17s\tremaining: 2m 40s\n",
      "600:\tlearn: 0.3621762\ttotal: 6m 53s\tremaining: 2m 6s\n",
      "650:\tlearn: 0.3505440\ttotal: 7m 28s\tremaining: 1m 32s\n",
      "700:\tlearn: 0.3387165\ttotal: 8m 5s\tremaining: 58.2s\n",
      "750:\tlearn: 0.3283382\ttotal: 8m 40s\tremaining: 23.6s\n",
      "784:\tlearn: 0.3212557\ttotal: 9m 4s\tremaining: 0us\n"
     ]
    },
    {
     "data": {
      "text/plain": [
       "<catboost.core.CatBoostClassifier at 0x7a275d2d6590>"
      ]
     },
     "execution_count": 19,
     "metadata": {},
     "output_type": "execute_result"
    }
   ],
   "source": [
    "\n",
    "model = CatBoostClassifier(#depth=6, learning_rate=0.1, loss_function='MultiClass',\n",
    "                           #l2_leaf_reg=3, colsample_bylevel=0.8,\n",
    "                           #loss_function='MultiClass', \n",
    "                           #classes_count=6,  \n",
    "                            learning_rate=0.08,\n",
    "                            task_type='GPU',\n",
    "                            l2_leaf_reg=6,\n",
    "                            depth=12,\n",
    "                            bagging_temperature=0,\n",
    "                            max_bin=512,\n",
    "                            iterations=785\n",
    "                            #l2_leaf_reg=1,\n",
    "                            #max_bin=300 ,\n",
    "                            ##subsample=0.8,\n",
    "                            #learning_rate=0.01,\n",
    "                            #n_estimators=1500,\n",
    "                           #max_depth=8,\n",
    "                            #min_data_in_leaf=1,\n",
    "                            \n",
    "                           #eval_metric=\"MultiClass\",\n",
    "                          )\n",
    "\"\"\"\n",
    "OLD\n",
    "model = CatBoostClassifier(task_type='CPU', \n",
    "                           classes_count=6,  \n",
    "                           loss_function='MultiClass', \n",
    "                           #auto_class_weights='Balanced', \n",
    "                           eval_metric=\"MultiClass\",\n",
    "                          #n_estimators=200,\n",
    "                          #learning_rate=0.5,#1,\n",
    "                           #l2_leaf_reg=1.0,\n",
    "                           #grow_policy=\"Lossguide\",\n",
    "                           #random_strength=0.5,\n",
    "                          #bagging_temperature=0.2,\n",
    "                          #depth=8,\n",
    "                          #min_data_in_leaf=1,\n",
    "                          )\"\"\"\n",
    "\"\"\"\n",
    "all_pool = Pool(\n",
    "    data = X,\n",
    "    label = Y\n",
    ")\n",
    "train_pool = Pool(\n",
    "    data = X_train,\n",
    "    label = Y_train,\n",
    ")\n",
    "\n",
    "valid_pool = Pool(\n",
    "    data = X_valid,\n",
    "    label = Y_valid,\n",
    ")\"\"\"\n",
    "\n",
    "all_pool = Pool(\n",
    "    data = X,\n",
    "    label = Y\n",
    ")\n",
    "model.fit(all_pool,\n",
    "         verbose=50,\n",
    "         #eval_set=valid_pool,\n",
    "         #early_stopping_rounds=20\n",
    "         )"
   ]
  },
  {
   "cell_type": "markdown",
   "id": "e4b719e1",
   "metadata": {},
   "source": [
    "# Saving results"
   ]
  },
  {
   "cell_type": "code",
   "execution_count": 20,
   "id": "255185fc",
   "metadata": {
    "execution": {
     "iopub.execute_input": "2024-02-15T15:50:23.185499Z",
     "iopub.status.busy": "2024-02-15T15:50:23.185113Z",
     "iopub.status.idle": "2024-02-15T15:50:24.448355Z",
     "shell.execute_reply": "2024-02-15T15:50:24.447313Z"
    },
    "papermill": {
     "duration": 1.282496,
     "end_time": "2024-02-15T15:50:24.450509",
     "exception": false,
     "start_time": "2024-02-15T15:50:23.168013",
     "status": "completed"
    },
    "tags": []
   },
   "outputs": [],
   "source": [
    "model.save_model('catboost')"
   ]
  },
  {
   "cell_type": "code",
   "execution_count": 21,
   "id": "f8c88346",
   "metadata": {
    "execution": {
     "iopub.execute_input": "2024-02-15T15:50:24.474356Z",
     "iopub.status.busy": "2024-02-15T15:50:24.473575Z",
     "iopub.status.idle": "2024-02-15T15:50:26.097123Z",
     "shell.execute_reply": "2024-02-15T15:50:26.096247Z"
    },
    "papermill": {
     "duration": 1.637886,
     "end_time": "2024-02-15T15:50:26.099612",
     "exception": false,
     "start_time": "2024-02-15T15:50:24.461726",
     "status": "completed"
    },
    "tags": []
   },
   "outputs": [],
   "source": [
    "\n",
    "test_pool = Pool(\n",
    "    data = X_test\n",
    ")\n",
    "pred = model.predict(test_pool)\n",
    "pred_probs = model.predict_proba(test_pool)\n"
   ]
  },
  {
   "cell_type": "code",
   "execution_count": 26,
   "id": "097f4e29",
   "metadata": {
    "execution": {
     "iopub.execute_input": "2024-02-15T15:50:26.254821Z",
     "iopub.status.busy": "2024-02-15T15:50:26.254008Z",
     "iopub.status.idle": "2024-02-15T15:50:26.862230Z",
     "shell.execute_reply": "2024-02-15T15:50:26.861010Z"
    },
    "papermill": {
     "duration": 0.624246,
     "end_time": "2024-02-15T15:50:26.865289",
     "exception": false,
     "start_time": "2024-02-15T15:50:26.241043",
     "status": "completed"
    },
    "tags": []
   },
   "outputs": [
    {
     "data": {
      "image/png": "[encoded data removed]",
      "text/plain": [
       "<Figure size 1000x800 with 1 Axes>"
      ]
     },
     "metadata": {},
     "output_type": "display_data"
    }
   ],
   "source": [
    "\n",
    "TOP = 30\n",
    "\n",
    "feature_importance = model.feature_importances_\n",
    "sorted_idx = np.argsort(feature_importance)\n",
    "fig = plt.figure(figsize=(10, 8))\n",
    "plt.barh(np.arange(len(sorted_idx))[-TOP:], feature_importance[sorted_idx][-TOP:], align='center')\n",
    "plt.yticks(np.arange(len(sorted_idx))[-TOP:], np.array(feature_names)[sorted_idx][-TOP:])\n",
    "plt.title(f'Feature Importance - Top {TOP}')\n",
    "plt.show()\n"
   ]
  },
  {
   "cell_type": "code",
   "execution_count": 27,
   "id": "447f7647",
   "metadata": {
    "execution": {
     "iopub.execute_input": "2024-02-15T15:50:26.891392Z",
     "iopub.status.busy": "2024-02-15T15:50:26.891077Z",
     "iopub.status.idle": "2024-02-15T15:50:27.039331Z",
     "shell.execute_reply": "2024-02-15T15:50:27.038500Z"
    },
    "papermill": {
     "duration": 0.163783,
     "end_time": "2024-02-15T15:50:27.041626",
     "exception": false,
     "start_time": "2024-02-15T15:50:26.877843",
     "status": "completed"
    },
    "tags": []
   },
   "outputs": [],
   "source": [
    "## Save results to submission file\n",
    "pred_df = pd.DataFrame(pred, columns=['change_type'])\n",
    "pred_df.to_csv(\"data/CATBOOST.csv\", index=True, index_label='Id')"
   ]
  },
  {
   "cell_type": "code",
   "execution_count": 28,
   "id": "cc226c83",
   "metadata": {
    "execution": {
     "iopub.execute_input": "2024-02-15T15:50:27.070404Z",
     "iopub.status.busy": "2024-02-15T15:50:27.069982Z",
     "iopub.status.idle": "2024-02-15T15:50:27.080748Z",
     "shell.execute_reply": "2024-02-15T15:50:27.079841Z"
    },
    "papermill": {
     "duration": 0.028056,
     "end_time": "2024-02-15T15:50:27.083123",
     "exception": false,
     "start_time": "2024-02-15T15:50:27.055067",
     "status": "completed"
    },
    "tags": []
   },
   "outputs": [],
   "source": [
    "np.save(\"data/PROBS_CATBOOST\", pred_probs)"
   ]
  }
 ],
 "metadata": {
  "kaggle": {
   "accelerator": "nvidiaTeslaT4",
   "dataSources": [
    {
     "datasetId": 4433393,
     "sourceId": 7627181,
     "sourceType": "datasetVersion"
    }
   ],
   "dockerImageVersionId": 30646,
   "isGpuEnabled": true,
   "isInternetEnabled": true,
   "language": "python",
   "sourceType": "notebook"
  },
  "kernelspec": {
   "display_name": "Python 3",
   "language": "python",
   "name": "python3"
  },
  "language_info": {
   "codemirror_mode": {
    "name": "ipython",
    "version": 3
   },
   "file_extension": ".py",
   "mimetype": "text/x-python",
   "name": "python",
   "nbconvert_exporter": "python",
   "pygments_lexer": "ipython3",
   "version": "3.10.13"
  },
  "papermill": {
   "default_parameters": {},
   "duration": 690.584452,
   "end_time": "2024-02-15T15:50:28.321850",
   "environment_variables": {},
   "exception": null,
   "input_path": "__notebook__.ipynb",
   "output_path": "__notebook__.ipynb",
   "parameters": {},
   "start_time": "2024-02-15T15:38:57.737398",
   "version": "2.5.0"
  }
 },
 "nbformat": 4,
 "nbformat_minor": 5
}
