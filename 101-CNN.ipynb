{
 "cells": [
  {
   "cell_type": "markdown",
   "id": "d812a2f5",
   "metadata": {},
   "source": [
    "# [CNN]\n",
    "\n",
    "This notebook is given just for curiosity. This method wasn't used because of a high computation time and poor results\n",
    "\n",
    "_______________________"
   ]
  },
  {
   "cell_type": "code",
   "execution_count": 1,
   "id": "d8e4f98e",
   "metadata": {
    "_cell_guid": "b1076dfc-b9ad-4769-8c92-a6c4dae69d19",
    "_uuid": "8f2839f25d086af736a60e9eeb907d3b93b6e0e5",
    "execution": {
     "iopub.execute_input": "2024-02-07T21:27:56.375986Z",
     "iopub.status.busy": "2024-02-07T21:27:56.375321Z",
     "iopub.status.idle": "2024-02-07T21:27:58.483965Z",
     "shell.execute_reply": "2024-02-07T21:27:58.483032Z"
    },
    "papermill": {
     "duration": 2.124546,
     "end_time": "2024-02-07T21:27:58.486251",
     "exception": false,
     "start_time": "2024-02-07T21:27:56.361705",
     "status": "completed"
    },
    "tags": []
   },
   "outputs": [],
   "source": [
    "import geopandas as gpd\n",
    "import pandas as pd\n",
    "import numpy as np\n",
    "\n",
    "import matplotlib.pyplot as plt\n",
    "import seaborn as sns\n",
    "\n",
    "import warnings\n",
    "warnings.filterwarnings('ignore')\n",
    "\n",
    "pd.set_option('display.max_columns', None)  "
   ]
  },
  {
   "cell_type": "markdown",
   "id": "3a44f24a",
   "metadata": {
    "papermill": {
     "duration": 0.01114,
     "end_time": "2024-02-07T21:27:58.509157",
     "exception": false,
     "start_time": "2024-02-07T21:27:58.498017",
     "status": "completed"
    },
    "tags": []
   },
   "source": [
    "Loading data"
   ]
  },
  {
   "cell_type": "code",
   "execution_count": 2,
   "id": "ee0e0f56",
   "metadata": {
    "execution": {
     "iopub.execute_input": "2024-02-07T21:27:58.533956Z",
     "iopub.status.busy": "2024-02-07T21:27:58.533226Z",
     "iopub.status.idle": "2024-02-07T21:28:37.937724Z",
     "shell.execute_reply": "2024-02-07T21:28:37.936953Z"
    },
    "papermill": {
     "duration": 39.419396,
     "end_time": "2024-02-07T21:28:37.940006",
     "exception": false,
     "start_time": "2024-02-07T21:27:58.520610",
     "status": "completed"
    },
    "tags": []
   },
   "outputs": [],
   "source": [
    "train_df = pd.read_csv(\"/kaggle/input/2el1730-img-cnn-preprocess/train_df_preprocessed5.csv\")\n",
    "test_df = pd.read_csv(\"/kaggle/input/2el1730-img-cnn-preprocess/test_df_preprocessed5.csv\")"
   ]
  },
  {
   "cell_type": "code",
   "execution_count": 3,
   "id": "473008f3",
   "metadata": {
    "execution": {
     "iopub.execute_input": "2024-02-07T21:28:37.965459Z",
     "iopub.status.busy": "2024-02-07T21:28:37.965167Z",
     "iopub.status.idle": "2024-02-07T21:28:37.972034Z",
     "shell.execute_reply": "2024-02-07T21:28:37.971237Z"
    },
    "papermill": {
     "duration": 0.022115,
     "end_time": "2024-02-07T21:28:37.973989",
     "exception": false,
     "start_time": "2024-02-07T21:28:37.951874",
     "status": "completed"
    },
    "tags": []
   },
   "outputs": [
    {
     "data": {
      "text/plain": [
       "Index(['urban_type', 'geography_type', 'change_type', 'img_red_mean_date0_old',\n",
       "       'img_green_mean_date0_old', 'img_blue_mean_date0_old',\n",
       "       'img_red_std_date0_old', 'img_green_std_date0_old',\n",
       "       'img_blue_std_date0_old', 'img_red_mean_date1_old',\n",
       "       ...\n",
       "       'geometry_solidity', 'geometry_diameter',\n",
       "       'geometry_inscribed_circle_radius', 'geometry_lat', 'geometry_long',\n",
       "       'change_status_date_4-0xDate', 'change_status_date_1-0xDate',\n",
       "       'change_status_date_2-1xDate', 'change_status_date_3-2xDate',\n",
       "       'change_status_date_4-3xDate'],\n",
       "      dtype='object', length=278)"
      ]
     },
     "execution_count": 3,
     "metadata": {},
     "output_type": "execute_result"
    }
   ],
   "source": [
    "train_df.columns"
   ]
  },
  {
   "cell_type": "code",
   "execution_count": 4,
   "id": "cfc16d0a",
   "metadata": {
    "execution": {
     "iopub.execute_input": "2024-02-07T21:28:37.998039Z",
     "iopub.status.busy": "2024-02-07T21:28:37.997776Z",
     "iopub.status.idle": "2024-02-07T21:28:38.006562Z",
     "shell.execute_reply": "2024-02-07T21:28:38.005749Z"
    },
    "papermill": {
     "duration": 0.023318,
     "end_time": "2024-02-07T21:28:38.008809",
     "exception": false,
     "start_time": "2024-02-07T21:28:37.985491",
     "status": "completed"
    },
    "tags": []
   },
   "outputs": [
    {
     "name": "stdout",
     "output_type": "stream",
     "text": [
      "'change_type', 'img_red_mean_date0_old', 'img_green_mean_date0_old', 'img_blue_mean_date0_old', 'img_red_std_date0_old', 'img_green_std_date0_old', 'img_blue_std_date0_old', 'img_red_mean_date1_old', 'img_green_mean_date1_old', 'img_blue_mean_date1_old', 'img_red_std_date1_old', 'img_green_std_date1_old', 'img_blue_std_date1_old', 'img_red_mean_date2_old', 'img_green_mean_date2_old', 'img_blue_mean_date2_old', 'img_red_std_date2_old', 'img_green_std_date2_old', 'img_blue_std_date2_old', 'img_red_mean_date3_old', 'img_green_mean_date3_old', 'img_blue_mean_date3_old', 'img_red_std_date3_old', 'img_green_std_date3_old', 'img_blue_std_date3_old', 'img_red_mean_date4_old', 'img_green_mean_date4_old', 'img_blue_mean_date4_old', 'img_red_std_date4_old', 'img_green_std_date4_old', 'img_blue_std_date4_old', 'index', 'urban_type_N,A', 'urban_type_UrbanSlum', 'urban_type_DenseUrban', 'urban_type_SparseUrban', 'urban_type_Industrial', 'urban_type_Rural', 'geography_type_GrassLand', 'geography_type_BarrenLand', 'geography_type_N,A', 'geography_type_Hills', 'geography_type_River', 'geography_type_Coastal', 'geography_type_SparseForest', 'geography_type_Farms', 'geography_type_Desert', 'geography_type_DenseForest', 'geography_type_Lakes', 'geography_type_Snow', 'img_red_mean_date0', 'img_red_mean_date1', 'img_red_mean_date2', 'img_red_mean_date3', 'img_red_mean_date4', 'img_green_mean_date0', 'img_green_mean_date1', 'img_green_mean_date2', 'img_green_mean_date3', 'img_green_mean_date4', 'img_blue_mean_date0', 'img_blue_mean_date1', 'img_blue_mean_date2', 'img_blue_mean_date3', 'img_blue_mean_date4', 'img_red_std_date0', 'img_red_std_date1', 'img_red_std_date2', 'img_red_std_date3', 'img_red_std_date4', 'img_green_std_date0', 'img_green_std_date1', 'img_green_std_date2', 'img_green_std_date3', 'img_green_std_date4', 'img_blue_std_date0', 'img_blue_std_date1', 'img_blue_std_date2', 'img_blue_std_date3', 'img_blue_std_date4', 'change_status_date0', 'change_status_date1', 'change_status_date2', 'change_status_date3', 'change_status_date4', 'change_status_date0_Construction Done', 'change_status_date0_Construction Midway', 'change_status_date0_Construction Started', 'change_status_date0_Excavation', 'change_status_date0_Greenland', 'change_status_date0_Land Cleared', 'change_status_date0_Materials Dumped', 'change_status_date0_Materials Introduced', 'change_status_date0_Operational', 'change_status_date0_Prior Construction', 'change_status_date1_Construction Done', 'change_status_date1_Construction Midway', 'change_status_date1_Construction Started', 'change_status_date1_Excavation', 'change_status_date1_Greenland', 'change_status_date1_Land Cleared', 'change_status_date1_Materials Dumped', 'change_status_date1_Materials Introduced', 'change_status_date1_Operational', 'change_status_date1_Prior Construction', 'change_status_date2_Construction Done', 'change_status_date2_Construction Midway', 'change_status_date2_Construction Started', 'change_status_date2_Excavation', 'change_status_date2_Greenland', 'change_status_date2_Land Cleared', 'change_status_date2_Materials Dumped', 'change_status_date2_Materials Introduced', 'change_status_date2_Operational', 'change_status_date2_Prior Construction', 'change_status_date3_Construction Done', 'change_status_date3_Construction Midway', 'change_status_date3_Construction Started', 'change_status_date3_Excavation', 'change_status_date3_Greenland', 'change_status_date3_Land Cleared', 'change_status_date3_Materials Dumped', 'change_status_date3_Materials Introduced', 'change_status_date3_Operational', 'change_status_date3_Prior Construction', 'change_status_date4_Construction Done', 'change_status_date4_Construction Midway', 'change_status_date4_Construction Started', 'change_status_date4_Excavation', 'change_status_date4_Greenland', 'change_status_date4_Land Cleared', 'change_status_date4_Materials Dumped', 'change_status_date4_Materials Introduced', 'change_status_date4_Operational', 'change_status_date4_Prior Construction', 'change_status_date_4-0', 'change_status_date_1-0', 'change_status_date_2-1', 'change_status_date_3-2', 'change_status_date_4-3', 'img_red_mean_date_4-0', 'img_red_mean_date_1-0', 'img_red_mean_date_2-1', 'img_red_mean_date_3-2', 'img_red_mean_date_4-3', 'img_green_mean_date_4-0', 'img_green_mean_date_1-0', 'img_green_mean_date_2-1', 'img_green_mean_date_3-2', 'img_green_mean_date_4-3', 'img_blue_mean_date_4-0', 'img_blue_mean_date_1-0', 'img_blue_mean_date_2-1', 'img_blue_mean_date_3-2', 'img_blue_mean_date_4-3', 'img_red_std_date_4-0', 'img_red_std_date_1-0', 'img_red_std_date_2-1', 'img_red_std_date_3-2', 'img_red_std_date_4-3', 'img_green_std_date_4-0', 'img_green_std_date_1-0', 'img_green_std_date_2-1', 'img_green_std_date_3-2', 'img_green_std_date_4-3', 'img_blue_std_date_4-0', 'img_blue_std_date_1-0', 'img_blue_std_date_2-1', 'img_blue_std_date_3-2', 'img_blue_std_date_4-3', 'date_1-0', 'date_2-1', 'date_3-2', 'date_4-3', 'date_4-0', 'date_0-0min', 'img_red_mean_date_4-0xDate', 'img_red_mean_date_1-0xDate', 'img_red_mean_date_2-1xDate', 'img_red_mean_date_3-2xDate', 'img_red_mean_date_4-3xDate', 'img_green_mean_date_4-0xDate', 'img_green_mean_date_1-0xDate', 'img_green_mean_date_2-1xDate', 'img_green_mean_date_3-2xDate', 'img_green_mean_date_4-3xDate', 'img_blue_mean_date_4-0xDate', 'img_blue_mean_date_1-0xDate', 'img_blue_mean_date_2-1xDate', 'img_blue_mean_date_3-2xDate', 'img_blue_mean_date_4-3xDate', 'img_red_std_date_4-0xDate', 'img_red_std_date_1-0xDate', 'img_red_std_date_2-1xDate', 'img_red_std_date_3-2xDate', 'img_red_std_date_4-3xDate', 'img_green_std_date_4-0xDate', 'img_green_std_date_1-0xDate', 'img_green_std_date_2-1xDate', 'img_green_std_date_3-2xDate', 'img_green_std_date_4-3xDate', 'img_blue_std_date_4-0xDate', 'img_blue_std_date_1-0xDate', 'img_blue_std_date_2-1xDate', 'img_blue_std_date_3-2xDate', 'img_blue_std_date_4-3xDate', 'geo_cluster', 'geo_cc_AE', 'geo_cc_AO', 'geo_cc_AU', 'geo_cc_BD', 'geo_cc_BT', 'geo_cc_CA', 'geo_cc_CD', 'geo_cc_CI', 'geo_cc_CN', 'geo_cc_DZ', 'geo_cc_EG', 'geo_cc_ET', 'geo_cc_FR', 'geo_cc_IN', 'geo_cc_IT', 'geo_cc_JP', 'geo_cc_KE', 'geo_cc_LA', 'geo_cc_MN', 'geo_cc_MU', 'geo_cc_MX', 'geo_cc_QA', 'geo_cc_RU', 'geo_cc_SA', 'geo_cc_SE', 'geo_cc_TZ', 'geo_cc_US', 'geo_cc_VN', 'geo_cc_ZA', 'geometry_area', 'geometry_perimeter', 'geometry_vertices', 'geometry_sides', 'geometry_bboxwidth', 'geometry_bboxheight', 'geometry_bboxarea', 'geometry_bboxperimeter', 'geometry_compactness', 'geometry_aspectratio', 'geometry_convexity', 'geometry_solidity', 'geometry_diameter', 'geometry_inscribed_circle_radius', 'geometry_lat', 'geometry_long', 'change_status_date_4-0xDate', 'change_status_date_1-0xDate', 'change_status_date_2-1xDate', 'change_status_date_3-2xDate', 'change_status_date_4-3xDate', "
     ]
    }
   ],
   "source": [
    "for column, typ in zip(train_df.columns, train_df.dtypes):\n",
    "    if typ in ['object', 'datetime64[ns]', 'geometry']:\n",
    "        continue\n",
    "    print(\"'\", end=\"\")\n",
    "    print(column, end=\"', \")"
   ]
  },
  {
   "cell_type": "code",
   "execution_count": 5,
   "id": "77c6886a",
   "metadata": {
    "execution": {
     "iopub.execute_input": "2024-02-07T21:28:38.033367Z",
     "iopub.status.busy": "2024-02-07T21:28:38.033133Z",
     "iopub.status.idle": "2024-02-07T21:28:38.046493Z",
     "shell.execute_reply": "2024-02-07T21:28:38.045734Z"
    },
    "papermill": {
     "duration": 0.027999,
     "end_time": "2024-02-07T21:28:38.048449",
     "exception": false,
     "start_time": "2024-02-07T21:28:38.020450",
     "status": "completed"
    },
    "tags": []
   },
   "outputs": [],
   "source": [
    "feature_names=['urban_type_N,A', 'urban_type_UrbanSlum', 'urban_type_DenseUrban', 'urban_type_SparseUrban', 'urban_type_Industrial', 'urban_type_Rural', \n",
    "                'geography_type_GrassLand', 'geography_type_BarrenLand', 'geography_type_N,A', 'geography_type_Hills', 'geography_type_River', 'geography_type_Coastal', 'geography_type_SparseForest', 'geography_type_Farms', 'geography_type_Desert', 'geography_type_DenseForest', 'geography_type_Lakes', 'geography_type_Snow', \n",
    "                'img_red_mean_date0', 'img_red_mean_date1', 'img_red_mean_date2', 'img_red_mean_date3', 'img_red_mean_date4', 'img_green_mean_date0', 'img_green_mean_date1', 'img_green_mean_date2', 'img_green_mean_date3', 'img_green_mean_date4', 'img_blue_mean_date0', 'img_blue_mean_date1', 'img_blue_mean_date2', 'img_blue_mean_date3', 'img_blue_mean_date4', 'img_red_std_date0', 'img_red_std_date1', 'img_red_std_date2', 'img_red_std_date3', 'img_red_std_date4', 'img_green_std_date0', 'img_green_std_date1', 'img_green_std_date2', 'img_green_std_date3', 'img_green_std_date4', 'img_blue_std_date0', 'img_blue_std_date1', 'img_blue_std_date2', 'img_blue_std_date3', 'img_blue_std_date4', \n",
    "                'change_status_date0', 'change_status_date1', 'change_status_date2', 'change_status_date3', 'change_status_date4', \n",
    "                'change_status_date0_Construction Done', 'change_status_date0_Construction Midway', 'change_status_date0_Construction Started', 'change_status_date0_Excavation', 'change_status_date0_Greenland', 'change_status_date0_Land Cleared', 'change_status_date0_Materials Dumped', 'change_status_date0_Materials Introduced', 'change_status_date0_Operational', 'change_status_date0_Prior Construction', 'change_status_date1_Construction Done', 'change_status_date1_Construction Midway', 'change_status_date1_Construction Started', 'change_status_date1_Excavation', 'change_status_date1_Greenland', 'change_status_date1_Land Cleared', 'change_status_date1_Materials Dumped', 'change_status_date1_Materials Introduced', 'change_status_date1_Operational', 'change_status_date1_Prior Construction', 'change_status_date2_Construction Done', 'change_status_date2_Construction Midway', 'change_status_date2_Construction Started', 'change_status_date2_Excavation', 'change_status_date2_Greenland', 'change_status_date2_Land Cleared', 'change_status_date2_Materials Dumped', 'change_status_date2_Materials Introduced', 'change_status_date2_Operational', 'change_status_date2_Prior Construction', 'change_status_date3_Construction Done', 'change_status_date3_Construction Midway', 'change_status_date3_Construction Started', 'change_status_date3_Excavation', 'change_status_date3_Greenland', 'change_status_date3_Land Cleared', 'change_status_date3_Materials Dumped', 'change_status_date3_Materials Introduced', 'change_status_date3_Operational', 'change_status_date3_Prior Construction', 'change_status_date4_Construction Done', 'change_status_date4_Construction Midway', 'change_status_date4_Construction Started', 'change_status_date4_Excavation', 'change_status_date4_Greenland', 'change_status_date4_Land Cleared', 'change_status_date4_Materials Dumped', 'change_status_date4_Materials Introduced', 'change_status_date4_Operational', 'change_status_date4_Prior Construction', \n",
    "                'change_status_date_4-0', 'change_status_date_1-0', 'change_status_date_2-1', 'change_status_date_3-2', 'change_status_date_4-3', \n",
    "                'img_red_mean_date_4-0', 'img_red_mean_date_1-0', 'img_red_mean_date_2-1', 'img_red_mean_date_3-2', 'img_red_mean_date_4-3', 'img_green_mean_date_4-0', 'img_green_mean_date_1-0', 'img_green_mean_date_2-1', 'img_green_mean_date_3-2', 'img_green_mean_date_4-3', 'img_blue_mean_date_4-0', 'img_blue_mean_date_1-0', 'img_blue_mean_date_2-1', 'img_blue_mean_date_3-2', 'img_blue_mean_date_4-3', 'img_red_std_date_4-0', 'img_red_std_date_1-0', 'img_red_std_date_2-1', 'img_red_std_date_3-2', 'img_red_std_date_4-3', 'img_green_std_date_4-0', 'img_green_std_date_1-0', 'img_green_std_date_2-1', 'img_green_std_date_3-2', 'img_green_std_date_4-3', 'img_blue_std_date_4-0', 'img_blue_std_date_1-0', 'img_blue_std_date_2-1', 'img_blue_std_date_3-2', 'img_blue_std_date_4-3', \n",
    "                'date_1-0', 'date_2-1', 'date_3-2', 'date_4-3', 'date_4-0', 'date_0-0min', \n",
    "                'img_red_mean_date_4-0xDate', 'img_red_mean_date_1-0xDate', 'img_red_mean_date_2-1xDate', 'img_red_mean_date_3-2xDate', 'img_red_mean_date_4-3xDate', 'img_green_mean_date_4-0xDate', 'img_green_mean_date_1-0xDate', 'img_green_mean_date_2-1xDate', 'img_green_mean_date_3-2xDate', 'img_green_mean_date_4-3xDate', 'img_blue_mean_date_4-0xDate', 'img_blue_mean_date_1-0xDate', 'img_blue_mean_date_2-1xDate', 'img_blue_mean_date_3-2xDate', 'img_blue_mean_date_4-3xDate', 'img_red_std_date_4-0xDate', 'img_red_std_date_1-0xDate', 'img_red_std_date_2-1xDate', 'img_red_std_date_3-2xDate', 'img_red_std_date_4-3xDate', 'img_green_std_date_4-0xDate', 'img_green_std_date_1-0xDate', 'img_green_std_date_2-1xDate', 'img_green_std_date_3-2xDate', 'img_green_std_date_4-3xDate', 'img_blue_std_date_4-0xDate', 'img_blue_std_date_1-0xDate', 'img_blue_std_date_2-1xDate', 'img_blue_std_date_3-2xDate', 'img_blue_std_date_4-3xDate', \n",
    "                'change_status_date_4-0xDate', 'change_status_date_1-0xDate', 'change_status_date_2-1xDate', 'change_status_date_3-2xDate', 'change_status_date_4-3xDate',\n",
    "                #'geo_cluster', \n",
    "                'geo_cc_AE', 'geo_cc_AO', 'geo_cc_AU', 'geo_cc_BD', 'geo_cc_BT', 'geo_cc_CA', 'geo_cc_CD', 'geo_cc_CI', 'geo_cc_CN', 'geo_cc_DZ', 'geo_cc_EG', 'geo_cc_ET', 'geo_cc_FR', 'geo_cc_IN', \n",
    "               #'geo_cc_IT', 'geo_cc_JP',\n",
    "               'geo_cc_KE', 'geo_cc_LA', 'geo_cc_MN', 'geo_cc_MU', 'geo_cc_MX', 'geo_cc_QA', 'geo_cc_RU', 'geo_cc_SA', 'geo_cc_SE', 'geo_cc_TZ', 'geo_cc_US', 'geo_cc_VN', 'geo_cc_ZA', \n",
    "                'geometry_area', 'geometry_perimeter', 'geometry_vertices', 'geometry_sides', 'geometry_bboxwidth', 'geometry_bboxheight', 'geometry_bboxarea', 'geometry_bboxperimeter', 'geometry_compactness', 'geometry_aspectratio', 'geometry_convexity', 'geometry_solidity', 'geometry_diameter', 'geometry_inscribed_circle_radius', 'geometry_lat', 'geometry_long'\n",
    "               ]"
   ]
  },
  {
   "cell_type": "code",
   "execution_count": 6,
   "id": "f4ca8517",
   "metadata": {
    "execution": {
     "iopub.execute_input": "2024-02-07T21:28:38.072936Z",
     "iopub.status.busy": "2024-02-07T21:28:38.072682Z",
     "iopub.status.idle": "2024-02-07T21:28:38.751879Z",
     "shell.execute_reply": "2024-02-07T21:28:38.750993Z"
    },
    "papermill": {
     "duration": 0.694168,
     "end_time": "2024-02-07T21:28:38.754469",
     "exception": false,
     "start_time": "2024-02-07T21:28:38.060301",
     "status": "completed"
    },
    "tags": []
   },
   "outputs": [],
   "source": [
    "X_train = train_df[feature_names].to_numpy()\n",
    "X_train_index = train_df[['index']].to_numpy()\n",
    "\n",
    "Y_train = train_df['change_type'].to_numpy()\n",
    "\n",
    "X_test = test_df[feature_names].to_numpy()\n",
    "X_test_index = test_df[['index']].to_numpy()\n",
    "\n",
    "X = np.concatenate([X_train, X_test], axis=0)"
   ]
  },
  {
   "cell_type": "markdown",
   "id": "43c1b786",
   "metadata": {
    "papermill": {
     "duration": 0.013262,
     "end_time": "2024-02-07T21:28:38.781410",
     "exception": false,
     "start_time": "2024-02-07T21:28:38.768148",
     "status": "completed"
    },
    "tags": []
   },
   "source": [
    "# Data normalization"
   ]
  },
  {
   "cell_type": "code",
   "execution_count": 7,
   "id": "99002bff",
   "metadata": {
    "execution": {
     "iopub.execute_input": "2024-02-07T21:28:38.808660Z",
     "iopub.status.busy": "2024-02-07T21:28:38.808298Z",
     "iopub.status.idle": "2024-02-07T21:28:41.250843Z",
     "shell.execute_reply": "2024-02-07T21:28:41.249983Z"
    },
    "papermill": {
     "duration": 2.458562,
     "end_time": "2024-02-07T21:28:41.253243",
     "exception": false,
     "start_time": "2024-02-07T21:28:38.794681",
     "status": "completed"
    },
    "tags": []
   },
   "outputs": [],
   "source": [
    "from sklearn.preprocessing import StandardScaler\n",
    "\n",
    "scaler = StandardScaler()\n",
    "scaler.fit(X)\n",
    "\n",
    "X_train = scaler.transform(X_train)\n",
    "X_test = scaler.transform(X_test)"
   ]
  },
  {
   "cell_type": "markdown",
   "id": "fb80f54e",
   "metadata": {
    "papermill": {
     "duration": 0.01159,
     "end_time": "2024-02-07T21:28:41.276858",
     "exception": false,
     "start_time": "2024-02-07T21:28:41.265268",
     "status": "completed"
    },
    "tags": []
   },
   "source": [
    "# Data imputation"
   ]
  },
  {
   "cell_type": "code",
   "execution_count": 8,
   "id": "16bf1c0d",
   "metadata": {
    "execution": {
     "iopub.execute_input": "2024-02-07T21:28:41.301275Z",
     "iopub.status.busy": "2024-02-07T21:28:41.300842Z",
     "iopub.status.idle": "2024-02-07T21:28:44.876289Z",
     "shell.execute_reply": "2024-02-07T21:28:44.875434Z"
    },
    "papermill": {
     "duration": 3.590281,
     "end_time": "2024-02-07T21:28:44.878582",
     "exception": false,
     "start_time": "2024-02-07T21:28:41.288301",
     "status": "completed"
    },
    "tags": []
   },
   "outputs": [],
   "source": [
    "from sklearn.impute import SimpleImputer\n",
    "\n",
    "imp_mean = SimpleImputer(missing_values=np.nan, strategy='most_frequent')\n",
    "imp_mean.fit(X)\n",
    "X_test = imp_mean.transform(X_test)"
   ]
  },
  {
   "cell_type": "markdown",
   "id": "ba103230",
   "metadata": {
    "papermill": {
     "duration": 0.011662,
     "end_time": "2024-02-07T21:28:44.902160",
     "exception": false,
     "start_time": "2024-02-07T21:28:44.890498",
     "status": "completed"
    },
    "tags": []
   },
   "source": [
    "# Adding back indexes"
   ]
  },
  {
   "cell_type": "code",
   "execution_count": 9,
   "id": "d4925917",
   "metadata": {
    "execution": {
     "iopub.execute_input": "2024-02-07T21:28:44.926390Z",
     "iopub.status.busy": "2024-02-07T21:28:44.926090Z",
     "iopub.status.idle": "2024-02-07T21:28:45.593191Z",
     "shell.execute_reply": "2024-02-07T21:28:45.592384Z"
    },
    "papermill": {
     "duration": 0.682007,
     "end_time": "2024-02-07T21:28:45.595655",
     "exception": false,
     "start_time": "2024-02-07T21:28:44.913648",
     "status": "completed"
    },
    "tags": []
   },
   "outputs": [],
   "source": [
    "X_train = np.concatenate([X_train, X_train_index], axis=1).astype(np.float32)\n",
    "X_test = np.concatenate([X_test, X_test_index], axis=1).astype(np.float32)\n",
    "X = np.concatenate([X_train, X_test], axis=0).astype(np.float32)"
   ]
  },
  {
   "cell_type": "code",
   "execution_count": 10,
   "id": "17c1eb74",
   "metadata": {
    "execution": {
     "iopub.execute_input": "2024-02-07T21:28:45.620807Z",
     "iopub.status.busy": "2024-02-07T21:28:45.620478Z",
     "iopub.status.idle": "2024-02-07T21:28:45.626359Z",
     "shell.execute_reply": "2024-02-07T21:28:45.625499Z"
    },
    "papermill": {
     "duration": 0.020585,
     "end_time": "2024-02-07T21:28:45.628249",
     "exception": false,
     "start_time": "2024-02-07T21:28:45.607664",
     "status": "completed"
    },
    "tags": []
   },
   "outputs": [
    {
     "data": {
      "text/plain": [
       "(292758, 223)"
      ]
     },
     "execution_count": 10,
     "metadata": {},
     "output_type": "execute_result"
    }
   ],
   "source": [
    "X_train.shape"
   ]
  },
  {
   "cell_type": "markdown",
   "id": "e14f17c6",
   "metadata": {
    "papermill": {
     "duration": 0.012178,
     "end_time": "2024-02-07T21:28:45.652058",
     "exception": false,
     "start_time": "2024-02-07T21:28:45.639880",
     "status": "completed"
    },
    "tags": []
   },
   "source": [
    "# Database"
   ]
  },
  {
   "cell_type": "markdown",
   "id": "bb128d0c",
   "metadata": {
    "papermill": {
     "duration": 0.011472,
     "end_time": "2024-02-07T21:28:45.675789",
     "exception": false,
     "start_time": "2024-02-07T21:28:45.664317",
     "status": "completed"
    },
    "tags": []
   },
   "source": [
    "https://pytorch.org/tutorials/beginner/data_loading_tutorial.html\n",
    "https://stackoverflow.com/questions/73266661/multiple-input-model-with-pytorch-input-and-output-features"
   ]
  },
  {
   "cell_type": "code",
   "execution_count": 11,
   "id": "b811fcbb",
   "metadata": {
    "execution": {
     "iopub.execute_input": "2024-02-07T21:28:45.700208Z",
     "iopub.status.busy": "2024-02-07T21:28:45.699925Z",
     "iopub.status.idle": "2024-02-07T21:28:52.517765Z",
     "shell.execute_reply": "2024-02-07T21:28:52.516968Z"
    },
    "papermill": {
     "duration": 6.83287,
     "end_time": "2024-02-07T21:28:52.520123",
     "exception": false,
     "start_time": "2024-02-07T21:28:45.687253",
     "status": "completed"
    },
    "tags": []
   },
   "outputs": [],
   "source": [
    "import os\n",
    "import torch\n",
    "import pandas as pd\n",
    "from skimage import io\n",
    "import numpy as np\n",
    "import matplotlib.pyplot as plt\n",
    "from torch.utils.data import Dataset, DataLoader\n",
    "from torchvision import transforms, utils\n",
    "from PIL import Image\n",
    "\n",
    "class CustomDataset(Dataset):\n",
    "\n",
    "    def __init__(self, data, labels, img_dir, preprocess=False):\n",
    "        \"\"\"\n",
    "        Arguments:\n",
    "            - data : N * M+1 numpy array, with N the number of samples, and the last column as the index for the photo\n",
    "        \"\"\"\n",
    "        self.data = data\n",
    "        self.labels = labels\n",
    "        self.img_dir = img_dir\n",
    "        \n",
    "        if preprocess:\n",
    "            self.preprocess = transforms.Compose([\n",
    "                transforms.Resize(224),\n",
    "                transforms.ToTensor(),\n",
    "                transforms.Normalize(mean=[0.485, 0.456, 0.406], std=[0.229, 0.224, 0.225]),\n",
    "            ])\n",
    "        else:\n",
    "            self.preprocess = transforms.ToTensor()\n",
    "\n",
    "    def __len__(self):\n",
    "        return len(self.data)\n",
    "\n",
    "    def __getitem__(self, idx):\n",
    "        if torch.is_tensor(idx):\n",
    "            idx = idx.tolist()\n",
    "\n",
    "        img_name = f\"{self.img_dir}/{int(self.data[idx, -1])}.png\"\n",
    "        \n",
    "        image = Image.open(img_name)\n",
    "        #image = io.imread(img_name, as_gray=False)\n",
    "        #image = np.expand_dims(image, axis=0)\n",
    "        #image = image.transpose((2, 0, 1))\n",
    "        features = self.data[idx][:-1]\n",
    "        \n",
    "        label = self.labels[idx]\n",
    "        \n",
    "        image = self.preprocess(image)\n",
    "        sample = {'image': image, 'features': torch.from_numpy(features), 'label': self.labels[idx]}\n",
    "\n",
    "        return sample"
   ]
  },
  {
   "cell_type": "code",
   "execution_count": 12,
   "id": "f2fda693",
   "metadata": {
    "execution": {
     "iopub.execute_input": "2024-02-07T21:28:52.545628Z",
     "iopub.status.busy": "2024-02-07T21:28:52.545151Z",
     "iopub.status.idle": "2024-02-07T21:28:52.549887Z",
     "shell.execute_reply": "2024-02-07T21:28:52.549041Z"
    },
    "papermill": {
     "duration": 0.019378,
     "end_time": "2024-02-07T21:28:52.551781",
     "exception": false,
     "start_time": "2024-02-07T21:28:52.532403",
     "status": "completed"
    },
    "tags": []
   },
   "outputs": [],
   "source": [
    "import torch\n",
    "import torch.nn as nn\n",
    "import torch.optim as optim\n",
    "import torchvision.models as models\n",
    "import torch.nn.functional as F\n"
   ]
  },
  {
   "cell_type": "code",
   "execution_count": 13,
   "id": "e2b16df3",
   "metadata": {
    "execution": {
     "iopub.execute_input": "2024-02-07T21:28:52.576301Z",
     "iopub.status.busy": "2024-02-07T21:28:52.576019Z",
     "iopub.status.idle": "2024-02-07T21:28:52.586393Z",
     "shell.execute_reply": "2024-02-07T21:28:52.585572Z"
    },
    "papermill": {
     "duration": 0.024644,
     "end_time": "2024-02-07T21:28:52.588249",
     "exception": false,
     "start_time": "2024-02-07T21:28:52.563605",
     "status": "completed"
    },
    "tags": []
   },
   "outputs": [],
   "source": [
    "\n",
    "class CNN_VGG(nn.Module):\n",
    "    def __init__(self):\n",
    "        \n",
    "        super(CNN_VGG, self).__init__()\n",
    "        \n",
    "        FEATURES_SIZE = X.shape[1]-1\n",
    "        NB_OUT_IMG = 32\n",
    "        NB_CLASSES = 6\n",
    "        \n",
    "        self.image_features_v2 = nn.Sequential(\n",
    "            nn.Conv2d(3, 32, kernel_size=3, stride=1, padding=1),\n",
    "            nn.BatchNorm2d(32),\n",
    "            nn.ReLU(),\n",
    "            \n",
    "            nn.Conv2d(32, 32, kernel_size=3, stride=1, padding=1),\n",
    "            nn.BatchNorm2d(32),\n",
    "            nn.ReLU(), \n",
    "            nn.MaxPool2d(kernel_size = 2, stride = 2),\n",
    "        \n",
    "            nn.Conv2d(32, 64, kernel_size=3, stride=1, padding=1),\n",
    "            nn.BatchNorm2d(64),\n",
    "            nn.ReLU(),\n",
    "            \n",
    "            nn.Conv2d(64, 64, kernel_size=3, stride=1, padding=1),\n",
    "            nn.BatchNorm2d(64),\n",
    "            nn.ReLU(),\n",
    "            nn.MaxPool2d(kernel_size = 2, stride = 2),\n",
    "            \n",
    "            # Flatten the output for fully connected layers\n",
    "            nn.Flatten(),\n",
    "            nn.LazyLinear(128),\n",
    "            nn.ReLU(),\n",
    "            nn.LazyLinear(32),\n",
    "        )\n",
    "        \n",
    "        self.combined_features = nn.Sequential(\n",
    "            # change this input nodes\n",
    "            nn.ReLU(),\n",
    "            nn.Linear(32,NB_CLASSES)\n",
    "        )\n",
    "    \n",
    "    def extract_IMGfeatures(self, image, features):\n",
    "        a = self.image_features_v2(image)\n",
    "        return a\n",
    "        \n",
    "    def forward(self, image, features):\n",
    "        a = self.image_features_v2(image)\n",
    "        #x = a.view(a.size(0), -1)\n",
    "        x = self.combined_features(a)\n",
    "        #x = torch.sigmoid(x)\n",
    "        return x\n"
   ]
  },
  {
   "cell_type": "code",
   "execution_count": 14,
   "id": "420e7847",
   "metadata": {
    "execution": {
     "iopub.execute_input": "2024-02-07T21:28:52.612805Z",
     "iopub.status.busy": "2024-02-07T21:28:52.612446Z",
     "iopub.status.idle": "2024-02-07T21:28:54.714179Z",
     "shell.execute_reply": "2024-02-07T21:28:54.713187Z"
    },
    "papermill": {
     "duration": 2.116249,
     "end_time": "2024-02-07T21:28:54.716426",
     "exception": false,
     "start_time": "2024-02-07T21:28:52.600177",
     "status": "completed"
    },
    "tags": []
   },
   "outputs": [
    {
     "name": "stderr",
     "output_type": "stream",
     "text": [
      "Downloading: \"https://download.pytorch.org/models/resnet50-11ad3fa6.pth\" to /root/.cache/torch/hub/checkpoints/resnet50-11ad3fa6.pth\n",
      "100%|██████████| 97.8M/97.8M [00:01<00:00, 67.6MB/s]\n"
     ]
    }
   ],
   "source": [
    "from torchvision.models import resnet50, ResNet50_Weights\n",
    "\n",
    "test = resnet50(weights=ResNet50_Weights.IMAGENET1K_V2)\n",
    "newmodel = torch.nn.Sequential(*(list(test.children())[:-1]))"
   ]
  },
  {
   "cell_type": "code",
   "execution_count": 15,
   "id": "0830087a",
   "metadata": {
    "execution": {
     "iopub.execute_input": "2024-02-07T21:28:54.745160Z",
     "iopub.status.busy": "2024-02-07T21:28:54.744800Z",
     "iopub.status.idle": "2024-02-07T21:28:54.755486Z",
     "shell.execute_reply": "2024-02-07T21:28:54.754618Z"
    },
    "papermill": {
     "duration": 0.027259,
     "end_time": "2024-02-07T21:28:54.757388",
     "exception": false,
     "start_time": "2024-02-07T21:28:54.730129",
     "status": "completed"
    },
    "tags": []
   },
   "outputs": [],
   "source": [
    "from torchvision.models import resnet50, ResNet50_Weights\n",
    "\n",
    "class MixedNetworkResnet(nn.Module):\n",
    "    def __init__(self):\n",
    "        super(MixedNetworkResnet, self).__init__()\n",
    "        \n",
    "        #image_modules = list(models.resnet50().children())[:-1]\n",
    "        #self.image_features = nn.Sequential(*image_modules)\n",
    "        \n",
    "        IMG_SIZE = 64\n",
    "        FEATURES_SIZE = X.shape[1]-1\n",
    "        NB_OUT_IMG = 32\n",
    "        NB_OUT_FEATURES = 64\n",
    "        NB_CLASSES = 6\n",
    "    \n",
    "        resnet = resnet50(weights=ResNet50_Weights.IMAGENET1K_V2)\n",
    "        self.image_features = torch.nn.Sequential(\n",
    "            *(list(resnet.children())[:-1]),\n",
    "            nn.LazyLinear(NB_OUT_IMG)\n",
    "        )\n",
    "        \n",
    "        self.features = nn.Sequential(\n",
    "            nn.Linear(in_features=FEATURES_SIZE, out_features=128), \n",
    "            nn.ReLU(), \n",
    "            nn.LazyLinear(128),\n",
    "            nn.ReLU(),\n",
    "            nn.LazyLinear(NB_OUT_FEATURES), \n",
    "        )\n",
    "        \n",
    "        self.combined_features = nn.Sequential(\n",
    "            # change this input nodes\n",
    "            nn.LazyLinear(64),\n",
    "            nn.ReLU(),\n",
    "            nn.Linear(64, 64),\n",
    "            nn.ReLU(),\n",
    "            nn.Linear(64,NB_CLASSES)\n",
    "        )\n",
    "    \n",
    "    def extract_NOIMGfeatures(self, image, features):\n",
    "        b = self.features(features)\n",
    "        return b\n",
    "    \n",
    "    def extract_IMGfeatures(self, image, features):\n",
    "        a = self.image_features(image)\n",
    "        return a\n",
    "    \n",
    "    def forward(self, image, features):\n",
    "        a = self.image_features(image)\n",
    "        b = self.features(features)\n",
    "        x = torch.cat((a.view(a.size(0), -1), b.view(b.size(0), -1)), dim=1)\n",
    "        x = self.combined_features(x)\n",
    "        #x = torch.sigmoid(x)\n",
    "        return x\n"
   ]
  },
  {
   "cell_type": "code",
   "execution_count": 16,
   "id": "b7f353d3",
   "metadata": {
    "execution": {
     "iopub.execute_input": "2024-02-07T21:28:54.785371Z",
     "iopub.status.busy": "2024-02-07T21:28:54.784857Z",
     "iopub.status.idle": "2024-02-07T21:28:54.798165Z",
     "shell.execute_reply": "2024-02-07T21:28:54.797296Z"
    },
    "papermill": {
     "duration": 0.029225,
     "end_time": "2024-02-07T21:28:54.799976",
     "exception": false,
     "start_time": "2024-02-07T21:28:54.770751",
     "status": "completed"
    },
    "tags": []
   },
   "outputs": [],
   "source": [
    "\n",
    "class MixedNetwork(nn.Module):\n",
    "    def __init__(self):\n",
    "        super(MixedNetwork, self).__init__()\n",
    "        \n",
    "        #image_modules = list(models.resnet50().children())[:-1]\n",
    "        #self.image_features = nn.Sequential(*image_modules)\n",
    "        \n",
    "        IMG_SIZE = 64\n",
    "        FEATURES_SIZE = X.shape[1]-1\n",
    "        NB_OUT_IMG = 32\n",
    "        NB_OUT_FEATURES = 64\n",
    "        NB_CLASSES = 6\n",
    "    \n",
    "        self.image_features = nn.Sequential(\n",
    "            nn.Conv2d(3, 32, kernel_size=3, stride=1, padding=1),\n",
    "            nn.BatchNorm2d(32),\n",
    "            nn.ReLU(),\n",
    "            \n",
    "            nn.Conv2d(32, 32, kernel_size=3, stride=1, padding=1),\n",
    "            nn.BatchNorm2d(32),\n",
    "            nn.ReLU(), \n",
    "            nn.MaxPool2d(kernel_size = 2, stride = 2),\n",
    "        \n",
    "            nn.Conv2d(32, 64, kernel_size=3, stride=1, padding=1),\n",
    "            nn.BatchNorm2d(64),\n",
    "            nn.ReLU(),\n",
    "            \n",
    "            nn.Conv2d(64, 64, kernel_size=3, stride=1, padding=1),\n",
    "            nn.BatchNorm2d(64),\n",
    "            nn.ReLU(),\n",
    "            nn.MaxPool2d(kernel_size = 2, stride = 2),\n",
    "            \n",
    "            # Flatten the output for fully connected layers\n",
    "            nn.Flatten(),\n",
    "\n",
    "            nn.LazyLinear(128),\n",
    "            nn.ReLU(),\n",
    "            nn.LazyLinear(NB_OUT_IMG)\n",
    "        )\n",
    "        \n",
    "        self.features = nn.Sequential(\n",
    "            nn.Linear(in_features=FEATURES_SIZE, out_features=128), \n",
    "            nn.ReLU(), \n",
    "            nn.LazyLinear(128),\n",
    "            nn.ReLU(),\n",
    "            nn.LazyLinear(NB_OUT_FEATURES), \n",
    "        )\n",
    "        \n",
    "        self.combined_features = nn.Sequential(\n",
    "            # change this input nodes\n",
    "            nn.Linear(NB_OUT_FEATURES + NB_OUT_IMG, 64),\n",
    "            nn.ReLU(),\n",
    "            nn.Linear(64, 64),\n",
    "            nn.ReLU(),\n",
    "            nn.Linear(64,NB_CLASSES)\n",
    "        )\n",
    "    \n",
    "    def extract_NOIMGfeatures(self, image, features):\n",
    "        b = self.features(features)\n",
    "        return b\n",
    "    \n",
    "    def extract_IMGfeatures(self, image, features):\n",
    "        a = self.image_features(image)\n",
    "        return a\n",
    "    \n",
    "    def forward(self, image, features):\n",
    "        a = self.image_features(image)\n",
    "        b = self.features(features)\n",
    "        x = torch.cat((a.view(a.size(0), -1), b.view(b.size(0), -1)), dim=1)\n",
    "        x = self.combined_features(x)\n",
    "        #x = torch.sigmoid(x)\n",
    "        return x\n"
   ]
  },
  {
   "cell_type": "code",
   "execution_count": 17,
   "id": "09190c7b",
   "metadata": {
    "execution": {
     "iopub.execute_input": "2024-02-07T21:28:54.828815Z",
     "iopub.status.busy": "2024-02-07T21:28:54.828208Z",
     "iopub.status.idle": "2024-02-07T21:28:55.322851Z",
     "shell.execute_reply": "2024-02-07T21:28:55.321914Z"
    },
    "papermill": {
     "duration": 0.511566,
     "end_time": "2024-02-07T21:28:55.325419",
     "exception": false,
     "start_time": "2024-02-07T21:28:54.813853",
     "status": "completed"
    },
    "tags": []
   },
   "outputs": [
    {
     "data": {
      "text/plain": [
       "MixedNetworkResnet(\n",
       "  (image_features): Sequential(\n",
       "    (0): Conv2d(3, 64, kernel_size=(7, 7), stride=(2, 2), padding=(3, 3), bias=False)\n",
       "    (1): BatchNorm2d(64, eps=1e-05, momentum=0.1, affine=True, track_running_stats=True)\n",
       "    (2): ReLU(inplace=True)\n",
       "    (3): MaxPool2d(kernel_size=3, stride=2, padding=1, dilation=1, ceil_mode=False)\n",
       "    (4): Sequential(\n",
       "      (0): Bottleneck(\n",
       "        (conv1): Conv2d(64, 64, kernel_size=(1, 1), stride=(1, 1), bias=False)\n",
       "        (bn1): BatchNorm2d(64, eps=1e-05, momentum=0.1, affine=True, track_running_stats=True)\n",
       "        (conv2): Conv2d(64, 64, kernel_size=(3, 3), stride=(1, 1), padding=(1, 1), bias=False)\n",
       "        (bn2): BatchNorm2d(64, eps=1e-05, momentum=0.1, affine=True, track_running_stats=True)\n",
       "        (conv3): Conv2d(64, 256, kernel_size=(1, 1), stride=(1, 1), bias=False)\n",
       "        (bn3): BatchNorm2d(256, eps=1e-05, momentum=0.1, affine=True, track_running_stats=True)\n",
       "        (relu): ReLU(inplace=True)\n",
       "        (downsample): Sequential(\n",
       "          (0): Conv2d(64, 256, kernel_size=(1, 1), stride=(1, 1), bias=False)\n",
       "          (1): BatchNorm2d(256, eps=1e-05, momentum=0.1, affine=True, track_running_stats=True)\n",
       "        )\n",
       "      )\n",
       "      (1): Bottleneck(\n",
       "        (conv1): Conv2d(256, 64, kernel_size=(1, 1), stride=(1, 1), bias=False)\n",
       "        (bn1): BatchNorm2d(64, eps=1e-05, momentum=0.1, affine=True, track_running_stats=True)\n",
       "        (conv2): Conv2d(64, 64, kernel_size=(3, 3), stride=(1, 1), padding=(1, 1), bias=False)\n",
       "        (bn2): BatchNorm2d(64, eps=1e-05, momentum=0.1, affine=True, track_running_stats=True)\n",
       "        (conv3): Conv2d(64, 256, kernel_size=(1, 1), stride=(1, 1), bias=False)\n",
       "        (bn3): BatchNorm2d(256, eps=1e-05, momentum=0.1, affine=True, track_running_stats=True)\n",
       "        (relu): ReLU(inplace=True)\n",
       "      )\n",
       "      (2): Bottleneck(\n",
       "        (conv1): Conv2d(256, 64, kernel_size=(1, 1), stride=(1, 1), bias=False)\n",
       "        (bn1): BatchNorm2d(64, eps=1e-05, momentum=0.1, affine=True, track_running_stats=True)\n",
       "        (conv2): Conv2d(64, 64, kernel_size=(3, 3), stride=(1, 1), padding=(1, 1), bias=False)\n",
       "        (bn2): BatchNorm2d(64, eps=1e-05, momentum=0.1, affine=True, track_running_stats=True)\n",
       "        (conv3): Conv2d(64, 256, kernel_size=(1, 1), stride=(1, 1), bias=False)\n",
       "        (bn3): BatchNorm2d(256, eps=1e-05, momentum=0.1, affine=True, track_running_stats=True)\n",
       "        (relu): ReLU(inplace=True)\n",
       "      )\n",
       "    )\n",
       "    (5): Sequential(\n",
       "      (0): Bottleneck(\n",
       "        (conv1): Conv2d(256, 128, kernel_size=(1, 1), stride=(1, 1), bias=False)\n",
       "        (bn1): BatchNorm2d(128, eps=1e-05, momentum=0.1, affine=True, track_running_stats=True)\n",
       "        (conv2): Conv2d(128, 128, kernel_size=(3, 3), stride=(2, 2), padding=(1, 1), bias=False)\n",
       "        (bn2): BatchNorm2d(128, eps=1e-05, momentum=0.1, affine=True, track_running_stats=True)\n",
       "        (conv3): Conv2d(128, 512, kernel_size=(1, 1), stride=(1, 1), bias=False)\n",
       "        (bn3): BatchNorm2d(512, eps=1e-05, momentum=0.1, affine=True, track_running_stats=True)\n",
       "        (relu): ReLU(inplace=True)\n",
       "        (downsample): Sequential(\n",
       "          (0): Conv2d(256, 512, kernel_size=(1, 1), stride=(2, 2), bias=False)\n",
       "          (1): BatchNorm2d(512, eps=1e-05, momentum=0.1, affine=True, track_running_stats=True)\n",
       "        )\n",
       "      )\n",
       "      (1): Bottleneck(\n",
       "        (conv1): Conv2d(512, 128, kernel_size=(1, 1), stride=(1, 1), bias=False)\n",
       "        (bn1): BatchNorm2d(128, eps=1e-05, momentum=0.1, affine=True, track_running_stats=True)\n",
       "        (conv2): Conv2d(128, 128, kernel_size=(3, 3), stride=(1, 1), padding=(1, 1), bias=False)\n",
       "        (bn2): BatchNorm2d(128, eps=1e-05, momentum=0.1, affine=True, track_running_stats=True)\n",
       "        (conv3): Conv2d(128, 512, kernel_size=(1, 1), stride=(1, 1), bias=False)\n",
       "        (bn3): BatchNorm2d(512, eps=1e-05, momentum=0.1, affine=True, track_running_stats=True)\n",
       "        (relu): ReLU(inplace=True)\n",
       "      )\n",
       "      (2): Bottleneck(\n",
       "        (conv1): Conv2d(512, 128, kernel_size=(1, 1), stride=(1, 1), bias=False)\n",
       "        (bn1): BatchNorm2d(128, eps=1e-05, momentum=0.1, affine=True, track_running_stats=True)\n",
       "        (conv2): Conv2d(128, 128, kernel_size=(3, 3), stride=(1, 1), padding=(1, 1), bias=False)\n",
       "        (bn2): BatchNorm2d(128, eps=1e-05, momentum=0.1, affine=True, track_running_stats=True)\n",
       "        (conv3): Conv2d(128, 512, kernel_size=(1, 1), stride=(1, 1), bias=False)\n",
       "        (bn3): BatchNorm2d(512, eps=1e-05, momentum=0.1, affine=True, track_running_stats=True)\n",
       "        (relu): ReLU(inplace=True)\n",
       "      )\n",
       "      (3): Bottleneck(\n",
       "        (conv1): Conv2d(512, 128, kernel_size=(1, 1), stride=(1, 1), bias=False)\n",
       "        (bn1): BatchNorm2d(128, eps=1e-05, momentum=0.1, affine=True, track_running_stats=True)\n",
       "        (conv2): Conv2d(128, 128, kernel_size=(3, 3), stride=(1, 1), padding=(1, 1), bias=False)\n",
       "        (bn2): BatchNorm2d(128, eps=1e-05, momentum=0.1, affine=True, track_running_stats=True)\n",
       "        (conv3): Conv2d(128, 512, kernel_size=(1, 1), stride=(1, 1), bias=False)\n",
       "        (bn3): BatchNorm2d(512, eps=1e-05, momentum=0.1, affine=True, track_running_stats=True)\n",
       "        (relu): ReLU(inplace=True)\n",
       "      )\n",
       "    )\n",
       "    (6): Sequential(\n",
       "      (0): Bottleneck(\n",
       "        (conv1): Conv2d(512, 256, kernel_size=(1, 1), stride=(1, 1), bias=False)\n",
       "        (bn1): BatchNorm2d(256, eps=1e-05, momentum=0.1, affine=True, track_running_stats=True)\n",
       "        (conv2): Conv2d(256, 256, kernel_size=(3, 3), stride=(2, 2), padding=(1, 1), bias=False)\n",
       "        (bn2): BatchNorm2d(256, eps=1e-05, momentum=0.1, affine=True, track_running_stats=True)\n",
       "        (conv3): Conv2d(256, 1024, kernel_size=(1, 1), stride=(1, 1), bias=False)\n",
       "        (bn3): BatchNorm2d(1024, eps=1e-05, momentum=0.1, affine=True, track_running_stats=True)\n",
       "        (relu): ReLU(inplace=True)\n",
       "        (downsample): Sequential(\n",
       "          (0): Conv2d(512, 1024, kernel_size=(1, 1), stride=(2, 2), bias=False)\n",
       "          (1): BatchNorm2d(1024, eps=1e-05, momentum=0.1, affine=True, track_running_stats=True)\n",
       "        )\n",
       "      )\n",
       "      (1): Bottleneck(\n",
       "        (conv1): Conv2d(1024, 256, kernel_size=(1, 1), stride=(1, 1), bias=False)\n",
       "        (bn1): BatchNorm2d(256, eps=1e-05, momentum=0.1, affine=True, track_running_stats=True)\n",
       "        (conv2): Conv2d(256, 256, kernel_size=(3, 3), stride=(1, 1), padding=(1, 1), bias=False)\n",
       "        (bn2): BatchNorm2d(256, eps=1e-05, momentum=0.1, affine=True, track_running_stats=True)\n",
       "        (conv3): Conv2d(256, 1024, kernel_size=(1, 1), stride=(1, 1), bias=False)\n",
       "        (bn3): BatchNorm2d(1024, eps=1e-05, momentum=0.1, affine=True, track_running_stats=True)\n",
       "        (relu): ReLU(inplace=True)\n",
       "      )\n",
       "      (2): Bottleneck(\n",
       "        (conv1): Conv2d(1024, 256, kernel_size=(1, 1), stride=(1, 1), bias=False)\n",
       "        (bn1): BatchNorm2d(256, eps=1e-05, momentum=0.1, affine=True, track_running_stats=True)\n",
       "        (conv2): Conv2d(256, 256, kernel_size=(3, 3), stride=(1, 1), padding=(1, 1), bias=False)\n",
       "        (bn2): BatchNorm2d(256, eps=1e-05, momentum=0.1, affine=True, track_running_stats=True)\n",
       "        (conv3): Conv2d(256, 1024, kernel_size=(1, 1), stride=(1, 1), bias=False)\n",
       "        (bn3): BatchNorm2d(1024, eps=1e-05, momentum=0.1, affine=True, track_running_stats=True)\n",
       "        (relu): ReLU(inplace=True)\n",
       "      )\n",
       "      (3): Bottleneck(\n",
       "        (conv1): Conv2d(1024, 256, kernel_size=(1, 1), stride=(1, 1), bias=False)\n",
       "        (bn1): BatchNorm2d(256, eps=1e-05, momentum=0.1, affine=True, track_running_stats=True)\n",
       "        (conv2): Conv2d(256, 256, kernel_size=(3, 3), stride=(1, 1), padding=(1, 1), bias=False)\n",
       "        (bn2): BatchNorm2d(256, eps=1e-05, momentum=0.1, affine=True, track_running_stats=True)\n",
       "        (conv3): Conv2d(256, 1024, kernel_size=(1, 1), stride=(1, 1), bias=False)\n",
       "        (bn3): BatchNorm2d(1024, eps=1e-05, momentum=0.1, affine=True, track_running_stats=True)\n",
       "        (relu): ReLU(inplace=True)\n",
       "      )\n",
       "      (4): Bottleneck(\n",
       "        (conv1): Conv2d(1024, 256, kernel_size=(1, 1), stride=(1, 1), bias=False)\n",
       "        (bn1): BatchNorm2d(256, eps=1e-05, momentum=0.1, affine=True, track_running_stats=True)\n",
       "        (conv2): Conv2d(256, 256, kernel_size=(3, 3), stride=(1, 1), padding=(1, 1), bias=False)\n",
       "        (bn2): BatchNorm2d(256, eps=1e-05, momentum=0.1, affine=True, track_running_stats=True)\n",
       "        (conv3): Conv2d(256, 1024, kernel_size=(1, 1), stride=(1, 1), bias=False)\n",
       "        (bn3): BatchNorm2d(1024, eps=1e-05, momentum=0.1, affine=True, track_running_stats=True)\n",
       "        (relu): ReLU(inplace=True)\n",
       "      )\n",
       "      (5): Bottleneck(\n",
       "        (conv1): Conv2d(1024, 256, kernel_size=(1, 1), stride=(1, 1), bias=False)\n",
       "        (bn1): BatchNorm2d(256, eps=1e-05, momentum=0.1, affine=True, track_running_stats=True)\n",
       "        (conv2): Conv2d(256, 256, kernel_size=(3, 3), stride=(1, 1), padding=(1, 1), bias=False)\n",
       "        (bn2): BatchNorm2d(256, eps=1e-05, momentum=0.1, affine=True, track_running_stats=True)\n",
       "        (conv3): Conv2d(256, 1024, kernel_size=(1, 1), stride=(1, 1), bias=False)\n",
       "        (bn3): BatchNorm2d(1024, eps=1e-05, momentum=0.1, affine=True, track_running_stats=True)\n",
       "        (relu): ReLU(inplace=True)\n",
       "      )\n",
       "    )\n",
       "    (7): Sequential(\n",
       "      (0): Bottleneck(\n",
       "        (conv1): Conv2d(1024, 512, kernel_size=(1, 1), stride=(1, 1), bias=False)\n",
       "        (bn1): BatchNorm2d(512, eps=1e-05, momentum=0.1, affine=True, track_running_stats=True)\n",
       "        (conv2): Conv2d(512, 512, kernel_size=(3, 3), stride=(2, 2), padding=(1, 1), bias=False)\n",
       "        (bn2): BatchNorm2d(512, eps=1e-05, momentum=0.1, affine=True, track_running_stats=True)\n",
       "        (conv3): Conv2d(512, 2048, kernel_size=(1, 1), stride=(1, 1), bias=False)\n",
       "        (bn3): BatchNorm2d(2048, eps=1e-05, momentum=0.1, affine=True, track_running_stats=True)\n",
       "        (relu): ReLU(inplace=True)\n",
       "        (downsample): Sequential(\n",
       "          (0): Conv2d(1024, 2048, kernel_size=(1, 1), stride=(2, 2), bias=False)\n",
       "          (1): BatchNorm2d(2048, eps=1e-05, momentum=0.1, affine=True, track_running_stats=True)\n",
       "        )\n",
       "      )\n",
       "      (1): Bottleneck(\n",
       "        (conv1): Conv2d(2048, 512, kernel_size=(1, 1), stride=(1, 1), bias=False)\n",
       "        (bn1): BatchNorm2d(512, eps=1e-05, momentum=0.1, affine=True, track_running_stats=True)\n",
       "        (conv2): Conv2d(512, 512, kernel_size=(3, 3), stride=(1, 1), padding=(1, 1), bias=False)\n",
       "        (bn2): BatchNorm2d(512, eps=1e-05, momentum=0.1, affine=True, track_running_stats=True)\n",
       "        (conv3): Conv2d(512, 2048, kernel_size=(1, 1), stride=(1, 1), bias=False)\n",
       "        (bn3): BatchNorm2d(2048, eps=1e-05, momentum=0.1, affine=True, track_running_stats=True)\n",
       "        (relu): ReLU(inplace=True)\n",
       "      )\n",
       "      (2): Bottleneck(\n",
       "        (conv1): Conv2d(2048, 512, kernel_size=(1, 1), stride=(1, 1), bias=False)\n",
       "        (bn1): BatchNorm2d(512, eps=1e-05, momentum=0.1, affine=True, track_running_stats=True)\n",
       "        (conv2): Conv2d(512, 512, kernel_size=(3, 3), stride=(1, 1), padding=(1, 1), bias=False)\n",
       "        (bn2): BatchNorm2d(512, eps=1e-05, momentum=0.1, affine=True, track_running_stats=True)\n",
       "        (conv3): Conv2d(512, 2048, kernel_size=(1, 1), stride=(1, 1), bias=False)\n",
       "        (bn3): BatchNorm2d(2048, eps=1e-05, momentum=0.1, affine=True, track_running_stats=True)\n",
       "        (relu): ReLU(inplace=True)\n",
       "      )\n",
       "    )\n",
       "    (8): AdaptiveAvgPool2d(output_size=(1, 1))\n",
       "    (9): LazyLinear(in_features=0, out_features=32, bias=True)\n",
       "  )\n",
       "  (features): Sequential(\n",
       "    (0): Linear(in_features=222, out_features=128, bias=True)\n",
       "    (1): ReLU()\n",
       "    (2): LazyLinear(in_features=0, out_features=128, bias=True)\n",
       "    (3): ReLU()\n",
       "    (4): LazyLinear(in_features=0, out_features=64, bias=True)\n",
       "  )\n",
       "  (combined_features): Sequential(\n",
       "    (0): LazyLinear(in_features=0, out_features=64, bias=True)\n",
       "    (1): ReLU()\n",
       "    (2): Linear(in_features=64, out_features=64, bias=True)\n",
       "    (3): ReLU()\n",
       "    (4): Linear(in_features=64, out_features=6, bias=True)\n",
       "  )\n",
       ")"
      ]
     },
     "execution_count": 17,
     "metadata": {},
     "output_type": "execute_result"
    }
   ],
   "source": [
    "\n",
    "model = MixedNetworkResnet()\n",
    "model"
   ]
  },
  {
   "cell_type": "markdown",
   "id": "3bfd6c6e",
   "metadata": {
    "papermill": {
     "duration": 0.013474,
     "end_time": "2024-02-07T21:28:55.352722",
     "exception": false,
     "start_time": "2024-02-07T21:28:55.339248",
     "status": "completed"
    },
    "tags": []
   },
   "source": [
    "# Data"
   ]
  },
  {
   "cell_type": "code",
   "execution_count": 18,
   "id": "98d371a8",
   "metadata": {
    "execution": {
     "iopub.execute_input": "2024-02-07T21:28:55.381875Z",
     "iopub.status.busy": "2024-02-07T21:28:55.381058Z",
     "iopub.status.idle": "2024-02-07T21:28:56.210764Z",
     "shell.execute_reply": "2024-02-07T21:28:56.209956Z"
    },
    "papermill": {
     "duration": 0.846696,
     "end_time": "2024-02-07T21:28:56.213114",
     "exception": false,
     "start_time": "2024-02-07T21:28:55.366418",
     "status": "completed"
    },
    "tags": []
   },
   "outputs": [],
   "source": [
    "from sklearn.model_selection import train_test_split\n",
    "x_train, x_valid, y_train, y_valid = train_test_split(X_train, Y_train, test_size=0.2, random_state=42, stratify=Y_train)"
   ]
  },
  {
   "cell_type": "code",
   "execution_count": 19,
   "id": "621aa69c",
   "metadata": {
    "execution": {
     "iopub.execute_input": "2024-02-07T21:28:56.244082Z",
     "iopub.status.busy": "2024-02-07T21:28:56.243273Z",
     "iopub.status.idle": "2024-02-07T21:28:56.248281Z",
     "shell.execute_reply": "2024-02-07T21:28:56.247445Z"
    },
    "papermill": {
     "duration": 0.022821,
     "end_time": "2024-02-07T21:28:56.250367",
     "exception": false,
     "start_time": "2024-02-07T21:28:56.227546",
     "status": "completed"
    },
    "tags": []
   },
   "outputs": [],
   "source": [
    "reduce = False\n",
    "if reduce:\n",
    "    x_train = x_train[:1000]\n",
    "    y_train = y_train[:1000]\n",
    "    x_valid = x_valid[:1000]\n",
    "    y_valid = y_valid[:1000]\n",
    "    X_test = X_test[:1000]\n"
   ]
  },
  {
   "cell_type": "code",
   "execution_count": 20,
   "id": "acb3f35c",
   "metadata": {
    "execution": {
     "iopub.execute_input": "2024-02-07T21:28:56.278470Z",
     "iopub.status.busy": "2024-02-07T21:28:56.278211Z",
     "iopub.status.idle": "2024-02-07T21:28:56.282405Z",
     "shell.execute_reply": "2024-02-07T21:28:56.281655Z"
    },
    "papermill": {
     "duration": 0.020261,
     "end_time": "2024-02-07T21:28:56.284223",
     "exception": false,
     "start_time": "2024-02-07T21:28:56.263962",
     "status": "completed"
    },
    "tags": []
   },
   "outputs": [],
   "source": [
    "real_train_dataset = CustomDataset(X_train, Y_train, \"/kaggle/input/2el1730-images/2EL1730-CS/img/train\", preprocess=True)"
   ]
  },
  {
   "cell_type": "code",
   "execution_count": 21,
   "id": "708b6781",
   "metadata": {
    "execution": {
     "iopub.execute_input": "2024-02-07T21:28:56.312376Z",
     "iopub.status.busy": "2024-02-07T21:28:56.312123Z",
     "iopub.status.idle": "2024-02-07T21:28:56.322901Z",
     "shell.execute_reply": "2024-02-07T21:28:56.322216Z"
    },
    "papermill": {
     "duration": 0.026863,
     "end_time": "2024-02-07T21:28:56.324650",
     "exception": false,
     "start_time": "2024-02-07T21:28:56.297787",
     "status": "completed"
    },
    "tags": []
   },
   "outputs": [],
   "source": [
    "train_dataset = CustomDataset(x_train, y_train, \"/kaggle/input/2el1730-images/2EL1730-CS/img/train\", preprocess=True)\n",
    "valid_dataset = CustomDataset(x_valid, y_valid, \"/kaggle/input/2el1730-images/2EL1730-CS/img/train\", preprocess=True)\n",
    "test_dataset = CustomDataset(X_test, [0 for i in range(len(X_test))], \"/kaggle/input/2el1730-images/2EL1730-CS/img/test\", preprocess=True)"
   ]
  },
  {
   "cell_type": "code",
   "execution_count": 22,
   "id": "94788914",
   "metadata": {
    "execution": {
     "iopub.execute_input": "2024-02-07T21:28:56.352886Z",
     "iopub.status.busy": "2024-02-07T21:28:56.352587Z",
     "iopub.status.idle": "2024-02-07T21:28:56.361391Z",
     "shell.execute_reply": "2024-02-07T21:28:56.360595Z"
    },
    "papermill": {
     "duration": 0.02511,
     "end_time": "2024-02-07T21:28:56.363325",
     "exception": false,
     "start_time": "2024-02-07T21:28:56.338215",
     "status": "completed"
    },
    "tags": []
   },
   "outputs": [
    {
     "data": {
      "text/plain": [
       "array([-3.71883899e-01, -1.25037774e-01,  1.45390403e+00, -6.05429053e-01,\n",
       "       -6.03712618e-01, -2.75929540e-01, -8.07117283e-01, -4.51800019e-01,\n",
       "       -1.54391631e-01, -5.98477870e-02,  2.65110564e+00, -1.49845868e-01,\n",
       "        6.19473934e-01,  1.91770494e+00, -1.46011263e-01, -5.85553765e-01,\n",
       "       -4.34881240e-01, -9.33352858e-03,  2.89307147e-01, -8.21207821e-01,\n",
       "        1.12322795e+00, -7.93818891e-01,  6.84644520e-01,  1.59421682e-01,\n",
       "       -5.31763852e-01,  1.23603487e+00, -7.41214991e-01,  2.29958445e-01,\n",
       "        1.65763676e-01, -6.55862093e-01,  3.98914993e-01, -8.55486751e-01,\n",
       "        3.84983164e-03, -6.89185560e-01,  7.04278231e-01, -1.54540193e+00,\n",
       "       -2.87559628e-01,  1.81166828e-01, -5.90023339e-01,  5.62671185e-01,\n",
       "       -1.49417174e+00, -3.26084375e-01,  2.15538517e-01, -5.28402984e-01,\n",
       "        7.25789011e-01, -1.41695523e+00, -3.70109975e-01,  3.08921695e-01,\n",
       "        1.42485142e+00,  1.33365035e+00, -1.01127160e+00, -1.33916688e+00,\n",
       "       -1.78796375e+00, -4.53439802e-02, -2.35079437e-01, -1.70147419e-01,\n",
       "       -4.47235815e-02, -6.10483348e-01, -6.83261633e-01, -1.38948396e-01,\n",
       "       -9.47074816e-02, -5.59781045e-02,  1.55352056e+00, -2.97755063e-01,\n",
       "       -3.39897901e-01, -1.56789705e-01, -5.34648299e-02, -5.38685441e-01,\n",
       "       -6.27182841e-01, -1.52292281e-01, -9.71987844e-02, -6.33890480e-02,\n",
       "        1.76435065e+00, -5.05525947e-01, -3.88740450e-01, -1.52724206e-01,\n",
       "       -6.02131672e-02, -4.39956903e-01,  1.77957392e+00, -1.60722449e-01,\n",
       "       -9.71480384e-02, -7.67305568e-02, -4.91338670e-01, -7.67211139e-01,\n",
       "       -3.89622480e-01, -1.36458069e-01, -6.40017986e-02, -3.20898712e-01,\n",
       "        2.04737616e+00, -1.70831263e-01, -9.11715403e-02, -9.31871906e-02,\n",
       "       -4.07442957e-01, -1.16340017e+00, -2.85752714e-01, -1.02150865e-01,\n",
       "       -5.80078512e-02, -2.37226546e-01,  2.55230379e+00, -1.72727287e-01,\n",
       "       -7.49882683e-02, -1.08925268e-01, -3.35768282e-01, -2.05727148e+00,\n",
       "       -1.66323110e-01, -2.96705127e+00, -2.63228267e-01, -2.84083158e-01,\n",
       "        3.97128910e-01, -1.11762202e+00,  1.95368528e+00, -1.86987782e+00,\n",
       "        1.49574947e+00,  6.98043257e-02, -6.87255681e-01,  1.74095726e+00,\n",
       "       -1.91463685e+00,  9.83513296e-01, -1.57210708e-01, -8.06551337e-01,\n",
       "        1.02534127e+00, -1.21968091e+00,  8.79315078e-01,  7.86865294e-01,\n",
       "        1.23713565e+00, -2.07423210e+00,  1.12867343e+00,  4.26903665e-01,\n",
       "        7.28463054e-01,  1.02536619e+00, -1.87781870e+00,  1.03098691e+00,\n",
       "        4.87715036e-01,  7.51633763e-01,  1.11600089e+00, -1.94832361e+00,\n",
       "        9.18982029e-01,  6.09707594e-01, -1.19362915e+00,  6.80884480e-01,\n",
       "       -9.29091394e-01,  3.08881313e-01, -7.24586725e-01,  1.35901558e+00,\n",
       "        3.31869960e-01, -5.31377316e-01,  2.33633471e+00, -1.14299369e+00,\n",
       "        1.54870427e+00,  5.47228083e-02, -3.45576078e-01,  2.10741591e+00,\n",
       "       -1.19316554e+00,  1.03054094e+00, -1.36811525e-01, -4.02071506e-01,\n",
       "        1.23739088e+00, -7.48622715e-01,  9.34930027e-01,  6.70800149e-01,\n",
       "        5.67640841e-01, -2.37990355e+00,  7.13875532e-01,  4.18354690e-01,\n",
       "        6.25819445e-01,  4.67560023e-01, -2.15585732e+00,  6.49450898e-01,\n",
       "        4.79615510e-01,  6.48919761e-01,  5.14697611e-01, -2.23088026e+00,\n",
       "        5.75541317e-01,  6.05992377e-01, -1.80284286e+00, -1.57707334e-01,\n",
       "       -3.12171912e+00, -2.34990045e-01, -2.49833941e-01, -9.47984755e-02,\n",
       "       -1.05952576e-01, -1.15061104e-01, -1.45170689e-01, -1.50830448e-02,\n",
       "       -5.62168323e-02, -2.01509580e-01, -2.09264040e-01,  9.78450477e-01,\n",
       "       -4.15422618e-02, -1.09718554e-01, -2.48670727e-01, -3.62376720e-02,\n",
       "       -4.16143894e-01, -1.11311257e-01, -6.04353845e-02, -1.54006919e-02,\n",
       "       -4.36237901e-02, -1.54941082e-01, -8.15748423e-02, -7.76662380e-02,\n",
       "       -8.17849860e-02, -5.48134930e-02, -1.70515954e-01, -1.03949487e-01,\n",
       "       -1.38540760e-01, -9.03041065e-02, -1.00354524e-02, -5.59395738e-02,\n",
       "       -3.62239271e-01, -3.62239271e-01, -3.98055613e-01, -5.45893721e-02,\n",
       "       -9.06140078e-03, -5.76754063e-02,  5.97186923e-01, -3.29065486e-03,\n",
       "        2.83857793e-01,  2.83857793e-01, -5.58267944e-02, -4.59793359e-01,\n",
       "        2.55882591e-01,  5.37166119e-01,  2.25633000e+05], dtype=float32)"
      ]
     },
     "execution_count": 22,
     "metadata": {},
     "output_type": "execute_result"
    }
   ],
   "source": [
    "x_valid[1]"
   ]
  },
  {
   "cell_type": "markdown",
   "id": "488bb535",
   "metadata": {
    "papermill": {
     "duration": 0.013947,
     "end_time": "2024-02-07T21:28:56.431956",
     "exception": false,
     "start_time": "2024-02-07T21:28:56.418009",
     "status": "completed"
    },
    "tags": []
   },
   "source": [
    "# Weighted random sampler"
   ]
  },
  {
   "cell_type": "code",
   "execution_count": 23,
   "id": "cfb8d9f8",
   "metadata": {
    "execution": {
     "iopub.execute_input": "2024-02-07T21:28:56.461041Z",
     "iopub.status.busy": "2024-02-07T21:28:56.460684Z",
     "iopub.status.idle": "2024-02-07T21:28:56.468056Z",
     "shell.execute_reply": "2024-02-07T21:28:56.467297Z"
    },
    "papermill": {
     "duration": 0.02414,
     "end_time": "2024-02-07T21:28:56.469971",
     "exception": false,
     "start_time": "2024-02-07T21:28:56.445831",
     "status": "completed"
    },
    "tags": []
   },
   "outputs": [],
   "source": [
    "class_counts = np.unique(Y_train, return_counts=True)[1]"
   ]
  },
  {
   "cell_type": "code",
   "execution_count": 24,
   "id": "31ab5332",
   "metadata": {
    "execution": {
     "iopub.execute_input": "2024-02-07T21:28:56.498599Z",
     "iopub.status.busy": "2024-02-07T21:28:56.498284Z",
     "iopub.status.idle": "2024-02-07T21:28:56.503768Z",
     "shell.execute_reply": "2024-02-07T21:28:56.502965Z"
    },
    "papermill": {
     "duration": 0.021916,
     "end_time": "2024-02-07T21:28:56.505637",
     "exception": false,
     "start_time": "2024-02-07T21:28:56.483721",
     "status": "completed"
    },
    "tags": []
   },
   "outputs": [
    {
     "data": {
      "text/plain": [
       "array([ 31156,  14190, 146453,  99500,   1310,    149])"
      ]
     },
     "execution_count": 24,
     "metadata": {},
     "output_type": "execute_result"
    }
   ],
   "source": [
    "class_counts"
   ]
  },
  {
   "cell_type": "code",
   "execution_count": 25,
   "id": "9e8a2507",
   "metadata": {
    "execution": {
     "iopub.execute_input": "2024-02-07T21:28:56.534630Z",
     "iopub.status.busy": "2024-02-07T21:28:56.534305Z",
     "iopub.status.idle": "2024-02-07T21:28:56.542958Z",
     "shell.execute_reply": "2024-02-07T21:28:56.542093Z"
    },
    "papermill": {
     "duration": 0.025147,
     "end_time": "2024-02-07T21:28:56.544797",
     "exception": false,
     "start_time": "2024-02-07T21:28:56.519650",
     "status": "completed"
    },
    "tags": []
   },
   "outputs": [
    {
     "data": {
      "text/plain": [
       "array([ 24925,  11352, 117162,  79600,   1048,    119])"
      ]
     },
     "execution_count": 25,
     "metadata": {},
     "output_type": "execute_result"
    }
   ],
   "source": [
    "np.unique(y_train, return_counts=True)[1]"
   ]
  },
  {
   "cell_type": "code",
   "execution_count": 26,
   "id": "a4100211",
   "metadata": {
    "execution": {
     "iopub.execute_input": "2024-02-07T21:28:56.573834Z",
     "iopub.status.busy": "2024-02-07T21:28:56.573483Z",
     "iopub.status.idle": "2024-02-07T21:28:56.580749Z",
     "shell.execute_reply": "2024-02-07T21:28:56.579909Z"
    },
    "papermill": {
     "duration": 0.023789,
     "end_time": "2024-02-07T21:28:56.582605",
     "exception": false,
     "start_time": "2024-02-07T21:28:56.558816",
     "status": "completed"
    },
    "tags": []
   },
   "outputs": [
    {
     "data": {
      "text/plain": [
       "array([ 6231,  2838, 29291, 19900,   262,    30])"
      ]
     },
     "execution_count": 26,
     "metadata": {},
     "output_type": "execute_result"
    }
   ],
   "source": [
    "np.unique(y_valid, return_counts=True)[1]"
   ]
  },
  {
   "cell_type": "code",
   "execution_count": 27,
   "id": "562493c1",
   "metadata": {
    "execution": {
     "iopub.execute_input": "2024-02-07T21:28:56.612914Z",
     "iopub.status.busy": "2024-02-07T21:28:56.612184Z",
     "iopub.status.idle": "2024-02-07T21:28:56.616586Z",
     "shell.execute_reply": "2024-02-07T21:28:56.615614Z"
    },
    "papermill": {
     "duration": 0.021671,
     "end_time": "2024-02-07T21:28:56.618466",
     "exception": false,
     "start_time": "2024-02-07T21:28:56.596795",
     "status": "completed"
    },
    "tags": []
   },
   "outputs": [],
   "source": [
    "class_weights = [1/class_counts[i] for i in range(6)]"
   ]
  },
  {
   "cell_type": "code",
   "execution_count": 28,
   "id": "ccd61418",
   "metadata": {
    "execution": {
     "iopub.execute_input": "2024-02-07T21:28:56.648477Z",
     "iopub.status.busy": "2024-02-07T21:28:56.647954Z",
     "iopub.status.idle": "2024-02-07T21:28:56.653480Z",
     "shell.execute_reply": "2024-02-07T21:28:56.652661Z"
    },
    "papermill": {
     "duration": 0.022758,
     "end_time": "2024-02-07T21:28:56.655580",
     "exception": false,
     "start_time": "2024-02-07T21:28:56.632822",
     "status": "completed"
    },
    "tags": []
   },
   "outputs": [
    {
     "data": {
      "text/plain": [
       "'\\nfrom torch.utils.data import WeightedRandomSampler\\n\\nsampler_train = WeightedRandomSampler(weights=[class_weights[i] for i in y_train], num_samples=len(train_dataset), replacement=True)\\nsampler_valid = WeightedRandomSampler(weights=[class_weights[i] for i in y_valid], num_samples=len(valid_dataset), replacement=True)\\n'"
      ]
     },
     "execution_count": 28,
     "metadata": {},
     "output_type": "execute_result"
    }
   ],
   "source": [
    "\"\"\"\n",
    "from torch.utils.data import WeightedRandomSampler\n",
    "\n",
    "sampler_train = WeightedRandomSampler(weights=[class_weights[i] for i in y_train], num_samples=len(train_dataset), replacement=True)\n",
    "sampler_valid = WeightedRandomSampler(weights=[class_weights[i] for i in y_valid], num_samples=len(valid_dataset), replacement=True)\n",
    "\"\"\""
   ]
  },
  {
   "cell_type": "code",
   "execution_count": 29,
   "id": "a9fd1261",
   "metadata": {
    "execution": {
     "iopub.execute_input": "2024-02-07T21:28:56.685272Z",
     "iopub.status.busy": "2024-02-07T21:28:56.684989Z",
     "iopub.status.idle": "2024-02-07T21:28:56.691191Z",
     "shell.execute_reply": "2024-02-07T21:28:56.690286Z"
    },
    "papermill": {
     "duration": 0.023343,
     "end_time": "2024-02-07T21:28:56.693039",
     "exception": false,
     "start_time": "2024-02-07T21:28:56.669696",
     "status": "completed"
    },
    "tags": []
   },
   "outputs": [
    {
     "data": {
      "text/plain": [
       "array([  3.20965464,   7.04721635,   0.68281292,   1.00502513,\n",
       "        76.33587786, 671.1409396 ])"
      ]
     },
     "execution_count": 29,
     "metadata": {},
     "output_type": "execute_result"
    }
   ],
   "source": [
    "class_weights = np.array(class_weights)\n",
    "class_weights*100000"
   ]
  },
  {
   "cell_type": "code",
   "execution_count": 30,
   "id": "b17a155d",
   "metadata": {
    "execution": {
     "iopub.execute_input": "2024-02-07T21:28:56.723024Z",
     "iopub.status.busy": "2024-02-07T21:28:56.722727Z",
     "iopub.status.idle": "2024-02-07T21:28:56.727856Z",
     "shell.execute_reply": "2024-02-07T21:28:56.727002Z"
    },
    "papermill": {
     "duration": 0.022241,
     "end_time": "2024-02-07T21:28:56.729685",
     "exception": false,
     "start_time": "2024-02-07T21:28:56.707444",
     "status": "completed"
    },
    "tags": []
   },
   "outputs": [],
   "source": [
    "BATCH_SIZE = 64\n",
    "train_dataloader = DataLoader(train_dataset, batch_size=BATCH_SIZE, num_workers=2, shuffle=True)#sampler=sampler_train)\n",
    "valid_dataloader = DataLoader(valid_dataset, batch_size=BATCH_SIZE, num_workers=2, shuffle=True)#sampler=sampler_valid)\n",
    "test_dataloader = DataLoader(test_dataset, batch_size=BATCH_SIZE, shuffle=False)"
   ]
  },
  {
   "cell_type": "code",
   "execution_count": 31,
   "id": "d8f25a23",
   "metadata": {
    "execution": {
     "iopub.execute_input": "2024-02-07T21:28:56.759226Z",
     "iopub.status.busy": "2024-02-07T21:28:56.758968Z",
     "iopub.status.idle": "2024-02-07T21:28:56.819715Z",
     "shell.execute_reply": "2024-02-07T21:28:56.818792Z"
    },
    "papermill": {
     "duration": 0.077738,
     "end_time": "2024-02-07T21:28:56.821642",
     "exception": false,
     "start_time": "2024-02-07T21:28:56.743904",
     "status": "completed"
    },
    "tags": []
   },
   "outputs": [
    {
     "data": {
      "text/plain": [
       "torch.Size([3, 224, 224])"
      ]
     },
     "execution_count": 31,
     "metadata": {},
     "output_type": "execute_result"
    }
   ],
   "source": [
    "inputs = train_dataset[0]\n",
    "images = inputs[\"image\"]\n",
    "features = inputs[\"features\"]\n",
    "labels = inputs[\"label\"]\n",
    "images.shape"
   ]
  },
  {
   "cell_type": "code",
   "execution_count": 32,
   "id": "621d0c0d",
   "metadata": {
    "execution": {
     "iopub.execute_input": "2024-02-07T21:28:56.852625Z",
     "iopub.status.busy": "2024-02-07T21:28:56.852305Z",
     "iopub.status.idle": "2024-02-08T01:11:03.850053Z",
     "shell.execute_reply": "2024-02-08T01:11:03.848923Z"
    },
    "papermill": {
     "duration": 13327.067411,
     "end_time": "2024-02-08T01:11:03.903784",
     "exception": false,
     "start_time": "2024-02-07T21:28:56.836373",
     "status": "completed"
    },
    "tags": []
   },
   "outputs": [
    {
     "name": "stdout",
     "output_type": "stream",
     "text": [
      "Train dataloader: 3660\n",
      "Valid dataloader: 915\n",
      "===== EPOCH 1 ====\n",
      "0 100 200 300 400 500 600 700 800 900 1000 1100 1200 1300 1400 1500 1600 1700 1800 1900 2000 2100 2200 2300 2400 2500 2600 2700 2800 2900 3000 3100 3200 3300 3400 3500 3600 Epoch 1/10, Loss: 1.2035, Accuracy: 0.4868\n",
      "F1 Score Micro: 0.4868, F1 Score Weighted: 0.4962\n",
      "[[22482   318  1034  1021    60    10]\n",
      " [  170  8425   955  1621   176     5]\n",
      " [ 7412 19055 59868 28905  1892    30]\n",
      " [ 5047 19876 30177 23215  1269    16]\n",
      " [   76   180   501   268    23     0]\n",
      " [   12    26    55    24     2     0]]\n",
      "Validation...\n",
      "0 100 200 300 400 500 600 700 800 900 Validation Accuracy: 0.6299, Validation F1 Score Micro: 0.6299, Validation F1 Score Weighted: 0.5745\n",
      "[[ 5844    32   312    34     1     8]\n",
      " [   26  1547   332   932     0     1]\n",
      " [ 1275   202 25884  1895     0    35]\n",
      " [  680   664 14912  3609     0    35]\n",
      " [   14     8   228    12     0     0]\n",
      " [    6     2    15     7     0     0]]\n",
      "===== EPOCH 2 ====\n",
      "0 100 200 300 400 500 600 700 800 900 1000 1100 1200 1300 1400 1500 1600 1700 1800 1900 2000 2100 2200 2300 2400 2500 2600 2700 2800 2900 3000 3100 3200 3300 3400 3500 3600 Epoch 2/10, Loss: 1.0074, Accuracy: 0.6238\n",
      "F1 Score Micro: 0.6238, F1 Score Weighted: 0.6279\n",
      "[[23365   221   608   583   148     0]\n",
      " [   93  9050   336  1839    15    19]\n",
      " [ 5738  4176 73988 30569  2689     2]\n",
      " [ 3184 10677 25065 39600  1072     2]\n",
      " [   59    54   623   216    96     0]\n",
      " [   10    16    46    41     6     0]]\n",
      "Validation...\n",
      "0 100 200 300 400 500 600 700 800 900 Validation Accuracy: 0.6012, Validation F1 Score Micro: 0.6012, Validation F1 Score Weighted: 0.6207\n",
      "[[ 5918    54    66   118    74     1]\n",
      " [   22  2476    45   290     4     1]\n",
      " [ 1322  1419 16808  7330  2412     0]\n",
      " [  733  3152  4785  9872  1357     1]\n",
      " [   17    11    63    43   128     0]\n",
      " [    3     7     6    13     1     0]]\n",
      "===== EPOCH 3 ====\n",
      "0 100 200 300 400 500 600 700 800 900 1000 1100 1200 1300 1400 1500 1600 1700 1800 1900 2000 2100 2200 2300 2400 2500 2600 2700 2800 2900 3000 3100 3200 3300 3400 3500 3600 Epoch 3/10, Loss: 0.9163, Accuracy: 0.6400\n",
      "F1 Score Micro: 0.6400, F1 Score Weighted: 0.6511\n",
      "[[23548   288   166   765   148    10]\n",
      " [   95  9302   229  1690    27     9]\n",
      " [ 5388  3683 72541 30886  4651    13]\n",
      " [ 2830  9568 19450 44054  3688    10]\n",
      " [   47    40   275   231   455     0]\n",
      " [   14    16    30    53     6     0]]\n",
      "Validation...\n",
      "0 100 200 300 400 500 600 700 800 900 Validation Accuracy: 0.6109, Validation F1 Score Micro: 0.6109, Validation F1 Score Weighted: 0.6383\n",
      "[[ 5910    53    46   178    44     0]\n",
      " [   17  2386    57   366    12     0]\n",
      " [ 1292   771 17254  5719  4255     0]\n",
      " [  660  1949  5366 10065  1860     0]\n",
      " [   13     8    41    45   155     0]\n",
      " [    3     4     2    18     3     0]]\n",
      "===== EPOCH 4 ====\n",
      "0 100 200 300 400 500 600 700 800 900 1000 1100 1200 1300 1400 1500 1600 1700 1800 1900 2000 2100 2200 2300 2400 2500 2600 2700 2800 2900 3000 3100 3200 3300 3400 3500 3600 Epoch 4/10, Loss: 0.8607, Accuracy: 0.6618\n",
      "F1 Score Micro: 0.6618, F1 Score Weighted: 0.6714\n",
      "[[23551   234   134   899   106     1]\n",
      " [   90  9456   195  1576    33     2]\n",
      " [ 5308  3113 73938 31528  3275     0]\n",
      " [ 2752  8369 17178 47526  3774     1]\n",
      " [   39    34   206   253   516     0]\n",
      " [   10    12    18    72     7     0]]\n",
      "Validation...\n",
      "0 100 200 300 400 500 600 700 800 900 Validation Accuracy: 0.6760, Validation F1 Score Micro: 0.6760, Validation F1 Score Weighted: 0.6800\n",
      "[[ 5904    56    64   169    38     0]\n",
      " [   16  2358    58   396    10     0]\n",
      " [ 1250   577 21122  5403   939     0]\n",
      " [  600  1569  6672 10057  1002     0]\n",
      " [   13    13    60    38   138     0]\n",
      " [    3     7     7    10     3     0]]\n",
      "===== EPOCH 5 ====\n",
      "0 100 200 300 400 500 600 700 800 900 1000 1100 1200 1300 1400 1500 1600 1700 1800 1900 2000 2100 2200 2300 2400 2500 2600 2700 2800 2900 3000 3100 3200 3300 3400 3500 3600 Epoch 5/10, Loss: 0.8464, Accuracy: 0.6696\n",
      "F1 Score Micro: 0.6696, F1 Score Weighted: 0.6787\n",
      "[[23747   196   110   776    95     1]\n",
      " [   95  9409   173  1633    35     7]\n",
      " [ 5434  2875 73724 32226  2899     4]\n",
      " [ 2891  7877 15736 49394  3696     6]\n",
      " [   37    35   169   261   546     0]\n",
      " [   14    14    16    68     7     0]]\n",
      "Validation...\n",
      "0 100 200 300 400 500 600 700 800 900 Validation Accuracy: 0.6923, Validation F1 Score Micro: 0.6923, Validation F1 Score Weighted: 0.6989\n",
      "[[ 5907    62    49   198    15     0]\n",
      " [   17  2229    51   535     6     0]\n",
      " [ 1257   523 19978  7021   512     0]\n",
      " [  615  1392  4700 12294   899     0]\n",
      " [   13    10    49    62   128     0]\n",
      " [    4     7     3    15     1     0]]\n",
      "===== EPOCH 6 ====\n",
      "0 100 200 300 400 500 600 700 800 900 1000 1100 1200 1300 1400 1500 1600 1700 1800 1900 2000 2100 2200 2300 2400 2500 2600 2700 2800 2900 3000 3100 3200 3300 3400 3500 3600 Epoch 6/10, Loss: 0.8244, Accuracy: 0.6719\n",
      "F1 Score Micro: 0.6719, F1 Score Weighted: 0.6819\n",
      "[[23687   193    97   860    88     0]\n",
      " [   90  9494   180  1544    44     0]\n",
      " [ 5376  2735 73415 32302  3334     0]\n",
      " [ 2758  7451 15119 50158  4114     0]\n",
      " [   37    22   139   248   602     0]\n",
      " [   16     8    11    77     7     0]]\n",
      "Validation...\n",
      "0 100 200 300 400 500 600 700 800 900 Validation Accuracy: 0.6775, Validation F1 Score Micro: 0.6775, Validation F1 Score Weighted: 0.6912\n",
      "[[ 5932    42    34   186    37     0]\n",
      " [   16  2277    35   490    20     0]\n",
      " [ 1258   470 18081  8338  1144     0]\n",
      " [  641  1235  3327 13226  1471     0]\n",
      " [   12     7    35    54   154     0]\n",
      " [    4     5     2    13     6     0]]\n",
      "===== EPOCH 7 ====\n",
      "0 100 200 300 400 500 600 700 800 900 1000 1100 1200 1300 1400 1500 1600 1700 1800 1900 2000 2100 2200 2300 2400 2500 2600 2700 2800 2900 3000 3100 3200 3300 3400 3500 3600 Epoch 7/10, Loss: 0.8152, Accuracy: 0.6669\n",
      "F1 Score Micro: 0.6669, F1 Score Weighted: 0.6782\n",
      "[[23683   273    92   788    89     0]\n",
      " [   89  9502   167  1546    48     0]\n",
      " [ 5484  2878 72321 32604  3875     0]\n",
      " [ 2971  7548 14490 50056  4535     0]\n",
      " [   38    18   125   227   640     0]\n",
      " [   18    10     8    72    11     0]]\n",
      "Validation...\n",
      "0 100 200 300 400 500 600 700 800 900 Validation Accuracy: 0.6934, Validation F1 Score Micro: 0.6934, Validation F1 Score Weighted: 0.6992\n",
      "[[ 5902    67    36   210    16     0]\n",
      " [   17  2306    41   467     7     0]\n",
      " [ 1294   525 19164  7911   397     0]\n",
      " [  715  1372  3991 13106   716     0]\n",
      " [   10     9    40    83   120     0]\n",
      " [    2     7     2    18     1     0]]\n",
      "===== EPOCH 8 ====\n",
      "0 100 200 300 400 500 600 700 800 900 1000 1100 1200 1300 1400 1500 1600 1700 1800 1900 2000 2100 2200 2300 2400 2500 2600 2700 2800 2900 3000 3100 3200 3300 3400 3500 3600 Epoch 8/10, Loss: 0.8044, Accuracy: 0.6740\n",
      "F1 Score Micro: 0.6740, F1 Score Weighted: 0.6842\n",
      "[[23415   271   109  1030   100     0]\n",
      " [   99  9573   171  1468    36     5]\n",
      " [ 5248  2637 74271 31867  3139     0]\n",
      " [ 2851  7098 15276 49934  4441     0]\n",
      " [   33    18   105   227   665     0]\n",
      " [   13     8    17    74     7     0]]\n",
      "Validation...\n",
      "0 100 200 300 400 500 600 700 800 900 Validation Accuracy: 0.6910, Validation F1 Score Micro: 0.6910, Validation F1 Score Weighted: 0.6963\n",
      "[[ 5897    52    39   231    12     0]\n",
      " [   14  2421    36   364     3     0]\n",
      " [ 1233   715 18983  8160   200     0]\n",
      " [  603  1726  3862 13040   669     0]\n",
      " [   11    10    62    59   120     0]\n",
      " [    3     7     3    16     1     0]]\n",
      "===== EPOCH 9 ====\n",
      "0 100 200 300 400 500 600 700 800 900 1000 1100 1200 1300 1400 1500 1600 1700 1800 1900 2000 2100 2200 2300 2400 2500 2600 2700 2800 2900 3000 3100 3200 3300 3400 3500 3600 Epoch 9/10, Loss: 0.7732, Accuracy: 0.6783\n",
      "F1 Score Micro: 0.6783, F1 Score Weighted: 0.6881\n",
      "[[23795   195    80   770    85     0]\n",
      " [   85  9634   148  1440    45     0]\n",
      " [ 5350  2643 73838 32422  2909     0]\n",
      " [ 2846  6944 14370 50932  4508     0]\n",
      " [   36    16   109   235   652     0]\n",
      " [   10     7     9    86     7     0]]\n",
      "Validation...\n",
      "0 100 200 300 400 500 600 700 800 900 Validation Accuracy: 0.6770, Validation F1 Score Micro: 0.6770, Validation F1 Score Weighted: 0.6864\n",
      "[[ 5925    83    36   169    18     0]\n",
      " [   15  2526    37   254     6     0]\n",
      " [ 1292   989 19114  7464   432     0]\n",
      " [  701  2472  3804 11936   987     0]\n",
      " [   12    13    45    53   139     0]\n",
      " [    4     6     3    16     1     0]]\n",
      "===== EPOCH 10 ====\n",
      "0 100 200 300 400 500 600 700 800 900 1000 1100 1200 1300 1400 1500 1600 1700 1800 1900 2000 2100 2200 2300 2400 2500 2600 2700 2800 2900 3000 3100 3200 3300 3400 3500 3600 Epoch 10/10, Loss: 0.7543, Accuracy: 0.6788\n",
      "F1 Score Micro: 0.6788, F1 Score Weighted: 0.6891\n",
      "[[23815   200    87   736    87     0]\n",
      " [   88  9666   158  1405    35     0]\n",
      " [ 5373  2533 74092 31930  3234     0]\n",
      " [ 2943  6791 14377 50694  4793     2]\n",
      " [   34    13   105   187   709     0]\n",
      " [   13     9     7    81     9     0]]\n",
      "Validation...\n",
      "0 100 200 300 400 500 600 700 800 900 Validation Accuracy: 0.6834, Validation F1 Score Micro: 0.6834, Validation F1 Score Weighted: 0.6905\n",
      "[[ 5949    51    29   182    20     0]\n",
      " [   15  2436    36   348     3     0]\n",
      " [ 1279   720 18078  8864   350     0]\n",
      " [  688  1767  3161 13410   874     0]\n",
      " [   11     9    40    62   140     0]\n",
      " [    3     7     4    14     2     0]]\n",
      "Training complete!\n"
     ]
    }
   ],
   "source": [
    "from sklearn.metrics import accuracy_score, f1_score, confusion_matrix\n",
    "\n",
    "# Training loop\n",
    "num_epochs = 10\n",
    "device = torch.device(\"cuda\" if torch.cuda.is_available() else \"cpu\")\n",
    "\n",
    "# Define loss function and optimizer\n",
    "criterion = nn.CrossEntropyLoss(weight=torch.FloatTensor([3.2, 7, 0.7, 1, 70, 300]).to(device))\n",
    "optimizer = optim.Adam(model.parameters(), lr=0.001)\n",
    "\n",
    "\n",
    "model.to(device)\n",
    "print(\"Train dataloader:\",len(train_dataloader))\n",
    "print(\"Valid dataloader:\", len(valid_dataloader))\n",
    "\n",
    "for epoch in range(num_epochs):\n",
    "    # Training phase\n",
    "    model.train()\n",
    "    total_loss = 0\n",
    "    total_correct = 0\n",
    "    total_samples = 0\n",
    "    \n",
    "    all_labels = []\n",
    "    all_predictions = []\n",
    "    \n",
    "    print(\"===== EPOCH\", (epoch+1), \"====\")\n",
    "    i = 0\n",
    "    for inputs in train_dataloader:\n",
    "        if i%100 == 0:\n",
    "            print(i, end=\" \")\n",
    "        i+=1\n",
    "        images = inputs[\"image\"].to(device)\n",
    "        features = inputs[\"features\"].to(device)\n",
    "        labels = inputs[\"label\"].to(device)\n",
    "        \n",
    "        optimizer.zero_grad()\n",
    "        \n",
    "        outputs = model(images, features)\n",
    "        loss = criterion(outputs, labels)\n",
    "        loss.backward()\n",
    "        optimizer.step()\n",
    "        \n",
    "        total_loss += loss.item()\n",
    "\n",
    "        _, predicted = torch.max(outputs, 1)\n",
    "        \n",
    "        total_samples += labels.size(0)\n",
    "        total_correct += (predicted == labels).sum().item()\n",
    "        \n",
    "        all_labels.extend(labels.cpu().numpy())\n",
    "        all_predictions.extend(predicted.cpu().numpy())\n",
    "        \n",
    "        \n",
    "    average_loss = total_loss / len(train_dataloader)\n",
    "    accuracy = total_correct / total_samples # accuracy_score(all_labels, all_predictions)\n",
    "    f1_score_micro = f1_score(all_labels, all_predictions, average='micro')\n",
    "    f1_score_weighted = f1_score(all_labels, all_predictions, average='weighted')\n",
    "\n",
    "    print(f\"Epoch {epoch+1}/{num_epochs}, Loss: {average_loss:.4f}, Accuracy: {accuracy:.4f}\")\n",
    "    print(f\"F1 Score Micro: {f1_score_micro:.4f}, F1 Score Weighted: {f1_score_weighted:.4f}\")\n",
    "    \n",
    "    train_conf_matrix = confusion_matrix(all_labels, all_predictions)\n",
    "    print(train_conf_matrix)\n",
    "    \n",
    "    # Validation phase\n",
    "    model.eval()\n",
    "    all_labels = []\n",
    "    all_predictions = []\n",
    "\n",
    "    with torch.no_grad():\n",
    "        print(\"Validation...\")\n",
    "        i = 0\n",
    "        for inputs in valid_dataloader:\n",
    "            if i%100 == 0:\n",
    "                print(i, end=\" \")\n",
    "            i += 1\n",
    "            images = inputs[\"image\"].to(device)\n",
    "            features = inputs[\"features\"].to(device)\n",
    "            labels = inputs[\"label\"].to(device)\n",
    "\n",
    "            outputs = model(images, features)\n",
    "            _, predicted = torch.max(outputs, 1)\n",
    "\n",
    "            all_labels.extend(labels.cpu().numpy())\n",
    "            all_predictions.extend(predicted.cpu().numpy())\n",
    "\n",
    "    val_accuracy = accuracy_score(all_labels, all_predictions)\n",
    "    val_f1_score_micro = f1_score(all_labels, all_predictions, average='micro')\n",
    "    val_f1_score_weighted = f1_score(all_labels, all_predictions, average='weighted')\n",
    "\n",
    "    print(f\"Validation Accuracy: {val_accuracy:.4f}, Validation F1 Score Micro: {val_f1_score_micro:.4f}, Validation F1 Score Weighted: {val_f1_score_weighted:.4f}\")\n",
    "\n",
    "    valid_conf_matrix = confusion_matrix(all_labels, all_predictions)\n",
    "    print(valid_conf_matrix)\n",
    "    \n",
    "print(\"Training complete!\")"
   ]
  },
  {
   "cell_type": "code",
   "execution_count": 33,
   "id": "6d10a05a",
   "metadata": {
    "execution": {
     "iopub.execute_input": "2024-02-08T01:11:04.009395Z",
     "iopub.status.busy": "2024-02-08T01:11:04.008512Z",
     "iopub.status.idle": "2024-02-08T01:31:09.916232Z",
     "shell.execute_reply": "2024-02-08T01:31:09.915423Z"
    },
    "papermill": {
     "duration": 1205.962839,
     "end_time": "2024-02-08T01:31:09.918697",
     "exception": false,
     "start_time": "2024-02-08T01:11:03.955858",
     "status": "completed"
    },
    "tags": []
   },
   "outputs": [],
   "source": [
    "\n",
    "# Validation phase\n",
    "\n",
    "model.eval()\n",
    "all_predictions = []\n",
    "\n",
    "with torch.no_grad():\n",
    "    for inputs in test_dataloader:\n",
    "\n",
    "        images = inputs[\"image\"].to(device)\n",
    "        features = inputs[\"features\"].to(device)\n",
    "\n",
    "        outputs = model(images, features)\n",
    "        _, predicted = torch.max(outputs, 1)\n",
    "\n",
    "        all_predictions.extend(predicted.cpu().numpy())\n",
    "\n",
    "\n",
    "pred_df = pd.DataFrame(all_predictions, columns=['change_type'])\n",
    "pred_df.to_csv(\"cnn_sample_submission.csv\", index=True, index_label='Id')\n"
   ]
  },
  {
   "cell_type": "code",
   "execution_count": 34,
   "id": "66e3c846",
   "metadata": {
    "execution": {
     "iopub.execute_input": "2024-02-08T01:31:10.035318Z",
     "iopub.status.busy": "2024-02-08T01:31:10.034961Z"
    },
    "papermill": {
     "duration": 6646.772813,
     "end_time": "2024-02-08T03:21:56.748213",
     "exception": false,
     "start_time": "2024-02-08T01:31:09.975400",
     "status": "completed"
    },
    "tags": []
   },
   "outputs": [
    {
     "name": "stdout",
     "output_type": "stream",
     "text": [
      "Computing IMG features for training 292758\n",
      "0\n",
      "1000\n",
      "2000\n",
      "3000\n",
      "4000\n",
      "5000\n",
      "6000\n",
      "7000\n",
      "8000\n",
      "9000\n",
      "10000\n",
      "11000\n",
      "12000\n",
      "13000\n",
      "14000\n",
      "15000\n",
      "16000\n",
      "17000\n",
      "18000\n",
      "19000\n",
      "20000\n",
      "21000\n",
      "22000\n",
      "23000\n",
      "24000\n",
      "25000\n",
      "26000\n",
      "27000\n",
      "28000\n",
      "29000\n",
      "30000\n",
      "31000\n",
      "32000\n",
      "33000\n",
      "34000\n",
      "35000\n",
      "36000\n",
      "37000\n",
      "38000\n",
      "39000\n",
      "40000\n",
      "41000\n",
      "42000\n",
      "43000\n",
      "44000\n",
      "45000\n",
      "46000\n",
      "47000\n",
      "48000\n",
      "49000\n",
      "50000\n",
      "51000\n",
      "52000\n",
      "53000\n",
      "54000\n",
      "55000\n",
      "56000\n",
      "57000\n",
      "58000\n",
      "59000\n",
      "60000\n"
     ]
    }
   ],
   "source": [
    "\n",
    "# Validation phase\n",
    "model.eval()\n",
    "all_features_train = []\n",
    "all_features_test = []\n",
    "\n",
    "with torch.no_grad():\n",
    "    print(\"Computing IMG features for training\", len(real_train_dataset))\n",
    "    for i in range(len(real_train_dataset)):\n",
    "        if i%1000 == 0:\n",
    "            print(i)\n",
    "\n",
    "        inputs = real_train_dataset[i]\n",
    "        images = inputs[\"image\"].to(device)\n",
    "        features = inputs[\"features\"].to(device)\n",
    "\n",
    "        outputs = model.extract_IMGfeatures(images.unsqueeze(0), features).cpu().numpy()\n",
    "        \n",
    "        all_features_train.extend(outputs)\n",
    "        \n",
    "        #if i > 10:\n",
    "        #    break\n",
    "    \n",
    "    \n",
    "    print(\"Computing IMG features for test\", len(test_dataset))\n",
    "    for i in range(len(test_dataset)):\n",
    "        if i%1000 == 0:\n",
    "            print(i)\n",
    "\n",
    "        inputs = test_dataset[i]\n",
    "        images = inputs[\"image\"].to(device)\n",
    "        features = inputs[\"features\"].to(device)\n",
    "        \n",
    "        outputs = model.extract_IMGfeatures(images.unsqueeze(0), features).cpu().numpy()\n",
    "        \n",
    "        all_features_test.extend(outputs)\n",
    "        \n",
    "        #print(outputs.shape)\n",
    "        #if i > 10:\n",
    "        #    break\n",
    "\n",
    "all_features_train = np.array(all_features_train)\n",
    "all_features_test = np.array(all_features_test)\n",
    "\n",
    "#print(\"TRAIN\")\n",
    "#print(all_features_train)\n",
    "\n",
    "#print(\"TEST\")\n",
    "#print(all_features_test)\n",
    "\n",
    "np.save(\"X_train_IMG.npy\", all_features_train)\n",
    "np.save(\"X_test_IMG.npy\", all_features_test)\n",
    "    "
   ]
  },
  {
   "cell_type": "code",
   "execution_count": null,
   "id": "476620da",
   "metadata": {
    "execution": {
     "iopub.execute_input": "2024-02-07T20:33:14.932954Z",
     "iopub.status.busy": "2024-02-07T20:33:14.932128Z",
     "iopub.status.idle": "2024-02-07T20:33:20.694508Z",
     "shell.execute_reply": "2024-02-07T20:33:20.692971Z",
     "shell.execute_reply.started": "2024-02-07T20:33:14.932921Z"
    },
    "papermill": {
     "duration": null,
     "end_time": null,
     "exception": null,
     "start_time": null,
     "status": "completed"
    },
    "tags": []
   },
   "outputs": [],
   "source": [
    "\n",
    "# Validation phase\n",
    "model.eval()\n",
    "all_features_train = []\n",
    "all_features_test = []\n",
    "\n",
    "with torch.no_grad():\n",
    "    print(\"Computing NOIMG features for training\", len(real_train_dataset))\n",
    "    for i in range(len(real_train_dataset)):\n",
    "        if i%1000 == 0:\n",
    "            print(i)\n",
    "\n",
    "        inputs = real_train_dataset[i]\n",
    "        images = inputs[\"image\"].to(device)\n",
    "        features = inputs[\"features\"].to(device)\n",
    "\n",
    "        outputs = model.extract_NOIMGfeatures(images.unsqueeze(0), features).cpu().numpy()\n",
    "        \n",
    "        all_features_train.extend(outputs)\n",
    "        \n",
    "        #if i > 10:\n",
    "        #    break\n",
    "    \n",
    "    \n",
    "    print(\"Computing IMG features for test\", len(test_dataset))\n",
    "    for i in range(len(test_dataset)):\n",
    "        if i%1000 == 0:\n",
    "            print(i)\n",
    "\n",
    "        inputs = test_dataset[i]\n",
    "        images = inputs[\"image\"].to(device)\n",
    "        features = inputs[\"features\"].to(device)\n",
    "        \n",
    "        outputs = model.extract_NOIMGfeatures(images.unsqueeze(0), features).cpu().numpy()\n",
    "        \n",
    "        all_features_test.extend(outputs)\n",
    "        \n",
    "        #print(outputs.shape)\n",
    "        #if i > 10:\n",
    "        #    break\n",
    "\n",
    "all_features_train = np.array(all_features_train)\n",
    "all_features_test = np.array(all_features_test)\n",
    "\n",
    "#print(\"TRAIN\")\n",
    "#print(all_features_train)\n",
    "\n",
    "#print(\"TEST\")\n",
    "#print(all_features_test)\n",
    "\n",
    "np.save(\"X_train_NOIMG.npy\", all_features_train)\n",
    "np.save(\"X_test_NOIMG.npy\", all_features_test)\n",
    "    "
   ]
  },
  {
   "cell_type": "code",
   "execution_count": null,
   "id": "eded4a48",
   "metadata": {
    "execution": {
     "iopub.execute_input": "2024-02-06T11:28:08.994300Z",
     "iopub.status.busy": "2024-02-06T11:28:08.993293Z",
     "iopub.status.idle": "2024-02-06T11:28:09.002413Z",
     "shell.execute_reply": "2024-02-06T11:28:09.000994Z",
     "shell.execute_reply.started": "2024-02-06T11:28:08.994258Z"
    },
    "papermill": {
     "duration": null,
     "end_time": null,
     "exception": null,
     "start_time": null,
     "status": "completed"
    },
    "tags": []
   },
   "outputs": [],
   "source": [
    "all_features_train.shape"
   ]
  },
  {
   "cell_type": "code",
   "execution_count": null,
   "id": "406c2f2c",
   "metadata": {
    "execution": {
     "iopub.execute_input": "2024-02-06T11:28:15.537791Z",
     "iopub.status.busy": "2024-02-06T11:28:15.537311Z",
     "iopub.status.idle": "2024-02-06T11:28:15.546435Z",
     "shell.execute_reply": "2024-02-06T11:28:15.545174Z",
     "shell.execute_reply.started": "2024-02-06T11:28:15.537757Z"
    },
    "papermill": {
     "duration": null,
     "end_time": null,
     "exception": null,
     "start_time": null,
     "status": "completed"
    },
    "tags": []
   },
   "outputs": [],
   "source": [
    "all_features_test.shape"
   ]
  }
 ],
 "metadata": {
  "kaggle": {
   "accelerator": "gpu",
   "dataSources": [
    {
     "datasetId": 4407916,
     "sourceId": 7582912,
     "sourceType": "datasetVersion"
    },
    {
     "datasetId": 4405050,
     "sourceId": 7583405,
     "sourceType": "datasetVersion"
    }
   ],
   "dockerImageVersionId": 30648,
   "isGpuEnabled": true,
   "isInternetEnabled": true,
   "language": "python",
   "sourceType": "notebook"
  },
  "kernelspec": {
   "display_name": "Python 3",
   "language": "python",
   "name": "python3"
  },
  "language_info": {
   "codemirror_mode": {
    "name": "ipython",
    "version": 3
   },
   "file_extension": ".py",
   "mimetype": "text/x-python",
   "name": "python",
   "nbconvert_exporter": "python",
   "pygments_lexer": "ipython3",
   "version": "3.10.13"
  },
  "papermill": {
   "default_parameters": {},
   "duration": 21244.122523,
   "end_time": "2024-02-08T03:21:57.758138",
   "environment_variables": {},
   "exception": null,
   "input_path": "__notebook__.ipynb",
   "output_path": "__notebook__.ipynb",
   "parameters": {},
   "start_time": "2024-02-07T21:27:53.635615",
   "version": "2.5.0"
  }
 },
 "nbformat": 4,
 "nbformat_minor": 5
}
