{
 "cells": [
  {
   "cell_type": "markdown",
   "id": "f8ff0d63",
   "metadata": {},
   "source": [
    "<h1><b>[XII - 1NN]</b></h1>\n",
    "\n",
    "This is a \"1-NN\", where only the neighbors that are at `distance 0` (which mean data that are already in the training set) are computed.\n",
    "\n",
    "Other data are assigned to class `10`\n",
    "\n",
    "The result will be save in `data/1-NN.csv`\n",
    "\n",
    "Note that the original `data/1-NN.csv` is already available.\n",
    "\n",
    "___________________________"
   ]
  },
  {
   "cell_type": "code",
   "execution_count": 1,
   "id": "e19be874",
   "metadata": {
    "_cell_guid": "b1076dfc-b9ad-4769-8c92-a6c4dae69d19",
    "_uuid": "8f2839f25d086af736a60e9eeb907d3b93b6e0e5",
    "execution": {
     "iopub.execute_input": "2024-02-16T22:45:58.767342Z",
     "iopub.status.busy": "2024-02-16T22:45:58.766949Z",
     "iopub.status.idle": "2024-02-16T22:46:00.127083Z",
     "shell.execute_reply": "2024-02-16T22:46:00.125821Z"
    },
    "papermill": {
     "duration": 1.371313,
     "end_time": "2024-02-16T22:46:00.129781",
     "exception": false,
     "start_time": "2024-02-16T22:45:58.758468",
     "status": "completed"
    },
    "tags": []
   },
   "outputs": [],
   "source": [
    "import pandas as pd\n",
    "import numpy as np\n",
    "import geopandas as gpd"
   ]
  },
  {
   "cell_type": "code",
   "execution_count": 3,
   "id": "48b6b763",
   "metadata": {
    "execution": {
     "iopub.execute_input": "2024-02-16T22:46:18.114071Z",
     "iopub.status.busy": "2024-02-16T22:46:18.113278Z",
     "iopub.status.idle": "2024-02-16T22:48:13.807493Z",
     "shell.execute_reply": "2024-02-16T22:48:13.806078Z"
    },
    "papermill": {
     "duration": 115.711847,
     "end_time": "2024-02-16T22:48:13.816043",
     "exception": false,
     "start_time": "2024-02-16T22:46:18.104196",
     "status": "completed"
    },
    "tags": []
   },
   "outputs": [
    {
     "name": "stdout",
     "output_type": "stream",
     "text": [
      "Reading time: 115.6860761642456 s\n"
     ]
    }
   ],
   "source": [
    "import time\n",
    "start = time.time()\n",
    "\n",
    "train_df_geojson = gpd.read_file('data/train.geojson', engine=\"pyogrio\")\n",
    "test_df_geojson = gpd.read_file('data/test.geojson', engine=\"pyogrio\")\n",
    "\n",
    "end = time.time()\n",
    "print(\"Reading time:\", end - start,\"s\")"
   ]
  },
  {
   "cell_type": "code",
   "execution_count": 4,
   "id": "97b72d00",
   "metadata": {
    "execution": {
     "iopub.execute_input": "2024-02-16T22:48:13.831541Z",
     "iopub.status.busy": "2024-02-16T22:48:13.830974Z",
     "iopub.status.idle": "2024-02-16T22:49:07.419999Z",
     "shell.execute_reply": "2024-02-16T22:49:07.418615Z"
    },
    "papermill": {
     "duration": 53.600287,
     "end_time": "2024-02-16T22:49:07.423084",
     "exception": false,
     "start_time": "2024-02-16T22:48:13.822797",
     "status": "completed"
    },
    "tags": []
   },
   "outputs": [
    {
     "name": "stderr",
     "output_type": "stream",
     "text": [
      "/tmp/ipykernel_17/667961604.py:1: UserWarning: Geometry is in a geographic CRS. Results from 'centroid' are likely incorrect. Use 'GeoSeries.to_crs()' to re-project geometries to a projected CRS before this operation.\n",
      "\n",
      "  train_x = train_df_geojson[\"geometry\"].centroid.x\n",
      "/tmp/ipykernel_17/667961604.py:2: UserWarning: Geometry is in a geographic CRS. Results from 'centroid' are likely incorrect. Use 'GeoSeries.to_crs()' to re-project geometries to a projected CRS before this operation.\n",
      "\n",
      "  train_y = train_df_geojson[\"geometry\"].centroid.y\n",
      "/tmp/ipykernel_17/667961604.py:3: UserWarning: Geometry is in a geographic CRS. Results from 'area' are likely incorrect. Use 'GeoSeries.to_crs()' to re-project geometries to a projected CRS before this operation.\n",
      "\n",
      "  train_area = train_df_geojson[\"geometry\"].area\n"
     ]
    }
   ],
   "source": [
    "train_x = train_df_geojson[\"geometry\"].centroid.x\n",
    "train_y = train_df_geojson[\"geometry\"].centroid.y\n",
    "train_area = train_df_geojson[\"geometry\"].area"
   ]
  },
  {
   "cell_type": "code",
   "execution_count": 5,
   "id": "bd35b985",
   "metadata": {
    "execution": {
     "iopub.execute_input": "2024-02-16T22:49:07.439534Z",
     "iopub.status.busy": "2024-02-16T22:49:07.439127Z",
     "iopub.status.idle": "2024-02-16T22:49:29.299017Z",
     "shell.execute_reply": "2024-02-16T22:49:29.297847Z"
    },
    "papermill": {
     "duration": 21.871286,
     "end_time": "2024-02-16T22:49:29.301838",
     "exception": false,
     "start_time": "2024-02-16T22:49:07.430552",
     "status": "completed"
    },
    "tags": []
   },
   "outputs": [
    {
     "name": "stderr",
     "output_type": "stream",
     "text": [
      "/tmp/ipykernel_17/461148666.py:1: UserWarning: Geometry is in a geographic CRS. Results from 'centroid' are likely incorrect. Use 'GeoSeries.to_crs()' to re-project geometries to a projected CRS before this operation.\n",
      "\n",
      "  test_x = test_df_geojson[\"geometry\"].centroid.x\n",
      "/tmp/ipykernel_17/461148666.py:2: UserWarning: Geometry is in a geographic CRS. Results from 'centroid' are likely incorrect. Use 'GeoSeries.to_crs()' to re-project geometries to a projected CRS before this operation.\n",
      "\n",
      "  test_y = test_df_geojson[\"geometry\"].centroid.y\n",
      "/tmp/ipykernel_17/461148666.py:3: UserWarning: Geometry is in a geographic CRS. Results from 'area' are likely incorrect. Use 'GeoSeries.to_crs()' to re-project geometries to a projected CRS before this operation.\n",
      "\n",
      "  test_area = test_df_geojson[\"geometry\"].area\n"
     ]
    }
   ],
   "source": [
    "test_x = test_df_geojson[\"geometry\"].centroid.x\n",
    "test_y = test_df_geojson[\"geometry\"].centroid.y\n",
    "test_area = test_df_geojson[\"geometry\"].area"
   ]
  },
  {
   "cell_type": "code",
   "execution_count": 6,
   "id": "89f90237",
   "metadata": {
    "execution": {
     "iopub.execute_input": "2024-02-16T22:49:29.319318Z",
     "iopub.status.busy": "2024-02-16T22:49:29.318912Z",
     "iopub.status.idle": "2024-02-16T22:49:29.326826Z",
     "shell.execute_reply": "2024-02-16T22:49:29.325406Z"
    },
    "papermill": {
     "duration": 0.019657,
     "end_time": "2024-02-16T22:49:29.329578",
     "exception": false,
     "start_time": "2024-02-16T22:49:29.309921",
     "status": "completed"
    },
    "tags": []
   },
   "outputs": [],
   "source": [
    "train_infos = np.stack([train_x, train_y, train_area], axis=1)"
   ]
  },
  {
   "cell_type": "code",
   "execution_count": 7,
   "id": "d3f31fea",
   "metadata": {
    "execution": {
     "iopub.execute_input": "2024-02-16T22:49:29.347094Z",
     "iopub.status.busy": "2024-02-16T22:49:29.346622Z",
     "iopub.status.idle": "2024-02-16T22:49:29.353564Z",
     "shell.execute_reply": "2024-02-16T22:49:29.352373Z"
    },
    "papermill": {
     "duration": 0.018576,
     "end_time": "2024-02-16T22:49:29.356194",
     "exception": false,
     "start_time": "2024-02-16T22:49:29.337618",
     "status": "completed"
    },
    "tags": []
   },
   "outputs": [],
   "source": [
    "test_infos = np.stack([test_x, test_y, test_area], axis=1)"
   ]
  },
  {
   "cell_type": "code",
   "execution_count": 8,
   "id": "2952b9c3",
   "metadata": {
    "execution": {
     "iopub.execute_input": "2024-02-16T22:49:29.373674Z",
     "iopub.status.busy": "2024-02-16T22:49:29.373252Z",
     "iopub.status.idle": "2024-02-16T22:49:31.245885Z",
     "shell.execute_reply": "2024-02-16T22:49:31.244370Z"
    },
    "papermill": {
     "duration": 1.884443,
     "end_time": "2024-02-16T22:49:31.248751",
     "exception": false,
     "start_time": "2024-02-16T22:49:29.364308",
     "status": "completed"
    },
    "tags": []
   },
   "outputs": [],
   "source": [
    "from sklearn.neighbors import NearestNeighbors\n",
    "\n",
    "nbrs = NearestNeighbors(n_neighbors=1, algorithm='ball_tree').fit(train_infos)"
   ]
  },
  {
   "cell_type": "code",
   "execution_count": 9,
   "id": "fbb354fe",
   "metadata": {
    "execution": {
     "iopub.execute_input": "2024-02-16T22:49:31.265975Z",
     "iopub.status.busy": "2024-02-16T22:49:31.265500Z",
     "iopub.status.idle": "2024-02-16T22:49:31.623801Z",
     "shell.execute_reply": "2024-02-16T22:49:31.622424Z"
    },
    "papermill": {
     "duration": 0.370557,
     "end_time": "2024-02-16T22:49:31.626893",
     "exception": false,
     "start_time": "2024-02-16T22:49:31.256336",
     "status": "completed"
    },
    "tags": []
   },
   "outputs": [],
   "source": [
    "dists, indices = nbrs.radius_neighbors(test_infos, radius=0.00000000001)"
   ]
  },
  {
   "cell_type": "code",
   "execution_count": 10,
   "id": "1623a437",
   "metadata": {
    "execution": {
     "iopub.execute_input": "2024-02-16T22:49:31.643990Z",
     "iopub.status.busy": "2024-02-16T22:49:31.643529Z",
     "iopub.status.idle": "2024-02-16T22:49:31.649860Z",
     "shell.execute_reply": "2024-02-16T22:49:31.648325Z"
    },
    "papermill": {
     "duration": 0.01877,
     "end_time": "2024-02-16T22:49:31.653155",
     "exception": false,
     "start_time": "2024-02-16T22:49:31.634385",
     "status": "completed"
    },
    "tags": []
   },
   "outputs": [],
   "source": [
    "change_type_map = {'Demolition': 0, 'Road': 1, 'Residential': 2, 'Commercial': 3, 'Industrial': 4,\n",
    "       'Mega Projects': 5}"
   ]
  },
  {
   "cell_type": "code",
   "execution_count": 11,
   "id": "c6aee4be",
   "metadata": {
    "execution": {
     "iopub.execute_input": "2024-02-16T22:49:31.670514Z",
     "iopub.status.busy": "2024-02-16T22:49:31.669690Z",
     "iopub.status.idle": "2024-02-16T22:49:43.177954Z",
     "shell.execute_reply": "2024-02-16T22:49:43.176749Z"
    },
    "papermill": {
     "duration": 11.520157,
     "end_time": "2024-02-16T22:49:43.180979",
     "exception": false,
     "start_time": "2024-02-16T22:49:31.660822",
     "status": "completed"
    },
    "tags": []
   },
   "outputs": [
    {
     "name": "stdout",
     "output_type": "stream",
     "text": [
      ">> Warning : weird 11378\n",
      "[0. 0.]\n",
      "[22037 22038]\n",
      ">> Warning : weird 11379\n",
      "[0. 0.]\n",
      "[22037 22038]\n",
      ">> Warning : weird 34121\n",
      "[0. 0.]\n",
      "[32164 32165]\n",
      ">> Warning : weird 34122\n",
      "[0. 0.]\n",
      "[32164 32165]\n",
      ">> Warning : weird 43526\n",
      "[0. 0.]\n",
      "[223367 223368]\n",
      ">> Warning : weird 43527\n",
      "[0. 0.]\n",
      "[223367 223368]\n",
      ">> Warning : weird 56257\n",
      "[0. 0.]\n",
      "[241110 241109]\n",
      ">> Warning : weird 56258\n",
      "[0. 0.]\n",
      "[241110 241109]\n",
      ">> Warning : weird 59736\n",
      "[0. 0.]\n",
      "[12246 12247]\n",
      ">> Warning : weird 59737\n",
      "[0. 0.]\n",
      "[12246 12247]\n",
      ">> Warning : weird 65591\n",
      "[0. 0.]\n",
      "[168213 168212]\n",
      ">> Warning : weird 65592\n",
      "[0. 0.]\n",
      "[168213 168212]\n",
      ">> Warning : weird 71452\n",
      "[0. 0.]\n",
      "[248723 248724]\n",
      ">> Warning : weird 71453\n",
      "[0. 0.]\n",
      "[248723 248724]\n",
      ">> Warning : weird 88202\n",
      "[0. 0.]\n",
      "[161412 161413]\n",
      ">> Warning : weird 88203\n",
      "[0. 0.]\n",
      "[161412 161413]\n",
      ">> Warning : weird 100044\n",
      "[0. 0.]\n",
      "[57885 57886]\n",
      ">> Warning : weird 100045\n",
      "[0. 0.]\n",
      "[57885 57886]\n"
     ]
    }
   ],
   "source": [
    "predicts = []\n",
    "for iTest in range(len(test_df_geojson)):\n",
    "    if len(dists[iTest]) == 0:\n",
    "        predicts.append(10)\n",
    "        continue\n",
    "    if len(dists[iTest]) > 1:\n",
    "        predicts.append(10)\n",
    "        print(\">> Warning : weird\", iTest)\n",
    "        print(dists[iTest])\n",
    "        print(indices[iTest])\n",
    "        continue\n",
    "    indiceTrain = indices[iTest][0]\n",
    "    predicts.append(change_type_map[train_df_geojson.iloc[indiceTrain][\"change_type\"]])"
   ]
  },
  {
   "cell_type": "code",
   "execution_count": 12,
   "id": "aa7e1857",
   "metadata": {
    "execution": {
     "iopub.execute_input": "2024-02-16T22:49:43.200343Z",
     "iopub.status.busy": "2024-02-16T22:49:43.199930Z",
     "iopub.status.idle": "2024-02-16T22:49:43.421327Z",
     "shell.execute_reply": "2024-02-16T22:49:43.420121Z"
    },
    "papermill": {
     "duration": 0.233908,
     "end_time": "2024-02-16T22:49:43.424331",
     "exception": false,
     "start_time": "2024-02-16T22:49:43.190423",
     "status": "completed"
    },
    "tags": []
   },
   "outputs": [],
   "source": [
    "pred_df = pd.DataFrame(predicts, columns=['change_type'])\n",
    "pred_df.to_csv(\"1-NN.csv\", index=True, index_label='Id')"
   ]
  },
  {
   "cell_type": "code",
   "execution_count": 14,
   "id": "94e2212d",
   "metadata": {
    "execution": {
     "iopub.execute_input": "2024-02-16T22:49:43.488618Z",
     "iopub.status.busy": "2024-02-16T22:49:43.488222Z",
     "iopub.status.idle": "2024-02-16T22:49:43.499822Z",
     "shell.execute_reply": "2024-02-16T22:49:43.498563Z"
    },
    "papermill": {
     "duration": 0.024572,
     "end_time": "2024-02-16T22:49:43.502401",
     "exception": false,
     "start_time": "2024-02-16T22:49:43.477829",
     "status": "completed"
    },
    "tags": []
   },
   "outputs": [
    {
     "data": {
      "text/plain": [
       "88515"
      ]
     },
     "execution_count": 14,
     "metadata": {},
     "output_type": "execute_result"
    }
   ],
   "source": [
    "len(pred_df[pred_df[\"change_type\"] != 10])"
   ]
  }
 ],
 "metadata": {
  "kaggle": {
   "accelerator": "none",
   "dataSources": [
    {
     "databundleVersionId": 7549115,
     "sourceId": 67957,
     "sourceType": "competition"
    }
   ],
   "dockerImageVersionId": 30646,
   "isGpuEnabled": false,
   "isInternetEnabled": true,
   "language": "python",
   "sourceType": "notebook"
  },
  "kernelspec": {
   "display_name": "Python 3",
   "language": "python",
   "name": "python3"
  },
  "language_info": {
   "codemirror_mode": {
    "name": "ipython",
    "version": 3
   },
   "file_extension": ".py",
   "mimetype": "text/x-python",
   "name": "python",
   "nbconvert_exporter": "python",
   "pygments_lexer": "ipython3",
   "version": "3.10.13"
  },
  "papermill": {
   "default_parameters": {},
   "duration": 230.554657,
   "end_time": "2024-02-16T22:49:46.133974",
   "environment_variables": {},
   "exception": null,
   "input_path": "__notebook__.ipynb",
   "output_path": "__notebook__.ipynb",
   "parameters": {},
   "start_time": "2024-02-16T22:45:55.579317",
   "version": "2.5.0"
  }
 },
 "nbformat": 4,
 "nbformat_minor": 5
}
