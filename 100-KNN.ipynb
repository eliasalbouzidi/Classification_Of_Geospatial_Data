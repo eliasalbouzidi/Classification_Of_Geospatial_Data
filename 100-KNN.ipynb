{
 "cells": [
  {
   "cell_type": "markdown",
   "id": "6fa68d75",
   "metadata": {},
   "source": [
    "<h1><b>[KNN]</b></h1>\n",
    "\n",
    "The result will be save in `data/KNN.csv`\n",
    "\n",
    "___________________________"
   ]
  },
  {
   "cell_type": "markdown",
   "id": "91f22706",
   "metadata": {},
   "source": [
    "# Initialisation"
   ]
  },
  {
   "cell_type": "code",
   "execution_count": 1,
   "id": "9672b5c7",
   "metadata": {
    "_cell_guid": "b1076dfc-b9ad-4769-8c92-a6c4dae69d19",
    "_uuid": "8f2839f25d086af736a60e9eeb907d3b93b6e0e5",
    "execution": {
     "iopub.execute_input": "2024-02-15T02:50:21.471469Z",
     "iopub.status.busy": "2024-02-15T02:50:21.470679Z",
     "iopub.status.idle": "2024-02-15T02:50:24.859316Z",
     "shell.execute_reply": "2024-02-15T02:50:24.858300Z"
    },
    "papermill": {
     "duration": 3.399784,
     "end_time": "2024-02-15T02:50:24.861987",
     "exception": false,
     "start_time": "2024-02-15T02:50:21.462203",
     "status": "completed"
    },
    "tags": []
   },
   "outputs": [],
   "source": [
    "import geopandas as gpd\n",
    "import pandas as pd\n",
    "import numpy as np\n",
    "\n",
    "import matplotlib.pyplot as plt\n",
    "import seaborn as sns\n",
    "\n",
    "import warnings\n",
    "warnings.filterwarnings('ignore')\n",
    "\n",
    "pd.set_option('display.max_columns', None)  \n",
    "from sklearn.metrics import f1_score, confusion_matrix\n",
    "from sklearn.ensemble import RandomForestClassifier\n",
    "\n",
    "from sklearn.model_selection import StratifiedKFold\n",
    "import xgboost as xgb\n",
    "from sklearn.utils.class_weight import compute_sample_weight\n",
    "from sklearn.model_selection import train_test_split"
   ]
  },
  {
   "cell_type": "code",
   "execution_count": 2,
   "id": "de3d9989",
   "metadata": {
    "execution": {
     "iopub.execute_input": "2024-02-15T02:50:24.876844Z",
     "iopub.status.busy": "2024-02-15T02:50:24.876255Z",
     "iopub.status.idle": "2024-02-15T02:51:11.662848Z",
     "shell.execute_reply": "2024-02-15T02:51:11.661765Z"
    },
    "papermill": {
     "duration": 46.797073,
     "end_time": "2024-02-15T02:51:11.665644",
     "exception": false,
     "start_time": "2024-02-15T02:50:24.868571",
     "status": "completed"
    },
    "tags": []
   },
   "outputs": [],
   "source": [
    "train_df = pd.read_csv(\"data/train_df_FINAL.csv\")\n",
    "test_df = pd.read_csv(\"data/test_df_FINAL.csv\")"
   ]
  },
  {
   "cell_type": "code",
   "execution_count": 3,
   "id": "aed5f237",
   "metadata": {
    "execution": {
     "iopub.execute_input": "2024-02-15T02:51:11.680563Z",
     "iopub.status.busy": "2024-02-15T02:51:11.679766Z",
     "iopub.status.idle": "2024-02-15T02:51:12.055473Z",
     "shell.execute_reply": "2024-02-15T02:51:12.054264Z"
    },
    "papermill": {
     "duration": 0.38612,
     "end_time": "2024-02-15T02:51:12.058293",
     "exception": false,
     "start_time": "2024-02-15T02:51:11.672173",
     "status": "completed"
    },
    "tags": []
   },
   "outputs": [],
   "source": [
    "train_df = train_df[(train_df.index < 195453) | (train_df.index > 197302)]"
   ]
  },
  {
   "cell_type": "code",
   "execution_count": 4,
   "id": "6d20adcc",
   "metadata": {
    "execution": {
     "iopub.execute_input": "2024-02-15T02:51:12.073057Z",
     "iopub.status.busy": "2024-02-15T02:51:12.072644Z",
     "iopub.status.idle": "2024-02-15T02:51:27.878143Z",
     "shell.execute_reply": "2024-02-15T02:51:27.877192Z"
    },
    "papermill": {
     "duration": 15.816216,
     "end_time": "2024-02-15T02:51:27.880905",
     "exception": false,
     "start_time": "2024-02-15T02:51:12.064689",
     "status": "completed"
    },
    "tags": []
   },
   "outputs": [],
   "source": [
    "change_types = train_df[\"change_type\"].unique()\n",
    "for change_type in change_types:\n",
    "    for column in train_df.columns:\n",
    "        if column == \"geometry\":\n",
    "            continue\n",
    "        train_df.loc[(train_df[\"change_type\"]==change_type) & (train_df[column].isnull()), column] = train_df.loc[(train_df[\"change_type\"]==change_type), column].mode()[0]"
   ]
  },
  {
   "cell_type": "code",
   "execution_count": 5,
   "id": "78ae28c0",
   "metadata": {
    "execution": {
     "iopub.execute_input": "2024-02-15T02:51:27.895984Z",
     "iopub.status.busy": "2024-02-15T02:51:27.895218Z",
     "iopub.status.idle": "2024-02-15T02:51:27.918156Z",
     "shell.execute_reply": "2024-02-15T02:51:27.917072Z"
    },
    "papermill": {
     "duration": 0.033983,
     "end_time": "2024-02-15T02:51:27.921214",
     "exception": false,
     "start_time": "2024-02-15T02:51:27.887231",
     "status": "completed"
    },
    "tags": []
   },
   "outputs": [],
   "source": [
    "feature_names=[ 'urban_type_N,A', 'urban_type_UrbanSlum', 'urban_type_Rural', 'urban_type_DenseUrban', 'urban_type_Industrial', 'urban_type_SparseUrban', \n",
    "                #'urban_type_Dense Urban,Industrial', 'urban_type_Dense Urban,Urban Slum', 'urban_type_Sparse Urban,Industrial', 'urban_type_Sparse Urban,Urban Slum', \n",
    "               \n",
    "                'geography_type_N,A', 'geography_type_Desert', 'geography_type_Farms', 'geography_type_DenseForest', 'geography_type_Hills', 'geography_type_River', 'geography_type_GrassLand', 'geography_type_Snow', 'geography_type_Lakes', 'geography_type_BarrenLand', 'geography_type_Coastal', 'geography_type_SparseForest', \n",
    "                #'geography_type_Sparse Forest,Grass Land', 'geography_type_Sparse Forest,Farms', 'geography_type_Sparse Forest,Dense Forest,Grass Land', 'geography_type_Barren Land,Sparse Forest', 'geography_type_Sparse Forest,Dense Forest', 'geography_type_Sparse Forest,Grass Land,Lakes', 'geography_type_Sparse Forest,Farms,Lakes', 'geography_type_River,Sparse Forest,Grass Land', 'geography_type_River,Sparse Forest', 'geography_type_Sparse Forest,Dense Forest,Grass Land,Lakes', 'geography_type_Barren Land,Sparse Forest,Grass Land', 'geography_type_Dense Forest,Grass Land', 'geography_type_River,Sparse Forest,Farms', \n",
    "               \n",
    "                #'geourban_geography_type_Desert_urban_type_Industrial', 'geourban_geography_type_Farms_urban_type_Rural', 'geourban_geography_type_Farms_urban_type_DenseUrban', 'geourban_geography_type_Farms_urban_type_Industrial', 'geourban_geography_type_Farms_urban_type_SparseUrban', 'geourban_geography_type_DenseForest_urban_type_UrbanSlum', 'geourban_geography_type_DenseForest_urban_type_Rural', 'geourban_geography_type_DenseForest_urban_type_DenseUrban', 'geourban_geography_type_DenseForest_urban_type_Industrial', 'geourban_geography_type_DenseForest_urban_type_SparseUrban', 'geourban_geography_type_River_urban_type_Rural', 'geourban_geography_type_River_urban_type_DenseUrban', 'geourban_geography_type_River_urban_type_Industrial', 'geourban_geography_type_River_urban_type_SparseUrban', 'geourban_geography_type_GrassLand_urban_type_Rural', 'geourban_geography_type_GrassLand_urban_type_DenseUrban', 'geourban_geography_type_GrassLand_urban_type_Industrial', 'geourban_geography_type_GrassLand_urban_type_SparseUrban', 'geourban_geography_type_Lakes_urban_type_Rural', 'geourban_geography_type_Lakes_urban_type_DenseUrban', 'geourban_geography_type_Lakes_urban_type_Industrial', 'geourban_geography_type_Lakes_urban_type_SparseUrban', 'geourban_geography_type_BarrenLand_urban_type_Rural', 'geourban_geography_type_BarrenLand_urban_type_DenseUrban', 'geourban_geography_type_BarrenLand_urban_type_Industrial', 'geourban_geography_type_BarrenLand_urban_type_SparseUrban', 'geourban_geography_type_Coastal_urban_type_SparseUrban', 'geourban_geography_type_SparseForest_urban_type_UrbanSlum', 'geourban_geography_type_SparseForest_urban_type_Rural', 'geourban_geography_type_SparseForest_urban_type_DenseUrban', 'geourban_geography_type_SparseForest_urban_type_Industrial', 'geourban_geography_type_SparseForest_urban_type_SparseUrban', \n",
    "               \n",
    "                'img_red_mean_date0', 'img_red_mean_date1', 'img_red_mean_date2', 'img_red_mean_date3', 'img_red_mean_date4', \n",
    "                'img_green_mean_date0', 'img_green_mean_date1', 'img_green_mean_date2', 'img_green_mean_date3', 'img_green_mean_date4', \n",
    "                'img_blue_mean_date0', 'img_blue_mean_date1', 'img_blue_mean_date2', 'img_blue_mean_date3', 'img_blue_mean_date4', \n",
    "               \n",
    "                'img_red_std_date0', 'img_red_std_date1', 'img_red_std_date2', 'img_red_std_date3', 'img_red_std_date4', \n",
    "                'img_green_std_date0', 'img_green_std_date1', 'img_green_std_date2', 'img_green_std_date3', 'img_green_std_date4', \n",
    "                'img_blue_std_date0', 'img_blue_std_date1', 'img_blue_std_date2', 'img_blue_std_date3', 'img_blue_std_date4', \n",
    "               \n",
    "                'change_status_date0_Construction Done', 'change_status_date0_Construction Midway', 'change_status_date0_Construction Started', 'change_status_date0_Excavation', 'change_status_date0_Greenland', 'change_status_date0_Land Cleared', 'change_status_date0_Materials Dumped', 'change_status_date0_Materials Introduced', 'change_status_date0_Operational', 'change_status_date0_Prior Construction', \n",
    "                'change_status_date1_Construction Done', 'change_status_date1_Construction Midway', 'change_status_date1_Construction Started', 'change_status_date1_Excavation', 'change_status_date1_Greenland', 'change_status_date1_Land Cleared', 'change_status_date1_Materials Dumped', 'change_status_date1_Materials Introduced', 'change_status_date1_Operational', 'change_status_date1_Prior Construction', \n",
    "                'change_status_date2_Construction Done', 'change_status_date2_Construction Midway', 'change_status_date2_Construction Started', 'change_status_date2_Excavation', 'change_status_date2_Greenland', 'change_status_date2_Land Cleared', 'change_status_date2_Materials Dumped', 'change_status_date2_Materials Introduced', 'change_status_date2_Operational', 'change_status_date2_Prior Construction', \n",
    "                'change_status_date3_Construction Done', 'change_status_date3_Construction Midway', 'change_status_date3_Construction Started', 'change_status_date3_Excavation', 'change_status_date3_Greenland', 'change_status_date3_Land Cleared', 'change_status_date3_Materials Dumped', 'change_status_date3_Materials Introduced', 'change_status_date3_Operational', 'change_status_date3_Prior Construction', \n",
    "                'change_status_date4_Construction Done', 'change_status_date4_Construction Midway', 'change_status_date4_Construction Started', 'change_status_date4_Excavation', 'change_status_date4_Greenland', 'change_status_date4_Land Cleared', 'change_status_date4_Materials Dumped', 'change_status_date4_Materials Introduced', 'change_status_date4_Operational', 'change_status_date4_Prior Construction', \n",
    "               \n",
    "                'change_status_Prior Construction', 'change_status_Greenland', 'change_status_Land Cleared', 'change_status_Excavation', 'change_status_Materials Dumped', 'change_status_Materials Introduced', 'change_status_Construction Started', 'change_status_Construction Midway', 'change_status_Construction Done', 'change_status_Operational', \n",
    "                'change_status_date0_encoded', 'change_status_date1_encoded', 'change_status_date2_encoded', 'change_status_date3_encoded', 'change_status_date4_encoded', \n",
    "                'change_status_date_4-0', 'change_status_date_1-0', 'change_status_date_2-1', 'change_status_date_3-2', 'change_status_date_4-3', \n",
    "               \n",
    "                'img_mean_date0', 'img_std_date0', 'img_mean_date1', 'img_std_date1', 'img_mean_date2', 'img_std_date2', 'img_mean_date3', 'img_std_date3', 'img_mean_date4', 'img_std_date4', \n",
    "                'img_mean_date_4-0', 'img_mean_date_1-0', 'img_mean_date_2-1', 'img_mean_date_3-2', 'img_mean_date_4-3', 'img_std_date_4-0', 'img_std_date_1-0', 'img_std_date_2-1', 'img_std_date_3-2', 'img_std_date_4-3', \n",
    "               \n",
    "                'img_red_mean_date_4-0', 'img_red_mean_date_1-0', 'img_red_mean_date_2-1', 'img_red_mean_date_3-2', 'img_red_mean_date_4-3', 'img_green_mean_date_4-0', 'img_green_mean_date_1-0', 'img_green_mean_date_2-1', 'img_green_mean_date_3-2', 'img_green_mean_date_4-3', 'img_blue_mean_date_4-0', 'img_blue_mean_date_1-0', 'img_blue_mean_date_2-1', 'img_blue_mean_date_3-2', 'img_blue_mean_date_4-3', 'img_red_std_date_4-0', 'img_red_std_date_1-0', 'img_red_std_date_2-1', 'img_red_std_date_3-2', 'img_red_std_date_4-3', 'img_green_std_date_4-0', 'img_green_std_date_1-0', 'img_green_std_date_2-1', 'img_green_std_date_3-2', 'img_green_std_date_4-3', 'img_blue_std_date_4-0', 'img_blue_std_date_1-0', 'img_blue_std_date_2-1', 'img_blue_std_date_3-2', 'img_blue_std_date_4-3', \n",
    "                \n",
    "                'date_1-0', 'date_2-1', 'date_3-2', 'date_4-3', 'date_4-0', 'date_0-0min', \n",
    "                'img_mean_date_4-0/Date', 'img_mean_date_1-0/Date', 'img_mean_date_2-1/Date', 'img_mean_date_3-2/Date', 'img_mean_date_4-3/Date', 'img_std_date_4-0/Date', 'img_std_date_1-0/Date', 'img_std_date_2-1/Date', 'img_std_date_3-2/Date', 'img_std_date_4-3/Date', 'img_red_mean_date_4-0/Date', 'img_red_mean_date_1-0/Date', 'img_red_mean_date_2-1/Date', 'img_red_mean_date_3-2/Date', 'img_red_mean_date_4-3/Date', 'img_green_mean_date_4-0/Date', 'img_green_mean_date_1-0/Date', 'img_green_mean_date_2-1/Date', 'img_green_mean_date_3-2/Date', 'img_green_mean_date_4-3/Date', 'img_blue_mean_date_4-0/Date', 'img_blue_mean_date_1-0/Date', 'img_blue_mean_date_2-1/Date', 'img_blue_mean_date_3-2/Date', 'img_blue_mean_date_4-3/Date', 'img_red_std_date_4-0/Date', 'img_red_std_date_1-0/Date', 'img_red_std_date_2-1/Date', 'img_red_std_date_3-2/Date', 'img_red_std_date_4-3/Date', 'img_green_std_date_4-0/Date', 'img_green_std_date_1-0/Date', 'img_green_std_date_2-1/Date', 'img_green_std_date_3-2/Date', 'img_green_std_date_4-3/Date', 'img_blue_std_date_4-0/Date', 'img_blue_std_date_1-0/Date', 'img_blue_std_date_2-1/Date', 'img_blue_std_date_3-2/Date', 'img_blue_std_date_4-3/Date', \n",
    "                'change_status_date_4-0/Date', 'change_status_date_1-0/Date', 'change_status_date_2-1/Date', 'change_status_date_3-2/Date', 'change_status_date_4-3/Date', \n",
    "               \n",
    "                'geometry_area', 'geometry_perimeter', 'geometry_inscribed_circle_radius', 'geometry_compactness', 'geometry_convexity', 'geometry_vertices', \n",
    "                'geometry_bboxwidth', 'geometry_bboxheight', \n",
    "                'geometry_bboxratio', \n",
    "                'geometry_bboxarea', 'geometry_bboxperimeter', \n",
    "                'geometry_aspectratio', \n",
    "                'geometry_diameter', 'geometry_minumum_bounding_circle', 'geometry_minimum_rotated_rectangle', \n",
    "               \n",
    "                'neighb_density', 'neighb_nb', 'neighb_similar', \n",
    "                'neighb_maxdiff_change_status_date0_0.001', 'neighb_maxdiff_change_status_date1_0.001', 'neighb_maxdiff_change_status_date2_0.001', 'neighb_maxdiff_change_status_date3_0.001', 'neighb_maxdiff_change_status_date4_0.001', \n",
    "                'neighb_maxdiff_change_status_date0_0.003', 'neighb_maxdiff_change_status_date1_0.003', 'neighb_maxdiff_change_status_date2_0.003', 'neighb_maxdiff_change_status_date3_0.003', 'neighb_maxdiff_change_status_date4_0.003', \n",
    "                'neighb_maxdiff_meancolor_0', 'neighb_maxdiff_meancolor_1', 'neighb_maxdiff_meancolor_2', 'neighb_maxdiff_meancolor_3', 'neighb_maxdiff_meancolor_4', \n",
    "                'neighb_maxdiff_stdcolor_0', 'neighb_maxdiff_stdcolor_1', 'neighb_maxdiff_stdcolor_2', 'neighb_maxdiff_stdcolor_3', 'neighb_maxdiff_stdcolor_4', \n",
    "               \n",
    "                'neighb_meandiff_changestatus_0', 'neighb_meandiff_changestatus_1', 'neighb_meandiff_changestatus_2', 'neighb_meandiff_changestatus_3', 'neighb_meandiff_changestatus_4', \n",
    "                'neighb_meandiff_meancolor_0', 'neighb_meandiff_meancolor_1', 'neighb_meandiff_meancolor_2', 'neighb_meandiff_meancolor_3', 'neighb_meandiff_meancolor_4', \n",
    "                'neighb_meandiff_stdcolor_0', 'neighb_meandiff_stdcolor_1', 'neighb_meandiff_stdcolor_2', 'neighb_meandiff_stdcolor_3', 'neighb_meandiff_stdcolor_4'\n",
    "            ]"
   ]
  },
  {
   "cell_type": "code",
   "execution_count": 6,
   "id": "f5cbcec0",
   "metadata": {
    "execution": {
     "iopub.execute_input": "2024-02-15T02:51:27.935731Z",
     "iopub.status.busy": "2024-02-15T02:51:27.935345Z",
     "iopub.status.idle": "2024-02-15T02:51:28.548777Z",
     "shell.execute_reply": "2024-02-15T02:51:28.547581Z"
    },
    "papermill": {
     "duration": 0.624631,
     "end_time": "2024-02-15T02:51:28.552273",
     "exception": false,
     "start_time": "2024-02-15T02:51:27.927642",
     "status": "completed"
    },
    "tags": []
   },
   "outputs": [],
   "source": [
    "X = train_df[feature_names].to_numpy()\n",
    "Y = train_df['change_type'].to_numpy()\n",
    "X_test = test_df[feature_names].to_numpy()"
   ]
  },
  {
   "cell_type": "markdown",
   "id": "9520afb2",
   "metadata": {},
   "source": [
    "# Imputing missing values"
   ]
  },
  {
   "cell_type": "code",
   "execution_count": 7,
   "id": "93fe60bc",
   "metadata": {
    "execution": {
     "iopub.execute_input": "2024-02-15T02:51:28.567130Z",
     "iopub.status.busy": "2024-02-15T02:51:28.566692Z",
     "iopub.status.idle": "2024-02-15T02:51:49.935731Z",
     "shell.execute_reply": "2024-02-15T02:51:49.934685Z"
    },
    "papermill": {
     "duration": 21.379717,
     "end_time": "2024-02-15T02:51:49.938353",
     "exception": false,
     "start_time": "2024-02-15T02:51:28.558636",
     "status": "completed"
    },
    "tags": []
   },
   "outputs": [],
   "source": [
    "from sklearn.impute import SimpleImputer\n",
    "\n",
    "imp_mean = SimpleImputer(missing_values=np.nan, strategy='median')\n",
    "imp_mean.fit(np.concatenate([X, X_test], axis=0))\n",
    "X_test = imp_mean.transform(X_test)"
   ]
  },
  {
   "cell_type": "code",
   "execution_count": 8,
   "id": "2c964be5",
   "metadata": {
    "execution": {
     "iopub.execute_input": "2024-02-15T02:51:49.952741Z",
     "iopub.status.busy": "2024-02-15T02:51:49.952378Z",
     "iopub.status.idle": "2024-02-15T02:51:49.958220Z",
     "shell.execute_reply": "2024-02-15T02:51:49.957156Z"
    },
    "papermill": {
     "duration": 0.016077,
     "end_time": "2024-02-15T02:51:49.960802",
     "exception": false,
     "start_time": "2024-02-15T02:51:49.944725",
     "status": "completed"
    },
    "tags": []
   },
   "outputs": [
    {
     "name": "stdout",
     "output_type": "stream",
     "text": [
      "(294296, 272) (294296,) (120526, 272)\n"
     ]
    }
   ],
   "source": [
    "print(X.shape, Y.shape, X_test.shape)"
   ]
  },
  {
   "cell_type": "markdown",
   "id": "38267c63",
   "metadata": {},
   "source": [
    "# Train test split"
   ]
  },
  {
   "cell_type": "code",
   "execution_count": 9,
   "id": "daddf7b4",
   "metadata": {
    "execution": {
     "iopub.execute_input": "2024-02-15T02:51:49.975315Z",
     "iopub.status.busy": "2024-02-15T02:51:49.974924Z",
     "iopub.status.idle": "2024-02-15T02:51:51.131166Z",
     "shell.execute_reply": "2024-02-15T02:51:51.130082Z"
    },
    "papermill": {
     "duration": 1.16671,
     "end_time": "2024-02-15T02:51:51.133936",
     "exception": false,
     "start_time": "2024-02-15T02:51:49.967226",
     "status": "completed"
    },
    "tags": []
   },
   "outputs": [],
   "source": [
    "X_train, X_valid, Y_train, Y_valid = train_test_split(X, Y, test_size=0.2, random_state=65, stratify=Y)"
   ]
  },
  {
   "cell_type": "markdown",
   "id": "c8889dbc",
   "metadata": {},
   "source": [
    "# Normalization"
   ]
  },
  {
   "cell_type": "code",
   "execution_count": 10,
   "id": "c5a4c810",
   "metadata": {
    "execution": {
     "iopub.execute_input": "2024-02-15T02:51:51.148590Z",
     "iopub.status.busy": "2024-02-15T02:51:51.148217Z",
     "iopub.status.idle": "2024-02-15T02:51:52.394000Z",
     "shell.execute_reply": "2024-02-15T02:51:52.392941Z"
    },
    "papermill": {
     "duration": 1.256459,
     "end_time": "2024-02-15T02:51:52.396901",
     "exception": false,
     "start_time": "2024-02-15T02:51:51.140442",
     "status": "completed"
    },
    "tags": []
   },
   "outputs": [],
   "source": [
    "from sklearn.preprocessing import StandardScaler\n",
    "\n",
    "scaler = StandardScaler()\n",
    "\n",
    "X = scaler.fit_transform(X)\n",
    "\n",
    "X_test = scaler.transform(X_test)"
   ]
  },
  {
   "cell_type": "code",
   "execution_count": 11,
   "id": "1a6ee69b",
   "metadata": {
    "execution": {
     "iopub.execute_input": "2024-02-15T02:51:52.411497Z",
     "iopub.status.busy": "2024-02-15T02:51:52.411117Z",
     "iopub.status.idle": "2024-02-15T02:51:52.419631Z",
     "shell.execute_reply": "2024-02-15T02:51:52.418450Z"
    },
    "papermill": {
     "duration": 0.018589,
     "end_time": "2024-02-15T02:51:52.421921",
     "exception": false,
     "start_time": "2024-02-15T02:51:52.403332",
     "status": "completed"
    },
    "tags": []
   },
   "outputs": [
    {
     "data": {
      "text/plain": [
       "'\\nfrom sklearn.decomposition import PCA\\npca = PCA(n_components=20)\\nX_train_pca = pca.fit_transform(X_train)\\nX_valid_pca = pca.transform(X_valid)\\n'"
      ]
     },
     "execution_count": 11,
     "metadata": {},
     "output_type": "execute_result"
    }
   ],
   "source": [
    "\"\"\"\n",
    "from sklearn.decomposition import PCA\n",
    "pca = PCA(n_components=20)\n",
    "X_train_pca = pca.fit_transform(X_train)\n",
    "X_valid_pca = pca.transform(X_valid)\n",
    "\"\"\""
   ]
  },
  {
   "cell_type": "markdown",
   "id": "b764d76f",
   "metadata": {},
   "source": [
    "# Training"
   ]
  },
  {
   "cell_type": "code",
   "execution_count": 12,
   "id": "fc1fd667",
   "metadata": {
    "execution": {
     "iopub.execute_input": "2024-02-15T02:51:52.437301Z",
     "iopub.status.busy": "2024-02-15T02:51:52.436917Z",
     "iopub.status.idle": "2024-02-15T02:51:52.443800Z",
     "shell.execute_reply": "2024-02-15T02:51:52.442445Z"
    },
    "papermill": {
     "duration": 0.017622,
     "end_time": "2024-02-15T02:51:52.446199",
     "exception": false,
     "start_time": "2024-02-15T02:51:52.428577",
     "status": "completed"
    },
    "tags": []
   },
   "outputs": [],
   "source": [
    "def printScores(y_true, y_predict):\n",
    "    f1_score_micro = f1_score(y_true, y_predict, average='micro')\n",
    "    f1_score_macro = f1_score(y_true, y_predict, average='macro')\n",
    "    f1_score_weighted = f1_score(y_true, y_predict, average='weighted')\n",
    "    train_conf_matrix = confusion_matrix(y_true, y_predict)\n",
    "    print(\"F1 score micro\", f1_score_micro)\n",
    "    print(\"F1 score macro\", f1_score_macro)\n",
    "    print(\"F1 score weighted\", f1_score_weighted)\n",
    "    print(train_conf_matrix)"
   ]
  },
  {
   "cell_type": "code",
   "execution_count": 13,
   "id": "f7adf96d",
   "metadata": {
    "execution": {
     "iopub.execute_input": "2024-02-15T02:51:52.461978Z",
     "iopub.status.busy": "2024-02-15T02:51:52.460684Z",
     "iopub.status.idle": "2024-02-15T02:51:52.831729Z",
     "shell.execute_reply": "2024-02-15T02:51:52.830487Z"
    },
    "papermill": {
     "duration": 0.381701,
     "end_time": "2024-02-15T02:51:52.834535",
     "exception": false,
     "start_time": "2024-02-15T02:51:52.452834",
     "status": "completed"
    },
    "tags": []
   },
   "outputs": [
    {
     "data": {
      "text/html": [
       "<style>#sk-container-id-1 {color: black;background-color: white;}#sk-container-id-1 pre{padding: 0;}#sk-container-id-1 div.sk-toggleable {background-color: white;}#sk-container-id-1 label.sk-toggleable__label {cursor: pointer;display: block;width: 100%;margin-bottom: 0;padding: 0.3em;box-sizing: border-box;text-align: center;}#sk-container-id-1 label.sk-toggleable__label-arrow:before {content: \"▸\";float: left;margin-right: 0.25em;color: #696969;}#sk-container-id-1 label.sk-toggleable__label-arrow:hover:before {color: black;}#sk-container-id-1 div.sk-estimator:hover label.sk-toggleable__label-arrow:before {color: black;}#sk-container-id-1 div.sk-toggleable__content {max-height: 0;max-width: 0;overflow: hidden;text-align: left;background-color: #f0f8ff;}#sk-container-id-1 div.sk-toggleable__content pre {margin: 0.2em;color: black;border-radius: 0.25em;background-color: #f0f8ff;}#sk-container-id-1 input.sk-toggleable__control:checked~div.sk-toggleable__content {max-height: 200px;max-width: 100%;overflow: auto;}#sk-container-id-1 input.sk-toggleable__control:checked~label.sk-toggleable__label-arrow:before {content: \"▾\";}#sk-container-id-1 div.sk-estimator input.sk-toggleable__control:checked~label.sk-toggleable__label {background-color: #d4ebff;}#sk-container-id-1 div.sk-label input.sk-toggleable__control:checked~label.sk-toggleable__label {background-color: #d4ebff;}#sk-container-id-1 input.sk-hidden--visually {border: 0;clip: rect(1px 1px 1px 1px);clip: rect(1px, 1px, 1px, 1px);height: 1px;margin: -1px;overflow: hidden;padding: 0;position: absolute;width: 1px;}#sk-container-id-1 div.sk-estimator {font-family: monospace;background-color: #f0f8ff;border: 1px dotted black;border-radius: 0.25em;box-sizing: border-box;margin-bottom: 0.5em;}#sk-container-id-1 div.sk-estimator:hover {background-color: #d4ebff;}#sk-container-id-1 div.sk-parallel-item::after {content: \"\";width: 100%;border-bottom: 1px solid gray;flex-grow: 1;}#sk-container-id-1 div.sk-label:hover label.sk-toggleable__label {background-color: #d4ebff;}#sk-container-id-1 div.sk-serial::before {content: \"\";position: absolute;border-left: 1px solid gray;box-sizing: border-box;top: 0;bottom: 0;left: 50%;z-index: 0;}#sk-container-id-1 div.sk-serial {display: flex;flex-direction: column;align-items: center;background-color: white;padding-right: 0.2em;padding-left: 0.2em;position: relative;}#sk-container-id-1 div.sk-item {position: relative;z-index: 1;}#sk-container-id-1 div.sk-parallel {display: flex;align-items: stretch;justify-content: center;background-color: white;position: relative;}#sk-container-id-1 div.sk-item::before, #sk-container-id-1 div.sk-parallel-item::before {content: \"\";position: absolute;border-left: 1px solid gray;box-sizing: border-box;top: 0;bottom: 0;left: 50%;z-index: -1;}#sk-container-id-1 div.sk-parallel-item {display: flex;flex-direction: column;z-index: 1;position: relative;background-color: white;}#sk-container-id-1 div.sk-parallel-item:first-child::after {align-self: flex-end;width: 50%;}#sk-container-id-1 div.sk-parallel-item:last-child::after {align-self: flex-start;width: 50%;}#sk-container-id-1 div.sk-parallel-item:only-child::after {width: 0;}#sk-container-id-1 div.sk-dashed-wrapped {border: 1px dashed gray;margin: 0 0.4em 0.5em 0.4em;box-sizing: border-box;padding-bottom: 0.4em;background-color: white;}#sk-container-id-1 div.sk-label label {font-family: monospace;font-weight: bold;display: inline-block;line-height: 1.2em;}#sk-container-id-1 div.sk-label-container {text-align: center;}#sk-container-id-1 div.sk-container {/* jupyter's `normalize.less` sets `[hidden] { display: none; }` but bootstrap.min.css set `[hidden] { display: none !important; }` so we also need the `!important` here to be able to override the default hidden behavior on the sphinx rendered scikit-learn.org. See: https://github.com/scikit-learn/scikit-learn/issues/21755 */display: inline-block !important;position: relative;}#sk-container-id-1 div.sk-text-repr-fallback {display: none;}</style><div id=\"sk-container-id-1\" class=\"sk-top-container\"><div class=\"sk-text-repr-fallback\"><pre>KNeighborsClassifier(n_jobs=-1, weights=&#x27;distance&#x27;)</pre><b>In a Jupyter environment, please rerun this cell to show the HTML representation or trust the notebook. <br />On GitHub, the HTML representation is unable to render, please try loading this page with nbviewer.org.</b></div><div class=\"sk-container\" hidden><div class=\"sk-item\"><div class=\"sk-estimator sk-toggleable\"><input class=\"sk-toggleable__control sk-hidden--visually\" id=\"sk-estimator-id-1\" type=\"checkbox\" checked><label for=\"sk-estimator-id-1\" class=\"sk-toggleable__label sk-toggleable__label-arrow\">KNeighborsClassifier</label><div class=\"sk-toggleable__content\"><pre>KNeighborsClassifier(n_jobs=-1, weights=&#x27;distance&#x27;)</pre></div></div></div></div></div>"
      ],
      "text/plain": [
       "KNeighborsClassifier(n_jobs=-1, weights='distance')"
      ]
     },
     "execution_count": 13,
     "metadata": {},
     "output_type": "execute_result"
    }
   ],
   "source": [
    "# import KNeighbors ClaSSifier from sklearn\n",
    "from sklearn.neighbors import KNeighborsClassifier\n",
    "\n",
    "\n",
    "# instantiate the model\n",
    "knn = KNeighborsClassifier(n_neighbors=5,weights=\"distance\",n_jobs=-1)\n",
    "\n",
    "\n",
    "# fit the model to the training set\n",
    "knn.fit(X, Y)"
   ]
  },
  {
   "cell_type": "code",
   "execution_count": 14,
   "id": "605b333e",
   "metadata": {
    "execution": {
     "iopub.execute_input": "2024-02-15T02:51:52.851234Z",
     "iopub.status.busy": "2024-02-15T02:51:52.850819Z",
     "iopub.status.idle": "2024-02-15T02:57:51.067777Z",
     "shell.execute_reply": "2024-02-15T02:57:51.066296Z"
    },
    "papermill": {
     "duration": 358.229627,
     "end_time": "2024-02-15T02:57:51.071096",
     "exception": false,
     "start_time": "2024-02-15T02:51:52.841469",
     "status": "completed"
    },
    "tags": []
   },
   "outputs": [],
   "source": [
    "Y_pred = knn.predict(X_test)"
   ]
  },
  {
   "cell_type": "markdown",
   "id": "ac80a09e",
   "metadata": {},
   "source": [
    "# Saving results"
   ]
  },
  {
   "cell_type": "code",
   "execution_count": 16,
   "id": "26d40e3a",
   "metadata": {
    "execution": {
     "iopub.execute_input": "2024-02-15T02:57:51.111199Z",
     "iopub.status.busy": "2024-02-15T02:57:51.110731Z",
     "iopub.status.idle": "2024-02-15T02:57:51.268695Z",
     "shell.execute_reply": "2024-02-15T02:57:51.267585Z"
    },
    "papermill": {
     "duration": 0.169243,
     "end_time": "2024-02-15T02:57:51.271340",
     "exception": false,
     "start_time": "2024-02-15T02:57:51.102097",
     "status": "completed"
    },
    "tags": []
   },
   "outputs": [],
   "source": [
    "\n",
    "pred_df = pd.DataFrame(Y_pred, columns=['change_type'])\n",
    "pred_df.to_csv(\"data/KNN.csv\", index=True, index_label='Id')"
   ]
  }
 ],
 "metadata": {
  "kaggle": {
   "accelerator": "none",
   "dataSources": [
    {
     "datasetId": 4433393,
     "sourceId": 7627181,
     "sourceType": "datasetVersion"
    }
   ],
   "dockerImageVersionId": 30646,
   "isGpuEnabled": false,
   "isInternetEnabled": true,
   "language": "python",
   "sourceType": "notebook"
  },
  "kernelspec": {
   "display_name": "Python 3",
   "language": "python",
   "name": "python3"
  },
  "language_info": {
   "codemirror_mode": {
    "name": "ipython",
    "version": 3
   },
   "file_extension": ".py",
   "mimetype": "text/x-python",
   "name": "python",
   "nbconvert_exporter": "python",
   "pygments_lexer": "ipython3",
   "version": "3.10.13"
  },
  "papermill": {
   "default_parameters": {},
   "duration": 453.686824,
   "end_time": "2024-02-15T02:57:52.115104",
   "environment_variables": {},
   "exception": null,
   "input_path": "__notebook__.ipynb",
   "output_path": "__notebook__.ipynb",
   "parameters": {},
   "start_time": "2024-02-15T02:50:18.428280",
   "version": "2.5.0"
  }
 },
 "nbformat": 4,
 "nbformat_minor": 5
}
