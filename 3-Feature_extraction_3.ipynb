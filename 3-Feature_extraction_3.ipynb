{
 "cells": [
  {
   "cell_type": "markdown",
   "id": "a76b4a37",
   "metadata": {},
   "source": [
    "<h1><b>[III - Feature extraction 3]</b></h1>\n",
    "\n",
    "This notebook extracts the more advanced features `neighb_maxdiff_change_status_date0_0.001` or `neighb_maxdiff_change_status_date0_0.003`.\n",
    "\n",
    "It requires several hours to compute. Thus, the computed versions are also already available:\n",
    "\n",
    "=> <b>it is not mandatory to run this notebook</b> (but it is provided for reproductibility).\n",
    "\n",
    "Once computed, the features are saved in `diffs_change_status0.001.npy` or `diffs_change_status0.003.npy`"
   ]
  },
  {
   "cell_type": "markdown",
   "id": "568199df",
   "metadata": {},
   "source": [
    "______________________"
   ]
  },
  {
   "cell_type": "markdown",
   "id": "a9c25236",
   "metadata": {},
   "source": [
    "Please choose either 0.001 or 0.003\n",
    "\n",
    "(to compute everything again, you should run two times this notebook, with each of these values)"
   ]
  },
  {
   "cell_type": "code",
   "execution_count": null,
   "id": "378004d7",
   "metadata": {},
   "outputs": [],
   "source": [
    "radius = 0.001"
   ]
  },
  {
   "cell_type": "markdown",
   "id": "857118c9",
   "metadata": {},
   "source": [
    "______________________"
   ]
  },
  {
   "cell_type": "code",
   "execution_count": 2,
   "id": "f633673f",
   "metadata": {
    "execution": {
     "iopub.execute_input": "2024-02-12T23:33:56.986548Z",
     "iopub.status.busy": "2024-02-12T23:33:56.986097Z",
     "iopub.status.idle": "2024-02-12T23:34:00.199417Z",
     "shell.execute_reply": "2024-02-12T23:34:00.198150Z"
    },
    "papermill": {
     "duration": 3.229287,
     "end_time": "2024-02-12T23:34:00.202495",
     "exception": false,
     "start_time": "2024-02-12T23:33:56.973208",
     "status": "completed"
    },
    "tags": []
   },
   "outputs": [],
   "source": [
    "import geopandas as gpd\n",
    "import pandas as pd\n",
    "import numpy as np\n",
    "\n",
    "import matplotlib.pyplot as plt\n",
    "import seaborn as sns\n",
    "\n",
    "import warnings\n",
    "warnings.filterwarnings('ignore')\n",
    "\n",
    "pd.set_option('display.max_columns', None)  "
   ]
  },
  {
   "cell_type": "code",
   "execution_count": 3,
   "id": "63668483",
   "metadata": {
    "execution": {
     "iopub.execute_input": "2024-02-12T23:34:00.227999Z",
     "iopub.status.busy": "2024-02-12T23:34:00.226979Z",
     "iopub.status.idle": "2024-02-12T23:35:40.480681Z",
     "shell.execute_reply": "2024-02-12T23:35:40.479220Z"
    },
    "papermill": {
     "duration": 100.279986,
     "end_time": "2024-02-12T23:35:40.493203",
     "exception": false,
     "start_time": "2024-02-12T23:34:00.213217",
     "status": "completed"
    },
    "tags": []
   },
   "outputs": [
    {
     "name": "stdout",
     "output_type": "stream",
     "text": [
      "Reading time: 100.24508786201477 s\n"
     ]
    }
   ],
   "source": [
    "## Read csvs\n",
    "import time\n",
    "start = time.time()\n",
    "\n",
    "train_df_geojson = gpd.read_file('data/train.geojson', engine=\"pyogrio\")\n",
    "test_df_geojson = gpd.read_file('data/test.geojson', engine=\"pyogrio\")\n",
    "\n",
    "end = time.time()\n",
    "print(\"Reading time:\", end - start,\"s\")"
   ]
  },
  {
   "cell_type": "code",
   "execution_count": 4,
   "id": "1ae89d12",
   "metadata": {
    "execution": {
     "iopub.execute_input": "2024-02-12T23:35:40.516014Z",
     "iopub.status.busy": "2024-02-12T23:35:40.515473Z",
     "iopub.status.idle": "2024-02-12T23:35:40.706330Z",
     "shell.execute_reply": "2024-02-12T23:35:40.705111Z"
    },
    "papermill": {
     "duration": 0.205651,
     "end_time": "2024-02-12T23:35:40.709164",
     "exception": false,
     "start_time": "2024-02-12T23:35:40.503513",
     "status": "completed"
    },
    "tags": []
   },
   "outputs": [],
   "source": [
    "train_df = train_df_geojson.copy()\n",
    "test_df = test_df_geojson.copy()"
   ]
  },
  {
   "cell_type": "code",
   "execution_count": 5,
   "id": "af7e09bc",
   "metadata": {
    "execution": {
     "iopub.execute_input": "2024-02-12T23:35:40.731938Z",
     "iopub.status.busy": "2024-02-12T23:35:40.731518Z",
     "iopub.status.idle": "2024-02-12T23:35:41.524306Z",
     "shell.execute_reply": "2024-02-12T23:35:41.523031Z"
    },
    "papermill": {
     "duration": 0.807707,
     "end_time": "2024-02-12T23:35:41.527301",
     "exception": false,
     "start_time": "2024-02-12T23:35:40.719594",
     "status": "completed"
    },
    "tags": []
   },
   "outputs": [],
   "source": [
    "\n",
    "\n",
    "# renaming all dates related columns\n",
    "for df in [train_df, test_df]:\n",
    "    for i in range(5):\n",
    "        df[f\"date{i}\"] = pd.to_datetime(df[f\"date{i}\"], format=\"%d-%m-%Y\")\n",
    "        df.rename(columns={f\"date{i}\": f\"date{i}_old\",\n",
    "                           f\"img_red_mean_date{i+1}\": f\"img_red_mean_date{i}_old\",\n",
    "                           f\"img_green_mean_date{i+1}\": f\"img_green_mean_date{i}_old\",\n",
    "                           f\"img_blue_mean_date{i+1}\": f\"img_blue_mean_date{i}_old\",\n",
    "                           f\"img_red_std_date{i+1}\": f\"img_red_std_date{i}_old\",\n",
    "                           f\"img_green_std_date{i+1}\": f\"img_green_std_date{i}_old\",\n",
    "                           f\"img_blue_std_date{i+1}\": f\"img_blue_std_date{i}_old\",\n",
    "                           f\"change_status_date{i}\": f\"change_status_date{i}_old\"}, inplace=True)\n",
    "\n"
   ]
  },
  {
   "cell_type": "code",
   "execution_count": 6,
   "id": "c20d996b",
   "metadata": {
    "execution": {
     "iopub.execute_input": "2024-02-12T23:35:41.550020Z",
     "iopub.status.busy": "2024-02-12T23:35:41.549626Z",
     "iopub.status.idle": "2024-02-12T23:35:53.673215Z",
     "shell.execute_reply": "2024-02-12T23:35:53.671883Z"
    },
    "papermill": {
     "duration": 12.138514,
     "end_time": "2024-02-12T23:35:53.676052",
     "exception": false,
     "start_time": "2024-02-12T23:35:41.537538",
     "status": "completed"
    },
    "tags": []
   },
   "outputs": [],
   "source": [
    "# Toutes les colonnes qu'on doit réorganiser\n",
    "col_prefixes = [\"img_red_mean_date\", \"img_green_mean_date\", \"img_blue_mean_date\", \"img_red_std_date\", \"img_green_std_date\", \"img_blue_std_date\", \"change_status_date\", \"date\"]\n",
    "\n",
    "for df in [train_df, test_df]:\n",
    "    # df avec les dates\n",
    "    dftemp=df[[f\"date{i}_old\" for i in range(5)]].replace(np.nan, pd.to_datetime(\"01-01-1970\", format=\"%d-%m-%Y\"))\n",
    "    \n",
    "    # Tableau numpy tq new_to_old[iLigne, nouvelleDate] = ancienneDate\n",
    "    new_to_old = np.argsort(dftemp.values, axis=1)\n",
    "\n",
    "    for col_prefix in col_prefixes:\n",
    "        for iNewDate in range(5):\n",
    "            # Ajout d'une nouvelle ligne\n",
    "            newColName = f\"{col_prefix}{iNewDate}\"\n",
    "            df.insert(len(df.columns), newColName, None)\n",
    "            for iOldDate in range(5):\n",
    "                oldColName = f\"{col_prefix}{iOldDate}_old\"\n",
    "                # Pour chaque ancienne date correspondante, on met à jour\n",
    "                df.loc[(new_to_old[df.index, iNewDate] == iOldDate), newColName] = df.loc[(new_to_old[df.index, iNewDate] == iOldDate), oldColName]"
   ]
  },
  {
   "cell_type": "code",
   "execution_count": 7,
   "id": "0cbd8465",
   "metadata": {
    "execution": {
     "iopub.execute_input": "2024-02-12T23:35:53.699896Z",
     "iopub.status.busy": "2024-02-12T23:35:53.699461Z",
     "iopub.status.idle": "2024-02-12T23:35:57.810245Z",
     "shell.execute_reply": "2024-02-12T23:35:57.808971Z"
    },
    "papermill": {
     "duration": 4.126618,
     "end_time": "2024-02-12T23:35:57.813176",
     "exception": false,
     "start_time": "2024-02-12T23:35:53.686558",
     "status": "completed"
    },
    "tags": []
   },
   "outputs": [],
   "source": [
    "\n",
    "\n",
    "# Converting back to float / datetime\n",
    "col_imgs = [\"img_red_mean_date\", \"img_green_mean_date\", \"img_blue_mean_date\", \"img_red_std_date\", \"img_green_std_date\", \"img_blue_std_date\"]\n",
    "for df in [train_df, test_df]:\n",
    "    for col in col_imgs:\n",
    "        for i in range(5):\n",
    "            col_name = f\"{col}{i}\"\n",
    "            df[col_name] = df[col_name].astype(float)\n",
    "    for iDate in range(5):\n",
    "        col_name = f'date{iDate}'\n",
    "        df[col_name] = pd.to_datetime(df[col_name])\n",
    "\n"
   ]
  },
  {
   "cell_type": "code",
   "execution_count": 8,
   "id": "4005d0cd",
   "metadata": {
    "execution": {
     "iopub.execute_input": "2024-02-12T23:35:57.835857Z",
     "iopub.status.busy": "2024-02-12T23:35:57.835448Z",
     "iopub.status.idle": "2024-02-12T23:35:59.374466Z",
     "shell.execute_reply": "2024-02-12T23:35:59.373295Z"
    },
    "papermill": {
     "duration": 1.553554,
     "end_time": "2024-02-12T23:35:59.377332",
     "exception": false,
     "start_time": "2024-02-12T23:35:57.823778",
     "status": "completed"
    },
    "tags": []
   },
   "outputs": [],
   "source": [
    "\n",
    "\n",
    "train_long = np.array(train_df[\"geometry\"].centroid.x)\n",
    "train_lat = np.array(train_df[\"geometry\"].centroid.y)\n",
    "train_coords = np.stack((train_long, train_lat), axis=1)\n",
    "\n",
    "test_long = np.array(test_df[\"geometry\"].centroid.x)\n",
    "test_lat = np.array(test_df[\"geometry\"].centroid.y)\n",
    "test_coords = np.stack((test_long, test_lat), axis=1)\n",
    "\n"
   ]
  },
  {
   "cell_type": "code",
   "execution_count": 9,
   "id": "d8b0ec49",
   "metadata": {
    "execution": {
     "iopub.execute_input": "2024-02-12T23:35:59.399955Z",
     "iopub.status.busy": "2024-02-12T23:35:59.399567Z",
     "iopub.status.idle": "2024-02-12T23:35:59.406355Z",
     "shell.execute_reply": "2024-02-12T23:35:59.405181Z"
    },
    "papermill": {
     "duration": 0.021204,
     "end_time": "2024-02-12T23:35:59.408796",
     "exception": false,
     "start_time": "2024-02-12T23:35:59.387592",
     "status": "completed"
    },
    "tags": []
   },
   "outputs": [
    {
     "name": "stdout",
     "output_type": "stream",
     "text": [
      "(416672, 2)\n"
     ]
    }
   ],
   "source": [
    "all_coords = np.concatenate([train_coords, test_coords])\n",
    "print(all_coords.shape)"
   ]
  },
  {
   "cell_type": "code",
   "execution_count": 10,
   "id": "0d31c334",
   "metadata": {
    "execution": {
     "iopub.execute_input": "2024-02-12T23:35:59.431124Z",
     "iopub.status.busy": "2024-02-12T23:35:59.430738Z",
     "iopub.status.idle": "2024-02-12T23:38:11.979473Z",
     "shell.execute_reply": "2024-02-12T23:38:11.978306Z"
    },
    "papermill": {
     "duration": 132.563408,
     "end_time": "2024-02-12T23:38:11.982577",
     "exception": false,
     "start_time": "2024-02-12T23:35:59.419169",
     "status": "completed"
    },
    "tags": []
   },
   "outputs": [],
   "source": [
    "from sklearn.neighbors import NearestNeighbors\n",
    "\n",
    "model = NearestNeighbors(n_neighbors=100, algorithm='ball_tree').fit(all_coords)\n",
    "distances, indices = model.kneighbors(all_coords)"
   ]
  },
  {
   "cell_type": "code",
   "execution_count": 11,
   "id": "e8589241",
   "metadata": {
    "execution": {
     "iopub.execute_input": "2024-02-12T23:38:12.005489Z",
     "iopub.status.busy": "2024-02-12T23:38:12.004989Z",
     "iopub.status.idle": "2024-02-12T23:38:12.352685Z",
     "shell.execute_reply": "2024-02-12T23:38:12.351400Z"
    },
    "papermill": {
     "duration": 0.362346,
     "end_time": "2024-02-12T23:38:12.355509",
     "exception": false,
     "start_time": "2024-02-12T23:38:11.993163",
     "status": "completed"
    },
    "tags": []
   },
   "outputs": [],
   "source": [
    "dfALL = pd.concat([train_df, test_df], axis=0)"
   ]
  },
  {
   "cell_type": "code",
   "execution_count": 14,
   "id": "498fc173",
   "metadata": {
    "execution": {
     "iopub.execute_input": "2024-02-12T23:38:24.086792Z",
     "iopub.status.busy": "2024-02-12T23:38:24.086349Z",
     "iopub.status.idle": "2024-02-12T23:38:24.094416Z",
     "shell.execute_reply": "2024-02-12T23:38:24.093263Z"
    },
    "papermill": {
     "duration": 0.027275,
     "end_time": "2024-02-12T23:38:24.096943",
     "exception": false,
     "start_time": "2024-02-12T23:38:24.069668",
     "status": "completed"
    },
    "tags": []
   },
   "outputs": [
    {
     "data": {
      "text/plain": [
       "array([303484,      3, 303486,      5,      2, 303483, 303488,      7,\n",
       "       303482,      1, 303485,      4,      8, 303489, 303481,      0,\n",
       "       303487,      6, 303497,     16,     15, 303496, 303655,    174,\n",
       "           14, 303495,    173, 303654,    175, 303656,     13, 303494,\n",
       "           12, 303493, 303490,      9,     19, 303500, 303492,     11,\n",
       "       303491,     10,    172, 303653,    176, 303657, 303507,     26,\n",
       "       303504,     23,     20, 303501, 303498,     17, 303499,     18,\n",
       "          167, 303648, 303508,     27,    170, 303651, 303505,     24,\n",
       "           21, 303502,     25, 303506,     22, 303503,    171, 303652,\n",
       "       303645,    164, 303647,    166, 303646,    165,     28, 303509,\n",
       "       303511,     30, 303667,    186,    163, 303644,     31, 303512,\n",
       "       303649,    168,     33, 303514, 303658,    177,    178, 303659,\n",
       "          162, 303643, 303650,    169])"
      ]
     },
     "execution_count": 14,
     "metadata": {},
     "output_type": "execute_result"
    }
   ],
   "source": [
    "indices[3]"
   ]
  },
  {
   "cell_type": "code",
   "execution_count": 15,
   "id": "49317bca",
   "metadata": {
    "execution": {
     "iopub.execute_input": "2024-02-12T23:38:24.129462Z",
     "iopub.status.busy": "2024-02-12T23:38:24.129036Z",
     "iopub.status.idle": "2024-02-12T23:38:24.137929Z",
     "shell.execute_reply": "2024-02-12T23:38:24.136704Z"
    },
    "papermill": {
     "duration": 0.028369,
     "end_time": "2024-02-12T23:38:24.140402",
     "exception": false,
     "start_time": "2024-02-12T23:38:24.112033",
     "status": "completed"
    },
    "tags": []
   },
   "outputs": [
    {
     "data": {
      "text/plain": [
       "array([0.        , 0.        , 0.00146736, 0.00146736, 0.00169755,\n",
       "       0.00169755, 0.00276137, 0.00276137, 0.00300037, 0.00300037,\n",
       "       0.00356845, 0.00356845, 0.00424826, 0.00424826, 0.00426781,\n",
       "       0.00426781, 0.00447907, 0.00447907, 0.0054329 , 0.0054329 ,\n",
       "       0.0055349 , 0.0055349 , 0.00598076, 0.00598076, 0.00609144,\n",
       "       0.00609144, 0.00663422, 0.00663422, 0.00699169, 0.00699169,\n",
       "       0.00699795, 0.00699795, 0.00700343, 0.00700343, 0.00718498,\n",
       "       0.00718498, 0.00754068, 0.00754068, 0.0076417 , 0.0076417 ,\n",
       "       0.00788595, 0.00788595, 0.00797697, 0.00797697, 0.00837028,\n",
       "       0.00837028, 0.00870424, 0.00870424, 0.00876148, 0.00876148,\n",
       "       0.00876174, 0.00876174, 0.00881964, 0.00881964, 0.00888173,\n",
       "       0.00888173, 0.00903786, 0.00903786, 0.00904211, 0.00904211,\n",
       "       0.00913185, 0.00913185, 0.00913297, 0.00913297, 0.00921176,\n",
       "       0.00921176, 0.00922659, 0.00922659, 0.00933259, 0.00933259,\n",
       "       0.00933311, 0.00933311, 0.00955275, 0.00955275, 0.00959691,\n",
       "       0.00959691, 0.00962177, 0.00962177, 0.00967606, 0.00967606,\n",
       "       0.00976296, 0.00976296, 0.00987847, 0.00987847, 0.01002634,\n",
       "       0.01002634, 0.01013407, 0.01013407, 0.01015109, 0.01015109,\n",
       "       0.01025695, 0.01025695, 0.01032762, 0.01032762, 0.01048771,\n",
       "       0.01048771, 0.01055283, 0.01055283, 0.01060944, 0.01060944])"
      ]
     },
     "execution_count": 15,
     "metadata": {},
     "output_type": "execute_result"
    }
   ],
   "source": [
    "distances[3]"
   ]
  },
  {
   "cell_type": "code",
   "execution_count": 16,
   "id": "0c00660e",
   "metadata": {
    "execution": {
     "iopub.execute_input": "2024-02-12T23:38:24.173959Z",
     "iopub.status.busy": "2024-02-12T23:38:24.173189Z",
     "iopub.status.idle": "2024-02-12T23:38:24.178658Z",
     "shell.execute_reply": "2024-02-12T23:38:24.177533Z"
    },
    "papermill": {
     "duration": 0.024857,
     "end_time": "2024-02-12T23:38:24.181071",
     "exception": false,
     "start_time": "2024-02-12T23:38:24.156214",
     "status": "completed"
    },
    "tags": []
   },
   "outputs": [],
   "source": [
    "change_status_map = {\n",
    "    \"Prior Construction\": 0,\n",
    "    \"Greenland\": 1,\n",
    "    \"Land Cleared\": 2,\n",
    "    \"Excavation\": 3,\n",
    "    \"Materials Dumped\": 4,\n",
    "    \"Materials Introduced\": 5,\n",
    "    \"Construction Started\": 6,\n",
    "    \"Construction Midway\": 7,\n",
    "    \"Construction Done\": 8,\n",
    "    \"Operational\": 9,\n",
    "}"
   ]
  },
  {
   "cell_type": "code",
   "execution_count": 17,
   "id": "c5246dea",
   "metadata": {
    "execution": {
     "iopub.execute_input": "2024-02-12T23:38:24.214670Z",
     "iopub.status.busy": "2024-02-12T23:38:24.214188Z",
     "iopub.status.idle": "2024-02-12T23:38:24.219086Z",
     "shell.execute_reply": "2024-02-12T23:38:24.217950Z"
    },
    "papermill": {
     "duration": 0.024956,
     "end_time": "2024-02-12T23:38:24.221626",
     "exception": false,
     "start_time": "2024-02-12T23:38:24.196670",
     "status": "completed"
    },
    "tags": []
   },
   "outputs": [],
   "source": [
    "NB_TRAINS = len(train_df)"
   ]
  },
  {
   "cell_type": "code",
   "execution_count": 18,
   "id": "5dc414d8",
   "metadata": {
    "execution": {
     "iopub.execute_input": "2024-02-12T23:38:24.255865Z",
     "iopub.status.busy": "2024-02-12T23:38:24.255462Z",
     "iopub.status.idle": "2024-02-13T03:55:47.655421Z",
     "shell.execute_reply": "2024-02-13T03:55:47.654157Z"
    },
    "papermill": {
     "duration": 15443.420749,
     "end_time": "2024-02-13T03:55:47.658454",
     "exception": false,
     "start_time": "2024-02-12T23:38:24.237705",
     "status": "completed"
    },
    "tags": []
   },
   "outputs": [
    {
     "name": "stdout",
     "output_type": "stream",
     "text": [
      "0 / 416672\n",
      "1000 / 416672\n",
      "2000 / 416672\n",
      "3000 / 416672\n",
      "4000 / 416672\n",
      "5000 / 416672\n",
      "6000 / 416672\n",
      "7000 / 416672\n",
      "8000 / 416672\n",
      "9000 / 416672\n",
      "10000 / 416672\n",
      "11000 / 416672\n",
      "12000 / 416672\n",
      "13000 / 416672\n",
      "14000 / 416672\n",
      "15000 / 416672\n",
      "16000 / 416672\n",
      "17000 / 416672\n",
      "18000 / 416672\n",
      "19000 / 416672\n",
      "20000 / 416672\n",
      "21000 / 416672\n",
      "22000 / 416672\n",
      "23000 / 416672\n",
      "24000 / 416672\n",
      "25000 / 416672\n",
      "26000 / 416672\n",
      "27000 / 416672\n",
      "28000 / 416672\n",
      "29000 / 416672\n",
      "30000 / 416672\n",
      "31000 / 416672\n",
      "32000 / 416672\n",
      "33000 / 416672\n",
      "34000 / 416672\n",
      "35000 / 416672\n",
      "36000 / 416672\n",
      "37000 / 416672\n",
      "38000 / 416672\n",
      "39000 / 416672\n",
      "40000 / 416672\n",
      "41000 / 416672\n",
      "42000 / 416672\n",
      "43000 / 416672\n",
      "44000 / 416672\n",
      "45000 / 416672\n",
      "46000 / 416672\n",
      "47000 / 416672\n",
      "48000 / 416672\n",
      "49000 / 416672\n",
      "50000 / 416672\n",
      "51000 / 416672\n",
      "52000 / 416672\n",
      "53000 / 416672\n",
      "54000 / 416672\n",
      "55000 / 416672\n",
      "56000 / 416672\n",
      "57000 / 416672\n",
      "58000 / 416672\n",
      "59000 / 416672\n",
      "60000 / 416672\n",
      "61000 / 416672\n",
      "62000 / 416672\n",
      "63000 / 416672\n",
      "64000 / 416672\n",
      "65000 / 416672\n",
      "66000 / 416672\n",
      "67000 / 416672\n",
      "68000 / 416672\n",
      "69000 / 416672\n",
      "70000 / 416672\n",
      "71000 / 416672\n",
      "72000 / 416672\n",
      "73000 / 416672\n",
      "74000 / 416672\n",
      "75000 / 416672\n",
      "76000 / 416672\n",
      "77000 / 416672\n",
      "78000 / 416672\n",
      "79000 / 416672\n",
      "80000 / 416672\n",
      "81000 / 416672\n",
      "82000 / 416672\n",
      "83000 / 416672\n",
      "84000 / 416672\n",
      "85000 / 416672\n",
      "86000 / 416672\n",
      "87000 / 416672\n",
      "88000 / 416672\n",
      "89000 / 416672\n",
      "90000 / 416672\n",
      "91000 / 416672\n",
      "92000 / 416672\n",
      "93000 / 416672\n",
      "94000 / 416672\n",
      "95000 / 416672\n",
      "96000 / 416672\n",
      "97000 / 416672\n",
      "98000 / 416672\n",
      "99000 / 416672\n",
      "100000 / 416672\n",
      "101000 / 416672\n",
      "102000 / 416672\n",
      "103000 / 416672\n",
      "104000 / 416672\n",
      "105000 / 416672\n",
      "106000 / 416672\n",
      "107000 / 416672\n",
      "108000 / 416672\n",
      "109000 / 416672\n",
      "110000 / 416672\n",
      "111000 / 416672\n",
      "112000 / 416672\n",
      "113000 / 416672\n",
      "114000 / 416672\n",
      "115000 / 416672\n",
      "116000 / 416672\n",
      "117000 / 416672\n",
      "118000 / 416672\n",
      "119000 / 416672\n",
      "120000 / 416672\n",
      "121000 / 416672\n",
      "122000 / 416672\n",
      "123000 / 416672\n",
      "124000 / 416672\n",
      "125000 / 416672\n",
      "126000 / 416672\n",
      "127000 / 416672\n",
      "128000 / 416672\n",
      "129000 / 416672\n",
      "130000 / 416672\n",
      "131000 / 416672\n",
      "132000 / 416672\n",
      "133000 / 416672\n",
      "134000 / 416672\n",
      "135000 / 416672\n",
      "136000 / 416672\n",
      "137000 / 416672\n",
      "138000 / 416672\n",
      "139000 / 416672\n",
      "140000 / 416672\n",
      "141000 / 416672\n",
      "142000 / 416672\n",
      "143000 / 416672\n",
      "144000 / 416672\n",
      "145000 / 416672\n",
      "146000 / 416672\n",
      "147000 / 416672\n",
      "148000 / 416672\n",
      "149000 / 416672\n",
      "150000 / 416672\n",
      "151000 / 416672\n",
      "152000 / 416672\n",
      "153000 / 416672\n",
      "154000 / 416672\n",
      "155000 / 416672\n",
      "156000 / 416672\n",
      "157000 / 416672\n",
      "158000 / 416672\n",
      "159000 / 416672\n",
      "160000 / 416672\n",
      "161000 / 416672\n",
      "162000 / 416672\n",
      "163000 / 416672\n",
      "164000 / 416672\n",
      "165000 / 416672\n",
      "166000 / 416672\n",
      "167000 / 416672\n",
      "168000 / 416672\n",
      "169000 / 416672\n",
      "170000 / 416672\n",
      "171000 / 416672\n",
      "172000 / 416672\n",
      "173000 / 416672\n",
      "174000 / 416672\n",
      "175000 / 416672\n",
      "176000 / 416672\n",
      "177000 / 416672\n",
      "178000 / 416672\n",
      "179000 / 416672\n",
      "180000 / 416672\n",
      "181000 / 416672\n",
      "182000 / 416672\n",
      "183000 / 416672\n",
      "184000 / 416672\n",
      "185000 / 416672\n",
      "186000 / 416672\n",
      "187000 / 416672\n",
      "188000 / 416672\n",
      "189000 / 416672\n",
      "190000 / 416672\n",
      "191000 / 416672\n",
      "192000 / 416672\n",
      "193000 / 416672\n",
      "194000 / 416672\n",
      "195000 / 416672\n",
      "196000 / 416672\n",
      "197000 / 416672\n",
      "198000 / 416672\n",
      "199000 / 416672\n",
      "200000 / 416672\n",
      "201000 / 416672\n",
      "202000 / 416672\n",
      "203000 / 416672\n",
      "204000 / 416672\n",
      "205000 / 416672\n",
      "206000 / 416672\n",
      "207000 / 416672\n",
      "208000 / 416672\n",
      "209000 / 416672\n",
      "210000 / 416672\n",
      "211000 / 416672\n",
      "212000 / 416672\n",
      "213000 / 416672\n",
      "214000 / 416672\n",
      "215000 / 416672\n",
      "216000 / 416672\n",
      "217000 / 416672\n",
      "218000 / 416672\n",
      "219000 / 416672\n",
      "220000 / 416672\n",
      "221000 / 416672\n",
      "222000 / 416672\n",
      "223000 / 416672\n",
      "224000 / 416672\n",
      "225000 / 416672\n",
      "226000 / 416672\n",
      "227000 / 416672\n",
      "228000 / 416672\n",
      "229000 / 416672\n",
      "230000 / 416672\n",
      "231000 / 416672\n",
      "232000 / 416672\n",
      "233000 / 416672\n",
      "234000 / 416672\n",
      "235000 / 416672\n",
      "236000 / 416672\n",
      "237000 / 416672\n",
      "238000 / 416672\n",
      "239000 / 416672\n",
      "240000 / 416672\n",
      "241000 / 416672\n",
      "242000 / 416672\n",
      "243000 / 416672\n",
      "244000 / 416672\n",
      "245000 / 416672\n",
      "246000 / 416672\n",
      "247000 / 416672\n",
      "248000 / 416672\n",
      "249000 / 416672\n",
      "250000 / 416672\n",
      "251000 / 416672\n",
      "252000 / 416672\n",
      "253000 / 416672\n",
      "254000 / 416672\n",
      "255000 / 416672\n",
      "256000 / 416672\n",
      "257000 / 416672\n",
      "258000 / 416672\n",
      "259000 / 416672\n",
      "260000 / 416672\n",
      "261000 / 416672\n",
      "262000 / 416672\n",
      "263000 / 416672\n",
      "264000 / 416672\n",
      "265000 / 416672\n",
      "266000 / 416672\n",
      "267000 / 416672\n",
      "268000 / 416672\n",
      "269000 / 416672\n",
      "270000 / 416672\n",
      "271000 / 416672\n",
      "272000 / 416672\n",
      "273000 / 416672\n",
      "274000 / 416672\n",
      "275000 / 416672\n",
      "276000 / 416672\n",
      "277000 / 416672\n",
      "278000 / 416672\n",
      "279000 / 416672\n",
      "280000 / 416672\n",
      "281000 / 416672\n",
      "282000 / 416672\n",
      "283000 / 416672\n",
      "284000 / 416672\n",
      "285000 / 416672\n",
      "286000 / 416672\n",
      "287000 / 416672\n",
      "288000 / 416672\n",
      "289000 / 416672\n",
      "290000 / 416672\n",
      "291000 / 416672\n",
      "292000 / 416672\n",
      "293000 / 416672\n",
      "294000 / 416672\n",
      "295000 / 416672\n",
      "296000 / 416672\n",
      "297000 / 416672\n",
      "298000 / 416672\n",
      "299000 / 416672\n",
      "300000 / 416672\n",
      "301000 / 416672\n",
      "302000 / 416672\n",
      "303000 / 416672\n",
      "304000 / 416672\n",
      "305000 / 416672\n",
      "306000 / 416672\n",
      "307000 / 416672\n",
      "308000 / 416672\n",
      "309000 / 416672\n",
      "310000 / 416672\n",
      "311000 / 416672\n",
      "312000 / 416672\n",
      "313000 / 416672\n",
      "314000 / 416672\n",
      "315000 / 416672\n",
      "316000 / 416672\n",
      "317000 / 416672\n",
      "318000 / 416672\n",
      "319000 / 416672\n",
      "320000 / 416672\n",
      "321000 / 416672\n",
      "322000 / 416672\n",
      "323000 / 416672\n",
      "324000 / 416672\n",
      "325000 / 416672\n",
      "326000 / 416672\n",
      "327000 / 416672\n",
      "328000 / 416672\n",
      "329000 / 416672\n",
      "330000 / 416672\n",
      "331000 / 416672\n",
      "332000 / 416672\n",
      "333000 / 416672\n",
      "334000 / 416672\n",
      "335000 / 416672\n",
      "336000 / 416672\n",
      "337000 / 416672\n",
      "338000 / 416672\n",
      "339000 / 416672\n",
      "340000 / 416672\n",
      "341000 / 416672\n",
      "342000 / 416672\n",
      "343000 / 416672\n",
      "344000 / 416672\n",
      "345000 / 416672\n",
      "346000 / 416672\n",
      "347000 / 416672\n",
      "348000 / 416672\n",
      "349000 / 416672\n",
      "350000 / 416672\n",
      "351000 / 416672\n",
      "352000 / 416672\n",
      "353000 / 416672\n",
      "354000 / 416672\n",
      "355000 / 416672\n",
      "356000 / 416672\n",
      "357000 / 416672\n",
      "358000 / 416672\n",
      "359000 / 416672\n",
      "360000 / 416672\n",
      "361000 / 416672\n",
      "362000 / 416672\n",
      "363000 / 416672\n",
      "364000 / 416672\n",
      "365000 / 416672\n",
      "366000 / 416672\n",
      "367000 / 416672\n",
      "368000 / 416672\n",
      "369000 / 416672\n",
      "370000 / 416672\n",
      "371000 / 416672\n",
      "372000 / 416672\n",
      "373000 / 416672\n",
      "374000 / 416672\n",
      "375000 / 416672\n",
      "376000 / 416672\n",
      "377000 / 416672\n",
      "378000 / 416672\n",
      "379000 / 416672\n",
      "380000 / 416672\n",
      "381000 / 416672\n",
      "382000 / 416672\n",
      "383000 / 416672\n",
      "384000 / 416672\n",
      "385000 / 416672\n",
      "386000 / 416672\n",
      "387000 / 416672\n",
      "388000 / 416672\n",
      "389000 / 416672\n",
      "390000 / 416672\n",
      "391000 / 416672\n",
      "392000 / 416672\n",
      "393000 / 416672\n",
      "394000 / 416672\n",
      "395000 / 416672\n",
      "396000 / 416672\n",
      "397000 / 416672\n",
      "398000 / 416672\n",
      "399000 / 416672\n",
      "400000 / 416672\n",
      "401000 / 416672\n",
      "402000 / 416672\n",
      "403000 / 416672\n",
      "404000 / 416672\n",
      "405000 / 416672\n",
      "406000 / 416672\n",
      "407000 / 416672\n",
      "408000 / 416672\n",
      "409000 / 416672\n",
      "410000 / 416672\n",
      "411000 / 416672\n",
      "412000 / 416672\n",
      "413000 / 416672\n",
      "414000 / 416672\n",
      "415000 / 416672\n",
      "416000 / 416672\n"
     ]
    }
   ],
   "source": [
    "diffs_change_status = [[] for i in range(5)]\n",
    "for iActuel in range(len(indices)):\n",
    "    for iDate in range(5):\n",
    "        maxDiff = 0\n",
    "        diffActuel = 0\n",
    "        nbVisited = 0\n",
    "        for indice, dist in zip(indices[iActuel], distances[iActuel]):\n",
    "            nbVisited += 1\n",
    "            if dist >= radius or nbVisited > 5:\n",
    "                break\n",
    "            if dfALL.iloc[iActuel][f\"change_status_date{iDate}\"] not in change_status_map or dfALL.iloc[indice][f\"change_status_date{iDate}\"] not in change_status_map:\n",
    "                continue\n",
    "            diff = change_status_map[dfALL.iloc[iActuel][f\"change_status_date{iDate}\"]] - change_status_map[dfALL.iloc[indice][f\"change_status_date{iDate}\"]]\n",
    "            if abs(diff) > maxDiff:\n",
    "                maxDiff = abs(diff)\n",
    "                diffActuel = diff\n",
    "        diffs_change_status[iDate].append(diff)\n",
    "    if iActuel%1000 == 0:\n",
    "        print(iActuel,\"/\", len(indices))"
   ]
  },
  {
   "cell_type": "code",
   "execution_count": 19,
   "id": "c3fb597a",
   "metadata": {
    "execution": {
     "iopub.execute_input": "2024-02-13T03:55:47.768057Z",
     "iopub.status.busy": "2024-02-13T03:55:47.767655Z",
     "iopub.status.idle": "2024-02-13T03:55:48.090990Z",
     "shell.execute_reply": "2024-02-13T03:55:48.089654Z"
    },
    "papermill": {
     "duration": 0.381057,
     "end_time": "2024-02-13T03:55:48.093850",
     "exception": false,
     "start_time": "2024-02-13T03:55:47.712793",
     "status": "completed"
    },
    "tags": []
   },
   "outputs": [],
   "source": [
    "if radius == 0.001:\n",
    "    np.save(\"data/diffs_change_status0.001\", diffs_change_status)\n",
    "else:\n",
    "    np.save(\"data/diffs_change_status0.003\", diffs_change_status)"
   ]
  }
 ],
 "metadata": {
  "kaggle": {
   "accelerator": "none",
   "dataSources": [
    {
     "databundleVersionId": 7549115,
     "sourceId": 67957,
     "sourceType": "competition"
    },
    {
     "datasetId": 4433393,
     "sourceId": 7613140,
     "sourceType": "datasetVersion"
    }
   ],
   "dockerImageVersionId": 30646,
   "isGpuEnabled": false,
   "isInternetEnabled": true,
   "language": "python",
   "sourceType": "notebook"
  },
  "kernelspec": {
   "display_name": "Python 3",
   "language": "python",
   "name": "python3"
  },
  "language_info": {
   "codemirror_mode": {
    "name": "ipython",
    "version": 3
   },
   "file_extension": ".py",
   "mimetype": "text/x-python",
   "name": "python",
   "nbconvert_exporter": "python",
   "pygments_lexer": "ipython3",
   "version": "3.10.13"
  },
  "papermill": {
   "default_parameters": {},
   "duration": 15750.435514,
   "end_time": "2024-02-13T03:55:50.772630",
   "environment_variables": {},
   "exception": null,
   "input_path": "__notebook__.ipynb",
   "output_path": "__notebook__.ipynb",
   "parameters": {},
   "start_time": "2024-02-12T23:33:20.337116",
   "version": "2.5.0"
  }
 },
 "nbformat": 4,
 "nbformat_minor": 5
}
